{
 "cells": [
  {
   "cell_type": "markdown",
   "metadata": {},
   "source": [
    "# CML wet/dry detection\n",
    "\n",
    "__CML data:__  \n",
    "Imported from pycomlink (Chwala C:): https://github.com/pycomlink/pycomlink\n",
    "\n",
    "__Sources: All code from [2]__  \n",
    "github: https://github.com/jpolz/cml_wd_pytorch/tree/main  \n",
    "thesis: https://doi.org/10.5194/amt-13-3835-2020"
   ]
  },
  {
   "cell_type": "code",
   "execution_count": 1,
   "metadata": {},
   "outputs": [],
   "source": [
    "import modul.cnn as cnn\n",
    "\n",
    "import xarray as xr\n",
    "import pandas as pd\n",
    "import numpy as np\n",
    "import torch\n",
    "import torch.nn as nn\n",
    "import matplotlib.pyplot as plt\n",
    "import sklearn.metrics as skl"
   ]
  },
  {
   "cell_type": "code",
   "execution_count": 2,
   "metadata": {},
   "outputs": [],
   "source": [
    "from sklearn.utils import shuffle\n",
    "from tqdm import tqdm\n",
    "from IPython.display import clear_output"
   ]
  },
  {
   "cell_type": "markdown",
   "metadata": {},
   "source": [
    "#### Load CML data\n",
    "Import data of 500 CML links from pycomlink with 1min timestep"
   ]
  },
  {
   "cell_type": "code",
   "execution_count": 52,
   "metadata": {
    "scrolled": true
   },
   "outputs": [],
   "source": [
    "# 500 CMLs with 1 min time step\n",
    "cml_set = xr.open_dataset('example_data/example_cml_data.nc', engine='netcdf4') # https://docs.xarray.dev/en/stable/generated/xarray.Dataset.html\n",
    "\n",
    "# Temporarily remove GPS coordinates - might add later with additional cml info for better CNN learning\n",
    "# https://stackoverflow.com/questions/61003361/drop-coordinate-from-an-xarray-dataarray\n",
    "cml_set = cml_set.reset_coords(['site_a_latitude','site_b_latitude','site_a_longitude','site_b_longitude'], drop=True)"
   ]
  },
  {
   "cell_type": "markdown",
   "metadata": {},
   "source": [
    "#### Load Reference data\n",
    "Reference rain rate data from RADOLAN. With 5 min step [mm/5 min]"
   ]
  },
  {
   "cell_type": "code",
   "execution_count": 4,
   "metadata": {
    "scrolled": true
   },
   "outputs": [],
   "source": [
    "# Path averaged reference RADOLAN data aligned with all 500 CML IDs with 5 min time step\n",
    "ref_set = xr.open_dataset('example_data/example_path_averaged_reference_data.nc', engine='netcdf4')\n",
    "ref_set = ref_set.rename_vars({'rainfall_amount':'rain'})"
   ]
  },
  {
   "cell_type": "markdown",
   "metadata": {},
   "source": [
    "## CML data preprocessing\n",
    "1. replacing fault values\n",
    "3. calculating TRSL\n",
    "4. Interpolation  \n",
    "\n",
    "pycomlink https://github.com/pycomlink/pycomlink/blob/master/notebooks/Basic%20CML%20processing%20workflow.ipynb"
   ]
  },
  {
   "cell_type": "markdown",
   "metadata": {},
   "source": [
    "#### CML: Repair fault data and calculate TRSL"
   ]
  },
  {
   "cell_type": "code",
   "execution_count": 68,
   "metadata": {},
   "outputs": [],
   "source": [
    "cml_set['tsl'] = cml_set.tsl.where(cml_set.tsl != 255.0)\n",
    "cml_set['rsl'] = cml_set.rsl.where(cml_set.rsl != -99.9)\n",
    "cml_set['trsl'] = cml_set.tsl - cml_set.rsl\n",
    "cml_set['trsl'] = cml_set.trsl.interpolate_na(dim='time', method='linear', max_gap='60min')\n",
    "\n",
    "cml_set = cml_set.transpose('cml_id', 'channel_id', 'time')"
   ]
  },
  {
   "cell_type": "code",
   "execution_count": 69,
   "metadata": {},
   "outputs": [
    {
     "data": {
      "text/html": [
       "<div><svg style=\"position: absolute; width: 0; height: 0; overflow: hidden\">\n",
       "<defs>\n",
       "<symbol id=\"icon-database\" viewBox=\"0 0 32 32\">\n",
       "<path d=\"M16 0c-8.837 0-16 2.239-16 5v4c0 2.761 7.163 5 16 5s16-2.239 16-5v-4c0-2.761-7.163-5-16-5z\"></path>\n",
       "<path d=\"M16 17c-8.837 0-16-2.239-16-5v6c0 2.761 7.163 5 16 5s16-2.239 16-5v-6c0 2.761-7.163 5-16 5z\"></path>\n",
       "<path d=\"M16 26c-8.837 0-16-2.239-16-5v6c0 2.761 7.163 5 16 5s16-2.239 16-5v-6c0 2.761-7.163 5-16 5z\"></path>\n",
       "</symbol>\n",
       "<symbol id=\"icon-file-text2\" viewBox=\"0 0 32 32\">\n",
       "<path d=\"M28.681 7.159c-0.694-0.947-1.662-2.053-2.724-3.116s-2.169-2.030-3.116-2.724c-1.612-1.182-2.393-1.319-2.841-1.319h-15.5c-1.378 0-2.5 1.121-2.5 2.5v27c0 1.378 1.122 2.5 2.5 2.5h23c1.378 0 2.5-1.122 2.5-2.5v-19.5c0-0.448-0.137-1.23-1.319-2.841zM24.543 5.457c0.959 0.959 1.712 1.825 2.268 2.543h-4.811v-4.811c0.718 0.556 1.584 1.309 2.543 2.268zM28 29.5c0 0.271-0.229 0.5-0.5 0.5h-23c-0.271 0-0.5-0.229-0.5-0.5v-27c0-0.271 0.229-0.5 0.5-0.5 0 0 15.499-0 15.5 0v7c0 0.552 0.448 1 1 1h7v19.5z\"></path>\n",
       "<path d=\"M23 26h-14c-0.552 0-1-0.448-1-1s0.448-1 1-1h14c0.552 0 1 0.448 1 1s-0.448 1-1 1z\"></path>\n",
       "<path d=\"M23 22h-14c-0.552 0-1-0.448-1-1s0.448-1 1-1h14c0.552 0 1 0.448 1 1s-0.448 1-1 1z\"></path>\n",
       "<path d=\"M23 18h-14c-0.552 0-1-0.448-1-1s0.448-1 1-1h14c0.552 0 1 0.448 1 1s-0.448 1-1 1z\"></path>\n",
       "</symbol>\n",
       "</defs>\n",
       "</svg>\n",
       "<style>/* CSS stylesheet for displaying xarray objects in jupyterlab.\n",
       " *\n",
       " */\n",
       "\n",
       ":root {\n",
       "  --xr-font-color0: var(--jp-content-font-color0, rgba(0, 0, 0, 1));\n",
       "  --xr-font-color2: var(--jp-content-font-color2, rgba(0, 0, 0, 0.54));\n",
       "  --xr-font-color3: var(--jp-content-font-color3, rgba(0, 0, 0, 0.38));\n",
       "  --xr-border-color: var(--jp-border-color2, #e0e0e0);\n",
       "  --xr-disabled-color: var(--jp-layout-color3, #bdbdbd);\n",
       "  --xr-background-color: var(--jp-layout-color0, white);\n",
       "  --xr-background-color-row-even: var(--jp-layout-color1, white);\n",
       "  --xr-background-color-row-odd: var(--jp-layout-color2, #eeeeee);\n",
       "}\n",
       "\n",
       "html[theme=dark],\n",
       "html[data-theme=dark],\n",
       "body[data-theme=dark],\n",
       "body.vscode-dark {\n",
       "  --xr-font-color0: rgba(255, 255, 255, 1);\n",
       "  --xr-font-color2: rgba(255, 255, 255, 0.54);\n",
       "  --xr-font-color3: rgba(255, 255, 255, 0.38);\n",
       "  --xr-border-color: #1F1F1F;\n",
       "  --xr-disabled-color: #515151;\n",
       "  --xr-background-color: #111111;\n",
       "  --xr-background-color-row-even: #111111;\n",
       "  --xr-background-color-row-odd: #313131;\n",
       "}\n",
       "\n",
       ".xr-wrap {\n",
       "  display: block !important;\n",
       "  min-width: 300px;\n",
       "  max-width: 700px;\n",
       "}\n",
       "\n",
       ".xr-text-repr-fallback {\n",
       "  /* fallback to plain text repr when CSS is not injected (untrusted notebook) */\n",
       "  display: none;\n",
       "}\n",
       "\n",
       ".xr-header {\n",
       "  padding-top: 6px;\n",
       "  padding-bottom: 6px;\n",
       "  margin-bottom: 4px;\n",
       "  border-bottom: solid 1px var(--xr-border-color);\n",
       "}\n",
       "\n",
       ".xr-header > div,\n",
       ".xr-header > ul {\n",
       "  display: inline;\n",
       "  margin-top: 0;\n",
       "  margin-bottom: 0;\n",
       "}\n",
       "\n",
       ".xr-obj-type,\n",
       ".xr-array-name {\n",
       "  margin-left: 2px;\n",
       "  margin-right: 10px;\n",
       "}\n",
       "\n",
       ".xr-obj-type {\n",
       "  color: var(--xr-font-color2);\n",
       "}\n",
       "\n",
       ".xr-sections {\n",
       "  padding-left: 0 !important;\n",
       "  display: grid;\n",
       "  grid-template-columns: 150px auto auto 1fr 0 20px 0 20px;\n",
       "}\n",
       "\n",
       ".xr-section-item {\n",
       "  display: contents;\n",
       "}\n",
       "\n",
       ".xr-section-item input {\n",
       "  display: inline-block;\n",
       "  opacity: 0;\n",
       "}\n",
       "\n",
       ".xr-section-item input + label {\n",
       "  color: var(--xr-disabled-color);\n",
       "}\n",
       "\n",
       ".xr-section-item input:enabled + label {\n",
       "  cursor: pointer;\n",
       "  color: var(--xr-font-color2);\n",
       "}\n",
       "\n",
       ".xr-section-item input:focus + label {\n",
       "  border: 2px solid var(--xr-font-color0);\n",
       "}\n",
       "\n",
       ".xr-section-item input:enabled + label:hover {\n",
       "  color: var(--xr-font-color0);\n",
       "}\n",
       "\n",
       ".xr-section-summary {\n",
       "  grid-column: 1;\n",
       "  color: var(--xr-font-color2);\n",
       "  font-weight: 500;\n",
       "}\n",
       "\n",
       ".xr-section-summary > span {\n",
       "  display: inline-block;\n",
       "  padding-left: 0.5em;\n",
       "}\n",
       "\n",
       ".xr-section-summary-in:disabled + label {\n",
       "  color: var(--xr-font-color2);\n",
       "}\n",
       "\n",
       ".xr-section-summary-in + label:before {\n",
       "  display: inline-block;\n",
       "  content: '►';\n",
       "  font-size: 11px;\n",
       "  width: 15px;\n",
       "  text-align: center;\n",
       "}\n",
       "\n",
       ".xr-section-summary-in:disabled + label:before {\n",
       "  color: var(--xr-disabled-color);\n",
       "}\n",
       "\n",
       ".xr-section-summary-in:checked + label:before {\n",
       "  content: '▼';\n",
       "}\n",
       "\n",
       ".xr-section-summary-in:checked + label > span {\n",
       "  display: none;\n",
       "}\n",
       "\n",
       ".xr-section-summary,\n",
       ".xr-section-inline-details {\n",
       "  padding-top: 4px;\n",
       "  padding-bottom: 4px;\n",
       "}\n",
       "\n",
       ".xr-section-inline-details {\n",
       "  grid-column: 2 / -1;\n",
       "}\n",
       "\n",
       ".xr-section-details {\n",
       "  display: none;\n",
       "  grid-column: 1 / -1;\n",
       "  margin-bottom: 5px;\n",
       "}\n",
       "\n",
       ".xr-section-summary-in:checked ~ .xr-section-details {\n",
       "  display: contents;\n",
       "}\n",
       "\n",
       ".xr-array-wrap {\n",
       "  grid-column: 1 / -1;\n",
       "  display: grid;\n",
       "  grid-template-columns: 20px auto;\n",
       "}\n",
       "\n",
       ".xr-array-wrap > label {\n",
       "  grid-column: 1;\n",
       "  vertical-align: top;\n",
       "}\n",
       "\n",
       ".xr-preview {\n",
       "  color: var(--xr-font-color3);\n",
       "}\n",
       "\n",
       ".xr-array-preview,\n",
       ".xr-array-data {\n",
       "  padding: 0 5px !important;\n",
       "  grid-column: 2;\n",
       "}\n",
       "\n",
       ".xr-array-data,\n",
       ".xr-array-in:checked ~ .xr-array-preview {\n",
       "  display: none;\n",
       "}\n",
       "\n",
       ".xr-array-in:checked ~ .xr-array-data,\n",
       ".xr-array-preview {\n",
       "  display: inline-block;\n",
       "}\n",
       "\n",
       ".xr-dim-list {\n",
       "  display: inline-block !important;\n",
       "  list-style: none;\n",
       "  padding: 0 !important;\n",
       "  margin: 0;\n",
       "}\n",
       "\n",
       ".xr-dim-list li {\n",
       "  display: inline-block;\n",
       "  padding: 0;\n",
       "  margin: 0;\n",
       "}\n",
       "\n",
       ".xr-dim-list:before {\n",
       "  content: '(';\n",
       "}\n",
       "\n",
       ".xr-dim-list:after {\n",
       "  content: ')';\n",
       "}\n",
       "\n",
       ".xr-dim-list li:not(:last-child):after {\n",
       "  content: ',';\n",
       "  padding-right: 5px;\n",
       "}\n",
       "\n",
       ".xr-has-index {\n",
       "  font-weight: bold;\n",
       "}\n",
       "\n",
       ".xr-var-list,\n",
       ".xr-var-item {\n",
       "  display: contents;\n",
       "}\n",
       "\n",
       ".xr-var-item > div,\n",
       ".xr-var-item label,\n",
       ".xr-var-item > .xr-var-name span {\n",
       "  background-color: var(--xr-background-color-row-even);\n",
       "  margin-bottom: 0;\n",
       "}\n",
       "\n",
       ".xr-var-item > .xr-var-name:hover span {\n",
       "  padding-right: 5px;\n",
       "}\n",
       "\n",
       ".xr-var-list > li:nth-child(odd) > div,\n",
       ".xr-var-list > li:nth-child(odd) > label,\n",
       ".xr-var-list > li:nth-child(odd) > .xr-var-name span {\n",
       "  background-color: var(--xr-background-color-row-odd);\n",
       "}\n",
       "\n",
       ".xr-var-name {\n",
       "  grid-column: 1;\n",
       "}\n",
       "\n",
       ".xr-var-dims {\n",
       "  grid-column: 2;\n",
       "}\n",
       "\n",
       ".xr-var-dtype {\n",
       "  grid-column: 3;\n",
       "  text-align: right;\n",
       "  color: var(--xr-font-color2);\n",
       "}\n",
       "\n",
       ".xr-var-preview {\n",
       "  grid-column: 4;\n",
       "}\n",
       "\n",
       ".xr-index-preview {\n",
       "  grid-column: 2 / 5;\n",
       "  color: var(--xr-font-color2);\n",
       "}\n",
       "\n",
       ".xr-var-name,\n",
       ".xr-var-dims,\n",
       ".xr-var-dtype,\n",
       ".xr-preview,\n",
       ".xr-attrs dt {\n",
       "  white-space: nowrap;\n",
       "  overflow: hidden;\n",
       "  text-overflow: ellipsis;\n",
       "  padding-right: 10px;\n",
       "}\n",
       "\n",
       ".xr-var-name:hover,\n",
       ".xr-var-dims:hover,\n",
       ".xr-var-dtype:hover,\n",
       ".xr-attrs dt:hover {\n",
       "  overflow: visible;\n",
       "  width: auto;\n",
       "  z-index: 1;\n",
       "}\n",
       "\n",
       ".xr-var-attrs,\n",
       ".xr-var-data,\n",
       ".xr-index-data {\n",
       "  display: none;\n",
       "  background-color: var(--xr-background-color) !important;\n",
       "  padding-bottom: 5px !important;\n",
       "}\n",
       "\n",
       ".xr-var-attrs-in:checked ~ .xr-var-attrs,\n",
       ".xr-var-data-in:checked ~ .xr-var-data,\n",
       ".xr-index-data-in:checked ~ .xr-index-data {\n",
       "  display: block;\n",
       "}\n",
       "\n",
       ".xr-var-data > table {\n",
       "  float: right;\n",
       "}\n",
       "\n",
       ".xr-var-name span,\n",
       ".xr-var-data,\n",
       ".xr-index-name div,\n",
       ".xr-index-data,\n",
       ".xr-attrs {\n",
       "  padding-left: 25px !important;\n",
       "}\n",
       "\n",
       ".xr-attrs,\n",
       ".xr-var-attrs,\n",
       ".xr-var-data,\n",
       ".xr-index-data {\n",
       "  grid-column: 1 / -1;\n",
       "}\n",
       "\n",
       "dl.xr-attrs {\n",
       "  padding: 0;\n",
       "  margin: 0;\n",
       "  display: grid;\n",
       "  grid-template-columns: 125px auto;\n",
       "}\n",
       "\n",
       ".xr-attrs dt,\n",
       ".xr-attrs dd {\n",
       "  padding: 0;\n",
       "  margin: 0;\n",
       "  float: left;\n",
       "  padding-right: 10px;\n",
       "  width: auto;\n",
       "}\n",
       "\n",
       ".xr-attrs dt {\n",
       "  font-weight: normal;\n",
       "  grid-column: 1;\n",
       "}\n",
       "\n",
       ".xr-attrs dt:hover span {\n",
       "  display: inline-block;\n",
       "  background: var(--xr-background-color);\n",
       "  padding-right: 10px;\n",
       "}\n",
       "\n",
       ".xr-attrs dd {\n",
       "  grid-column: 2;\n",
       "  white-space: pre-wrap;\n",
       "  word-break: break-all;\n",
       "}\n",
       "\n",
       ".xr-icon-database,\n",
       ".xr-icon-file-text2,\n",
       ".xr-no-icon {\n",
       "  display: inline-block;\n",
       "  vertical-align: middle;\n",
       "  width: 1em;\n",
       "  height: 1.5em !important;\n",
       "  stroke-width: 0;\n",
       "  stroke: currentColor;\n",
       "  fill: currentColor;\n",
       "}\n",
       "</style><pre class='xr-text-repr-fallback'>&lt;xarray.DataArray &#x27;trsl&#x27; ()&gt; Size: 8B\n",
       "array(67.6)\n",
       "Coordinates:\n",
       "    cml_id        &lt;U3 12B &#x27;24&#x27;\n",
       "    length        float64 8B 16.19\n",
       "    channel_id    &lt;U9 36B &#x27;channel_1&#x27;\n",
       "    frequency     float64 8B 1.92e+10\n",
       "    polarization  &lt;U1 4B &#x27;V&#x27;</pre><div class='xr-wrap' style='display:none'><div class='xr-header'><div class='xr-obj-type'>xarray.DataArray</div><div class='xr-array-name'>'trsl'</div></div><ul class='xr-sections'><li class='xr-section-item'><div class='xr-array-wrap'><input id='section-ee372156-d3c9-4fef-aa52-d0ffe84b3976' class='xr-array-in' type='checkbox' checked><label for='section-ee372156-d3c9-4fef-aa52-d0ffe84b3976' title='Show/hide data repr'><svg class='icon xr-icon-database'><use xlink:href='#icon-database'></use></svg></label><div class='xr-array-preview xr-preview'><span>67.6</span></div><div class='xr-array-data'><pre>array(67.6)</pre></div></div></li><li class='xr-section-item'><input id='section-24a10166-b30c-48e5-b588-131b08ec46d2' class='xr-section-summary-in' type='checkbox'  checked><label for='section-24a10166-b30c-48e5-b588-131b08ec46d2' class='xr-section-summary' >Coordinates: <span>(5)</span></label><div class='xr-section-inline-details'></div><div class='xr-section-details'><ul class='xr-var-list'><li class='xr-var-item'><div class='xr-var-name'><span>cml_id</span></div><div class='xr-var-dims'>()</div><div class='xr-var-dtype'>&lt;U3</div><div class='xr-var-preview xr-preview'>&#x27;24&#x27;</div><input id='attrs-2a18f532-0f91-45ab-9257-5b8d85fbf862' class='xr-var-attrs-in' type='checkbox' disabled><label for='attrs-2a18f532-0f91-45ab-9257-5b8d85fbf862' title='Show/Hide attributes'><svg class='icon xr-icon-file-text2'><use xlink:href='#icon-file-text2'></use></svg></label><input id='data-0f6a7422-816c-44fe-8e5b-ab503ffa9b18' class='xr-var-data-in' type='checkbox'><label for='data-0f6a7422-816c-44fe-8e5b-ab503ffa9b18' title='Show/Hide data repr'><svg class='icon xr-icon-database'><use xlink:href='#icon-database'></use></svg></label><div class='xr-var-attrs'><dl class='xr-attrs'></dl></div><div class='xr-var-data'><pre>array(&#x27;24&#x27;, dtype=&#x27;&lt;U3&#x27;)</pre></div></li><li class='xr-var-item'><div class='xr-var-name'><span>length</span></div><div class='xr-var-dims'>()</div><div class='xr-var-dtype'>float64</div><div class='xr-var-preview xr-preview'>16.19</div><input id='attrs-a5a05516-5d23-4b43-8344-f1cb42d9b3db' class='xr-var-attrs-in' type='checkbox' disabled><label for='attrs-a5a05516-5d23-4b43-8344-f1cb42d9b3db' title='Show/Hide attributes'><svg class='icon xr-icon-file-text2'><use xlink:href='#icon-file-text2'></use></svg></label><input id='data-18c0d957-ac7f-444d-8952-c8f97b8f5c08' class='xr-var-data-in' type='checkbox'><label for='data-18c0d957-ac7f-444d-8952-c8f97b8f5c08' title='Show/Hide data repr'><svg class='icon xr-icon-database'><use xlink:href='#icon-database'></use></svg></label><div class='xr-var-attrs'><dl class='xr-attrs'></dl></div><div class='xr-var-data'><pre>array(16.194007)</pre></div></li><li class='xr-var-item'><div class='xr-var-name'><span>channel_id</span></div><div class='xr-var-dims'>()</div><div class='xr-var-dtype'>&lt;U9</div><div class='xr-var-preview xr-preview'>&#x27;channel_1&#x27;</div><input id='attrs-c5975ff9-8634-4243-8f59-4ebafd2fc42b' class='xr-var-attrs-in' type='checkbox' disabled><label for='attrs-c5975ff9-8634-4243-8f59-4ebafd2fc42b' title='Show/Hide attributes'><svg class='icon xr-icon-file-text2'><use xlink:href='#icon-file-text2'></use></svg></label><input id='data-eda882e0-a97a-4400-ada2-a8899efb2c62' class='xr-var-data-in' type='checkbox'><label for='data-eda882e0-a97a-4400-ada2-a8899efb2c62' title='Show/Hide data repr'><svg class='icon xr-icon-database'><use xlink:href='#icon-database'></use></svg></label><div class='xr-var-attrs'><dl class='xr-attrs'></dl></div><div class='xr-var-data'><pre>array(&#x27;channel_1&#x27;, dtype=&#x27;&lt;U9&#x27;)</pre></div></li><li class='xr-var-item'><div class='xr-var-name'><span>frequency</span></div><div class='xr-var-dims'>()</div><div class='xr-var-dtype'>float64</div><div class='xr-var-preview xr-preview'>1.92e+10</div><input id='attrs-a901fd2c-3fb0-4826-9804-bf133928249e' class='xr-var-attrs-in' type='checkbox' disabled><label for='attrs-a901fd2c-3fb0-4826-9804-bf133928249e' title='Show/Hide attributes'><svg class='icon xr-icon-file-text2'><use xlink:href='#icon-file-text2'></use></svg></label><input id='data-9962bae7-8310-42f9-8960-1cba02a15d83' class='xr-var-data-in' type='checkbox'><label for='data-9962bae7-8310-42f9-8960-1cba02a15d83' title='Show/Hide data repr'><svg class='icon xr-icon-database'><use xlink:href='#icon-database'></use></svg></label><div class='xr-var-attrs'><dl class='xr-attrs'></dl></div><div class='xr-var-data'><pre>array(1.9205e+10)</pre></div></li><li class='xr-var-item'><div class='xr-var-name'><span>polarization</span></div><div class='xr-var-dims'>()</div><div class='xr-var-dtype'>&lt;U1</div><div class='xr-var-preview xr-preview'>&#x27;V&#x27;</div><input id='attrs-05b70e6e-bde2-49d3-b418-b808f3940052' class='xr-var-attrs-in' type='checkbox' disabled><label for='attrs-05b70e6e-bde2-49d3-b418-b808f3940052' title='Show/Hide attributes'><svg class='icon xr-icon-file-text2'><use xlink:href='#icon-file-text2'></use></svg></label><input id='data-c8f3dc0a-f5d9-44e1-9321-dea18b374d07' class='xr-var-data-in' type='checkbox'><label for='data-c8f3dc0a-f5d9-44e1-9321-dea18b374d07' title='Show/Hide data repr'><svg class='icon xr-icon-database'><use xlink:href='#icon-database'></use></svg></label><div class='xr-var-attrs'><dl class='xr-attrs'></dl></div><div class='xr-var-data'><pre>array(&#x27;V&#x27;, dtype=&#x27;&lt;U1&#x27;)</pre></div></li></ul></div></li><li class='xr-section-item'><input id='section-44b2c6f0-653c-434c-aa00-7f739453e66f' class='xr-section-summary-in' type='checkbox' disabled ><label for='section-44b2c6f0-653c-434c-aa00-7f739453e66f' class='xr-section-summary'  title='Expand/collapse section'>Indexes: <span>(0)</span></label><div class='xr-section-inline-details'></div><div class='xr-section-details'><ul class='xr-var-list'></ul></div></li><li class='xr-section-item'><input id='section-ac776972-b6bc-4036-96d4-686d20c040a8' class='xr-section-summary-in' type='checkbox' disabled ><label for='section-ac776972-b6bc-4036-96d4-686d20c040a8' class='xr-section-summary'  title='Expand/collapse section'>Attributes: <span>(0)</span></label><div class='xr-section-inline-details'></div><div class='xr-section-details'><dl class='xr-attrs'></dl></div></li></ul></div></div>"
      ],
      "text/plain": [
       "<xarray.DataArray 'trsl' ()> Size: 8B\n",
       "array(67.6)\n",
       "Coordinates:\n",
       "    cml_id        <U3 12B '24'\n",
       "    length        float64 8B 16.19\n",
       "    channel_id    <U9 36B 'channel_1'\n",
       "    frequency     float64 8B 1.92e+10\n",
       "    polarization  <U1 4B 'V'"
      ]
     },
     "execution_count": 69,
     "metadata": {},
     "output_type": "execute_result"
    }
   ],
   "source": [
    "cml_set.trsl[24,0].min(skipna=False)"
   ]
  },
  {
   "cell_type": "markdown",
   "metadata": {},
   "source": [
    "#### RADOLAN: Repair fault data, resample to 10 min, sum rain rate to mm/10min, create bool W/D"
   ]
  },
  {
   "cell_type": "code",
   "execution_count": 70,
   "metadata": {},
   "outputs": [],
   "source": [
    "ref_set['rain'] = ref_set.rain.interpolate_na(dim='time', method='linear', max_gap='20min')\n",
    "\n",
    "# resample to intended sample size 10 min\n",
    "ref_set = ref_set.resample(time=\"10min\").sum()\n",
    "\n",
    "ref_set = ref_set.transpose('cml_id', 'time')\n",
    "\n",
    "# From reference rain rate derivate boolean reference Wet/Dry signal\n",
    "ref_set['ref_wd'] = ref_set.rain.where(ref_set.rain == 0, True).astype(bool)"
   ]
  },
  {
   "cell_type": "markdown",
   "metadata": {},
   "source": [
    "#### Plot one cml of dataset"
   ]
  },
  {
   "cell_type": "code",
   "execution_count": 71,
   "metadata": {},
   "outputs": [
    {
     "data": {
      "text/plain": [
       "Text(0.5, 1.0, '')"
      ]
     },
     "execution_count": 71,
     "metadata": {},
     "output_type": "execute_result"
    },
    {
     "data": {
      "image/png": "[encoded data removed]",
      "text/plain": [
       "<Figure size 1200x400 with 2 Axes>"
      ]
     },
     "metadata": {},
     "output_type": "display_data"
    }
   ],
   "source": [
    "# select one cml:\n",
    "k = 24\n",
    "my_cml = cml_set.isel(cml_id = k)\n",
    "my_ref = ref_set.isel(cml_id = k)\n",
    "\n",
    "# shaded refernece wet periods from Pycomlink\n",
    "# set first and last value with zero for correct plotting\n",
    "my_ref['ref_wd'][0] = False\n",
    "#my_ref['ref_wd'][-1] = False\n",
    "\n",
    "# setup figure\n",
    "fig, axs = plt.subplots(2, 1, sharex=True, figsize=(12,4))\n",
    "#ax1 = axs[0].twiny()\n",
    "#fig.tight_layout()\n",
    "\n",
    "# plot TRSL\n",
    "my_cml.trsl.plot.line(x='time', ax=axs[0], label = 'TL');\n",
    "# plot Rain rate \n",
    "my_ref.rain.plot.line(x='time', ax=axs[1], label = 'TL');\n",
    "\n",
    "# plot real bool wet/dry with 5min precission\n",
    "wet_start = np.roll(my_ref.ref_wd, -1) & ~my_ref.ref_wd\n",
    "wet_end = np.roll(my_ref.ref_wd, 1) & ~my_ref.ref_wd\n",
    "for wet_start_i, wet_end_i in zip(\n",
    "    wet_start.values.nonzero()[0],\n",
    "    wet_end.values.nonzero()[0],\n",
    "):\n",
    "    axs[1].axvspan(my_ref.time.values[wet_start_i], my_ref.ref_wd.time.values[wet_end_i], color='b', alpha=0.2, linewidth=0); # https://matplotlib.org/stable/api/_as_gen/matplotlib.axes.Axes.axvspan.html\n",
    "    axs[0].axvspan(my_ref.time.values[wet_start_i], my_ref.ref_wd.time.values[wet_end_i], color='b', alpha=0.2, linewidth=0); # https://matplotlib.org/stable/api/_as_gen/matplotlib.axes.Axes.axvspan.html\n",
    "   \n",
    "\n",
    "# axes limits source: https://matplotlib.org/stable/api/_as_gen/matplotlib.axes.Axes.set_xlim.html\n",
    "axs[1].set_xlim(my_cml.time.values[0], my_cml.time.values[-1])\n",
    "axs[0].set_xlabel('')\n",
    "axs[1].set_title(\"\")\n"
   ]
  },
  {
   "cell_type": "markdown",
   "metadata": {},
   "source": [
    "#### <span style=\"color:red\">TODO: </span>Detect higher fault periods"
   ]
  },
  {
   "cell_type": "markdown",
   "metadata": {},
   "source": [
    "## Building dataset\n",
    "1. creating dataset of training and reference data + data visualisation\n",
    "2. Standardising"
   ]
  },
  {
   "cell_type": "markdown",
   "metadata": {},
   "source": [
    "#### Align to a dataset with Reference RADOLAN data and calculate boolean Wet/dry Reference flag"
   ]
  },
  {
   "cell_type": "markdown",
   "metadata": {},
   "source": [
    "#### Agregate 10min measurements into sample\n",
    "To build samples for CNN. rain event will be predicted for whole sample\n",
    "10 times 1 min time step = 10min time window   \n",
    "source: chatGPT\n",
    "\n",
    "__TODO: Possible simplification using .reshape or .view and rewriting trsl, ref_wd__"
   ]
  },
  {
   "cell_type": "code",
   "execution_count": 8,
   "metadata": {
    "scrolled": true
   },
   "outputs": [
    {
     "data": {
      "text/plain": [
       "'\\ncml_id = my_cml.cml_id.values\\nlength = my_cml.length.values\\nfrequency = my_cml.frequency.values\\npolarization = my_cml.polarization.values\\n'"
      ]
     },
     "execution_count": 8,
     "metadata": {},
     "output_type": "execute_result"
    }
   ],
   "source": [
    "# extract metadata:\n",
    "'''\n",
    "cml_id = my_cml.cml_id.values\n",
    "length = my_cml.length.values\n",
    "frequency = my_cml.frequency.values\n",
    "polarization = my_cml.polarization.values\n",
    "'''"
   ]
  },
  {
   "cell_type": "code",
   "execution_count": 72,
   "metadata": {},
   "outputs": [
    {
     "data": {
      "text/plain": [
       "1584"
      ]
     },
     "execution_count": 72,
     "metadata": {},
     "output_type": "execute_result"
    }
   ],
   "source": [
    "sample_size = 10 # = minutes\n",
    "# get number of samples \n",
    "n_samples = len(cml_set.time) // sample_size \n",
    "# last few points cant make a sample of full length. Will be cut off.\n",
    "cutoff = len(cml_set.time)-n_samples*sample_size\n",
    "n_samples"
   ]
  },
  {
   "cell_type": "code",
   "execution_count": 73,
   "metadata": {},
   "outputs": [],
   "source": [
    "# Reshape dataset to a new shape with the sample_id dimension \n",
    "trsl_reshaped = cml_set['trsl'].values[:,:,:(n_samples*sample_size)].reshape(500,2, n_samples, sample_size)\n",
    "\n",
    "# reshape and add vector of time into dataset to remember the time stamp\n",
    "time_reshaped = cml_set['time'].values[:(n_samples*sample_size)].reshape(n_samples, sample_size)"
   ]
  },
  {
   "cell_type": "code",
   "execution_count": 110,
   "metadata": {},
   "outputs": [],
   "source": [
    "# how many cmls include into dataset\n",
    "num_cmls = 1"
   ]
  },
  {
   "cell_type": "code",
   "execution_count": 111,
   "metadata": {
    "scrolled": true
   },
   "outputs": [],
   "source": [
    "# Create a new xarray Dataset with sample_num as a dimension\n",
    "# replace time and date with timestep in the time sample\n",
    "ds = xr.Dataset({\n",
    "    'trsl': (('cml_id', 'channel_id', 'sample_num', 'timestep'), trsl_reshaped[:num_cmls]),\n",
    "    'rain': (('cml_id', 'sample_num'), ref_set['rain'].values[:num_cmls,:(n_samples*sample_size)]),\n",
    "    'ref_wd': (('cml_id', 'sample_num'), ref_set['ref_wd'].values[:num_cmls,:(n_samples*sample_size)]),\n",
    "    'time': (('sample_num', 'timestep'), time_reshaped)\n",
    "}, coords={'cml_id': np.arange(num_cmls),\n",
    "           'channel_id': np.arange(2),\n",
    "           'sample_num': np.arange(n_samples),\n",
    "           'timestep': np.arange(sample_size)#,\n",
    "           #'length': length,                                  #single value is never a dimension\n",
    "           #'frequency': (('channel_id'), frequency),          # this way coordinate will not become a dimension\n",
    "           #'polarization': (('channel_id'), polarization)\n",
    "           })"
   ]
  },
  {
   "cell_type": "markdown",
   "metadata": {
    "jp-MarkdownHeadingCollapsed": true
   },
   "source": [
    "#### Plot dataset of the one chosen cml "
   ]
  },
  {
   "cell_type": "markdown",
   "metadata": {},
   "source": [
    "#### Standardising\n",
    "\"Subtracting the median of all available data from the preceding 72h from each time step.\"[2]   \n",
    "\n",
    "Method: divide all trsl points with the median value for specified channell"
   ]
  },
  {
   "cell_type": "code",
   "execution_count": 112,
   "metadata": {
    "scrolled": true
   },
   "outputs": [],
   "source": [
    "# Calculate median and divide trsl for bot channels\n",
    "#median_tot = ds.trsl.median(axis=(1,2), skipna=True)\n",
    "#ds['trsl'] = ds.trsl / median_tot\n",
    "\n",
    "# Init. ds variable\n",
    "ds['trsl_st'] = ds.trsl\n",
    "# Standardising to 0-1 fullscale\n",
    "for i in range(num_cmls):\n",
    "    mx = ds.trsl[i].max(skipna=True)-ds.trsl[i].min(skipna=True)\n",
    "    ds['trsl_st'][i] = (ds.trsl[i]-ds.trsl.min(skipna=True)) / mx"
   ]
  },
  {
   "cell_type": "markdown",
   "metadata": {},
   "source": [
    "#### Training/Testing data splitting + converting to tensors\n",
    "<span style=\"color:red\">TODO: </span>add validation data: 1 cml  \n",
    "https://github.com/jpolz/cml_wd_pytorch/blob/main/wd_pytorch/train_cnn.ipynb [2]"
   ]
  },
  {
   "cell_type": "code",
   "execution_count": 113,
   "metadata": {},
   "outputs": [],
   "source": [
    "# for tensors we need to make dataset 3D and make sample_num the first dimension\n",
    "ds['trsl_st'] = ds.trsl_st.transpose('cml_id', 'sample_num', 'channel_id', 'timestep')\n",
    "\n",
    "# remove sample id coordinate and reshape to 3D\n",
    "trsl = ds.trsl_st.values.reshape(num_cmls*n_samples,2 , sample_size)\n",
    "ref = ds.ref_wd.values.reshape(num_cmls*n_samples)"
   ]
  },
  {
   "cell_type": "code",
   "execution_count": 114,
   "metadata": {},
   "outputs": [
    {
     "data": {
      "text/plain": [
       "1260"
      ]
     },
     "execution_count": 114,
     "metadata": {},
     "output_type": "execute_result"
    }
   ],
   "source": [
    "batchsize = 10\n",
    "k_train = 0.8     # fraction of training data\n",
    "\n",
    "train_size = int(len(trsl)*k_train/batchsize)* batchsize\n",
    "train_size"
   ]
  },
  {
   "cell_type": "markdown",
   "metadata": {},
   "source": [
    "Shuffling data disabled, splitting and turning to arrays"
   ]
  },
  {
   "cell_type": "code",
   "execution_count": 115,
   "metadata": {},
   "outputs": [],
   "source": [
    "train_data = trsl[:train_size]\n",
    "test_data = trsl[train_size:]\n",
    "train_ref = ref[:train_size]\n",
    "test_ref = ref[train_size:]"
   ]
  },
  {
   "cell_type": "markdown",
   "metadata": {},
   "source": [
    "Storing as tensors [2]"
   ]
  },
  {
   "cell_type": "code",
   "execution_count": 116,
   "metadata": {},
   "outputs": [],
   "source": [
    "train_data = torch.Tensor(train_data)\n",
    "test_data = torch.Tensor(test_data)\n",
    "\n",
    "train_ref = torch.Tensor(train_ref)\n",
    "test_ref = torch.Tensor(test_ref)"
   ]
  },
  {
   "cell_type": "markdown",
   "metadata": {},
   "source": [
    "Turning into dataset, shuffling"
   ]
  },
  {
   "cell_type": "code",
   "execution_count": 117,
   "metadata": {},
   "outputs": [],
   "source": [
    "dataset = torch.utils.data.TensorDataset(train_data, train_ref)\n",
    "testset = torch.utils.data.TensorDataset(test_data, test_ref)\n",
    "\n",
    "trainloader = torch.utils.data.DataLoader(dataset, batch_size = batchsize, shuffle = False)    # shuffle the training data, once more? True\n",
    "testloader = torch.utils.data.DataLoader(testset, batch_size = batchsize, shuffle = False)"
   ]
  },
  {
   "cell_type": "markdown",
   "metadata": {},
   "source": [
    "## Training the CNN"
   ]
  },
  {
   "cell_type": "code",
   "execution_count": 118,
   "metadata": {},
   "outputs": [],
   "source": [
    "model = cnn.cnn_class()\n",
    "optimizer = torch.optim.AdamW(model.parameters(), lr=0.0001)\n",
    "\n",
    "# try lower training rate and no dropout\n"
   ]
  },
  {
   "cell_type": "code",
   "execution_count": 124,
   "metadata": {},
   "outputs": [],
   "source": [
    "epochs = 30    # experimentally max epochs: 30, overfitting around 15\n",
    "resume = 20     # continue learning at epoch xx \n",
    "# Low epochs make cnn output low? around 0.5 max"
   ]
  },
  {
   "cell_type": "code",
   "execution_count": 125,
   "metadata": {},
   "outputs": [],
   "source": [
    "if resume == 0:\n",
    "    loss_dict = {}\n",
    "    loss_dict['train'] = {}\n",
    "    loss_dict['test'] = {}\n",
    "    for key in ['train','test']:\n",
    "        loss_dict[key]['loss'] = []"
   ]
  },
  {
   "cell_type": "code",
   "execution_count": 126,
   "metadata": {},
   "outputs": [
    {
     "name": "stdout",
     "output_type": "stream",
     "text": [
      "29\n",
      "\n",
      "train loss: 0.14648113\n",
      "test loss: 0.092959344\n",
      "min test loss: 0.08442888\n"
     ]
    },
    {
     "data": {
      "image/png": "[encoded data removed]",
      "text/plain": [
       "<Figure size 300x400 with 1 Axes>"
      ]
     },
     "metadata": {},
     "output_type": "display_data"
    }
   ],
   "source": [
    "for epoch in range(resume, epochs):\n",
    "    # training\n",
    "    train_losses = []\n",
    "    for inputs, targets in tqdm(trainloader):\n",
    "        optimizer.zero_grad()\n",
    "        pred = model(inputs)\n",
    "        pred = nn.Flatten(0,1)(pred)            # transpose column data into row\n",
    "        # calculating the loss function\n",
    "        loss = nn.BCELoss()(pred, targets)      # Targets and Imputs size must match\n",
    "        loss.backward()\n",
    "        optimizer.step()\n",
    "        train_losses.append(loss.detach().numpy())\n",
    "    loss_dict['train']['loss'].append(np.mean(train_losses))\n",
    "\n",
    "    \n",
    "    # testing\n",
    "    cnn_prediction = []\n",
    "    test_losses = []\n",
    "    with torch.no_grad():\n",
    "        for inputs, targets in tqdm(testloader):\n",
    "            pred = model(inputs)\n",
    "            # pred = pred.round()\n",
    "            pred = nn.Flatten(0,1)(pred)\n",
    "            \n",
    "            # getting the output\n",
    "            if epoch == epochs-1: cnn_prediction = cnn_prediction+pred.tolist()\n",
    "                \n",
    "            loss = nn.BCELoss()(pred, targets)\n",
    "            test_losses.append(loss.detach().numpy())\n",
    "        loss_dict['test']['loss'].append(np.mean(test_losses))\n",
    "        \n",
    "    # printing\n",
    "    clear_output(wait=True)\n",
    "    print(epoch)\n",
    "    print('')\n",
    "    print('train loss:', np.mean(train_losses))\n",
    "    print('test loss:', np.mean(test_losses))\n",
    "    print('min test loss:', np.min(loss_dict['test']['loss']))\n",
    "    fig, axs = plt.subplots(1,1, figsize=(3,4))\n",
    "    for key in loss_dict.keys():\n",
    "        for k, key2 in enumerate(loss_dict[key].keys()):\n",
    "            axs.plot(loss_dict[key][key2], label=key)\n",
    "            axs.set_title(key2)\n",
    "    # axs.set_yscale('log')\n",
    "    plt.legend()\n",
    "    plt.show()\n",
    "    resume = epoch"
   ]
  },
  {
   "cell_type": "markdown",
   "metadata": {},
   "source": [
    "## Data validation\n",
    "prediction output, confusion matrix, MCC...\n",
    "#### Plot the prediction output\n",
    "#### <span style=\"color:red\">TODO: </span>Add Legends to figures"
   ]
  },
  {
   "cell_type": "code",
   "execution_count": 122,
   "metadata": {},
   "outputs": [
    {
     "ename": "ValueError",
     "evalue": "conflicting sizes for dimension 'sample_num': length 324 on 'cnn_out' and length 1584 on {'cml_id': 'trsl', 'channel_id': 'trsl', 'sample_num': 'trsl', 'timestep': 'trsl'}",
     "output_type": "error",
     "traceback": [
      "\u001b[1;31m---------------------------------------------------------------------------\u001b[0m",
      "\u001b[1;31mValueError\u001b[0m                                Traceback (most recent call last)",
      "Cell \u001b[1;32mIn[122], line 1\u001b[0m\n\u001b[1;32m----> 1\u001b[0m \u001b[43mds\u001b[49m\u001b[43m[\u001b[49m\u001b[38;5;124;43m'\u001b[39;49m\u001b[38;5;124;43mcnn_out\u001b[39;49m\u001b[38;5;124;43m'\u001b[39;49m\u001b[43m]\u001b[49m \u001b[38;5;241m=\u001b[39m ((\u001b[38;5;124m'\u001b[39m\u001b[38;5;124msample_num\u001b[39m\u001b[38;5;124m'\u001b[39m), np\u001b[38;5;241m.\u001b[39marray(cnn_prediction))\n\u001b[0;32m      2\u001b[0m cnn_wd_threshold \u001b[38;5;241m=\u001b[39m \u001b[38;5;241m0.5\u001b[39m\n\u001b[0;32m      4\u001b[0m ds[\u001b[38;5;124m'\u001b[39m\u001b[38;5;124mcnn_wd\u001b[39m\u001b[38;5;124m'\u001b[39m] \u001b[38;5;241m=\u001b[39m ((\u001b[38;5;124m'\u001b[39m\u001b[38;5;124msample_num\u001b[39m\u001b[38;5;124m'\u001b[39m), ds\u001b[38;5;241m.\u001b[39mcnn_out\u001b[38;5;241m.\u001b[39mvalues \u001b[38;5;241m>\u001b[39m cnn_wd_threshold)\n",
      "File \u001b[1;32mD:\\Python312\\Lib\\site-packages\\xarray\\core\\dataset.py:1641\u001b[0m, in \u001b[0;36mDataset.__setitem__\u001b[1;34m(self, key, value)\u001b[0m\n\u001b[0;32m   1636\u001b[0m     \u001b[38;5;28;01mif\u001b[39;00m \u001b[38;5;28misinstance\u001b[39m(value, Dataset):\n\u001b[0;32m   1637\u001b[0m         \u001b[38;5;28;01mraise\u001b[39;00m \u001b[38;5;167;01mTypeError\u001b[39;00m(\n\u001b[0;32m   1638\u001b[0m             \u001b[38;5;124m\"\u001b[39m\u001b[38;5;124mCannot assign a Dataset to a single key - only a DataArray or Variable \u001b[39m\u001b[38;5;124m\"\u001b[39m\n\u001b[0;32m   1639\u001b[0m             \u001b[38;5;124m\"\u001b[39m\u001b[38;5;124mobject can be stored under a single key.\u001b[39m\u001b[38;5;124m\"\u001b[39m\n\u001b[0;32m   1640\u001b[0m         )\n\u001b[1;32m-> 1641\u001b[0m     \u001b[38;5;28;43mself\u001b[39;49m\u001b[38;5;241;43m.\u001b[39;49m\u001b[43mupdate\u001b[49m\u001b[43m(\u001b[49m\u001b[43m{\u001b[49m\u001b[43mkey\u001b[49m\u001b[43m:\u001b[49m\u001b[43m \u001b[49m\u001b[43mvalue\u001b[49m\u001b[43m}\u001b[49m\u001b[43m)\u001b[49m\n\u001b[0;32m   1643\u001b[0m \u001b[38;5;28;01melif\u001b[39;00m utils\u001b[38;5;241m.\u001b[39miterable_of_hashable(key):\n\u001b[0;32m   1644\u001b[0m     keylist \u001b[38;5;241m=\u001b[39m \u001b[38;5;28mlist\u001b[39m(key)\n",
      "File \u001b[1;32mD:\\Python312\\Lib\\site-packages\\xarray\\core\\dataset.py:5761\u001b[0m, in \u001b[0;36mDataset.update\u001b[1;34m(self, other)\u001b[0m\n\u001b[0;32m   5725\u001b[0m \u001b[38;5;28;01mdef\u001b[39;00m \u001b[38;5;21mupdate\u001b[39m(\u001b[38;5;28mself\u001b[39m, other: CoercibleMapping) \u001b[38;5;241m-\u001b[39m\u001b[38;5;241m>\u001b[39m Self:\n\u001b[0;32m   5726\u001b[0m \u001b[38;5;250m    \u001b[39m\u001b[38;5;124;03m\"\"\"Update this dataset's variables with those from another dataset.\u001b[39;00m\n\u001b[0;32m   5727\u001b[0m \n\u001b[0;32m   5728\u001b[0m \u001b[38;5;124;03m    Just like :py:meth:`dict.update` this is a in-place operation.\u001b[39;00m\n\u001b[1;32m   (...)\u001b[0m\n\u001b[0;32m   5759\u001b[0m \u001b[38;5;124;03m    Dataset.merge\u001b[39;00m\n\u001b[0;32m   5760\u001b[0m \u001b[38;5;124;03m    \"\"\"\u001b[39;00m\n\u001b[1;32m-> 5761\u001b[0m     merge_result \u001b[38;5;241m=\u001b[39m \u001b[43mdataset_update_method\u001b[49m\u001b[43m(\u001b[49m\u001b[38;5;28;43mself\u001b[39;49m\u001b[43m,\u001b[49m\u001b[43m \u001b[49m\u001b[43mother\u001b[49m\u001b[43m)\u001b[49m\n\u001b[0;32m   5762\u001b[0m     \u001b[38;5;28;01mreturn\u001b[39;00m \u001b[38;5;28mself\u001b[39m\u001b[38;5;241m.\u001b[39m_replace(inplace\u001b[38;5;241m=\u001b[39m\u001b[38;5;28;01mTrue\u001b[39;00m, \u001b[38;5;241m*\u001b[39m\u001b[38;5;241m*\u001b[39mmerge_result\u001b[38;5;241m.\u001b[39m_asdict())\n",
      "File \u001b[1;32mD:\\Python312\\Lib\\site-packages\\xarray\\core\\merge.py:1055\u001b[0m, in \u001b[0;36mdataset_update_method\u001b[1;34m(dataset, other)\u001b[0m\n\u001b[0;32m   1052\u001b[0m             \u001b[38;5;28;01mif\u001b[39;00m coord_names:\n\u001b[0;32m   1053\u001b[0m                 other[key] \u001b[38;5;241m=\u001b[39m value\u001b[38;5;241m.\u001b[39mdrop_vars(coord_names)\n\u001b[1;32m-> 1055\u001b[0m \u001b[38;5;28;01mreturn\u001b[39;00m \u001b[43mmerge_core\u001b[49m\u001b[43m(\u001b[49m\n\u001b[0;32m   1056\u001b[0m \u001b[43m    \u001b[49m\u001b[43m[\u001b[49m\u001b[43mdataset\u001b[49m\u001b[43m,\u001b[49m\u001b[43m \u001b[49m\u001b[43mother\u001b[49m\u001b[43m]\u001b[49m\u001b[43m,\u001b[49m\n\u001b[0;32m   1057\u001b[0m \u001b[43m    \u001b[49m\u001b[43mpriority_arg\u001b[49m\u001b[38;5;241;43m=\u001b[39;49m\u001b[38;5;241;43m1\u001b[39;49m\u001b[43m,\u001b[49m\n\u001b[0;32m   1058\u001b[0m \u001b[43m    \u001b[49m\u001b[43mindexes\u001b[49m\u001b[38;5;241;43m=\u001b[39;49m\u001b[43mdataset\u001b[49m\u001b[38;5;241;43m.\u001b[39;49m\u001b[43mxindexes\u001b[49m\u001b[43m,\u001b[49m\n\u001b[0;32m   1059\u001b[0m \u001b[43m    \u001b[49m\u001b[43mcombine_attrs\u001b[49m\u001b[38;5;241;43m=\u001b[39;49m\u001b[38;5;124;43m\"\u001b[39;49m\u001b[38;5;124;43moverride\u001b[39;49m\u001b[38;5;124;43m\"\u001b[39;49m\u001b[43m,\u001b[49m\n\u001b[0;32m   1060\u001b[0m \u001b[43m\u001b[49m\u001b[43m)\u001b[49m\n",
      "File \u001b[1;32mD:\\Python312\\Lib\\site-packages\\xarray\\core\\merge.py:705\u001b[0m, in \u001b[0;36mmerge_core\u001b[1;34m(objects, compat, join, combine_attrs, priority_arg, explicit_coords, indexes, fill_value, skip_align_args)\u001b[0m\n\u001b[0;32m    700\u001b[0m prioritized \u001b[38;5;241m=\u001b[39m _get_priority_vars_and_indexes(aligned, priority_arg, compat\u001b[38;5;241m=\u001b[39mcompat)\n\u001b[0;32m    701\u001b[0m variables, out_indexes \u001b[38;5;241m=\u001b[39m merge_collected(\n\u001b[0;32m    702\u001b[0m     collected, prioritized, compat\u001b[38;5;241m=\u001b[39mcompat, combine_attrs\u001b[38;5;241m=\u001b[39mcombine_attrs\n\u001b[0;32m    703\u001b[0m )\n\u001b[1;32m--> 705\u001b[0m dims \u001b[38;5;241m=\u001b[39m \u001b[43mcalculate_dimensions\u001b[49m\u001b[43m(\u001b[49m\u001b[43mvariables\u001b[49m\u001b[43m)\u001b[49m\n\u001b[0;32m    707\u001b[0m coord_names, noncoord_names \u001b[38;5;241m=\u001b[39m determine_coords(coerced)\n\u001b[0;32m    708\u001b[0m \u001b[38;5;28;01mif\u001b[39;00m compat \u001b[38;5;241m==\u001b[39m \u001b[38;5;124m\"\u001b[39m\u001b[38;5;124mminimal\u001b[39m\u001b[38;5;124m\"\u001b[39m:\n\u001b[0;32m    709\u001b[0m     \u001b[38;5;66;03m# coordinates may be dropped in merged results\u001b[39;00m\n",
      "File \u001b[1;32mD:\\Python312\\Lib\\site-packages\\xarray\\core\\variable.py:3014\u001b[0m, in \u001b[0;36mcalculate_dimensions\u001b[1;34m(variables)\u001b[0m\n\u001b[0;32m   3012\u001b[0m             last_used[dim] \u001b[38;5;241m=\u001b[39m k\n\u001b[0;32m   3013\u001b[0m         \u001b[38;5;28;01melif\u001b[39;00m dims[dim] \u001b[38;5;241m!=\u001b[39m size:\n\u001b[1;32m-> 3014\u001b[0m             \u001b[38;5;28;01mraise\u001b[39;00m \u001b[38;5;167;01mValueError\u001b[39;00m(\n\u001b[0;32m   3015\u001b[0m                 \u001b[38;5;124mf\u001b[39m\u001b[38;5;124m\"\u001b[39m\u001b[38;5;124mconflicting sizes for dimension \u001b[39m\u001b[38;5;132;01m{\u001b[39;00mdim\u001b[38;5;132;01m!r}\u001b[39;00m\u001b[38;5;124m: \u001b[39m\u001b[38;5;124m\"\u001b[39m\n\u001b[0;32m   3016\u001b[0m                 \u001b[38;5;124mf\u001b[39m\u001b[38;5;124m\"\u001b[39m\u001b[38;5;124mlength \u001b[39m\u001b[38;5;132;01m{\u001b[39;00msize\u001b[38;5;132;01m}\u001b[39;00m\u001b[38;5;124m on \u001b[39m\u001b[38;5;132;01m{\u001b[39;00mk\u001b[38;5;132;01m!r}\u001b[39;00m\u001b[38;5;124m and length \u001b[39m\u001b[38;5;132;01m{\u001b[39;00mdims[dim]\u001b[38;5;132;01m}\u001b[39;00m\u001b[38;5;124m on \u001b[39m\u001b[38;5;132;01m{\u001b[39;00mlast_used\u001b[38;5;132;01m!r}\u001b[39;00m\u001b[38;5;124m\"\u001b[39m\n\u001b[0;32m   3017\u001b[0m             )\n\u001b[0;32m   3018\u001b[0m \u001b[38;5;28;01mreturn\u001b[39;00m dims\n",
      "\u001b[1;31mValueError\u001b[0m: conflicting sizes for dimension 'sample_num': length 324 on 'cnn_out' and length 1584 on {'cml_id': 'trsl', 'channel_id': 'trsl', 'sample_num': 'trsl', 'timestep': 'trsl'}"
     ]
    }
   ],
   "source": [
    "ds['cnn_out'] = (('sample_num'), np.array(cnn_prediction))\n",
    "cnn_wd_threshold = 0.5\n",
    "\n",
    "ds['cnn_wd'] = (('sample_num'), ds.cnn_out.values > cnn_wd_threshold)"
   ]
  },
  {
   "cell_type": "code",
   "execution_count": 98,
   "metadata": {},
   "outputs": [],
   "source": [
    "# predicted true wet\n",
    "ds['true_wet'] = ds.cnn_wd & ds.ref_wd \n",
    "# cnn false alarm\n",
    "ds['false_alarm'] = ds.cnn_wd & ~ds.ref_wd\n",
    "# cnn missed wet\n",
    "ds['missed_wet'] = ~ds.cnn_wd & ds.ref_wd"
   ]
  },
  {
   "cell_type": "code",
   "execution_count": 99,
   "metadata": {},
   "outputs": [
    {
     "data": {
      "text/plain": [
       "<matplotlib.legend.Legend at 0x24220d43f20>"
      ]
     },
     "execution_count": 99,
     "metadata": {},
     "output_type": "execute_result"
    },
    {
     "data": {
      "image/png": "[encoded data removed]",
      "text/plain": [
       "<Figure size 1200x400 with 2 Axes>"
      ]
     },
     "metadata": {},
     "output_type": "display_data"
    }
   ],
   "source": [
    "# setup figure\n",
    "fig, ax1 = plt.subplots(figsize=(12,4), sharex=True)\n",
    "ax2 = ax1.twiny()\n",
    "\n",
    "ax1.set_xlim(ds.time.values[0,0], ds.time.values[-1,-1])\n",
    "\n",
    "ax2.set_xlim(0, n_samples + cutoff)\n",
    "ax1.set_ylim(0,2);\n",
    "ax2.set_xlabel('sample number')\n",
    "\n",
    "# plot cnn prediction\n",
    "ds.cnn_out.plot.line(x='sample_num', ax=ax2, label = 'TL',color='black', lw=0.5);\n",
    "\n",
    "#cnn threshold\n",
    "ax2.axhline(cnn_wd_threshold, color='black', linestyle='--', lw=0.5)\n",
    "\n",
    "# GREEN: plot true cnn predicted wet/dry areas\n",
    "# tip from stack ovefrolw: https://stackoverflow.com/questions/44632903/setting-multiple-axvspan-labels-as-one-element-in-legend\n",
    "wet_start = np.roll(ds.true_wet, -1) & ~ds.true_wet\n",
    "wet_end = np.roll(ds.true_wet, 1) & ~ds.true_wet\n",
    "for wet_start_i, wet_end_i in zip(\n",
    "    wet_start.values.nonzero()[0],\n",
    "    wet_end.values.nonzero()[0],\n",
    "):\n",
    "    ax2.axvspan(ds.sample_num.values[wet_start_i], ds.sample_num.values[wet_end_i], color='g', alpha=0.5, linewidth=0, label='_'*wet_start_i+'true wet') \n",
    "\n",
    "# RED: plot false alarms\n",
    "wet_start = np.roll(ds.false_alarm, -1) & ~ds.false_alarm\n",
    "wet_end = np.roll(ds.false_alarm, 1) & ~ds.false_alarm\n",
    "for wet_start_i, wet_end_i in zip(\n",
    "    wet_start.values.nonzero()[0],\n",
    "    wet_end.values.nonzero()[0],\n",
    "):\n",
    "    ax2.axvspan(ds.sample_num.values[wet_start_i], ds.sample_num.values[wet_end_i], color='r', alpha=0.5, linewidth=0, label='_'*wet_start_i+'false alarm') \n",
    "    \n",
    "# ORANGE: plot missed wet \n",
    "wet_start = np.roll(ds.missed_wet, -1) & ~ds.missed_wet\n",
    "wet_end = np.roll(ds.missed_wet, 1) & ~ds.missed_wet\n",
    "for wet_start_i, wet_end_i in zip(\n",
    "    wet_start.values.nonzero()[0],\n",
    "    wet_end.values.nonzero()[0],\n",
    "):\n",
    "    ax2.axvspan(ds.sample_num.values[wet_start_i], ds.sample_num.values[wet_end_i], color='orange', alpha=0.5, linewidth=0, label='_'*wet_start_i+'missed wet')\n",
    "\n",
    "ax2.legend(bbox_to_anchor=(0.73,-0.35), ncol=3)"
   ]
  },
  {
   "cell_type": "markdown",
   "metadata": {},
   "source": [
    "#### ROC curve\n",
    "\n",
    "source: [2], https://github.com/jpolz/cnn_cml_wet-dry_example/blob/master/CNN_for_CML_example_nb.ipynb  "
   ]
  },
  {
   "cell_type": "code",
   "execution_count": null,
   "metadata": {},
   "outputs": [],
   "source": [
    "def roc_curve(y_pred, y_true, tr_start, tr_end):\n",
    "    '''\n",
    "    Compute the ROC curve for the CNN. The minimum threshold is tr_start and the maximum threshold is tr_end.\n",
    "    '''\n",
    "    roc = []\n",
    "    for i in range(tr_start*1000,1+tr_end*1000,1):\n",
    "        t = i/1000\n",
    "        y_predicted=np.ravel(y_pred>t)  \n",
    "        true_pos = np.sum(np.logical_and(y_true==1, y_predicted==1))\n",
    "        true_neg = np.sum(np.logical_and(y_true==0, y_predicted==0))\n",
    "        false_pos = np.sum(np.logical_and(y_true==0, y_predicted==1))\n",
    "        false_neg = np.sum(np.logical_and(y_true==1, y_predicted==0))\n",
    "        cond_neg = true_neg+false_pos\n",
    "        cond_pos = true_pos+false_neg\n",
    "        roc.append([true_pos/cond_pos,\n",
    "                    false_pos/cond_neg])\n",
    "    roc.append([0,0])\n",
    "    \n",
    "    return np.array(roc)\n",
    "\n",
    "def roc_surface(roc):\n",
    "    '''\n",
    "    Compute the Area under a ROC curve.\n",
    "    '''\n",
    "    k = len(roc)\n",
    "    surf=0\n",
    "    for i in range(k-1):\n",
    "        surf= surf+(np.abs(roc[i,1]-roc[i+1,1]))*0.5*(roc[i+1,0]+roc[i,0])\n",
    "    \n",
    "    return surf"
   ]
  },
  {
   "cell_type": "code",
   "execution_count": null,
   "metadata": {},
   "outputs": [],
   "source": [
    "# ROC curve\n",
    "roc = roc_curve(ds.cnn_out, ds.ref_wd, 0, 1)\n"
   ]
  },
  {
   "cell_type": "code",
   "execution_count": null,
   "metadata": {},
   "outputs": [],
   "source": [
    "plt.figure(figsize=(5,5))\n",
    "plt.plot(roc[:,1],roc[:,0], color='green', label='CNN Area: '+str(np.round(roc_surface(roc), decimals=2)), zorder=2, lw=3)\n",
    "\n",
    "# plot point of cnn threshold for optimalisation\n",
    "plt.scatter(roc[int(cnn_wd_threshold*1000),1],roc[int(cnn_wd_threshold*1000),0], color='black', marker='h', s=75, label='$\\\\tau$ ='+str(cnn_wd_threshold), zorder=3)\n",
    "thr = 0.13\n",
    "plt.scatter(roc[int(thr*1000),1],roc[int(thr*1000),0], color='black', marker='.', s=75, label='$\\\\tau$ ='+str(thr), zorder=3)\n",
    "\n",
    "plt.plot([0,0,1,0,1,1],[0,1,1,0,0,1], 'k-', linewidth=0.3, zorder=1)\n",
    "plt.title('ROC curve, TPR = f(TNR)')\n",
    "plt.xlabel('False positive rate')\n",
    "plt.ylabel('True positive rate')\n",
    "plt.legend(loc='lower right', ncol=2, frameon=False)\n",
    "plt.grid()\n",
    "plt.yticks(np.arange(0, 1.01, 0.1))\n",
    "plt.xticks(np.arange(0, 1.01, 0.1))\n",
    "plt.tight_layout()\n",
    "plt.show()"
   ]
  },
  {
   "cell_type": "markdown",
   "metadata": {},
   "source": [
    "#### MCC, ACC, confusion matrix\n",
    "source: [2], https://github.com/jpolz/cnn_cml_wet-dry_example/blob/master/CNN_for_CML_example_nb.ipynb"
   ]
  },
  {
   "cell_type": "code",
   "execution_count": null,
   "metadata": {},
   "outputs": [],
   "source": [
    "print('CNN scores')\n",
    "\n",
    "# confusion matrix \n",
    "cm = skl.confusion_matrix(ds.ref_wd, ds.cnn_wd, labels=[0,1], normalize='true').round(decimals=2)\n",
    "print('normalized confusion matrix:\\n',cm)\n",
    "\n",
    "print('confusion matrix:\\n',skl.confusion_matrix(ds.ref_wd, ds.cnn_wd).round(decimals=2))\n",
    "print('TNR:', cm[0,0])\n",
    "print('TPR:', cm[1,1])\n",
    "\n",
    "# Matthews Correlation Coeficient\n",
    "mcc = skl.matthews_corrcoef(ds.ref_wd, ds.cnn_wd).round(decimals=2)\n",
    "print('MCC:', mcc)\n",
    "\n",
    "# \n",
    "acc = np.round(skl.accuracy_score(ds.ref_wd, ds.cnn_wd), decimals=2)\n",
    "print('ACC:', acc)\n",
    "\n",
    "f1 = skl.f1_score(ds.ref_wd, ds.cnn_wd).round(decimals=2)\n",
    "print('F1:', f1)\n",
    "\n",
    "# ROC curve surface\n",
    "a = roc_surface(roc).round(decimals=2)\n",
    "print('ROC surface A:', a)"
   ]
  },
  {
   "cell_type": "code",
   "execution_count": null,
   "metadata": {},
   "outputs": [],
   "source": [
    "import itertools\n",
    "\n",
    "# plot the confusion matrix\n",
    "labels = ['dry', 'wet']\n",
    "\n",
    "fig, ax1 = plt.subplots(figsize=(3,3), sharex=True)\n",
    "#ax1 = fig.add_subplot(131)\n",
    "\n",
    "cax = ax1.matshow(cm, cmap=plt.cm.Blues)\n",
    "ax1.set_xticklabels([''] + labels)\n",
    "ax1.set_yticklabels([''] + labels)\n",
    "fmt = '.2f'\n",
    "thresh = cm.max() / 2.\n",
    "for i, j in itertools.product(range(cm.shape[0]), range(cm.shape[1])):\n",
    "    plt.text(j, i, format(cm[i, j], fmt),\n",
    "             horizontalalignment=\"center\",\n",
    "             color=\"white\" if cm[i, j] > thresh else \"black\")\n",
    "plt.xlabel('Predicted')\n",
    "plt.ylabel('True')\n",
    "ax1.xaxis.set_label_position('top') \n",
    "plt.tight_layout()\n",
    "plt.title('CNN', pad=50)"
   ]
  },
  {
   "cell_type": "markdown",
   "metadata": {},
   "source": [
    "## Wet Antenna Attenuation\n",
    "For CNN predicted wet/dry periods.  \n",
    "Using modules imported from Pycomlink"
   ]
  },
  {
   "cell_type": "markdown",
   "metadata": {},
   "source": [
    "#### <span style=\"color:red\">TODO: </span>Reshape dataset back to time domain\n",
    "<span style=\"color:red\">Assuming, each reference RADOLAN rain sample taken in time TT is measurement from <TT; TT + 5min> period. </span> This assumption may itroduce up to 5min time shift between reference and CML data (TT measurement contains rather value from <TT-5min; TT>), but doesn't introduce any invasive change to the original data.  \n",
    "In future RADOLAN ref values may be shifted -5 minutes."
   ]
  },
  {
   "cell_type": "code",
   "execution_count": null,
   "metadata": {},
   "outputs": [],
   "source": [
    "# Reshape dataset back to time domain\n",
    "trsl_waa = ds['trsl'].values.reshape(2,-1)\n",
    "cnn_waa = np.repeat(ds['cnn_wd'].values.reshape(-1),10)   # cnn_wd output upsampled to 1min by repeating the values \n",
    "time_waa = ds['time'].values.reshape(-1)                  # to be dimension again"
   ]
  },
  {
   "cell_type": "code",
   "execution_count": null,
   "metadata": {},
   "outputs": [],
   "source": [
    "# Create a new xarray Dataset in time domain\n",
    "# cnn_wd upsampled 10 times\n",
    "ds_waa = xr.Dataset({\n",
    "    'trsl': (('channel_id', 'time'), trsl_waa),\n",
    "    'cnn_wd': (('time'), cnn_waa)\n",
    "}, coords={'channel_id': np.arange(2),\n",
    "           'time': time_waa,\n",
    "           'cml_id': cml_id,\n",
    "           'length': length,                                  #single value is never a dimension\n",
    "           'frequency': (('channel_id'), frequency),          # this way coordinate will not become a dimension\n",
    "           'polarization': (('channel_id'), polarization)\n",
    "           })"
   ]
  },
  {
   "cell_type": "markdown",
   "metadata": {},
   "source": [
    "#### CML baseline for CNN predicted Wet signal calculated with Pycomlink modul"
   ]
  },
  {
   "cell_type": "code",
   "execution_count": null,
   "metadata": {},
   "outputs": [],
   "source": [
    "import pycomlink as pycml\n",
    "\n",
    "ds_waa['baseline'] = pycml.processing.baseline.baseline_constant(trsl=ds_waa.trsl, wet=ds_waa.cnn_wd, n_average_last_dry=5)"
   ]
  },
  {
   "cell_type": "code",
   "execution_count": null,
   "metadata": {},
   "outputs": [],
   "source": [
    "fig, ax = plt.subplots(figsize=(12,3))\n",
    "\n",
    "ds_waa.trsl.sel(time=slice('2018-05-13T12:00', '2018-05-14T06:00')).plot.line(x='time', alpha=0.5)\n",
    "plt.gca().set_prop_cycle(None)  # reuse plot colors\n",
    "ds_waa.baseline.sel(time=slice('2018-05-13T12:00', '2018-05-14T06:00')).plot.line(x='time');\n",
    "plt.ylabel('TRSL');"
   ]
  },
  {
   "cell_type": "markdown",
   "metadata": {},
   "source": [
    "#### Wet antenna attenuation estimation\n",
    "from Pyomlink using Schleiss 2013. mathematical model"
   ]
  },
  {
   "cell_type": "code",
   "execution_count": null,
   "metadata": {},
   "outputs": [],
   "source": [
    "ds_waa['waa'] = pycml.processing.wet_antenna.waa_schleiss_2013(\n",
    "    rsl=ds_waa.trsl, \n",
    "    baseline=ds_waa.baseline, \n",
    "    wet=ds_waa.cnn_wd, \n",
    "    waa_max=2.2, \n",
    "    delta_t=1, \n",
    "    tau=15,\n",
    ")"
   ]
  },
  {
   "cell_type": "code",
   "execution_count": null,
   "metadata": {},
   "outputs": [],
   "source": [
    "ds_waa['baseline_waa_c'] = ds_waa.baseline + ds_waa.waa\n",
    "ds_waa['rain_att'] = ds_waa.trsl - ds_waa.baseline_waa_c\n",
    "ds_waa['rain_att'].values[ds_waa.rain_att < 0] = 0"
   ]
  },
  {
   "cell_type": "code",
   "execution_count": null,
   "metadata": {},
   "outputs": [],
   "source": [
    "fig, axs = plt.subplots(2, 1, figsize=(12,5), sharex=True)\n",
    "\n",
    "plt.sca(axs[0])\n",
    "ds_waa.isel(channel_id=0).trsl.plot.line(x='time', alpha=0.5, label='TRSL')\n",
    "plt.gca().set_prop_cycle(None)\n",
    "ds_waa.isel(channel_id=0).baseline.plot.line(x='time', linestyle=':', label='baseline without WAA');\n",
    "plt.gca().set_prop_cycle(None)\n",
    "ds_waa.baseline_waa_c.isel(channel_id=0).plot.line(x='time', label='baseline with WAA correction');\n",
    "plt.ylabel('TRSL [dB]')\n",
    "axs[0].legend()\n",
    "\n",
    "\n",
    "plt.sca(axs[1])\n",
    "(ds_waa.trsl-ds_waa.baseline).isel(channel_id=0).plot.line(x='time', linestyle=':', label='without WAA cor');\n",
    "plt.gca().set_prop_cycle(None)\n",
    "ds_waa.rain_att.isel(channel_id=0).plot.line(x='time', label='with WAA');\n",
    "plt.ylabel('rain induced ATT [dB]');\n",
    "axs[1].set_title('');\n",
    "axs[1].legend()\n",
    "\n",
    "axs[1].set_xlim(pd.to_datetime('2018-05-13T12:00'), pd.to_datetime('2018-05-14T06:00'));"
   ]
  },
  {
   "cell_type": "markdown",
   "metadata": {},
   "source": [
    "#### Rain rate estimation using kR relation"
   ]
  },
  {
   "cell_type": "code",
   "execution_count": null,
   "metadata": {},
   "outputs": [],
   "source": [
    "ds_waa['r_est'] = pycml.processing.k_R_relation.calc_R_from_A(A=ds_waa.rain_att, \n",
    "                                                              L_km=float(ds_waa.length), \n",
    "                                                              f_GHz=ds_waa.frequency/1e9, \n",
    "                                                              pol=ds_waa.polarization)"
   ]
  },
  {
   "cell_type": "code",
   "execution_count": null,
   "metadata": {},
   "outputs": [],
   "source": [
    "# note: \n",
    "#     Reference 1h rainfall rate sampled to 5 min has to be converted to 5min rain rate ... multiplied by 60/5 min\n",
    "#     CML rain rate will be resampled to 5 min \n",
    "\n",
    "\n",
    "fig, axs = plt.subplots(2, 1, figsize=(12,5), sharex=True)\n",
    "ds_waa.trsl.plot.line(x='time', ax=axs[0])\n",
    "plt.ylabel('trsl [dB]');\n",
    "\n",
    "ds_waa.r_est.resample(time=\"5min\").mean().plot.line(x='time', ax=axs[1])\n",
    "(my_ref.rain*12).plot.line(x='time', ax=axs[1], color='black', lw=0.5, label='ref RADOLAN rainrate')\n",
    "plt.ylabel('rain rate [mm/h]');\n",
    "\n",
    "axs[1].set_xlim(pd.to_datetime('2018-05-13T12:00'), pd.to_datetime('2018-05-14T06:00'));\n",
    "axs[1].set_title('');\n",
    "axs[1].legend();"
   ]
  },
  {
   "cell_type": "markdown",
   "metadata": {},
   "source": [
    "### ____________________________________________________________________________________________________________"
   ]
  },
  {
   "cell_type": "markdown",
   "metadata": {},
   "source": [
    "original validation [2]:"
   ]
  },
  {
   "cell_type": "code",
   "execution_count": null,
   "metadata": {},
   "outputs": [],
   "source": [
    "for inputs, targets in tqdm(trainloader):\n",
    "    print(nn.Flatten(0,1)(model(inputs)))\n",
    "    print(targets)\n",
    "    break"
   ]
  },
  {
   "cell_type": "code",
   "execution_count": null,
   "metadata": {},
   "outputs": [],
   "source": [
    "### accuracy score, confusion matrix and Matthews correlation coefficient (MCC)\n",
    "def eval_model(test_dataloader, model):\n",
    "    predictions, actuals = list(), list()\n",
    "    with torch.no_grad():\n",
    "        for inputs, targets in tqdm(test_dataloader):\n",
    "            pred = model(inputs)\n",
    "            pred = pred.detach().numpy()\n",
    "            actual = targets.numpy()\n",
    "            actual = actual.reshape((len(actual), 1))\n",
    "            pred = pred.round()\n",
    "    \n",
    "            predictions.append(pred)\n",
    "            actuals.append(actual)\n",
    "    predictions, actuals = np.ravel(np.vstack(predictions)), np.ravel(np.vstack(actuals))\n",
    "    acc = skl.accuracy_score(actuals, predictions)\n",
    "    conf_mat = skl.confusion_matrix(actual, pred, labels=[0,1], normalize='all')\n",
    "    matt_cor = skl.matthews_corrcoef(actual, pred)\n",
    "    return acc, conf_mat, matt_cor, predictions"
   ]
  },
  {
   "cell_type": "code",
   "execution_count": null,
   "metadata": {},
   "outputs": [],
   "source": [
    "eval_model(testloader, model)"
   ]
  },
  {
   "cell_type": "markdown",
   "metadata": {},
   "source": [
    "### rolling standard deviation classification for reference"
   ]
  },
  {
   "cell_type": "code",
   "execution_count": null,
   "metadata": {},
   "outputs": [],
   "source": [
    "threshold = 0.8\n",
    "\n",
    "roll_std_dev = my_cml.trsl.rolling(time=60, center=True).std()\n",
    "my_cml['rsd_wet'] = my_cml.trsl.rolling(time=60, center=True).std() > threshold"
   ]
  },
  {
   "cell_type": "code",
   "execution_count": null,
   "metadata": {},
   "outputs": [],
   "source": [
    "my_cml"
   ]
  },
  {
   "cell_type": "code",
   "execution_count": null,
   "metadata": {},
   "outputs": [],
   "source": [
    "fig, axs = plt.subplots(2, 1, figsize=(12,5), sharex=True)\n",
    "\n",
    "roll_std_dev.plot.line(x='time', ax=axs[0])\n",
    "axs[0].axhline(threshold, color='k', linestyle='--')\n",
    "\n",
    "my_cml.trsl.plot.line(x='time', ax=axs[1]);\n",
    "\n",
    "# Get start and end of dry event\n",
    "wet_start = np.roll(my_cml.rsd_wet, -1) & ~my_cml.rsd_wet\n",
    "wet_end = np.roll(my_cml.rsd_wet, 1) & ~my_cml.rsd_wet\n",
    "\n",
    "# Plot shaded area for each RSD predicted wet event\n",
    "for wet_start_i, wet_end_i in zip(\n",
    "    wet_start.isel(channel_id=0).values.nonzero()[0],\n",
    "    wet_end.isel(channel_id=0).values.nonzero()[0],\n",
    "):\n",
    "    axs[1].axvspan(my_cml.time.values[wet_start_i], my_cml.time.values[wet_end_i], color='b', alpha=0.2, linewidth=0)\n",
    "\n",
    "axs[1].set_title('');\n",
    "\n",
    "# plot real bool wet/dry with 5min precission\n",
    "wet_start = np.roll(my_ref.ref_wet_dry, -1) & ~my_ref.ref_wet_dry\n",
    "wet_end = np.roll(my_ref.ref_wet_dry, 1) & ~my_ref.ref_wet_dry\n",
    "for wet_start_i, wet_end_i in zip(\n",
    "    wet_start.values.nonzero()[0],\n",
    "    wet_end.values.nonzero()[0],\n",
    "):\n",
    "    axs[1].axvspan(my_ref.time.values[wet_start_i], my_ref.ref_wet_dry.time.values[wet_end_i], color='g', alpha=0.2, linewidth=0) # https://matplotlib.org/stable/api/_as_gen/matplotlib.axes.Axes.axvspan.html"
   ]
  }
 ],
 "metadata": {
  "kernelspec": {
   "display_name": "Python 3 (ipykernel)",
   "language": "python",
   "name": "python3"
  },
  "language_info": {
   "codemirror_mode": {
    "name": "ipython",
    "version": 3
   },
   "file_extension": ".py",
   "mimetype": "text/x-python",
   "name": "python",
   "nbconvert_exporter": "python",
   "pygments_lexer": "ipython3",
   "version": "3.12.7"
  }
 },
 "nbformat": 4,
 "nbformat_minor": 4
}
