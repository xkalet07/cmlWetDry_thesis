{
 "cells": [
  {
   "cell_type": "markdown",
   "metadata": {},
   "source": [
    "# CML wet/dry detection on 1 CML using CNN architecture of Polz J. [2]\n",
    "\n",
    "__CML data:__  \n",
    "Imported from pycomlink (Chwala C:): https://github.com/pycomlink/pycomlink\n",
    "\n",
    "__Sources: All code from [2]__  \n",
    "github: https://github.com/jpolz/cml_wd_pytorch/tree/main  \n",
    "thesis: https://doi.org/10.5194/amt-13-3835-2020"
   ]
  },
  {
   "cell_type": "code",
   "execution_count": 1,
   "metadata": {},
   "outputs": [],
   "source": [
    "import cnn\n",
    "import xarray as xr               # work with arrays, also possible with pandas\n",
    "import pandas as pd\n",
    "import numpy as np\n",
    "import torch\n",
    "import torch.nn as nn\n",
    "# import einops\n",
    "import matplotlib.pyplot as plt\n",
    "import sklearn.metrics as skl"
   ]
  },
  {
   "cell_type": "code",
   "execution_count": 2,
   "metadata": {},
   "outputs": [],
   "source": [
    "from sklearn.utils import shuffle\n",
    "from tqdm import tqdm\n",
    "from IPython.display import clear_output\n"
   ]
  },
  {
   "cell_type": "markdown",
   "metadata": {},
   "source": [
    "#### Load CML data\n",
    "Import data of 500 CML links from pycomlink with 1min timestep"
   ]
  },
  {
   "cell_type": "code",
   "execution_count": 3,
   "metadata": {
    "scrolled": true
   },
   "outputs": [],
   "source": [
    "# 500 CMLs with 1 min time step\n",
    "cml_set = xr.open_dataset('example_data/example_cml_data.nc', engine='netcdf4') # https://docs.xarray.dev/en/stable/generated/xarray.Dataset.html\n",
    "\n",
    "# Temporarily remove GPS coordinates - might add later with additional cml info for better CNN learning\n",
    "# https://stackoverflow.com/questions/61003361/drop-coordinate-from-an-xarray-dataarray\n",
    "cml_set = cml_set.reset_coords(['site_a_latitude','site_b_latitude','site_a_longitude','site_b_longitude'], drop=True)"
   ]
  },
  {
   "cell_type": "markdown",
   "metadata": {},
   "source": [
    "#### Load Reference data\n",
    "Reference rain rate data from RADOLAN. With 5 min step"
   ]
  },
  {
   "cell_type": "code",
   "execution_count": 4,
   "metadata": {
    "scrolled": true
   },
   "outputs": [],
   "source": [
    "# reference RADOLAN data from pycomlink with 5 min time step\n",
    "# Path averaged reference RADOLAN data aligned with all 500 CML IDs\n",
    "ref_set = xr.open_dataset('example_data/example_path_averaged_reference_data.nc', engine='netcdf4')"
   ]
  },
  {
   "cell_type": "markdown",
   "metadata": {},
   "source": [
    "## CML data preprocessing\n",
    "1. choosing cml for training  \n",
    "2. replacing fault values\n",
    "3. cnalculating TRSL\n",
    "4. resampling data  \n",
    "5. creating dataset of training and reference data + data visualisation\n",
    "6. Standardising\n",
    "\n",
    "All from pycomlink https://github.com/pycomlink/pycomlink/blob/master/notebooks/Basic%20CML%20processing%20workflow.ipynb"
   ]
  },
  {
   "cell_type": "markdown",
   "metadata": {},
   "source": [
    "#### Choose one CML, repair fault data and calculate TRSL"
   ]
  },
  {
   "cell_type": "code",
   "execution_count": 5,
   "metadata": {},
   "outputs": [],
   "source": [
    "# Choose one cml\n",
    "k = 14; # index of chosen cml 0-499\n",
    "my_cml = cml_set.isel(cml_id = k) # https://docs.xarray.dev/en/latest/generated/xarray.Dataset.assign.html\n",
    "my_ref = ref_set.isel(cml_id = k)\n",
    "\n",
    "# Check for fault data in TSL, RSL and replace it with NaN https://github.com/jpolz/cml_wd_pytorch/tree/main\n",
    "my_cml['tsl'] = my_cml.tsl.where(my_cml.tsl != 255.0)\n",
    "my_cml['rsl'] = my_cml.rsl.where(my_cml.rsl != -99.9)\n",
    "\n",
    "# Calculate TRSL\n",
    "my_cml['trsl'] = my_cml.tsl - my_cml.rsl\n",
    "\n",
    "# Iterpolate missing values: From pycomlink\n",
    "my_cml['trsl'] = my_cml.trsl.interpolate_na(dim='time', method='linear', max_gap='5min')\n",
    "\n",
    "# show CML dataset\n",
    "# my_cml"
   ]
  },
  {
   "cell_type": "markdown",
   "metadata": {},
   "source": [
    "#### Align to a dataset with Reference RADOLAN data and calculate boolean Wet/dry Reference flag"
   ]
  },
  {
   "cell_type": "code",
   "execution_count": 6,
   "metadata": {},
   "outputs": [],
   "source": [
    "my_data_set = my_cml.assign(my_ref)"
   ]
  },
  {
   "cell_type": "markdown",
   "metadata": {},
   "source": [
    "## Building dataset"
   ]
  },
  {
   "cell_type": "markdown",
   "metadata": {},
   "source": [
    "#### Agregate 1h measurements into sample\n",
    "To build samples for CNN. rain event will be predicted for whole sample\n",
    "60 times 1 min time step = 1 hour time window   \n",
    "source: chatGPT\n",
    "\n",
    "__TODO: Possible simplification using .reshape or .view and rewriting trsl, ref_wet_dry__"
   ]
  },
  {
   "cell_type": "code",
   "execution_count": 7,
   "metadata": {},
   "outputs": [],
   "source": [
    "# extract metadata:\n",
    "cml_id = my_data_set.cml_id.values\n",
    "length = my_data_set.length.values\n",
    "frequency = my_data_set.frequency.values\n",
    "polarization = my_data_set.polarization.values"
   ]
  },
  {
   "cell_type": "code",
   "execution_count": 8,
   "metadata": {},
   "outputs": [
    {
     "data": {
      "text/plain": [
       "264"
      ]
     },
     "execution_count": 8,
     "metadata": {},
     "output_type": "execute_result"
    }
   ],
   "source": [
    "sample_size = 60 # =1 h\n",
    "# get number of samples \n",
    "n_samples = len(my_data_set.time) // sample_size \n",
    "n_samples"
   ]
  },
  {
   "cell_type": "code",
   "execution_count": 9,
   "metadata": {},
   "outputs": [],
   "source": [
    "# Reshape dataset to a new shape with the sample_id dimension\n",
    "# last few points cant make a sample of 120. Will be cut off. \n",
    "trsl_reshaped = my_data_set['trsl'].values[0:(n_samples*sample_size)] \n",
    "cutoff = len(my_data_set.trsl[0])-n_samples*sample_size\n",
    "\n",
    "# reshape\n",
    "trsl_reshaped = trsl_reshaped.reshape(n_samples, 2, sample_size)   #2 stands for 2 channels\n",
    "#trsl_reshaped # array of 264 samples and 2 channels containing 60 trsl measurements"
   ]
  },
  {
   "cell_type": "code",
   "execution_count": 10,
   "metadata": {},
   "outputs": [],
   "source": [
    "# last few points cant make a sample. Has to be cut off. \n",
    "rain_reshaped = my_data_set['rainfall_amount'].values[0:(n_samples*sample_size)]  # //5 because ref_data is with 5x denser timestep\n",
    "# reshape\n",
    "rain_reshaped = rain_reshaped.reshape(n_samples, sample_size)\n",
    "# rain_reshaped # array of n samples containing 1 hour of rain rate measurements\n"
   ]
  },
  {
   "cell_type": "code",
   "execution_count": 11,
   "metadata": {},
   "outputs": [],
   "source": [
    "# reshape and add vector of time into dataset to remember the time stamp\n",
    "time_reshaped = my_data_set['time'].values[0:(n_samples*sample_size)]  # //5 because ref_data is with 5x denser timestep\n",
    "# reshape\n",
    "time_reshaped = time_reshaped.reshape(n_samples, sample_size)"
   ]
  },
  {
   "cell_type": "code",
   "execution_count": 12,
   "metadata": {
    "scrolled": true
   },
   "outputs": [],
   "source": [
    "# Create a new xarray Dataset with sample_num as a dimension\n",
    "# replace time and date with timestep in the time sample\n",
    "ds = xr.Dataset({\n",
    "    'trsl': (('sample_num', 'channel_id', 'timestep'), trsl_reshaped),\n",
    "    'rain': (('sample_num', 'timestep'), rain_reshaped),\n",
    "    'time': (('sample_num', 'timestep'), time_reshaped)\n",
    "}, coords={'sample_num': np.arange(n_samples),\n",
    "           'channel_id': np.arange(2),\n",
    "           'timestep': np.arange(sample_size),\n",
    "           'cml_id': cml_id,\n",
    "           'length': length,                                  #single value is never a dimension\n",
    "           'frequency': (('channel_id'), frequency),          # this way coordinate will not become a dimension\n",
    "           'polarization': (('channel_id'), polarization)\n",
    "           })\n",
    "            \n",
    "# make sure TRSL coordinates are in correct order\n",
    "ds['trsl'] = ds.trsl.transpose('sample_num', 'channel_id', 'timestep')"
   ]
  },
  {
   "cell_type": "code",
   "execution_count": 13,
   "metadata": {},
   "outputs": [],
   "source": [
    "# create one boolean wet/dry flag for whole 1hour sample [2]\n",
    "last_hour = range(-1,-sample_size,-1)    # 264 samples \n",
    "\n",
    "# create one boolean wet/dry flag for whole sample [2]\n",
    "ds['wet_dry'] = ds.rain.isel(timestep=last_hour).sum(dim='timestep')>0."
   ]
  },
  {
   "cell_type": "code",
   "execution_count": 14,
   "metadata": {},
   "outputs": [
    {
     "data": {
      "text/html": [
       "<div><svg style=\"position: absolute; width: 0; height: 0; overflow: hidden\">\n",
       "<defs>\n",
       "<symbol id=\"icon-database\" viewBox=\"0 0 32 32\">\n",
       "<path d=\"M16 0c-8.837 0-16 2.239-16 5v4c0 2.761 7.163 5 16 5s16-2.239 16-5v-4c0-2.761-7.163-5-16-5z\"></path>\n",
       "<path d=\"M16 17c-8.837 0-16-2.239-16-5v6c0 2.761 7.163 5 16 5s16-2.239 16-5v-6c0 2.761-7.163 5-16 5z\"></path>\n",
       "<path d=\"M16 26c-8.837 0-16-2.239-16-5v6c0 2.761 7.163 5 16 5s16-2.239 16-5v-6c0 2.761-7.163 5-16 5z\"></path>\n",
       "</symbol>\n",
       "<symbol id=\"icon-file-text2\" viewBox=\"0 0 32 32\">\n",
       "<path d=\"M28.681 7.159c-0.694-0.947-1.662-2.053-2.724-3.116s-2.169-2.030-3.116-2.724c-1.612-1.182-2.393-1.319-2.841-1.319h-15.5c-1.378 0-2.5 1.121-2.5 2.5v27c0 1.378 1.122 2.5 2.5 2.5h23c1.378 0 2.5-1.122 2.5-2.5v-19.5c0-0.448-0.137-1.23-1.319-2.841zM24.543 5.457c0.959 0.959 1.712 1.825 2.268 2.543h-4.811v-4.811c0.718 0.556 1.584 1.309 2.543 2.268zM28 29.5c0 0.271-0.229 0.5-0.5 0.5h-23c-0.271 0-0.5-0.229-0.5-0.5v-27c0-0.271 0.229-0.5 0.5-0.5 0 0 15.499-0 15.5 0v7c0 0.552 0.448 1 1 1h7v19.5z\"></path>\n",
       "<path d=\"M23 26h-14c-0.552 0-1-0.448-1-1s0.448-1 1-1h14c0.552 0 1 0.448 1 1s-0.448 1-1 1z\"></path>\n",
       "<path d=\"M23 22h-14c-0.552 0-1-0.448-1-1s0.448-1 1-1h14c0.552 0 1 0.448 1 1s-0.448 1-1 1z\"></path>\n",
       "<path d=\"M23 18h-14c-0.552 0-1-0.448-1-1s0.448-1 1-1h14c0.552 0 1 0.448 1 1s-0.448 1-1 1z\"></path>\n",
       "</symbol>\n",
       "</defs>\n",
       "</svg>\n",
       "<style>/* CSS stylesheet for displaying xarray objects in jupyterlab.\n",
       " *\n",
       " */\n",
       "\n",
       ":root {\n",
       "  --xr-font-color0: var(--jp-content-font-color0, rgba(0, 0, 0, 1));\n",
       "  --xr-font-color2: var(--jp-content-font-color2, rgba(0, 0, 0, 0.54));\n",
       "  --xr-font-color3: var(--jp-content-font-color3, rgba(0, 0, 0, 0.38));\n",
       "  --xr-border-color: var(--jp-border-color2, #e0e0e0);\n",
       "  --xr-disabled-color: var(--jp-layout-color3, #bdbdbd);\n",
       "  --xr-background-color: var(--jp-layout-color0, white);\n",
       "  --xr-background-color-row-even: var(--jp-layout-color1, white);\n",
       "  --xr-background-color-row-odd: var(--jp-layout-color2, #eeeeee);\n",
       "}\n",
       "\n",
       "html[theme=dark],\n",
       "html[data-theme=dark],\n",
       "body[data-theme=dark],\n",
       "body.vscode-dark {\n",
       "  --xr-font-color0: rgba(255, 255, 255, 1);\n",
       "  --xr-font-color2: rgba(255, 255, 255, 0.54);\n",
       "  --xr-font-color3: rgba(255, 255, 255, 0.38);\n",
       "  --xr-border-color: #1F1F1F;\n",
       "  --xr-disabled-color: #515151;\n",
       "  --xr-background-color: #111111;\n",
       "  --xr-background-color-row-even: #111111;\n",
       "  --xr-background-color-row-odd: #313131;\n",
       "}\n",
       "\n",
       ".xr-wrap {\n",
       "  display: block !important;\n",
       "  min-width: 300px;\n",
       "  max-width: 700px;\n",
       "}\n",
       "\n",
       ".xr-text-repr-fallback {\n",
       "  /* fallback to plain text repr when CSS is not injected (untrusted notebook) */\n",
       "  display: none;\n",
       "}\n",
       "\n",
       ".xr-header {\n",
       "  padding-top: 6px;\n",
       "  padding-bottom: 6px;\n",
       "  margin-bottom: 4px;\n",
       "  border-bottom: solid 1px var(--xr-border-color);\n",
       "}\n",
       "\n",
       ".xr-header > div,\n",
       ".xr-header > ul {\n",
       "  display: inline;\n",
       "  margin-top: 0;\n",
       "  margin-bottom: 0;\n",
       "}\n",
       "\n",
       ".xr-obj-type,\n",
       ".xr-array-name {\n",
       "  margin-left: 2px;\n",
       "  margin-right: 10px;\n",
       "}\n",
       "\n",
       ".xr-obj-type {\n",
       "  color: var(--xr-font-color2);\n",
       "}\n",
       "\n",
       ".xr-sections {\n",
       "  padding-left: 0 !important;\n",
       "  display: grid;\n",
       "  grid-template-columns: 150px auto auto 1fr 0 20px 0 20px;\n",
       "}\n",
       "\n",
       ".xr-section-item {\n",
       "  display: contents;\n",
       "}\n",
       "\n",
       ".xr-section-item input {\n",
       "  display: inline-block;\n",
       "  opacity: 0;\n",
       "}\n",
       "\n",
       ".xr-section-item input + label {\n",
       "  color: var(--xr-disabled-color);\n",
       "}\n",
       "\n",
       ".xr-section-item input:enabled + label {\n",
       "  cursor: pointer;\n",
       "  color: var(--xr-font-color2);\n",
       "}\n",
       "\n",
       ".xr-section-item input:focus + label {\n",
       "  border: 2px solid var(--xr-font-color0);\n",
       "}\n",
       "\n",
       ".xr-section-item input:enabled + label:hover {\n",
       "  color: var(--xr-font-color0);\n",
       "}\n",
       "\n",
       ".xr-section-summary {\n",
       "  grid-column: 1;\n",
       "  color: var(--xr-font-color2);\n",
       "  font-weight: 500;\n",
       "}\n",
       "\n",
       ".xr-section-summary > span {\n",
       "  display: inline-block;\n",
       "  padding-left: 0.5em;\n",
       "}\n",
       "\n",
       ".xr-section-summary-in:disabled + label {\n",
       "  color: var(--xr-font-color2);\n",
       "}\n",
       "\n",
       ".xr-section-summary-in + label:before {\n",
       "  display: inline-block;\n",
       "  content: '►';\n",
       "  font-size: 11px;\n",
       "  width: 15px;\n",
       "  text-align: center;\n",
       "}\n",
       "\n",
       ".xr-section-summary-in:disabled + label:before {\n",
       "  color: var(--xr-disabled-color);\n",
       "}\n",
       "\n",
       ".xr-section-summary-in:checked + label:before {\n",
       "  content: '▼';\n",
       "}\n",
       "\n",
       ".xr-section-summary-in:checked + label > span {\n",
       "  display: none;\n",
       "}\n",
       "\n",
       ".xr-section-summary,\n",
       ".xr-section-inline-details {\n",
       "  padding-top: 4px;\n",
       "  padding-bottom: 4px;\n",
       "}\n",
       "\n",
       ".xr-section-inline-details {\n",
       "  grid-column: 2 / -1;\n",
       "}\n",
       "\n",
       ".xr-section-details {\n",
       "  display: none;\n",
       "  grid-column: 1 / -1;\n",
       "  margin-bottom: 5px;\n",
       "}\n",
       "\n",
       ".xr-section-summary-in:checked ~ .xr-section-details {\n",
       "  display: contents;\n",
       "}\n",
       "\n",
       ".xr-array-wrap {\n",
       "  grid-column: 1 / -1;\n",
       "  display: grid;\n",
       "  grid-template-columns: 20px auto;\n",
       "}\n",
       "\n",
       ".xr-array-wrap > label {\n",
       "  grid-column: 1;\n",
       "  vertical-align: top;\n",
       "}\n",
       "\n",
       ".xr-preview {\n",
       "  color: var(--xr-font-color3);\n",
       "}\n",
       "\n",
       ".xr-array-preview,\n",
       ".xr-array-data {\n",
       "  padding: 0 5px !important;\n",
       "  grid-column: 2;\n",
       "}\n",
       "\n",
       ".xr-array-data,\n",
       ".xr-array-in:checked ~ .xr-array-preview {\n",
       "  display: none;\n",
       "}\n",
       "\n",
       ".xr-array-in:checked ~ .xr-array-data,\n",
       ".xr-array-preview {\n",
       "  display: inline-block;\n",
       "}\n",
       "\n",
       ".xr-dim-list {\n",
       "  display: inline-block !important;\n",
       "  list-style: none;\n",
       "  padding: 0 !important;\n",
       "  margin: 0;\n",
       "}\n",
       "\n",
       ".xr-dim-list li {\n",
       "  display: inline-block;\n",
       "  padding: 0;\n",
       "  margin: 0;\n",
       "}\n",
       "\n",
       ".xr-dim-list:before {\n",
       "  content: '(';\n",
       "}\n",
       "\n",
       ".xr-dim-list:after {\n",
       "  content: ')';\n",
       "}\n",
       "\n",
       ".xr-dim-list li:not(:last-child):after {\n",
       "  content: ',';\n",
       "  padding-right: 5px;\n",
       "}\n",
       "\n",
       ".xr-has-index {\n",
       "  font-weight: bold;\n",
       "}\n",
       "\n",
       ".xr-var-list,\n",
       ".xr-var-item {\n",
       "  display: contents;\n",
       "}\n",
       "\n",
       ".xr-var-item > div,\n",
       ".xr-var-item label,\n",
       ".xr-var-item > .xr-var-name span {\n",
       "  background-color: var(--xr-background-color-row-even);\n",
       "  margin-bottom: 0;\n",
       "}\n",
       "\n",
       ".xr-var-item > .xr-var-name:hover span {\n",
       "  padding-right: 5px;\n",
       "}\n",
       "\n",
       ".xr-var-list > li:nth-child(odd) > div,\n",
       ".xr-var-list > li:nth-child(odd) > label,\n",
       ".xr-var-list > li:nth-child(odd) > .xr-var-name span {\n",
       "  background-color: var(--xr-background-color-row-odd);\n",
       "}\n",
       "\n",
       ".xr-var-name {\n",
       "  grid-column: 1;\n",
       "}\n",
       "\n",
       ".xr-var-dims {\n",
       "  grid-column: 2;\n",
       "}\n",
       "\n",
       ".xr-var-dtype {\n",
       "  grid-column: 3;\n",
       "  text-align: right;\n",
       "  color: var(--xr-font-color2);\n",
       "}\n",
       "\n",
       ".xr-var-preview {\n",
       "  grid-column: 4;\n",
       "}\n",
       "\n",
       ".xr-index-preview {\n",
       "  grid-column: 2 / 5;\n",
       "  color: var(--xr-font-color2);\n",
       "}\n",
       "\n",
       ".xr-var-name,\n",
       ".xr-var-dims,\n",
       ".xr-var-dtype,\n",
       ".xr-preview,\n",
       ".xr-attrs dt {\n",
       "  white-space: nowrap;\n",
       "  overflow: hidden;\n",
       "  text-overflow: ellipsis;\n",
       "  padding-right: 10px;\n",
       "}\n",
       "\n",
       ".xr-var-name:hover,\n",
       ".xr-var-dims:hover,\n",
       ".xr-var-dtype:hover,\n",
       ".xr-attrs dt:hover {\n",
       "  overflow: visible;\n",
       "  width: auto;\n",
       "  z-index: 1;\n",
       "}\n",
       "\n",
       ".xr-var-attrs,\n",
       ".xr-var-data,\n",
       ".xr-index-data {\n",
       "  display: none;\n",
       "  background-color: var(--xr-background-color) !important;\n",
       "  padding-bottom: 5px !important;\n",
       "}\n",
       "\n",
       ".xr-var-attrs-in:checked ~ .xr-var-attrs,\n",
       ".xr-var-data-in:checked ~ .xr-var-data,\n",
       ".xr-index-data-in:checked ~ .xr-index-data {\n",
       "  display: block;\n",
       "}\n",
       "\n",
       ".xr-var-data > table {\n",
       "  float: right;\n",
       "}\n",
       "\n",
       ".xr-var-name span,\n",
       ".xr-var-data,\n",
       ".xr-index-name div,\n",
       ".xr-index-data,\n",
       ".xr-attrs {\n",
       "  padding-left: 25px !important;\n",
       "}\n",
       "\n",
       ".xr-attrs,\n",
       ".xr-var-attrs,\n",
       ".xr-var-data,\n",
       ".xr-index-data {\n",
       "  grid-column: 1 / -1;\n",
       "}\n",
       "\n",
       "dl.xr-attrs {\n",
       "  padding: 0;\n",
       "  margin: 0;\n",
       "  display: grid;\n",
       "  grid-template-columns: 125px auto;\n",
       "}\n",
       "\n",
       ".xr-attrs dt,\n",
       ".xr-attrs dd {\n",
       "  padding: 0;\n",
       "  margin: 0;\n",
       "  float: left;\n",
       "  padding-right: 10px;\n",
       "  width: auto;\n",
       "}\n",
       "\n",
       ".xr-attrs dt {\n",
       "  font-weight: normal;\n",
       "  grid-column: 1;\n",
       "}\n",
       "\n",
       ".xr-attrs dt:hover span {\n",
       "  display: inline-block;\n",
       "  background: var(--xr-background-color);\n",
       "  padding-right: 10px;\n",
       "}\n",
       "\n",
       ".xr-attrs dd {\n",
       "  grid-column: 2;\n",
       "  white-space: pre-wrap;\n",
       "  word-break: break-all;\n",
       "}\n",
       "\n",
       ".xr-icon-database,\n",
       ".xr-icon-file-text2,\n",
       ".xr-no-icon {\n",
       "  display: inline-block;\n",
       "  vertical-align: middle;\n",
       "  width: 1em;\n",
       "  height: 1.5em !important;\n",
       "  stroke-width: 0;\n",
       "  stroke: currentColor;\n",
       "  fill: currentColor;\n",
       "}\n",
       "</style><pre class='xr-text-repr-fallback'>&lt;xarray.Dataset&gt; Size: 510kB\n",
       "Dimensions:       (sample_num: 264, channel_id: 2, timestep: 60)\n",
       "Coordinates:\n",
       "  * sample_num    (sample_num) int64 2kB 0 1 2 3 4 5 ... 258 259 260 261 262 263\n",
       "  * channel_id    (channel_id) int64 16B 0 1\n",
       "  * timestep      (timestep) int64 480B 0 1 2 3 4 5 6 7 ... 53 54 55 56 57 58 59\n",
       "    cml_id        &lt;U3 12B &#x27;14&#x27;\n",
       "    length        float64 8B 6.468\n",
       "    frequency     (channel_id) float64 16B 2.592e+10 2.491e+10\n",
       "    polarization  (channel_id) &lt;U1 8B &#x27;V&#x27; &#x27;V&#x27;\n",
       "Data variables:\n",
       "    trsl          (sample_num, channel_id, timestep) float64 253kB 60.6 ... 63.5\n",
       "    rain          (sample_num, timestep) float64 127kB 0.0 nan nan ... nan nan\n",
       "    time          (sample_num, timestep) datetime64[ns] 127kB 2018-05-10 ... ...\n",
       "    wet_dry       (sample_num) bool 264B False False False ... False False False</pre><div class='xr-wrap' style='display:none'><div class='xr-header'><div class='xr-obj-type'>xarray.Dataset</div></div><ul class='xr-sections'><li class='xr-section-item'><input id='section-55603891-4333-4187-9e02-3163bd376ea2' class='xr-section-summary-in' type='checkbox' disabled ><label for='section-55603891-4333-4187-9e02-3163bd376ea2' class='xr-section-summary'  title='Expand/collapse section'>Dimensions:</label><div class='xr-section-inline-details'><ul class='xr-dim-list'><li><span class='xr-has-index'>sample_num</span>: 264</li><li><span class='xr-has-index'>channel_id</span>: 2</li><li><span class='xr-has-index'>timestep</span>: 60</li></ul></div><div class='xr-section-details'></div></li><li class='xr-section-item'><input id='section-1c09be12-40af-4b5b-9c6c-e9663de4da55' class='xr-section-summary-in' type='checkbox'  checked><label for='section-1c09be12-40af-4b5b-9c6c-e9663de4da55' class='xr-section-summary' >Coordinates: <span>(7)</span></label><div class='xr-section-inline-details'></div><div class='xr-section-details'><ul class='xr-var-list'><li class='xr-var-item'><div class='xr-var-name'><span class='xr-has-index'>sample_num</span></div><div class='xr-var-dims'>(sample_num)</div><div class='xr-var-dtype'>int64</div><div class='xr-var-preview xr-preview'>0 1 2 3 4 5 ... 259 260 261 262 263</div><input id='attrs-5209dba6-a7a9-47be-8be4-7a34e1333f9c' class='xr-var-attrs-in' type='checkbox' disabled><label for='attrs-5209dba6-a7a9-47be-8be4-7a34e1333f9c' title='Show/Hide attributes'><svg class='icon xr-icon-file-text2'><use xlink:href='#icon-file-text2'></use></svg></label><input id='data-393cb866-308d-47c5-99e4-2508d86f65ab' class='xr-var-data-in' type='checkbox'><label for='data-393cb866-308d-47c5-99e4-2508d86f65ab' title='Show/Hide data repr'><svg class='icon xr-icon-database'><use xlink:href='#icon-database'></use></svg></label><div class='xr-var-attrs'><dl class='xr-attrs'></dl></div><div class='xr-var-data'><pre>array([  0,   1,   2, ..., 261, 262, 263])</pre></div></li><li class='xr-var-item'><div class='xr-var-name'><span class='xr-has-index'>channel_id</span></div><div class='xr-var-dims'>(channel_id)</div><div class='xr-var-dtype'>int64</div><div class='xr-var-preview xr-preview'>0 1</div><input id='attrs-52d2185f-b2fb-4300-891e-9030d3d9d53a' class='xr-var-attrs-in' type='checkbox' disabled><label for='attrs-52d2185f-b2fb-4300-891e-9030d3d9d53a' title='Show/Hide attributes'><svg class='icon xr-icon-file-text2'><use xlink:href='#icon-file-text2'></use></svg></label><input id='data-cdb8cc61-6c8c-4d01-95f8-991e8bfa52e6' class='xr-var-data-in' type='checkbox'><label for='data-cdb8cc61-6c8c-4d01-95f8-991e8bfa52e6' title='Show/Hide data repr'><svg class='icon xr-icon-database'><use xlink:href='#icon-database'></use></svg></label><div class='xr-var-attrs'><dl class='xr-attrs'></dl></div><div class='xr-var-data'><pre>array([0, 1])</pre></div></li><li class='xr-var-item'><div class='xr-var-name'><span class='xr-has-index'>timestep</span></div><div class='xr-var-dims'>(timestep)</div><div class='xr-var-dtype'>int64</div><div class='xr-var-preview xr-preview'>0 1 2 3 4 5 6 ... 54 55 56 57 58 59</div><input id='attrs-e657566c-36a9-4ba4-977f-392959a86728' class='xr-var-attrs-in' type='checkbox' disabled><label for='attrs-e657566c-36a9-4ba4-977f-392959a86728' title='Show/Hide attributes'><svg class='icon xr-icon-file-text2'><use xlink:href='#icon-file-text2'></use></svg></label><input id='data-6995ae3b-a9d2-477d-a2ef-ad7e8b12b699' class='xr-var-data-in' type='checkbox'><label for='data-6995ae3b-a9d2-477d-a2ef-ad7e8b12b699' title='Show/Hide data repr'><svg class='icon xr-icon-database'><use xlink:href='#icon-database'></use></svg></label><div class='xr-var-attrs'><dl class='xr-attrs'></dl></div><div class='xr-var-data'><pre>array([ 0,  1,  2,  3,  4,  5,  6,  7,  8,  9, 10, 11, 12, 13, 14, 15, 16, 17,\n",
       "       18, 19, 20, 21, 22, 23, 24, 25, 26, 27, 28, 29, 30, 31, 32, 33, 34, 35,\n",
       "       36, 37, 38, 39, 40, 41, 42, 43, 44, 45, 46, 47, 48, 49, 50, 51, 52, 53,\n",
       "       54, 55, 56, 57, 58, 59])</pre></div></li><li class='xr-var-item'><div class='xr-var-name'><span>cml_id</span></div><div class='xr-var-dims'>()</div><div class='xr-var-dtype'>&lt;U3</div><div class='xr-var-preview xr-preview'>&#x27;14&#x27;</div><input id='attrs-e807406b-da7a-4687-8c4c-0bc5313fc407' class='xr-var-attrs-in' type='checkbox' disabled><label for='attrs-e807406b-da7a-4687-8c4c-0bc5313fc407' title='Show/Hide attributes'><svg class='icon xr-icon-file-text2'><use xlink:href='#icon-file-text2'></use></svg></label><input id='data-780c87e5-1e9a-41b2-a184-962d6ebd22be' class='xr-var-data-in' type='checkbox'><label for='data-780c87e5-1e9a-41b2-a184-962d6ebd22be' title='Show/Hide data repr'><svg class='icon xr-icon-database'><use xlink:href='#icon-database'></use></svg></label><div class='xr-var-attrs'><dl class='xr-attrs'></dl></div><div class='xr-var-data'><pre>array(&#x27;14&#x27;, dtype=&#x27;&lt;U3&#x27;)</pre></div></li><li class='xr-var-item'><div class='xr-var-name'><span>length</span></div><div class='xr-var-dims'>()</div><div class='xr-var-dtype'>float64</div><div class='xr-var-preview xr-preview'>6.468</div><input id='attrs-ea01da66-738a-4467-9937-3f06ed0d3e1e' class='xr-var-attrs-in' type='checkbox' disabled><label for='attrs-ea01da66-738a-4467-9937-3f06ed0d3e1e' title='Show/Hide attributes'><svg class='icon xr-icon-file-text2'><use xlink:href='#icon-file-text2'></use></svg></label><input id='data-fe1bdc14-e0c2-409a-821c-639293435df5' class='xr-var-data-in' type='checkbox'><label for='data-fe1bdc14-e0c2-409a-821c-639293435df5' title='Show/Hide data repr'><svg class='icon xr-icon-database'><use xlink:href='#icon-database'></use></svg></label><div class='xr-var-attrs'><dl class='xr-attrs'></dl></div><div class='xr-var-data'><pre>array(6.46791216)</pre></div></li><li class='xr-var-item'><div class='xr-var-name'><span>frequency</span></div><div class='xr-var-dims'>(channel_id)</div><div class='xr-var-dtype'>float64</div><div class='xr-var-preview xr-preview'>2.592e+10 2.491e+10</div><input id='attrs-5ca9b8e8-4c94-4db2-b339-f4ccad66a50e' class='xr-var-attrs-in' type='checkbox' disabled><label for='attrs-5ca9b8e8-4c94-4db2-b339-f4ccad66a50e' title='Show/Hide attributes'><svg class='icon xr-icon-file-text2'><use xlink:href='#icon-file-text2'></use></svg></label><input id='data-797d1e9f-2774-4b58-b3bf-0b955e6deebf' class='xr-var-data-in' type='checkbox'><label for='data-797d1e9f-2774-4b58-b3bf-0b955e6deebf' title='Show/Hide data repr'><svg class='icon xr-icon-database'><use xlink:href='#icon-database'></use></svg></label><div class='xr-var-attrs'><dl class='xr-attrs'></dl></div><div class='xr-var-data'><pre>array([2.5921e+10, 2.4913e+10])</pre></div></li><li class='xr-var-item'><div class='xr-var-name'><span>polarization</span></div><div class='xr-var-dims'>(channel_id)</div><div class='xr-var-dtype'>&lt;U1</div><div class='xr-var-preview xr-preview'>&#x27;V&#x27; &#x27;V&#x27;</div><input id='attrs-dccc726a-08c8-4e94-b9e8-736553ba5e5b' class='xr-var-attrs-in' type='checkbox' disabled><label for='attrs-dccc726a-08c8-4e94-b9e8-736553ba5e5b' title='Show/Hide attributes'><svg class='icon xr-icon-file-text2'><use xlink:href='#icon-file-text2'></use></svg></label><input id='data-949c4be9-e0fe-402c-b143-d1d8db4e1d46' class='xr-var-data-in' type='checkbox'><label for='data-949c4be9-e0fe-402c-b143-d1d8db4e1d46' title='Show/Hide data repr'><svg class='icon xr-icon-database'><use xlink:href='#icon-database'></use></svg></label><div class='xr-var-attrs'><dl class='xr-attrs'></dl></div><div class='xr-var-data'><pre>array([&#x27;V&#x27;, &#x27;V&#x27;], dtype=&#x27;&lt;U1&#x27;)</pre></div></li></ul></div></li><li class='xr-section-item'><input id='section-095f4028-ff28-428e-b9a8-2f74129d8216' class='xr-section-summary-in' type='checkbox'  checked><label for='section-095f4028-ff28-428e-b9a8-2f74129d8216' class='xr-section-summary' >Data variables: <span>(4)</span></label><div class='xr-section-inline-details'></div><div class='xr-section-details'><ul class='xr-var-list'><li class='xr-var-item'><div class='xr-var-name'><span>trsl</span></div><div class='xr-var-dims'>(sample_num, channel_id, timestep)</div><div class='xr-var-dtype'>float64</div><div class='xr-var-preview xr-preview'>60.6 61.0 61.0 ... 63.2 63.5 63.5</div><input id='attrs-e1dedb48-f7c0-4c30-ba98-ac027027f46b' class='xr-var-attrs-in' type='checkbox' disabled><label for='attrs-e1dedb48-f7c0-4c30-ba98-ac027027f46b' title='Show/Hide attributes'><svg class='icon xr-icon-file-text2'><use xlink:href='#icon-file-text2'></use></svg></label><input id='data-ea069e7c-687f-425a-a810-1eb39658f8bc' class='xr-var-data-in' type='checkbox'><label for='data-ea069e7c-687f-425a-a810-1eb39658f8bc' title='Show/Hide data repr'><svg class='icon xr-icon-database'><use xlink:href='#icon-database'></use></svg></label><div class='xr-var-attrs'><dl class='xr-attrs'></dl></div><div class='xr-var-data'><pre>array([[[60.6, 61. , 61. , ..., 60.3, 60. , 60.3],\n",
       "        [60.6, 60. , 60.6, ..., 60.6, 60.3, 60.3]],\n",
       "\n",
       "       [[60.6, 60.3, 60.3, ..., 60.6, 60.6, 60. ],\n",
       "        [60.6, 60.6, 60.3, ..., 60.3, 60.3, 60. ]],\n",
       "\n",
       "       [[60.3, 60.3, 60.3, ..., 60.3, 60.3, 60.3],\n",
       "        [60.6, 60.6, 60.6, ..., 60.3, 60.6, 60.6]],\n",
       "\n",
       "       ...,\n",
       "\n",
       "       [[63.8, 64.1, 63.8, ..., 63.8, 63.5, 63.8],\n",
       "        [64.1, 64.1, 64.1, ..., 64.1, 63.8, 64.1]],\n",
       "\n",
       "       [[64.1, 64.1, 64.1, ..., 63.8, 63.8, 63.8],\n",
       "        [63.8, 63.2, 63.5, ..., 63.5, 63.5, 63.5]],\n",
       "\n",
       "       [[63.8, 62.8, 63.5, ..., 63.2, 63.2, 63.2],\n",
       "        [63.2, 63.2, 63.2, ..., 63.2, 63.5, 63.5]]])</pre></div></li><li class='xr-var-item'><div class='xr-var-name'><span>rain</span></div><div class='xr-var-dims'>(sample_num, timestep)</div><div class='xr-var-dtype'>float64</div><div class='xr-var-preview xr-preview'>0.0 nan nan nan ... nan nan nan nan</div><input id='attrs-dc12362a-6924-4865-906c-15e0ea67249c' class='xr-var-attrs-in' type='checkbox' disabled><label for='attrs-dc12362a-6924-4865-906c-15e0ea67249c' title='Show/Hide attributes'><svg class='icon xr-icon-file-text2'><use xlink:href='#icon-file-text2'></use></svg></label><input id='data-1350119d-68e6-4b94-9d3a-a05027bf0bc8' class='xr-var-data-in' type='checkbox'><label for='data-1350119d-68e6-4b94-9d3a-a05027bf0bc8' title='Show/Hide data repr'><svg class='icon xr-icon-database'><use xlink:href='#icon-database'></use></svg></label><div class='xr-var-attrs'><dl class='xr-attrs'></dl></div><div class='xr-var-data'><pre>array([[ 0., nan, nan, ..., nan, nan, nan],\n",
       "       [ 0., nan, nan, ..., nan, nan, nan],\n",
       "       [ 0., nan, nan, ..., nan, nan, nan],\n",
       "       ...,\n",
       "       [ 0., nan, nan, ..., nan, nan, nan],\n",
       "       [ 0., nan, nan, ..., nan, nan, nan],\n",
       "       [ 0., nan, nan, ..., nan, nan, nan]])</pre></div></li><li class='xr-var-item'><div class='xr-var-name'><span>time</span></div><div class='xr-var-dims'>(sample_num, timestep)</div><div class='xr-var-dtype'>datetime64[ns]</div><div class='xr-var-preview xr-preview'>2018-05-10 ... 2018-05-20T23:59:00</div><input id='attrs-8064e365-6643-4ced-a917-ecc4216b0b57' class='xr-var-attrs-in' type='checkbox' disabled><label for='attrs-8064e365-6643-4ced-a917-ecc4216b0b57' title='Show/Hide attributes'><svg class='icon xr-icon-file-text2'><use xlink:href='#icon-file-text2'></use></svg></label><input id='data-def4db11-d3cc-4419-a9ff-ce41e341d39e' class='xr-var-data-in' type='checkbox'><label for='data-def4db11-d3cc-4419-a9ff-ce41e341d39e' title='Show/Hide data repr'><svg class='icon xr-icon-database'><use xlink:href='#icon-database'></use></svg></label><div class='xr-var-attrs'><dl class='xr-attrs'></dl></div><div class='xr-var-data'><pre>array([[&#x27;2018-05-10T00:00:00.000000000&#x27;, &#x27;2018-05-10T00:01:00.000000000&#x27;,\n",
       "        &#x27;2018-05-10T00:02:00.000000000&#x27;, ...,\n",
       "        &#x27;2018-05-10T00:57:00.000000000&#x27;, &#x27;2018-05-10T00:58:00.000000000&#x27;,\n",
       "        &#x27;2018-05-10T00:59:00.000000000&#x27;],\n",
       "       [&#x27;2018-05-10T01:00:00.000000000&#x27;, &#x27;2018-05-10T01:01:00.000000000&#x27;,\n",
       "        &#x27;2018-05-10T01:02:00.000000000&#x27;, ...,\n",
       "        &#x27;2018-05-10T01:57:00.000000000&#x27;, &#x27;2018-05-10T01:58:00.000000000&#x27;,\n",
       "        &#x27;2018-05-10T01:59:00.000000000&#x27;],\n",
       "       [&#x27;2018-05-10T02:00:00.000000000&#x27;, &#x27;2018-05-10T02:01:00.000000000&#x27;,\n",
       "        &#x27;2018-05-10T02:02:00.000000000&#x27;, ...,\n",
       "        &#x27;2018-05-10T02:57:00.000000000&#x27;, &#x27;2018-05-10T02:58:00.000000000&#x27;,\n",
       "        &#x27;2018-05-10T02:59:00.000000000&#x27;],\n",
       "       ...,\n",
       "       [&#x27;2018-05-20T21:00:00.000000000&#x27;, &#x27;2018-05-20T21:01:00.000000000&#x27;,\n",
       "        &#x27;2018-05-20T21:02:00.000000000&#x27;, ...,\n",
       "        &#x27;2018-05-20T21:57:00.000000000&#x27;, &#x27;2018-05-20T21:58:00.000000000&#x27;,\n",
       "        &#x27;2018-05-20T21:59:00.000000000&#x27;],\n",
       "       [&#x27;2018-05-20T22:00:00.000000000&#x27;, &#x27;2018-05-20T22:01:00.000000000&#x27;,\n",
       "        &#x27;2018-05-20T22:02:00.000000000&#x27;, ...,\n",
       "        &#x27;2018-05-20T22:57:00.000000000&#x27;, &#x27;2018-05-20T22:58:00.000000000&#x27;,\n",
       "        &#x27;2018-05-20T22:59:00.000000000&#x27;],\n",
       "       [&#x27;2018-05-20T23:00:00.000000000&#x27;, &#x27;2018-05-20T23:01:00.000000000&#x27;,\n",
       "        &#x27;2018-05-20T23:02:00.000000000&#x27;, ...,\n",
       "        &#x27;2018-05-20T23:57:00.000000000&#x27;, &#x27;2018-05-20T23:58:00.000000000&#x27;,\n",
       "        &#x27;2018-05-20T23:59:00.000000000&#x27;]], dtype=&#x27;datetime64[ns]&#x27;)</pre></div></li><li class='xr-var-item'><div class='xr-var-name'><span>wet_dry</span></div><div class='xr-var-dims'>(sample_num)</div><div class='xr-var-dtype'>bool</div><div class='xr-var-preview xr-preview'>False False False ... False False</div><input id='attrs-0a2ff924-48e1-41e1-b109-f08615945f30' class='xr-var-attrs-in' type='checkbox' disabled><label for='attrs-0a2ff924-48e1-41e1-b109-f08615945f30' title='Show/Hide attributes'><svg class='icon xr-icon-file-text2'><use xlink:href='#icon-file-text2'></use></svg></label><input id='data-2e8429b0-a54b-4271-9368-f0b31f0547be' class='xr-var-data-in' type='checkbox'><label for='data-2e8429b0-a54b-4271-9368-f0b31f0547be' title='Show/Hide data repr'><svg class='icon xr-icon-database'><use xlink:href='#icon-database'></use></svg></label><div class='xr-var-attrs'><dl class='xr-attrs'></dl></div><div class='xr-var-data'><pre>array([False, False, False, False, False, False,  True,  True, False,\n",
       "       False,  True,  True, False, False, False, False, False, False,\n",
       "       False, False, False, False, False, False, False, False, False,\n",
       "       False, False, False, False, False, False, False, False, False,\n",
       "       False, False, False, False, False, False, False, False, False,\n",
       "       False, False, False, False, False, False, False, False, False,\n",
       "       False, False, False, False, False, False, False, False, False,\n",
       "       False, False, False, False, False, False, False, False, False,\n",
       "       False, False, False, False, False, False, False, False, False,\n",
       "       False, False, False,  True,  True,  True, False, False, False,\n",
       "        True,  True,  True,  True,  True,  True,  True,  True,  True,\n",
       "       False, False, False,  True,  True,  True, False, False, False,\n",
       "       False,  True,  True, False,  True, False, False, False, False,\n",
       "       False, False, False, False, False, False, False, False, False,\n",
       "       False, False, False, False, False, False, False,  True,  True,\n",
       "       False, False,  True,  True,  True, False, False, False,  True,\n",
       "        True,  True,  True,  True,  True, False, False, False, False,\n",
       "       False, False,  True,  True, False, False, False, False, False,\n",
       "       False, False, False, False,  True,  True,  True,  True,  True,\n",
       "        True, False, False, False, False, False, False, False, False,\n",
       "       False, False, False, False, False, False, False, False, False,\n",
       "       False, False, False, False, False, False, False, False, False,\n",
       "       False, False, False, False, False, False, False, False, False,\n",
       "       False, False, False, False, False, False, False, False, False,\n",
       "       False, False, False, False, False, False, False, False, False,\n",
       "       False, False, False, False, False, False, False, False, False,\n",
       "       False, False, False, False, False, False, False, False, False,\n",
       "        True, False, False,  True, False, False, False, False,  True,\n",
       "        True,  True,  True, False, False, False, False, False, False,\n",
       "       False, False, False])</pre></div></li></ul></div></li><li class='xr-section-item'><input id='section-d79f792c-ef2e-41e0-bcee-341cdfa07f73' class='xr-section-summary-in' type='checkbox'  ><label for='section-d79f792c-ef2e-41e0-bcee-341cdfa07f73' class='xr-section-summary' >Indexes: <span>(3)</span></label><div class='xr-section-inline-details'></div><div class='xr-section-details'><ul class='xr-var-list'><li class='xr-var-item'><div class='xr-index-name'><div>sample_num</div></div><div class='xr-index-preview'>PandasIndex</div><div></div><input id='index-554d4444-c110-40e5-ae1f-7ad790873c97' class='xr-index-data-in' type='checkbox'/><label for='index-554d4444-c110-40e5-ae1f-7ad790873c97' title='Show/Hide index repr'><svg class='icon xr-icon-database'><use xlink:href='#icon-database'></use></svg></label><div class='xr-index-data'><pre>PandasIndex(Index([  0,   1,   2,   3,   4,   5,   6,   7,   8,   9,\n",
       "       ...\n",
       "       254, 255, 256, 257, 258, 259, 260, 261, 262, 263],\n",
       "      dtype=&#x27;int64&#x27;, name=&#x27;sample_num&#x27;, length=264))</pre></div></li><li class='xr-var-item'><div class='xr-index-name'><div>channel_id</div></div><div class='xr-index-preview'>PandasIndex</div><div></div><input id='index-2c3c09cd-72e1-44f6-9754-eae01568aa98' class='xr-index-data-in' type='checkbox'/><label for='index-2c3c09cd-72e1-44f6-9754-eae01568aa98' title='Show/Hide index repr'><svg class='icon xr-icon-database'><use xlink:href='#icon-database'></use></svg></label><div class='xr-index-data'><pre>PandasIndex(Index([0, 1], dtype=&#x27;int64&#x27;, name=&#x27;channel_id&#x27;))</pre></div></li><li class='xr-var-item'><div class='xr-index-name'><div>timestep</div></div><div class='xr-index-preview'>PandasIndex</div><div></div><input id='index-253ec0a6-629a-4c55-8845-1a8c5429c229' class='xr-index-data-in' type='checkbox'/><label for='index-253ec0a6-629a-4c55-8845-1a8c5429c229' title='Show/Hide index repr'><svg class='icon xr-icon-database'><use xlink:href='#icon-database'></use></svg></label><div class='xr-index-data'><pre>PandasIndex(Index([ 0,  1,  2,  3,  4,  5,  6,  7,  8,  9, 10, 11, 12, 13, 14, 15, 16, 17,\n",
       "       18, 19, 20, 21, 22, 23, 24, 25, 26, 27, 28, 29, 30, 31, 32, 33, 34, 35,\n",
       "       36, 37, 38, 39, 40, 41, 42, 43, 44, 45, 46, 47, 48, 49, 50, 51, 52, 53,\n",
       "       54, 55, 56, 57, 58, 59],\n",
       "      dtype=&#x27;int64&#x27;, name=&#x27;timestep&#x27;))</pre></div></li></ul></div></li><li class='xr-section-item'><input id='section-8b165d10-8cf3-43aa-8b2e-494d4650db1f' class='xr-section-summary-in' type='checkbox' disabled ><label for='section-8b165d10-8cf3-43aa-8b2e-494d4650db1f' class='xr-section-summary'  title='Expand/collapse section'>Attributes: <span>(0)</span></label><div class='xr-section-inline-details'></div><div class='xr-section-details'><dl class='xr-attrs'></dl></div></li></ul></div></div>"
      ],
      "text/plain": [
       "<xarray.Dataset> Size: 510kB\n",
       "Dimensions:       (sample_num: 264, channel_id: 2, timestep: 60)\n",
       "Coordinates:\n",
       "  * sample_num    (sample_num) int64 2kB 0 1 2 3 4 5 ... 258 259 260 261 262 263\n",
       "  * channel_id    (channel_id) int64 16B 0 1\n",
       "  * timestep      (timestep) int64 480B 0 1 2 3 4 5 6 7 ... 53 54 55 56 57 58 59\n",
       "    cml_id        <U3 12B '14'\n",
       "    length        float64 8B 6.468\n",
       "    frequency     (channel_id) float64 16B 2.592e+10 2.491e+10\n",
       "    polarization  (channel_id) <U1 8B 'V' 'V'\n",
       "Data variables:\n",
       "    trsl          (sample_num, channel_id, timestep) float64 253kB 60.6 ... 63.5\n",
       "    rain          (sample_num, timestep) float64 127kB 0.0 nan nan ... nan nan\n",
       "    time          (sample_num, timestep) datetime64[ns] 127kB 2018-05-10 ... ...\n",
       "    wet_dry       (sample_num) bool 264B False False False ... False False False"
      ]
     },
     "execution_count": 14,
     "metadata": {},
     "output_type": "execute_result"
    }
   ],
   "source": [
    "ds"
   ]
  },
  {
   "cell_type": "markdown",
   "metadata": {},
   "source": [
    "#### Plot dataset of the one chosen cml "
   ]
  },
  {
   "cell_type": "code",
   "execution_count": 15,
   "metadata": {
    "scrolled": true
   },
   "outputs": [
    {
     "data": {
      "image/png": "[encoded data removed]",
      "text/plain": [
       "<Figure size 1200x400 with 2 Axes>"
      ]
     },
     "metadata": {},
     "output_type": "display_data"
    }
   ],
   "source": [
    "# shaded refernece wet periods from Pycomlink\n",
    "# set first and last value with zero for correct plotting\n",
    "ds['wet_dry'][0] = False \n",
    "ds['wet_dry'][-1] = False\n",
    "\n",
    "# setup figure\n",
    "fig, ax1 = plt.subplots(figsize=(12,4), sharex=True)\n",
    "ax2 = ax1.twiny()\n",
    "\n",
    "# axes limits source: https://matplotlib.org/stable/api/_as_gen/matplotlib.axes.Axes.set_xlim.html\n",
    "ax1.set_xlim(my_data_set.time.values[0], my_data_set.time.values[-1])\n",
    "# detail: ax1.set_xlim(np.datetime64('2018-05-13T12:00:00.000000000'),np.datetime64('2018-05-14T12:00:00.000000000'))\n",
    "\n",
    "# in case there are cutof measurements due to sample grouping, we use their amount to align x axes right\n",
    "ax2.set_xlim(0, n_samples + (len(my_data_set.trsl[0])-n_samples*sample_size)/sample_size)\n",
    "\n",
    "my_data_set.trsl.plot.line(x='time', ax=ax1, label = 'TL');\n",
    "\n",
    "wet_start = np.roll(ds.wet_dry, -1) & ~ds.wet_dry\n",
    "wet_end = np.roll(ds.wet_dry, 1) & ~ds.wet_dry\n",
    "for wet_start_i, wet_end_i in zip(\n",
    "    wet_start.values.nonzero()[0],\n",
    "    wet_end.values.nonzero()[0],\n",
    "):\n",
    "    ax2.axvspan(ds.sample_num.values[wet_start_i], ds.sample_num.values[wet_end_i], color='b', alpha=0.2, linewidth=0) # https://matplotlib.org/stable/api/_as_gen/matplotlib.axes.Axes.axvspan.html\n",
    "    "
   ]
  },
  {
   "cell_type": "markdown",
   "metadata": {},
   "source": [
    "#### <span style=\"color:red\">TODO: </span>Standardising\n",
    "Subtracting the median of all available data from the preceding 72h from each time step [2] \n",
    "maybe divide all trsl points with the higest trsl value\n"
   ]
  },
  {
   "cell_type": "code",
   "execution_count": 16,
   "metadata": {},
   "outputs": [
    {
     "data": {
      "text/plain": [
       "\"\\n# histogram from: https://isibrno.cz/deep/\\nplt.figure()\\nplt.hist(my_data_set.trsl)\\nplt.title(f'Histogram of TRSL')\\nplt.xlabel('TRSL [dB]')\\nplt.ylabel('Frequency')\\nplt.show()\\n\""
      ]
     },
     "execution_count": 16,
     "metadata": {},
     "output_type": "execute_result"
    }
   ],
   "source": [
    "'''\n",
    "# histogram from: https://isibrno.cz/deep/\n",
    "plt.figure()\n",
    "plt.hist(my_data_set.trsl)\n",
    "plt.title(f'Histogram of TRSL')\n",
    "plt.xlabel('TRSL [dB]')\n",
    "plt.ylabel('Frequency')\n",
    "plt.show()\n",
    "'''"
   ]
  },
  {
   "cell_type": "code",
   "execution_count": null,
   "metadata": {},
   "outputs": [],
   "source": []
  },
  {
   "cell_type": "code",
   "execution_count": null,
   "metadata": {},
   "outputs": [],
   "source": []
  },
  {
   "cell_type": "markdown",
   "metadata": {},
   "source": [
    "#### <span style=\"color:red\">TODO: </span>We need to make Wet/Dry periods 50:50 for the training"
   ]
  },
  {
   "cell_type": "code",
   "execution_count": 17,
   "metadata": {},
   "outputs": [
    {
     "data": {
      "text/plain": [
       "'\\ndef balance_classes(a, boo):\\n    lsn=len(a.sample_num)\\n    ind = np.arange(lsn)\\n    ind_true = shuffle(ind[boo])\\n    ind_false = ind[~boo]\\n    ind_true = ind_true[:np.sum(~boo)]\\n    print(1-(2*len(ind_false)/lsn))\\n    return a.isel(sample_num=np.concatenate([ind_true,ind_false]))\\n'"
      ]
     },
     "execution_count": 17,
     "metadata": {},
     "output_type": "execute_result"
    }
   ],
   "source": [
    "# from [2]\n",
    "'''\n",
    "def balance_classes(a, boo):\n",
    "    lsn=len(a.sample_num)\n",
    "    ind = np.arange(lsn)\n",
    "    ind_true = shuffle(ind[boo])\n",
    "    ind_false = ind[~boo]\n",
    "    ind_true = ind_true[:np.sum(~boo)]\n",
    "    print(1-(2*len(ind_false)/lsn))\n",
    "    return a.isel(sample_num=np.concatenate([ind_true,ind_false]))\n",
    "'''"
   ]
  },
  {
   "cell_type": "code",
   "execution_count": 18,
   "metadata": {},
   "outputs": [],
   "source": [
    "#ds = balance_classes(ds, ~ds.wet_dry.values)"
   ]
  },
  {
   "cell_type": "code",
   "execution_count": 19,
   "metadata": {},
   "outputs": [],
   "source": [
    "#ds"
   ]
  },
  {
   "cell_type": "markdown",
   "metadata": {},
   "source": [
    "#### Training/Testing data splitting\n",
    "https://github.com/jpolz/cml_wd_pytorch/blob/main/wd_pytorch/train_cnn.ipynb [2]"
   ]
  },
  {
   "cell_type": "code",
   "execution_count": 20,
   "metadata": {
    "vscode": {
     "languageId": "raw"
    }
   },
   "outputs": [],
   "source": [
    "# ds = ds.isel(sample_number=np.arange(100))"
   ]
  },
  {
   "cell_type": "code",
   "execution_count": 21,
   "metadata": {},
   "outputs": [
    {
     "data": {
      "text/plain": [
       "210"
      ]
     },
     "execution_count": 21,
     "metadata": {},
     "output_type": "execute_result"
    }
   ],
   "source": [
    "batchsize = 10\n",
    "k_train = 0.8     # fraction of training data\n",
    "\n",
    "train_size = int(len(ds.sample_num)*k_train/batchsize)* batchsize\n",
    "train_size"
   ]
  },
  {
   "cell_type": "markdown",
   "metadata": {},
   "source": [
    "#### Convert to Tensor DataSets"
   ]
  },
  {
   "cell_type": "markdown",
   "metadata": {},
   "source": [
    "Shuffling data, splitting and turning to arrays"
   ]
  },
  {
   "cell_type": "code",
   "execution_count": 22,
   "metadata": {},
   "outputs": [],
   "source": [
    "# shuffling samples\n",
    "#trsl, ref = shuffle(ds.trsl.values, ds.wet_radar.values)\n",
    "\n",
    "# without shuffling\n",
    "trsl = ds.trsl.values\n",
    "ref = ds.wet_dry.values\n",
    "\n",
    "train_data = trsl[:train_size]\n",
    "test_data = trsl[train_size:]\n",
    "train_ref = ref[:train_size]\n",
    "test_ref = ref[train_size:]\n",
    "# to floor batch size use: data = data[:int(len(data/batch_size))*batch_size]"
   ]
  },
  {
   "cell_type": "markdown",
   "metadata": {},
   "source": [
    "Storing as tensors [2]"
   ]
  },
  {
   "cell_type": "code",
   "execution_count": 23,
   "metadata": {},
   "outputs": [],
   "source": [
    "train_data = torch.Tensor(train_data)\n",
    "test_data = torch.Tensor(test_data)\n",
    "\n",
    "train_ref = torch.Tensor(train_ref)\n",
    "test_ref = torch.Tensor(test_ref)"
   ]
  },
  {
   "cell_type": "markdown",
   "metadata": {},
   "source": [
    "Turning into dataset, shuffling"
   ]
  },
  {
   "cell_type": "code",
   "execution_count": 24,
   "metadata": {},
   "outputs": [],
   "source": [
    "dataset = torch.utils.data.TensorDataset(train_data, train_ref)\n",
    "testset = torch.utils.data.TensorDataset(test_data, test_ref)\n",
    "\n",
    "trainloader = torch.utils.data.DataLoader(dataset, batch_size = batchsize, shuffle = False)    # shuffle the training data, once more? True\n",
    "testloader = torch.utils.data.DataLoader(testset, batch_size = batchsize, shuffle = False)"
   ]
  },
  {
   "cell_type": "markdown",
   "metadata": {},
   "source": [
    "## Training the CNN"
   ]
  },
  {
   "cell_type": "code",
   "execution_count": 25,
   "metadata": {},
   "outputs": [],
   "source": [
    "model = cnn.cnn_class()\n",
    "optimizer = torch.optim.AdamW(model.parameters(), lr=0.001)\n"
   ]
  },
  {
   "cell_type": "code",
   "execution_count": 26,
   "metadata": {},
   "outputs": [],
   "source": [
    "epochs = 30\n",
    "resume = 0"
   ]
  },
  {
   "cell_type": "code",
   "execution_count": 27,
   "metadata": {},
   "outputs": [],
   "source": [
    "if resume == 0:\n",
    "    loss_dict = {}\n",
    "    loss_dict['train'] = {}\n",
    "    loss_dict['test'] = {}\n",
    "    for key in ['train','test']:\n",
    "        loss_dict[key]['loss'] = []"
   ]
  },
  {
   "cell_type": "code",
   "execution_count": 28,
   "metadata": {},
   "outputs": [
    {
     "name": "stdout",
     "output_type": "stream",
     "text": [
      "29\n",
      "\n",
      "train loss: 0.5072589\n",
      "test loss: 0.381278\n",
      "min test loss: 0.36711743\n"
     ]
    },
    {
     "data": {
      "image/png": "[encoded data removed]",
      "text/plain": [
       "<Figure size 300x400 with 1 Axes>"
      ]
     },
     "metadata": {},
     "output_type": "display_data"
    }
   ],
   "source": [
    "for epoch in range(resume, epochs):\n",
    "    # training\n",
    "    train_losses = []\n",
    "    for inputs, targets in tqdm(trainloader):\n",
    "        optimizer.zero_grad()\n",
    "        pred = model(inputs)\n",
    "        pred = nn.Flatten(0,1)(pred)            # flatten 3D data into 2D\n",
    "        # calculating the loss function\n",
    "        loss = nn.BCELoss()(pred, targets)      # !!!! Targets and Imputs size must match\n",
    "        loss.backward()\n",
    "        optimizer.step()\n",
    "        train_losses.append(loss.detach().numpy())\n",
    "    loss_dict['train']['loss'].append(np.mean(train_losses))\n",
    "    \n",
    "    # testing\n",
    "    test_losses = []\n",
    "    with torch.no_grad():\n",
    "        for inputs, targets in tqdm(testloader):\n",
    "            pred = model(inputs)\n",
    "            # pred = pred.round()\n",
    "            pred = nn.Flatten(0,1)(pred)\n",
    "            loss = nn.BCELoss()(pred, targets)\n",
    "            test_losses.append(loss.detach().numpy())\n",
    "        loss_dict['test']['loss'].append(np.mean(test_losses))\n",
    "        \n",
    "    # printing\n",
    "    clear_output(wait=True)\n",
    "    print(epoch)\n",
    "    print('')\n",
    "    print('train loss:', np.mean(train_losses))\n",
    "    print('test loss:', np.mean(test_losses))\n",
    "    print('min test loss:', np.min(loss_dict['test']['loss']))\n",
    "    fig, axs = plt.subplots(1,1, figsize=(3,4))\n",
    "    for key in loss_dict.keys():\n",
    "        for k, key2 in enumerate(loss_dict[key].keys()):\n",
    "            axs.plot(loss_dict[key][key2], label=key)\n",
    "            axs.set_title(key2)\n",
    "    # axs.set_yscale('log')\n",
    "    plt.legend()\n",
    "    plt.show()\n",
    "    resume = epoch"
   ]
  },
  {
   "cell_type": "code",
   "execution_count": 48,
   "metadata": {},
   "outputs": [
    {
     "name": "stderr",
     "output_type": "stream",
     "text": [
      "  0%|                                                                                           | 0/21 [00:00<?, ?it/s]"
     ]
    },
    {
     "name": "stdout",
     "output_type": "stream",
     "text": [
      "tensor([0.2437, 0.1906, 0.2637, 0.2143, 0.1980, 0.1856, 0.2648, 0.2296, 0.3101,\n",
      "        0.2230], grad_fn=<ViewBackward0>)\n",
      "tensor([0., 0., 0., 0., 0., 0., 1., 1., 0., 0.])\n"
     ]
    },
    {
     "name": "stderr",
     "output_type": "stream",
     "text": [
      "\n"
     ]
    }
   ],
   "source": [
    "for inputs, targets in tqdm(trainloader):\n",
    "    print(nn.Flatten(0,1)(model(inputs)))\n",
    "    print(targets)\n",
    "    break"
   ]
  },
  {
   "cell_type": "code",
   "execution_count": 49,
   "metadata": {},
   "outputs": [],
   "source": [
    "### accuracy score, confusion matrix and Matthews correlation coefficient (MCC)\n",
    "def eval_model(test_dataloader, model):\n",
    "    predictions, actuals = list(), list()\n",
    "    with torch.no_grad():\n",
    "        for inputs, targets in tqdm(test_dataloader):\n",
    "            pred = model(inputs)\n",
    "            pred = pred.detach().numpy()\n",
    "            actual = targets.numpy()\n",
    "            actual = actual.reshape((len(actual), 1))\n",
    "            pred = pred.round()\n",
    "    \n",
    "            predictions.append(pred)\n",
    "            actuals.append(actual)\n",
    "    predictions, actuals = np.ravel(np.vstack(predictions)), np.ravel(np.vstack(actuals))\n",
    "    acc = skl.accuracy_score(actuals, predictions)\n",
    "    conf_mat = skl.confusion_matrix(actual, pred, labels=[0,1], normalize='all')\n",
    "    matt_cor = skl.matthews_corrcoef(actual, pred)\n",
    "    return acc, conf_mat, matt_cor"
   ]
  },
  {
   "cell_type": "code",
   "execution_count": 50,
   "metadata": {},
   "outputs": [
    {
     "name": "stderr",
     "output_type": "stream",
     "text": [
      "100%|███████████████████████████████████████████████████████████████████████████████████| 6/6 [00:00<00:00, 187.61it/s]\n",
      "D:\\Python312\\Lib\\site-packages\\sklearn\\metrics\\_classification.py:409: UserWarning: A single label was found in 'y_true' and 'y_pred'. For the confusion matrix to have the correct shape, use the 'labels' parameter to pass all known labels.\n",
      "  warnings.warn(\n"
     ]
    },
    {
     "data": {
      "text/plain": [
       "(0.8888888888888888,\n",
       " array([[1., 0.],\n",
       "        [0., 0.]]),\n",
       " 0.0)"
      ]
     },
     "execution_count": 50,
     "metadata": {},
     "output_type": "execute_result"
    }
   ],
   "source": [
    "eval_model(testloader, model)"
   ]
  }
 ],
 "metadata": {
  "kernelspec": {
   "display_name": "Python 3 (ipykernel)",
   "language": "python",
   "name": "python3"
  },
  "language_info": {
   "codemirror_mode": {
    "name": "ipython",
    "version": 3
   },
   "file_extension": ".py",
   "mimetype": "text/x-python",
   "name": "python",
   "nbconvert_exporter": "python",
   "pygments_lexer": "ipython3",
   "version": "3.12.7"
  }
 },
 "nbformat": 4,
 "nbformat_minor": 4
}
