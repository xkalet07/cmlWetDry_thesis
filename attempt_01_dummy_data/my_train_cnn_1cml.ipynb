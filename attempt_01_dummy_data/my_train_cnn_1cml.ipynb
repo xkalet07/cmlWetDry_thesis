{
 "cells": [
  {
   "cell_type": "markdown",
   "metadata": {},
   "source": [
    "# CML wet/dry detection on 1 CML using CNN architecture of Polz J. [2]\n",
    "\n",
    "__CML data:__  \n",
    "Imported from pycomlink (Chwala C:): https://github.com/pycomlink/pycomlink\n",
    "\n",
    "__Sources: All code from [2]__  \n",
    "github: https://github.com/jpolz/cml_wd_pytorch/tree/main  \n",
    "thesis: https://doi.org/10.5194/amt-13-3835-2020"
   ]
  },
  {
   "cell_type": "code",
   "execution_count": 2,
   "metadata": {},
   "outputs": [],
   "source": [
    "import cnn\n",
    "import xarray as xr               # work with arrays, also possible with pandas\n",
    "import numpy as np\n",
    "import torch\n",
    "import torch.nn as nn\n",
    "import einops\n",
    "import matplotlib.pyplot as plt\n",
    "import sklearn.metrics as skl"
   ]
  },
  {
   "cell_type": "code",
   "execution_count": 3,
   "metadata": {},
   "outputs": [],
   "source": [
    "from sklearn.utils import shuffle\n",
    "from tqdm import tqdm\n",
    "from IPython.display import clear_output\n"
   ]
  },
  {
   "cell_type": "markdown",
   "metadata": {},
   "source": [
    "#### Load CML data\n",
    "Import data of 500 CML links from pycomlink with 1min timestep"
   ]
  },
  {
   "cell_type": "code",
   "execution_count": 4,
   "metadata": {
    "scrolled": true
   },
   "outputs": [],
   "source": [
    "# 500 CMLs with 1 min time step\n",
    "cml_set = xr.open_dataset('example_data/example_cml_data.nc', engine='netcdf4') # https://docs.xarray.dev/en/stable/generated/xarray.Dataset.html\n",
    "\n",
    "# Temporarily remove GPS coordinates - might add later with additional cml info for better CNN learning\n",
    "# https://stackoverflow.com/questions/61003361/drop-coordinate-from-an-xarray-dataarray\n",
    "cml_set = cml_set.reset_coords(['site_a_latitude','site_b_latitude','site_a_longitude','site_b_longitude'], drop=True)"
   ]
  },
  {
   "cell_type": "markdown",
   "metadata": {},
   "source": [
    "#### Load Reference data\n",
    "Reference rain rate data from RADOLAN. With 5 min step"
   ]
  },
  {
   "cell_type": "code",
   "execution_count": 5,
   "metadata": {
    "scrolled": true
   },
   "outputs": [],
   "source": [
    "# reference RADOLAN data from pycomlink with 5 min time step\n",
    "# Path averaged reference RADOLAN data aligned with all 500 CML IDs\n",
    "ref_set = xr.open_dataset('example_data/example_path_averaged_reference_data.nc', engine='netcdf4')"
   ]
  },
  {
   "cell_type": "code",
   "execution_count": 24,
   "metadata": {},
   "outputs": [
    {
     "ename": "ValueError",
     "evalue": "concat_dims has length 2 but the datasets passed are nested in a 1-dimensional structure",
     "output_type": "error",
     "traceback": [
      "\u001b[1;31m---------------------------------------------------------------------------\u001b[0m",
      "\u001b[1;31mValueError\u001b[0m                                Traceback (most recent call last)",
      "Cell \u001b[1;32mIn[24], line 4\u001b[0m\n\u001b[0;32m      1\u001b[0m cml_set \u001b[38;5;241m=\u001b[39m cml_set\u001b[38;5;241m.\u001b[39mresample(time\u001b[38;5;241m=\u001b[39m\u001b[38;5;124m\"\u001b[39m\u001b[38;5;124m5min\u001b[39m\u001b[38;5;124m\"\u001b[39m)\u001b[38;5;241m.\u001b[39mmax()\n\u001b[0;32m      2\u001b[0m cml_ch1 \u001b[38;5;241m=\u001b[39m cml_set\u001b[38;5;241m.\u001b[39misel(channel_id\u001b[38;5;241m=\u001b[39m\u001b[38;5;241m0\u001b[39m)\n\u001b[1;32m----> 4\u001b[0m \u001b[43mxr\u001b[49m\u001b[38;5;241;43m.\u001b[39;49m\u001b[43mcombine_nested\u001b[49m\u001b[43m(\u001b[49m\u001b[43m[\u001b[49m\u001b[43mcml_ch1\u001b[49m\u001b[43m,\u001b[49m\u001b[43mref_set\u001b[49m\u001b[43m]\u001b[49m\u001b[43m,\u001b[49m\u001b[43m \u001b[49m\u001b[43mconcat_dim\u001b[49m\u001b[38;5;241;43m=\u001b[39;49m\u001b[43m[\u001b[49m\u001b[38;5;124;43m\"\u001b[39;49m\u001b[38;5;124;43mcml_id\u001b[39;49m\u001b[38;5;124;43m\"\u001b[39;49m\u001b[43m,\u001b[49m\u001b[43m \u001b[49m\u001b[38;5;124;43m\"\u001b[39;49m\u001b[38;5;124;43mtime\u001b[39;49m\u001b[38;5;124;43m\"\u001b[39;49m\u001b[43m]\u001b[49m\u001b[43m)\u001b[49m\n\u001b[0;32m      5\u001b[0m \u001b[38;5;66;03m#xr.combine_by_coords([cml_ch1,ref_set])\u001b[39;00m\n\u001b[0;32m      6\u001b[0m \u001b[38;5;66;03m#xr.concat([cml_set.isel(channel_id=0),ref_set], dim=\"time\")\u001b[39;00m\n\u001b[0;32m      7\u001b[0m \n\u001b[1;32m   (...)\u001b[0m\n\u001b[0;32m     10\u001b[0m \u001b[38;5;66;03m#data_set\u001b[39;00m\n\u001b[0;32m     11\u001b[0m \u001b[38;5;66;03m#len(cml_set.rsl)\u001b[39;00m\n",
      "File \u001b[1;32mD:\\Python312\\Lib\\site-packages\\xarray\\core\\combine.py:580\u001b[0m, in \u001b[0;36mcombine_nested\u001b[1;34m(datasets, concat_dim, compat, data_vars, coords, fill_value, join, combine_attrs)\u001b[0m\n\u001b[0;32m    577\u001b[0m     concat_dim \u001b[38;5;241m=\u001b[39m [concat_dim]\n\u001b[0;32m    579\u001b[0m \u001b[38;5;66;03m# The IDs argument tells _nested_combine that datasets aren't yet sorted\u001b[39;00m\n\u001b[1;32m--> 580\u001b[0m \u001b[38;5;28;01mreturn\u001b[39;00m \u001b[43m_nested_combine\u001b[49m\u001b[43m(\u001b[49m\n\u001b[0;32m    581\u001b[0m \u001b[43m    \u001b[49m\u001b[43mdatasets\u001b[49m\u001b[43m,\u001b[49m\n\u001b[0;32m    582\u001b[0m \u001b[43m    \u001b[49m\u001b[43mconcat_dims\u001b[49m\u001b[38;5;241;43m=\u001b[39;49m\u001b[43mconcat_dim\u001b[49m\u001b[43m,\u001b[49m\n\u001b[0;32m    583\u001b[0m \u001b[43m    \u001b[49m\u001b[43mcompat\u001b[49m\u001b[38;5;241;43m=\u001b[39;49m\u001b[43mcompat\u001b[49m\u001b[43m,\u001b[49m\n\u001b[0;32m    584\u001b[0m \u001b[43m    \u001b[49m\u001b[43mdata_vars\u001b[49m\u001b[38;5;241;43m=\u001b[39;49m\u001b[43mdata_vars\u001b[49m\u001b[43m,\u001b[49m\n\u001b[0;32m    585\u001b[0m \u001b[43m    \u001b[49m\u001b[43mcoords\u001b[49m\u001b[38;5;241;43m=\u001b[39;49m\u001b[43mcoords\u001b[49m\u001b[43m,\u001b[49m\n\u001b[0;32m    586\u001b[0m \u001b[43m    \u001b[49m\u001b[43mids\u001b[49m\u001b[38;5;241;43m=\u001b[39;49m\u001b[38;5;28;43;01mFalse\u001b[39;49;00m\u001b[43m,\u001b[49m\n\u001b[0;32m    587\u001b[0m \u001b[43m    \u001b[49m\u001b[43mfill_value\u001b[49m\u001b[38;5;241;43m=\u001b[39;49m\u001b[43mfill_value\u001b[49m\u001b[43m,\u001b[49m\n\u001b[0;32m    588\u001b[0m \u001b[43m    \u001b[49m\u001b[43mjoin\u001b[49m\u001b[38;5;241;43m=\u001b[39;49m\u001b[43mjoin\u001b[49m\u001b[43m,\u001b[49m\n\u001b[0;32m    589\u001b[0m \u001b[43m    \u001b[49m\u001b[43mcombine_attrs\u001b[49m\u001b[38;5;241;43m=\u001b[39;49m\u001b[43mcombine_attrs\u001b[49m\u001b[43m,\u001b[49m\n\u001b[0;32m    590\u001b[0m \u001b[43m\u001b[49m\u001b[43m)\u001b[49m\n",
      "File \u001b[1;32mD:\\Python312\\Lib\\site-packages\\xarray\\core\\combine.py:359\u001b[0m, in \u001b[0;36m_nested_combine\u001b[1;34m(datasets, concat_dims, compat, data_vars, coords, ids, fill_value, join, combine_attrs)\u001b[0m\n\u001b[0;32m    356\u001b[0m _check_shape_tile_ids(combined_ids)\n\u001b[0;32m    358\u001b[0m \u001b[38;5;66;03m# Apply series of concatenate or merge operations along each dimension\u001b[39;00m\n\u001b[1;32m--> 359\u001b[0m combined \u001b[38;5;241m=\u001b[39m \u001b[43m_combine_nd\u001b[49m\u001b[43m(\u001b[49m\n\u001b[0;32m    360\u001b[0m \u001b[43m    \u001b[49m\u001b[43mcombined_ids\u001b[49m\u001b[43m,\u001b[49m\n\u001b[0;32m    361\u001b[0m \u001b[43m    \u001b[49m\u001b[43mconcat_dims\u001b[49m\u001b[43m,\u001b[49m\n\u001b[0;32m    362\u001b[0m \u001b[43m    \u001b[49m\u001b[43mcompat\u001b[49m\u001b[38;5;241;43m=\u001b[39;49m\u001b[43mcompat\u001b[49m\u001b[43m,\u001b[49m\n\u001b[0;32m    363\u001b[0m \u001b[43m    \u001b[49m\u001b[43mdata_vars\u001b[49m\u001b[38;5;241;43m=\u001b[39;49m\u001b[43mdata_vars\u001b[49m\u001b[43m,\u001b[49m\n\u001b[0;32m    364\u001b[0m \u001b[43m    \u001b[49m\u001b[43mcoords\u001b[49m\u001b[38;5;241;43m=\u001b[39;49m\u001b[43mcoords\u001b[49m\u001b[43m,\u001b[49m\n\u001b[0;32m    365\u001b[0m \u001b[43m    \u001b[49m\u001b[43mfill_value\u001b[49m\u001b[38;5;241;43m=\u001b[39;49m\u001b[43mfill_value\u001b[49m\u001b[43m,\u001b[49m\n\u001b[0;32m    366\u001b[0m \u001b[43m    \u001b[49m\u001b[43mjoin\u001b[49m\u001b[38;5;241;43m=\u001b[39;49m\u001b[43mjoin\u001b[49m\u001b[43m,\u001b[49m\n\u001b[0;32m    367\u001b[0m \u001b[43m    \u001b[49m\u001b[43mcombine_attrs\u001b[49m\u001b[38;5;241;43m=\u001b[39;49m\u001b[43mcombine_attrs\u001b[49m\u001b[43m,\u001b[49m\n\u001b[0;32m    368\u001b[0m \u001b[43m\u001b[49m\u001b[43m)\u001b[49m\n\u001b[0;32m    369\u001b[0m \u001b[38;5;28;01mreturn\u001b[39;00m combined\n",
      "File \u001b[1;32mD:\\Python312\\Lib\\site-packages\\xarray\\core\\combine.py:226\u001b[0m, in \u001b[0;36m_combine_nd\u001b[1;34m(combined_ids, concat_dims, data_vars, coords, compat, fill_value, join, combine_attrs)\u001b[0m\n\u001b[0;32m    224\u001b[0m n_dims \u001b[38;5;241m=\u001b[39m \u001b[38;5;28mlen\u001b[39m(example_tile_id)\n\u001b[0;32m    225\u001b[0m \u001b[38;5;28;01mif\u001b[39;00m \u001b[38;5;28mlen\u001b[39m(concat_dims) \u001b[38;5;241m!=\u001b[39m n_dims:\n\u001b[1;32m--> 226\u001b[0m     \u001b[38;5;28;01mraise\u001b[39;00m \u001b[38;5;167;01mValueError\u001b[39;00m(\n\u001b[0;32m    227\u001b[0m         \u001b[38;5;124mf\u001b[39m\u001b[38;5;124m\"\u001b[39m\u001b[38;5;124mconcat_dims has length \u001b[39m\u001b[38;5;132;01m{\u001b[39;00m\u001b[38;5;28mlen\u001b[39m(concat_dims)\u001b[38;5;132;01m}\u001b[39;00m\u001b[38;5;124m but the datasets \u001b[39m\u001b[38;5;124m\"\u001b[39m\n\u001b[0;32m    228\u001b[0m         \u001b[38;5;124mf\u001b[39m\u001b[38;5;124m\"\u001b[39m\u001b[38;5;124mpassed are nested in a \u001b[39m\u001b[38;5;132;01m{\u001b[39;00mn_dims\u001b[38;5;132;01m}\u001b[39;00m\u001b[38;5;124m-dimensional structure\u001b[39m\u001b[38;5;124m\"\u001b[39m\n\u001b[0;32m    229\u001b[0m     )\n\u001b[0;32m    231\u001b[0m \u001b[38;5;66;03m# Each iteration of this loop reduces the length of the tile_ids tuples\u001b[39;00m\n\u001b[0;32m    232\u001b[0m \u001b[38;5;66;03m# by one. It always combines along the first dimension, removing the first\u001b[39;00m\n\u001b[0;32m    233\u001b[0m \u001b[38;5;66;03m# element of the tuple\u001b[39;00m\n\u001b[0;32m    234\u001b[0m \u001b[38;5;28;01mfor\u001b[39;00m concat_dim \u001b[38;5;129;01min\u001b[39;00m concat_dims:\n",
      "\u001b[1;31mValueError\u001b[0m: concat_dims has length 2 but the datasets passed are nested in a 1-dimensional structure"
     ]
    }
   ],
   "source": [
    "!!!!!!!!!!!!!!!!!!!!!!!!!!!!!\n",
    "cml_set = cml_set.resample(time=\"5min\").max()\n",
    "cml_ch1 = cml_set.isel(channel_id=0)\n",
    "\n",
    "xr.combine_nested([cml_ch1,ref_set], concat_dim=[\"cml_id\", \"time\"])\n",
    "#xr.combine_by_coords([cml_ch1,ref_set])\n",
    "#xr.concat([cml_set.isel(channel_id=0),ref_set], dim=\"time\")\n",
    "\n",
    "# doesnt work\n",
    "#data_set = xr.concat(cml_list, dim=\"cml_id\")\n",
    "#data_set\n",
    "#len(cml_set.rsl)"
   ]
  },
  {
   "cell_type": "code",
   "execution_count": 21,
   "metadata": {},
   "outputs": [
    {
     "data": {
      "text/plain": [
       "500"
      ]
     },
     "execution_count": 21,
     "metadata": {},
     "output_type": "execute_result"
    }
   ],
   "source": [
    "len(all.cml_id)"
   ]
  },
  {
   "cell_type": "markdown",
   "metadata": {},
   "source": [
    "## CML data preprocessing\n",
    "1. choosing cml for training  \n",
    "2. replacing fault values\n",
    "3. cnalculating TRSL\n",
    "4. resampling data  \n",
    "5. creating dataset of training and reference data + data visualisation\n",
    "6. Standardising\n",
    "\n",
    "All from pycomlink https://github.com/pycomlink/pycomlink/blob/master/notebooks/Basic%20CML%20processing%20workflow.ipynb"
   ]
  },
  {
   "cell_type": "markdown",
   "metadata": {},
   "source": [
    "#### Choose one CML, repair fault data and calculate TRSL"
   ]
  },
  {
   "cell_type": "code",
   "execution_count": 11,
   "metadata": {},
   "outputs": [
    {
     "data": {
      "text/html": [
       "<div><svg style=\"position: absolute; width: 0; height: 0; overflow: hidden\">\n",
       "<defs>\n",
       "<symbol id=\"icon-database\" viewBox=\"0 0 32 32\">\n",
       "<path d=\"M16 0c-8.837 0-16 2.239-16 5v4c0 2.761 7.163 5 16 5s16-2.239 16-5v-4c0-2.761-7.163-5-16-5z\"></path>\n",
       "<path d=\"M16 17c-8.837 0-16-2.239-16-5v6c0 2.761 7.163 5 16 5s16-2.239 16-5v-6c0 2.761-7.163 5-16 5z\"></path>\n",
       "<path d=\"M16 26c-8.837 0-16-2.239-16-5v6c0 2.761 7.163 5 16 5s16-2.239 16-5v-6c0 2.761-7.163 5-16 5z\"></path>\n",
       "</symbol>\n",
       "<symbol id=\"icon-file-text2\" viewBox=\"0 0 32 32\">\n",
       "<path d=\"M28.681 7.159c-0.694-0.947-1.662-2.053-2.724-3.116s-2.169-2.030-3.116-2.724c-1.612-1.182-2.393-1.319-2.841-1.319h-15.5c-1.378 0-2.5 1.121-2.5 2.5v27c0 1.378 1.122 2.5 2.5 2.5h23c1.378 0 2.5-1.122 2.5-2.5v-19.5c0-0.448-0.137-1.23-1.319-2.841zM24.543 5.457c0.959 0.959 1.712 1.825 2.268 2.543h-4.811v-4.811c0.718 0.556 1.584 1.309 2.543 2.268zM28 29.5c0 0.271-0.229 0.5-0.5 0.5h-23c-0.271 0-0.5-0.229-0.5-0.5v-27c0-0.271 0.229-0.5 0.5-0.5 0 0 15.499-0 15.5 0v7c0 0.552 0.448 1 1 1h7v19.5z\"></path>\n",
       "<path d=\"M23 26h-14c-0.552 0-1-0.448-1-1s0.448-1 1-1h14c0.552 0 1 0.448 1 1s-0.448 1-1 1z\"></path>\n",
       "<path d=\"M23 22h-14c-0.552 0-1-0.448-1-1s0.448-1 1-1h14c0.552 0 1 0.448 1 1s-0.448 1-1 1z\"></path>\n",
       "<path d=\"M23 18h-14c-0.552 0-1-0.448-1-1s0.448-1 1-1h14c0.552 0 1 0.448 1 1s-0.448 1-1 1z\"></path>\n",
       "</symbol>\n",
       "</defs>\n",
       "</svg>\n",
       "<style>/* CSS stylesheet for displaying xarray objects in jupyterlab.\n",
       " *\n",
       " */\n",
       "\n",
       ":root {\n",
       "  --xr-font-color0: var(--jp-content-font-color0, rgba(0, 0, 0, 1));\n",
       "  --xr-font-color2: var(--jp-content-font-color2, rgba(0, 0, 0, 0.54));\n",
       "  --xr-font-color3: var(--jp-content-font-color3, rgba(0, 0, 0, 0.38));\n",
       "  --xr-border-color: var(--jp-border-color2, #e0e0e0);\n",
       "  --xr-disabled-color: var(--jp-layout-color3, #bdbdbd);\n",
       "  --xr-background-color: var(--jp-layout-color0, white);\n",
       "  --xr-background-color-row-even: var(--jp-layout-color1, white);\n",
       "  --xr-background-color-row-odd: var(--jp-layout-color2, #eeeeee);\n",
       "}\n",
       "\n",
       "html[theme=dark],\n",
       "html[data-theme=dark],\n",
       "body[data-theme=dark],\n",
       "body.vscode-dark {\n",
       "  --xr-font-color0: rgba(255, 255, 255, 1);\n",
       "  --xr-font-color2: rgba(255, 255, 255, 0.54);\n",
       "  --xr-font-color3: rgba(255, 255, 255, 0.38);\n",
       "  --xr-border-color: #1F1F1F;\n",
       "  --xr-disabled-color: #515151;\n",
       "  --xr-background-color: #111111;\n",
       "  --xr-background-color-row-even: #111111;\n",
       "  --xr-background-color-row-odd: #313131;\n",
       "}\n",
       "\n",
       ".xr-wrap {\n",
       "  display: block !important;\n",
       "  min-width: 300px;\n",
       "  max-width: 700px;\n",
       "}\n",
       "\n",
       ".xr-text-repr-fallback {\n",
       "  /* fallback to plain text repr when CSS is not injected (untrusted notebook) */\n",
       "  display: none;\n",
       "}\n",
       "\n",
       ".xr-header {\n",
       "  padding-top: 6px;\n",
       "  padding-bottom: 6px;\n",
       "  margin-bottom: 4px;\n",
       "  border-bottom: solid 1px var(--xr-border-color);\n",
       "}\n",
       "\n",
       ".xr-header > div,\n",
       ".xr-header > ul {\n",
       "  display: inline;\n",
       "  margin-top: 0;\n",
       "  margin-bottom: 0;\n",
       "}\n",
       "\n",
       ".xr-obj-type,\n",
       ".xr-array-name {\n",
       "  margin-left: 2px;\n",
       "  margin-right: 10px;\n",
       "}\n",
       "\n",
       ".xr-obj-type {\n",
       "  color: var(--xr-font-color2);\n",
       "}\n",
       "\n",
       ".xr-sections {\n",
       "  padding-left: 0 !important;\n",
       "  display: grid;\n",
       "  grid-template-columns: 150px auto auto 1fr 0 20px 0 20px;\n",
       "}\n",
       "\n",
       ".xr-section-item {\n",
       "  display: contents;\n",
       "}\n",
       "\n",
       ".xr-section-item input {\n",
       "  display: inline-block;\n",
       "  opacity: 0;\n",
       "}\n",
       "\n",
       ".xr-section-item input + label {\n",
       "  color: var(--xr-disabled-color);\n",
       "}\n",
       "\n",
       ".xr-section-item input:enabled + label {\n",
       "  cursor: pointer;\n",
       "  color: var(--xr-font-color2);\n",
       "}\n",
       "\n",
       ".xr-section-item input:focus + label {\n",
       "  border: 2px solid var(--xr-font-color0);\n",
       "}\n",
       "\n",
       ".xr-section-item input:enabled + label:hover {\n",
       "  color: var(--xr-font-color0);\n",
       "}\n",
       "\n",
       ".xr-section-summary {\n",
       "  grid-column: 1;\n",
       "  color: var(--xr-font-color2);\n",
       "  font-weight: 500;\n",
       "}\n",
       "\n",
       ".xr-section-summary > span {\n",
       "  display: inline-block;\n",
       "  padding-left: 0.5em;\n",
       "}\n",
       "\n",
       ".xr-section-summary-in:disabled + label {\n",
       "  color: var(--xr-font-color2);\n",
       "}\n",
       "\n",
       ".xr-section-summary-in + label:before {\n",
       "  display: inline-block;\n",
       "  content: '►';\n",
       "  font-size: 11px;\n",
       "  width: 15px;\n",
       "  text-align: center;\n",
       "}\n",
       "\n",
       ".xr-section-summary-in:disabled + label:before {\n",
       "  color: var(--xr-disabled-color);\n",
       "}\n",
       "\n",
       ".xr-section-summary-in:checked + label:before {\n",
       "  content: '▼';\n",
       "}\n",
       "\n",
       ".xr-section-summary-in:checked + label > span {\n",
       "  display: none;\n",
       "}\n",
       "\n",
       ".xr-section-summary,\n",
       ".xr-section-inline-details {\n",
       "  padding-top: 4px;\n",
       "  padding-bottom: 4px;\n",
       "}\n",
       "\n",
       ".xr-section-inline-details {\n",
       "  grid-column: 2 / -1;\n",
       "}\n",
       "\n",
       ".xr-section-details {\n",
       "  display: none;\n",
       "  grid-column: 1 / -1;\n",
       "  margin-bottom: 5px;\n",
       "}\n",
       "\n",
       ".xr-section-summary-in:checked ~ .xr-section-details {\n",
       "  display: contents;\n",
       "}\n",
       "\n",
       ".xr-array-wrap {\n",
       "  grid-column: 1 / -1;\n",
       "  display: grid;\n",
       "  grid-template-columns: 20px auto;\n",
       "}\n",
       "\n",
       ".xr-array-wrap > label {\n",
       "  grid-column: 1;\n",
       "  vertical-align: top;\n",
       "}\n",
       "\n",
       ".xr-preview {\n",
       "  color: var(--xr-font-color3);\n",
       "}\n",
       "\n",
       ".xr-array-preview,\n",
       ".xr-array-data {\n",
       "  padding: 0 5px !important;\n",
       "  grid-column: 2;\n",
       "}\n",
       "\n",
       ".xr-array-data,\n",
       ".xr-array-in:checked ~ .xr-array-preview {\n",
       "  display: none;\n",
       "}\n",
       "\n",
       ".xr-array-in:checked ~ .xr-array-data,\n",
       ".xr-array-preview {\n",
       "  display: inline-block;\n",
       "}\n",
       "\n",
       ".xr-dim-list {\n",
       "  display: inline-block !important;\n",
       "  list-style: none;\n",
       "  padding: 0 !important;\n",
       "  margin: 0;\n",
       "}\n",
       "\n",
       ".xr-dim-list li {\n",
       "  display: inline-block;\n",
       "  padding: 0;\n",
       "  margin: 0;\n",
       "}\n",
       "\n",
       ".xr-dim-list:before {\n",
       "  content: '(';\n",
       "}\n",
       "\n",
       ".xr-dim-list:after {\n",
       "  content: ')';\n",
       "}\n",
       "\n",
       ".xr-dim-list li:not(:last-child):after {\n",
       "  content: ',';\n",
       "  padding-right: 5px;\n",
       "}\n",
       "\n",
       ".xr-has-index {\n",
       "  font-weight: bold;\n",
       "}\n",
       "\n",
       ".xr-var-list,\n",
       ".xr-var-item {\n",
       "  display: contents;\n",
       "}\n",
       "\n",
       ".xr-var-item > div,\n",
       ".xr-var-item label,\n",
       ".xr-var-item > .xr-var-name span {\n",
       "  background-color: var(--xr-background-color-row-even);\n",
       "  margin-bottom: 0;\n",
       "}\n",
       "\n",
       ".xr-var-item > .xr-var-name:hover span {\n",
       "  padding-right: 5px;\n",
       "}\n",
       "\n",
       ".xr-var-list > li:nth-child(odd) > div,\n",
       ".xr-var-list > li:nth-child(odd) > label,\n",
       ".xr-var-list > li:nth-child(odd) > .xr-var-name span {\n",
       "  background-color: var(--xr-background-color-row-odd);\n",
       "}\n",
       "\n",
       ".xr-var-name {\n",
       "  grid-column: 1;\n",
       "}\n",
       "\n",
       ".xr-var-dims {\n",
       "  grid-column: 2;\n",
       "}\n",
       "\n",
       ".xr-var-dtype {\n",
       "  grid-column: 3;\n",
       "  text-align: right;\n",
       "  color: var(--xr-font-color2);\n",
       "}\n",
       "\n",
       ".xr-var-preview {\n",
       "  grid-column: 4;\n",
       "}\n",
       "\n",
       ".xr-index-preview {\n",
       "  grid-column: 2 / 5;\n",
       "  color: var(--xr-font-color2);\n",
       "}\n",
       "\n",
       ".xr-var-name,\n",
       ".xr-var-dims,\n",
       ".xr-var-dtype,\n",
       ".xr-preview,\n",
       ".xr-attrs dt {\n",
       "  white-space: nowrap;\n",
       "  overflow: hidden;\n",
       "  text-overflow: ellipsis;\n",
       "  padding-right: 10px;\n",
       "}\n",
       "\n",
       ".xr-var-name:hover,\n",
       ".xr-var-dims:hover,\n",
       ".xr-var-dtype:hover,\n",
       ".xr-attrs dt:hover {\n",
       "  overflow: visible;\n",
       "  width: auto;\n",
       "  z-index: 1;\n",
       "}\n",
       "\n",
       ".xr-var-attrs,\n",
       ".xr-var-data,\n",
       ".xr-index-data {\n",
       "  display: none;\n",
       "  background-color: var(--xr-background-color) !important;\n",
       "  padding-bottom: 5px !important;\n",
       "}\n",
       "\n",
       ".xr-var-attrs-in:checked ~ .xr-var-attrs,\n",
       ".xr-var-data-in:checked ~ .xr-var-data,\n",
       ".xr-index-data-in:checked ~ .xr-index-data {\n",
       "  display: block;\n",
       "}\n",
       "\n",
       ".xr-var-data > table {\n",
       "  float: right;\n",
       "}\n",
       "\n",
       ".xr-var-name span,\n",
       ".xr-var-data,\n",
       ".xr-index-name div,\n",
       ".xr-index-data,\n",
       ".xr-attrs {\n",
       "  padding-left: 25px !important;\n",
       "}\n",
       "\n",
       ".xr-attrs,\n",
       ".xr-var-attrs,\n",
       ".xr-var-data,\n",
       ".xr-index-data {\n",
       "  grid-column: 1 / -1;\n",
       "}\n",
       "\n",
       "dl.xr-attrs {\n",
       "  padding: 0;\n",
       "  margin: 0;\n",
       "  display: grid;\n",
       "  grid-template-columns: 125px auto;\n",
       "}\n",
       "\n",
       ".xr-attrs dt,\n",
       ".xr-attrs dd {\n",
       "  padding: 0;\n",
       "  margin: 0;\n",
       "  float: left;\n",
       "  padding-right: 10px;\n",
       "  width: auto;\n",
       "}\n",
       "\n",
       ".xr-attrs dt {\n",
       "  font-weight: normal;\n",
       "  grid-column: 1;\n",
       "}\n",
       "\n",
       ".xr-attrs dt:hover span {\n",
       "  display: inline-block;\n",
       "  background: var(--xr-background-color);\n",
       "  padding-right: 10px;\n",
       "}\n",
       "\n",
       ".xr-attrs dd {\n",
       "  grid-column: 2;\n",
       "  white-space: pre-wrap;\n",
       "  word-break: break-all;\n",
       "}\n",
       "\n",
       ".xr-icon-database,\n",
       ".xr-icon-file-text2,\n",
       ".xr-no-icon {\n",
       "  display: inline-block;\n",
       "  vertical-align: middle;\n",
       "  width: 1em;\n",
       "  height: 1.5em !important;\n",
       "  stroke-width: 0;\n",
       "  stroke: currentColor;\n",
       "  fill: currentColor;\n",
       "}\n",
       "</style><pre class='xr-text-repr-fallback'>&lt;xarray.Dataset&gt; Size: 887kB\n",
       "Dimensions:       (time: 15840, channel_id: 2)\n",
       "Coordinates:\n",
       "  * time          (time) datetime64[ns] 127kB 2018-05-10 ... 2018-05-20T23:59:00\n",
       "    cml_id        &lt;U3 12B &#x27;0&#x27;\n",
       "    length        float64 8B ...\n",
       "  * channel_id    (channel_id) &lt;U9 72B &#x27;channel_1&#x27; &#x27;channel_2&#x27;\n",
       "    frequency     (channel_id) float64 16B ...\n",
       "    polarization  (channel_id) &lt;U1 8B ...\n",
       "Data variables:\n",
       "    rsl           (channel_id, time) float64 253kB -47.0 -47.0 ... -46.7 -47.0\n",
       "    tsl           (channel_id, time) float64 253kB 13.0 12.0 12.0 ... 10.0 10.0\n",
       "    trsl          (channel_id, time) float64 253kB 60.0 59.0 58.7 ... 56.7 57.0</pre><div class='xr-wrap' style='display:none'><div class='xr-header'><div class='xr-obj-type'>xarray.Dataset</div></div><ul class='xr-sections'><li class='xr-section-item'><input id='section-e12cc37e-36f2-4f9b-a567-7a861593088b' class='xr-section-summary-in' type='checkbox' disabled ><label for='section-e12cc37e-36f2-4f9b-a567-7a861593088b' class='xr-section-summary'  title='Expand/collapse section'>Dimensions:</label><div class='xr-section-inline-details'><ul class='xr-dim-list'><li><span class='xr-has-index'>time</span>: 15840</li><li><span class='xr-has-index'>channel_id</span>: 2</li></ul></div><div class='xr-section-details'></div></li><li class='xr-section-item'><input id='section-9c4cb9f8-de0f-4400-a11b-959bbf291349' class='xr-section-summary-in' type='checkbox'  checked><label for='section-9c4cb9f8-de0f-4400-a11b-959bbf291349' class='xr-section-summary' >Coordinates: <span>(6)</span></label><div class='xr-section-inline-details'></div><div class='xr-section-details'><ul class='xr-var-list'><li class='xr-var-item'><div class='xr-var-name'><span class='xr-has-index'>time</span></div><div class='xr-var-dims'>(time)</div><div class='xr-var-dtype'>datetime64[ns]</div><div class='xr-var-preview xr-preview'>2018-05-10 ... 2018-05-20T23:59:00</div><input id='attrs-a91d8f84-c79b-4f3b-a63c-a51670b012d7' class='xr-var-attrs-in' type='checkbox' disabled><label for='attrs-a91d8f84-c79b-4f3b-a63c-a51670b012d7' title='Show/Hide attributes'><svg class='icon xr-icon-file-text2'><use xlink:href='#icon-file-text2'></use></svg></label><input id='data-0770daa8-93a0-4126-9efa-5df8681dfee0' class='xr-var-data-in' type='checkbox'><label for='data-0770daa8-93a0-4126-9efa-5df8681dfee0' title='Show/Hide data repr'><svg class='icon xr-icon-database'><use xlink:href='#icon-database'></use></svg></label><div class='xr-var-attrs'><dl class='xr-attrs'></dl></div><div class='xr-var-data'><pre>array([&#x27;2018-05-10T00:00:00.000000000&#x27;, &#x27;2018-05-10T00:01:00.000000000&#x27;,\n",
       "       &#x27;2018-05-10T00:02:00.000000000&#x27;, ..., &#x27;2018-05-20T23:57:00.000000000&#x27;,\n",
       "       &#x27;2018-05-20T23:58:00.000000000&#x27;, &#x27;2018-05-20T23:59:00.000000000&#x27;],\n",
       "      dtype=&#x27;datetime64[ns]&#x27;)</pre></div></li><li class='xr-var-item'><div class='xr-var-name'><span>cml_id</span></div><div class='xr-var-dims'>()</div><div class='xr-var-dtype'>&lt;U3</div><div class='xr-var-preview xr-preview'>&#x27;0&#x27;</div><input id='attrs-392a6c8b-0b07-49a3-9191-a44aa3f851e1' class='xr-var-attrs-in' type='checkbox' disabled><label for='attrs-392a6c8b-0b07-49a3-9191-a44aa3f851e1' title='Show/Hide attributes'><svg class='icon xr-icon-file-text2'><use xlink:href='#icon-file-text2'></use></svg></label><input id='data-ec222330-d19c-4d47-b098-470b5ab63880' class='xr-var-data-in' type='checkbox'><label for='data-ec222330-d19c-4d47-b098-470b5ab63880' title='Show/Hide data repr'><svg class='icon xr-icon-database'><use xlink:href='#icon-database'></use></svg></label><div class='xr-var-attrs'><dl class='xr-attrs'></dl></div><div class='xr-var-data'><pre>array(&#x27;0&#x27;, dtype=&#x27;&lt;U3&#x27;)</pre></div></li><li class='xr-var-item'><div class='xr-var-name'><span>length</span></div><div class='xr-var-dims'>()</div><div class='xr-var-dtype'>float64</div><div class='xr-var-preview xr-preview'>...</div><input id='attrs-8cc6c3da-f81c-46bc-81ca-be8561ca54a1' class='xr-var-attrs-in' type='checkbox' disabled><label for='attrs-8cc6c3da-f81c-46bc-81ca-be8561ca54a1' title='Show/Hide attributes'><svg class='icon xr-icon-file-text2'><use xlink:href='#icon-file-text2'></use></svg></label><input id='data-31a8eb63-5cb8-4f8e-bf16-760c175c4050' class='xr-var-data-in' type='checkbox'><label for='data-31a8eb63-5cb8-4f8e-bf16-760c175c4050' title='Show/Hide data repr'><svg class='icon xr-icon-database'><use xlink:href='#icon-database'></use></svg></label><div class='xr-var-attrs'><dl class='xr-attrs'></dl></div><div class='xr-var-data'><pre>[1 values with dtype=float64]</pre></div></li><li class='xr-var-item'><div class='xr-var-name'><span class='xr-has-index'>channel_id</span></div><div class='xr-var-dims'>(channel_id)</div><div class='xr-var-dtype'>&lt;U9</div><div class='xr-var-preview xr-preview'>&#x27;channel_1&#x27; &#x27;channel_2&#x27;</div><input id='attrs-d5f163e9-da3f-4323-877a-66fa897d2c0e' class='xr-var-attrs-in' type='checkbox' disabled><label for='attrs-d5f163e9-da3f-4323-877a-66fa897d2c0e' title='Show/Hide attributes'><svg class='icon xr-icon-file-text2'><use xlink:href='#icon-file-text2'></use></svg></label><input id='data-ebdff99a-894e-423c-9dc0-f455d6546957' class='xr-var-data-in' type='checkbox'><label for='data-ebdff99a-894e-423c-9dc0-f455d6546957' title='Show/Hide data repr'><svg class='icon xr-icon-database'><use xlink:href='#icon-database'></use></svg></label><div class='xr-var-attrs'><dl class='xr-attrs'></dl></div><div class='xr-var-data'><pre>array([&#x27;channel_1&#x27;, &#x27;channel_2&#x27;], dtype=&#x27;&lt;U9&#x27;)</pre></div></li><li class='xr-var-item'><div class='xr-var-name'><span>frequency</span></div><div class='xr-var-dims'>(channel_id)</div><div class='xr-var-dtype'>float64</div><div class='xr-var-preview xr-preview'>...</div><input id='attrs-b96017ee-83d7-4567-8732-81a8addcdfb2' class='xr-var-attrs-in' type='checkbox' disabled><label for='attrs-b96017ee-83d7-4567-8732-81a8addcdfb2' title='Show/Hide attributes'><svg class='icon xr-icon-file-text2'><use xlink:href='#icon-file-text2'></use></svg></label><input id='data-fd34eeb9-ea4f-4732-882b-26333cbb956a' class='xr-var-data-in' type='checkbox'><label for='data-fd34eeb9-ea4f-4732-882b-26333cbb956a' title='Show/Hide data repr'><svg class='icon xr-icon-database'><use xlink:href='#icon-database'></use></svg></label><div class='xr-var-attrs'><dl class='xr-attrs'></dl></div><div class='xr-var-data'><pre>[2 values with dtype=float64]</pre></div></li><li class='xr-var-item'><div class='xr-var-name'><span>polarization</span></div><div class='xr-var-dims'>(channel_id)</div><div class='xr-var-dtype'>&lt;U1</div><div class='xr-var-preview xr-preview'>...</div><input id='attrs-6a61e345-e7cb-4d18-87c1-8b77b7d758f4' class='xr-var-attrs-in' type='checkbox' disabled><label for='attrs-6a61e345-e7cb-4d18-87c1-8b77b7d758f4' title='Show/Hide attributes'><svg class='icon xr-icon-file-text2'><use xlink:href='#icon-file-text2'></use></svg></label><input id='data-eb250b49-5a35-4956-8903-8d4ae376b346' class='xr-var-data-in' type='checkbox'><label for='data-eb250b49-5a35-4956-8903-8d4ae376b346' title='Show/Hide data repr'><svg class='icon xr-icon-database'><use xlink:href='#icon-database'></use></svg></label><div class='xr-var-attrs'><dl class='xr-attrs'></dl></div><div class='xr-var-data'><pre>[2 values with dtype=&lt;U1]</pre></div></li></ul></div></li><li class='xr-section-item'><input id='section-33d81c75-6ad0-4b1d-aa3c-38b543881980' class='xr-section-summary-in' type='checkbox'  checked><label for='section-33d81c75-6ad0-4b1d-aa3c-38b543881980' class='xr-section-summary' >Data variables: <span>(3)</span></label><div class='xr-section-inline-details'></div><div class='xr-section-details'><ul class='xr-var-list'><li class='xr-var-item'><div class='xr-var-name'><span>rsl</span></div><div class='xr-var-dims'>(channel_id, time)</div><div class='xr-var-dtype'>float64</div><div class='xr-var-preview xr-preview'>-47.0 -47.0 -46.7 ... -46.7 -47.0</div><input id='attrs-774f7e4c-fbfc-4ebd-8768-3158f32656e1' class='xr-var-attrs-in' type='checkbox' disabled><label for='attrs-774f7e4c-fbfc-4ebd-8768-3158f32656e1' title='Show/Hide attributes'><svg class='icon xr-icon-file-text2'><use xlink:href='#icon-file-text2'></use></svg></label><input id='data-1ac75bd7-c892-4255-a599-cd3406a9d49f' class='xr-var-data-in' type='checkbox'><label for='data-1ac75bd7-c892-4255-a599-cd3406a9d49f' title='Show/Hide data repr'><svg class='icon xr-icon-database'><use xlink:href='#icon-database'></use></svg></label><div class='xr-var-attrs'><dl class='xr-attrs'></dl></div><div class='xr-var-data'><pre>array([[-47. , -47. , -46.7, ..., -47. , -46.7, -46.7],\n",
       "       [-46.7, -46.7, -47. , ..., -47. , -46.7, -47. ]])</pre></div></li><li class='xr-var-item'><div class='xr-var-name'><span>tsl</span></div><div class='xr-var-dims'>(channel_id, time)</div><div class='xr-var-dtype'>float64</div><div class='xr-var-preview xr-preview'>13.0 12.0 12.0 ... 10.0 10.0 10.0</div><input id='attrs-618a5243-2251-4416-93f5-26d1b0d6e61b' class='xr-var-attrs-in' type='checkbox' disabled><label for='attrs-618a5243-2251-4416-93f5-26d1b0d6e61b' title='Show/Hide attributes'><svg class='icon xr-icon-file-text2'><use xlink:href='#icon-file-text2'></use></svg></label><input id='data-b9793e9a-65a2-4102-a3d3-62d556a7d23d' class='xr-var-data-in' type='checkbox'><label for='data-b9793e9a-65a2-4102-a3d3-62d556a7d23d' title='Show/Hide data repr'><svg class='icon xr-icon-database'><use xlink:href='#icon-database'></use></svg></label><div class='xr-var-attrs'><dl class='xr-attrs'></dl></div><div class='xr-var-data'><pre>array([[13., 12., 12., ..., 12., 12., 12.],\n",
       "       [ 9.,  9.,  9., ..., 10., 10., 10.]])</pre></div></li><li class='xr-var-item'><div class='xr-var-name'><span>trsl</span></div><div class='xr-var-dims'>(channel_id, time)</div><div class='xr-var-dtype'>float64</div><div class='xr-var-preview xr-preview'>60.0 59.0 58.7 ... 57.0 56.7 57.0</div><input id='attrs-362f1c77-80e7-4f35-a871-c86381c01a8e' class='xr-var-attrs-in' type='checkbox' disabled><label for='attrs-362f1c77-80e7-4f35-a871-c86381c01a8e' title='Show/Hide attributes'><svg class='icon xr-icon-file-text2'><use xlink:href='#icon-file-text2'></use></svg></label><input id='data-a13a878a-3ded-457a-9775-fef27187e69a' class='xr-var-data-in' type='checkbox'><label for='data-a13a878a-3ded-457a-9775-fef27187e69a' title='Show/Hide data repr'><svg class='icon xr-icon-database'><use xlink:href='#icon-database'></use></svg></label><div class='xr-var-attrs'><dl class='xr-attrs'></dl></div><div class='xr-var-data'><pre>array([[60. , 59. , 58.7, ..., 59. , 58.7, 58.7],\n",
       "       [55.7, 55.7, 56. , ..., 57. , 56.7, 57. ]])</pre></div></li></ul></div></li><li class='xr-section-item'><input id='section-243677c1-036e-4116-89de-78083df6fde6' class='xr-section-summary-in' type='checkbox'  ><label for='section-243677c1-036e-4116-89de-78083df6fde6' class='xr-section-summary' >Indexes: <span>(2)</span></label><div class='xr-section-inline-details'></div><div class='xr-section-details'><ul class='xr-var-list'><li class='xr-var-item'><div class='xr-index-name'><div>time</div></div><div class='xr-index-preview'>PandasIndex</div><div></div><input id='index-ae934002-c081-43ff-a441-a1e8f7efabf5' class='xr-index-data-in' type='checkbox'/><label for='index-ae934002-c081-43ff-a441-a1e8f7efabf5' title='Show/Hide index repr'><svg class='icon xr-icon-database'><use xlink:href='#icon-database'></use></svg></label><div class='xr-index-data'><pre>PandasIndex(DatetimeIndex([&#x27;2018-05-10 00:00:00&#x27;, &#x27;2018-05-10 00:01:00&#x27;,\n",
       "               &#x27;2018-05-10 00:02:00&#x27;, &#x27;2018-05-10 00:03:00&#x27;,\n",
       "               &#x27;2018-05-10 00:04:00&#x27;, &#x27;2018-05-10 00:05:00&#x27;,\n",
       "               &#x27;2018-05-10 00:06:00&#x27;, &#x27;2018-05-10 00:07:00&#x27;,\n",
       "               &#x27;2018-05-10 00:08:00&#x27;, &#x27;2018-05-10 00:09:00&#x27;,\n",
       "               ...\n",
       "               &#x27;2018-05-20 23:50:00&#x27;, &#x27;2018-05-20 23:51:00&#x27;,\n",
       "               &#x27;2018-05-20 23:52:00&#x27;, &#x27;2018-05-20 23:53:00&#x27;,\n",
       "               &#x27;2018-05-20 23:54:00&#x27;, &#x27;2018-05-20 23:55:00&#x27;,\n",
       "               &#x27;2018-05-20 23:56:00&#x27;, &#x27;2018-05-20 23:57:00&#x27;,\n",
       "               &#x27;2018-05-20 23:58:00&#x27;, &#x27;2018-05-20 23:59:00&#x27;],\n",
       "              dtype=&#x27;datetime64[ns]&#x27;, name=&#x27;time&#x27;, length=15840, freq=None))</pre></div></li><li class='xr-var-item'><div class='xr-index-name'><div>channel_id</div></div><div class='xr-index-preview'>PandasIndex</div><div></div><input id='index-854a48ab-d334-47ff-bf8e-6ba5b0a85704' class='xr-index-data-in' type='checkbox'/><label for='index-854a48ab-d334-47ff-bf8e-6ba5b0a85704' title='Show/Hide index repr'><svg class='icon xr-icon-database'><use xlink:href='#icon-database'></use></svg></label><div class='xr-index-data'><pre>PandasIndex(Index([&#x27;channel_1&#x27;, &#x27;channel_2&#x27;], dtype=&#x27;object&#x27;, name=&#x27;channel_id&#x27;))</pre></div></li></ul></div></li><li class='xr-section-item'><input id='section-62589c76-ed53-4449-a4d0-4728f0261995' class='xr-section-summary-in' type='checkbox' disabled ><label for='section-62589c76-ed53-4449-a4d0-4728f0261995' class='xr-section-summary'  title='Expand/collapse section'>Attributes: <span>(0)</span></label><div class='xr-section-inline-details'></div><div class='xr-section-details'><dl class='xr-attrs'></dl></div></li></ul></div></div>"
      ],
      "text/plain": [
       "<xarray.Dataset> Size: 887kB\n",
       "Dimensions:       (time: 15840, channel_id: 2)\n",
       "Coordinates:\n",
       "  * time          (time) datetime64[ns] 127kB 2018-05-10 ... 2018-05-20T23:59:00\n",
       "    cml_id        <U3 12B '0'\n",
       "    length        float64 8B ...\n",
       "  * channel_id    (channel_id) <U9 72B 'channel_1' 'channel_2'\n",
       "    frequency     (channel_id) float64 16B ...\n",
       "    polarization  (channel_id) <U1 8B ...\n",
       "Data variables:\n",
       "    rsl           (channel_id, time) float64 253kB -47.0 -47.0 ... -46.7 -47.0\n",
       "    tsl           (channel_id, time) float64 253kB 13.0 12.0 12.0 ... 10.0 10.0\n",
       "    trsl          (channel_id, time) float64 253kB 60.0 59.0 58.7 ... 56.7 57.0"
      ]
     },
     "execution_count": 11,
     "metadata": {},
     "output_type": "execute_result"
    }
   ],
   "source": [
    "# Choose one cml\n",
    "k = 0; # index of chosen cml 0-499\n",
    "my_cml = cml_set.isel(cml_id = k) # https://docs.xarray.dev/en/latest/generated/xarray.Dataset.assign.html\n",
    "my_ref = ref_set.isel(cml_id = k)\n",
    "\n",
    "# Check for fault data in TSL, RSL and replace it with NaN https://github.com/jpolz/cml_wd_pytorch/tree/main\n",
    "my_cml['tsl'] = my_cml.tsl.where(my_cml.tsl != 255.0)\n",
    "my_cml['rsl'] = my_cml.rsl.where(my_cml.rsl != -99.9)\n",
    "# Calculate TRSL\n",
    "my_cml['trsl'] = my_cml.tsl - my_cml.rsl\n",
    "\n",
    "# show CML dataset\n",
    "my_cml"
   ]
  },
  {
   "cell_type": "markdown",
   "metadata": {},
   "source": [
    "#### Resample CML data to 5 min step "
   ]
  },
  {
   "cell_type": "code",
   "execution_count": 12,
   "metadata": {},
   "outputs": [
    {
     "data": {
      "text/plain": [
       "3168"
      ]
     },
     "execution_count": 12,
     "metadata": {},
     "output_type": "execute_result"
    }
   ],
   "source": [
    "# maybe try to calculate rate of resampling from cml and ref data\n",
    "my_cml = my_cml.resample(time=\"5min\").mean() # from Pycomlink\n",
    "len(my_cml.time)"
   ]
  },
  {
   "cell_type": "markdown",
   "metadata": {},
   "source": [
    "#### Align to a dataset with Reference RADOLAN data and calculate boolean Wet/dry Reference flag"
   ]
  },
  {
   "cell_type": "code",
   "execution_count": 17,
   "metadata": {},
   "outputs": [],
   "source": [
    "my_data_set = my_cml.assign(my_ref)\n",
    "# From reference rain rate derivate binary reference Wet/Dry signal\n",
    "my_data_set['ref_wet_dry'] = my_ref.rainfall_amount.where(my_ref.rainfall_amount == 0, True) # ChatGPT\n",
    "# my_data_set"
   ]
  },
  {
   "cell_type": "markdown",
   "metadata": {},
   "source": [
    "#### Plot whole dataset of the one chosen cml "
   ]
  },
  {
   "cell_type": "code",
   "execution_count": 19,
   "metadata": {},
   "outputs": [
    {
     "data": {
      "image/png": "[encoded data removed]",
      "text/plain": [
       "<Figure size 1200x500 with 4 Axes>"
      ]
     },
     "metadata": {},
     "output_type": "display_data"
    }
   ],
   "source": [
    "# Plot all input cml and reference data\n",
    "fig, axs = plt.subplots(4, 1, sharex=True, figsize=(12,5))\n",
    "my_data_set.tsl.plot.line(x='time', ax=axs[0])\n",
    "my_data_set.rsl.plot.line(x='time', ax=axs[1])\n",
    "my_data_set.trsl.plot.line(x='time', ax=axs[2])\n",
    "my_data_set.rainfall_amount.plot.line(x='time', ax=axs[3])\n",
    "my_data_set.ref_wet_dry.plot.line(x='time', ax=axs[3])\n",
    "\n",
    "axs[0].set_xlabel('')\n",
    "axs[1].set_title('');"
   ]
  },
  {
   "cell_type": "markdown",
   "metadata": {},
   "source": [
    "#### Data visualisation"
   ]
  },
  {
   "cell_type": "code",
   "execution_count": 23,
   "metadata": {},
   "outputs": [
    {
     "data": {
      "text/plain": [
       "(array([ 258, 2471,  499, 2598,  353,   55,   32,   24,   11,   35]),\n",
       " array([ 9., 10., 11., 12., 13., 14., 15., 16., 17., 18., 19.]))"
      ]
     },
     "execution_count": 23,
     "metadata": {},
     "output_type": "execute_result"
    }
   ],
   "source": [
    "np.histogram(my_data_set.tsl)"
   ]
  },
  {
   "cell_type": "markdown",
   "metadata": {},
   "source": [
    "#### <span style=\"color:red\">TODO: </span>Standardising\n",
    "Subtracting the median of all available data from the preceding 72h from each time step [2] \n"
   ]
  },
  {
   "cell_type": "code",
   "execution_count": null,
   "metadata": {},
   "outputs": [],
   "source": []
  },
  {
   "cell_type": "markdown",
   "metadata": {},
   "source": [
    "#### <span style=\"color:red\">TODO: </span>Training/Testing/validation data splitting"
   ]
  },
  {
   "cell_type": "code",
   "execution_count": null,
   "metadata": {},
   "outputs": [],
   "source": []
  },
  {
   "cell_type": "markdown",
   "metadata": {},
   "source": [
    "#### <span style=\"color:red\">TODO: </span>We need to make Wet/Dry periods 50:50 for the training"
   ]
  },
  {
   "cell_type": "code",
   "execution_count": 13,
   "metadata": {},
   "outputs": [],
   "source": []
  },
  {
   "cell_type": "code",
   "execution_count": 22,
   "metadata": {},
   "outputs": [
    {
     "ename": "ValueError",
     "evalue": "Dimensions {'timestep'} do not exist. Expected one or more of FrozenMappingWarningOnValuesAccess({'time': 3168})",
     "output_type": "error",
     "traceback": [
      "\u001b[1;31m---------------------------------------------------------------------------\u001b[0m",
      "\u001b[1;31mValueError\u001b[0m                                Traceback (most recent call last)",
      "Cell \u001b[1;32mIn[22], line 2\u001b[0m\n\u001b[0;32m      1\u001b[0m last_hour \u001b[38;5;241m=\u001b[39m \u001b[38;5;28mrange\u001b[39m(\u001b[38;5;241m-\u001b[39m\u001b[38;5;241m1\u001b[39m,\u001b[38;5;241m-\u001b[39m\u001b[38;5;241m60\u001b[39m,\u001b[38;5;241m-\u001b[39m\u001b[38;5;241m1\u001b[39m)\n\u001b[1;32m----> 2\u001b[0m my_data_set[\u001b[38;5;124m'\u001b[39m\u001b[38;5;124mwet_radar\u001b[39m\u001b[38;5;124m'\u001b[39m] \u001b[38;5;241m=\u001b[39m \u001b[43mmy_data_set\u001b[49m\u001b[38;5;241;43m.\u001b[39;49m\u001b[43mrainfall_amount\u001b[49m\u001b[38;5;241;43m.\u001b[39;49m\u001b[43misel\u001b[49m\u001b[43m(\u001b[49m\u001b[43mtimestep\u001b[49m\u001b[38;5;241;43m=\u001b[39;49m\u001b[43mlast_hour\u001b[49m\u001b[43m)\u001b[49m\u001b[38;5;241m>\u001b[39m\u001b[38;5;241m0.1\u001b[39m\n",
      "File \u001b[1;32mD:\\Python312\\Lib\\site-packages\\xarray\\core\\dataarray.py:1527\u001b[0m, in \u001b[0;36mDataArray.isel\u001b[1;34m(self, indexers, drop, missing_dims, **indexers_kwargs)\u001b[0m\n\u001b[0;32m   1524\u001b[0m indexers \u001b[38;5;241m=\u001b[39m either_dict_or_kwargs(indexers, indexers_kwargs, \u001b[38;5;124m\"\u001b[39m\u001b[38;5;124misel\u001b[39m\u001b[38;5;124m\"\u001b[39m)\n\u001b[0;32m   1526\u001b[0m \u001b[38;5;28;01mif\u001b[39;00m \u001b[38;5;28many\u001b[39m(is_fancy_indexer(idx) \u001b[38;5;28;01mfor\u001b[39;00m idx \u001b[38;5;129;01min\u001b[39;00m indexers\u001b[38;5;241m.\u001b[39mvalues()):\n\u001b[1;32m-> 1527\u001b[0m     ds \u001b[38;5;241m=\u001b[39m \u001b[38;5;28;43mself\u001b[39;49m\u001b[38;5;241;43m.\u001b[39;49m\u001b[43m_to_temp_dataset\u001b[49m\u001b[43m(\u001b[49m\u001b[43m)\u001b[49m\u001b[38;5;241;43m.\u001b[39;49m\u001b[43m_isel_fancy\u001b[49m\u001b[43m(\u001b[49m\n\u001b[0;32m   1528\u001b[0m \u001b[43m        \u001b[49m\u001b[43mindexers\u001b[49m\u001b[43m,\u001b[49m\u001b[43m \u001b[49m\u001b[43mdrop\u001b[49m\u001b[38;5;241;43m=\u001b[39;49m\u001b[43mdrop\u001b[49m\u001b[43m,\u001b[49m\u001b[43m \u001b[49m\u001b[43mmissing_dims\u001b[49m\u001b[38;5;241;43m=\u001b[39;49m\u001b[43mmissing_dims\u001b[49m\n\u001b[0;32m   1529\u001b[0m \u001b[43m    \u001b[49m\u001b[43m)\u001b[49m\n\u001b[0;32m   1530\u001b[0m     \u001b[38;5;28;01mreturn\u001b[39;00m \u001b[38;5;28mself\u001b[39m\u001b[38;5;241m.\u001b[39m_from_temp_dataset(ds)\n\u001b[0;32m   1532\u001b[0m \u001b[38;5;66;03m# Much faster algorithm for when all indexers are ints, slices, one-dimensional\u001b[39;00m\n\u001b[0;32m   1533\u001b[0m \u001b[38;5;66;03m# lists, or zero or one-dimensional np.ndarray's\u001b[39;00m\n",
      "File \u001b[1;32mD:\\Python312\\Lib\\site-packages\\xarray\\core\\dataset.py:3074\u001b[0m, in \u001b[0;36mDataset._isel_fancy\u001b[1;34m(self, indexers, drop, missing_dims)\u001b[0m\n\u001b[0;32m   3067\u001b[0m \u001b[38;5;28;01mdef\u001b[39;00m \u001b[38;5;21m_isel_fancy\u001b[39m(\n\u001b[0;32m   3068\u001b[0m     \u001b[38;5;28mself\u001b[39m,\n\u001b[0;32m   3069\u001b[0m     indexers: Mapping[Any, Any],\n\u001b[1;32m   (...)\u001b[0m\n\u001b[0;32m   3072\u001b[0m     missing_dims: ErrorOptionsWithWarn \u001b[38;5;241m=\u001b[39m \u001b[38;5;124m\"\u001b[39m\u001b[38;5;124mraise\u001b[39m\u001b[38;5;124m\"\u001b[39m,\n\u001b[0;32m   3073\u001b[0m ) \u001b[38;5;241m-\u001b[39m\u001b[38;5;241m>\u001b[39m Self:\n\u001b[1;32m-> 3074\u001b[0m     valid_indexers \u001b[38;5;241m=\u001b[39m \u001b[38;5;28;43mdict\u001b[39;49m\u001b[43m(\u001b[49m\u001b[38;5;28;43mself\u001b[39;49m\u001b[38;5;241;43m.\u001b[39;49m\u001b[43m_validate_indexers\u001b[49m\u001b[43m(\u001b[49m\u001b[43mindexers\u001b[49m\u001b[43m,\u001b[49m\u001b[43m \u001b[49m\u001b[43mmissing_dims\u001b[49m\u001b[43m)\u001b[49m\u001b[43m)\u001b[49m\n\u001b[0;32m   3076\u001b[0m     variables: \u001b[38;5;28mdict\u001b[39m[Hashable, Variable] \u001b[38;5;241m=\u001b[39m {}\n\u001b[0;32m   3077\u001b[0m     indexes, index_variables \u001b[38;5;241m=\u001b[39m isel_indexes(\u001b[38;5;28mself\u001b[39m\u001b[38;5;241m.\u001b[39mxindexes, valid_indexers)\n",
      "File \u001b[1;32mD:\\Python312\\Lib\\site-packages\\xarray\\core\\dataset.py:2820\u001b[0m, in \u001b[0;36mDataset._validate_indexers\u001b[1;34m(self, indexers, missing_dims)\u001b[0m\n\u001b[0;32m   2817\u001b[0m \u001b[38;5;28;01mfrom\u001b[39;00m \u001b[38;5;21;01mxarray\u001b[39;00m\u001b[38;5;21;01m.\u001b[39;00m\u001b[38;5;21;01mcoding\u001b[39;00m\u001b[38;5;21;01m.\u001b[39;00m\u001b[38;5;21;01mcftimeindex\u001b[39;00m \u001b[38;5;28;01mimport\u001b[39;00m CFTimeIndex\n\u001b[0;32m   2818\u001b[0m \u001b[38;5;28;01mfrom\u001b[39;00m \u001b[38;5;21;01mxarray\u001b[39;00m\u001b[38;5;21;01m.\u001b[39;00m\u001b[38;5;21;01mcore\u001b[39;00m\u001b[38;5;21;01m.\u001b[39;00m\u001b[38;5;21;01mdataarray\u001b[39;00m \u001b[38;5;28;01mimport\u001b[39;00m DataArray\n\u001b[1;32m-> 2820\u001b[0m indexers \u001b[38;5;241m=\u001b[39m \u001b[43mdrop_dims_from_indexers\u001b[49m\u001b[43m(\u001b[49m\u001b[43mindexers\u001b[49m\u001b[43m,\u001b[49m\u001b[43m \u001b[49m\u001b[38;5;28;43mself\u001b[39;49m\u001b[38;5;241;43m.\u001b[39;49m\u001b[43mdims\u001b[49m\u001b[43m,\u001b[49m\u001b[43m \u001b[49m\u001b[43mmissing_dims\u001b[49m\u001b[43m)\u001b[49m\n\u001b[0;32m   2822\u001b[0m \u001b[38;5;66;03m# all indexers should be int, slice, np.ndarrays, or Variable\u001b[39;00m\n\u001b[0;32m   2823\u001b[0m \u001b[38;5;28;01mfor\u001b[39;00m k, v \u001b[38;5;129;01min\u001b[39;00m indexers\u001b[38;5;241m.\u001b[39mitems():\n",
      "File \u001b[1;32mD:\\Python312\\Lib\\site-packages\\xarray\\core\\utils.py:797\u001b[0m, in \u001b[0;36mdrop_dims_from_indexers\u001b[1;34m(indexers, dims, missing_dims)\u001b[0m\n\u001b[0;32m    795\u001b[0m     invalid \u001b[38;5;241m=\u001b[39m indexers\u001b[38;5;241m.\u001b[39mkeys() \u001b[38;5;241m-\u001b[39m \u001b[38;5;28mset\u001b[39m(dims)\n\u001b[0;32m    796\u001b[0m     \u001b[38;5;28;01mif\u001b[39;00m invalid:\n\u001b[1;32m--> 797\u001b[0m         \u001b[38;5;28;01mraise\u001b[39;00m \u001b[38;5;167;01mValueError\u001b[39;00m(\n\u001b[0;32m    798\u001b[0m             \u001b[38;5;124mf\u001b[39m\u001b[38;5;124m\"\u001b[39m\u001b[38;5;124mDimensions \u001b[39m\u001b[38;5;132;01m{\u001b[39;00minvalid\u001b[38;5;132;01m}\u001b[39;00m\u001b[38;5;124m do not exist. Expected one or more of \u001b[39m\u001b[38;5;132;01m{\u001b[39;00mdims\u001b[38;5;132;01m}\u001b[39;00m\u001b[38;5;124m\"\u001b[39m\n\u001b[0;32m    799\u001b[0m         )\n\u001b[0;32m    801\u001b[0m     \u001b[38;5;28;01mreturn\u001b[39;00m indexers\n\u001b[0;32m    803\u001b[0m \u001b[38;5;28;01melif\u001b[39;00m missing_dims \u001b[38;5;241m==\u001b[39m \u001b[38;5;124m\"\u001b[39m\u001b[38;5;124mwarn\u001b[39m\u001b[38;5;124m\"\u001b[39m:\n\u001b[0;32m    804\u001b[0m     \u001b[38;5;66;03m# don't modify input\u001b[39;00m\n",
      "\u001b[1;31mValueError\u001b[0m: Dimensions {'timestep'} do not exist. Expected one or more of FrozenMappingWarningOnValuesAccess({'time': 3168})"
     ]
    }
   ],
   "source": [
    "last_hour = range(-1,-60,-1)\n",
    "my_data_set['wet_radar'] = my_data_set.rainfall_amount.isel(timestep=last_hour).sum(dim='timestep')>0.1"
   ]
  },
  {
   "cell_type": "markdown",
   "metadata": {},
   "source": [
    "## _________________"
   ]
  },
  {
   "cell_type": "raw",
   "metadata": {
    "vscode": {
     "languageId": "raw"
    }
   },
   "source": [
    "ds = ds.isel(sample_number=np.arange(100))"
   ]
  },
  {
   "cell_type": "code",
   "execution_count": 15,
   "metadata": {},
   "outputs": [
    {
     "ename": "NameError",
     "evalue": "name 'ds' is not defined",
     "output_type": "error",
     "traceback": [
      "\u001b[1;31m---------------------------------------------------------------------------\u001b[0m",
      "\u001b[1;31mNameError\u001b[0m                                 Traceback (most recent call last)",
      "Cell \u001b[1;32mIn[15], line 1\u001b[0m\n\u001b[1;32m----> 1\u001b[0m ds[\u001b[38;5;124m'\u001b[39m\u001b[38;5;124mtl\u001b[39m\u001b[38;5;124m'\u001b[39m] \u001b[38;5;241m=\u001b[39m \u001b[43mds\u001b[49m\u001b[38;5;241m.\u001b[39mtl\u001b[38;5;241m.\u001b[39mtranspose(\u001b[38;5;124m'\u001b[39m\u001b[38;5;124msample_number\u001b[39m\u001b[38;5;124m'\u001b[39m, \u001b[38;5;124m'\u001b[39m\u001b[38;5;124mchannel_id\u001b[39m\u001b[38;5;124m'\u001b[39m, \u001b[38;5;124m'\u001b[39m\u001b[38;5;124mtimestep\u001b[39m\u001b[38;5;124m'\u001b[39m)\n",
      "\u001b[1;31mNameError\u001b[0m: name 'ds' is not defined"
     ]
    }
   ],
   "source": [
    "ds['tl'] = ds.tl.transpose('sample_number', 'channel_id', 'timestep')"
   ]
  },
  {
   "cell_type": "code",
   "execution_count": null,
   "metadata": {},
   "outputs": [],
   "source": [
    "ds"
   ]
  },
  {
   "cell_type": "code",
   "execution_count": null,
   "metadata": {},
   "outputs": [],
   "source": [
    "batchsize = 10\n",
    "working_size = int(len(ds.sample_number)*0.8/batchsize)* batchsize"
   ]
  },
  {
   "cell_type": "code",
   "execution_count": null,
   "metadata": {},
   "outputs": [],
   "source": [
    "working_size"
   ]
  },
  {
   "cell_type": "code",
   "execution_count": null,
   "metadata": {},
   "outputs": [],
   "source": [
    "tl, wr = shuffle(ds.tl.values, ds.wet_radar.values)\n",
    "\n",
    "data = tl[:working_size]\n",
    "data_test = tl[working_size:]\n",
    "data_out = wr[:working_size]\n",
    "data_test_out = wr[working_size:]"
   ]
  },
  {
   "cell_type": "code",
   "execution_count": null,
   "metadata": {},
   "outputs": [],
   "source": [
    "np.histogram(data_test_out)"
   ]
  },
  {
   "cell_type": "markdown",
   "metadata": {},
   "source": [
    "bsp zum \"abrunden\" auf ganze batch size\n",
    "`data = data[:int(len(data/batch_size))*batch_size]`"
   ]
  },
  {
   "cell_type": "code",
   "execution_count": null,
   "metadata": {},
   "outputs": [],
   "source": [
    "\n",
    "### data as Tensor\n",
    "data = torch.Tensor(data)\n",
    "data_test = torch.Tensor(data_test)\n",
    "\n",
    "data_out = torch.Tensor(data_out)\n",
    "data_test_out = torch.Tensor(data_test_out)\n"
   ]
  },
  {
   "cell_type": "code",
   "execution_count": null,
   "metadata": {},
   "outputs": [],
   "source": [
    "\n",
    "### prepare data\n",
    "dataset = torch.utils.data.TensorDataset(data, data_out)\n",
    "testset = torch.utils.data.TensorDataset(data_test, data_test_out)\n",
    "trainloader = torch.utils.data.DataLoader(dataset, batch_size = batchsize, shuffle = True)\n",
    "testloader = torch.utils.data.DataLoader(testset, batch_size = batchsize, shuffle = False)\n"
   ]
  },
  {
   "cell_type": "code",
   "execution_count": null,
   "metadata": {},
   "outputs": [],
   "source": [
    "model = cnn.cnn_class()\n",
    "optimizer = torch.optim.AdamW(model.parameters(), lr=0.001)\n"
   ]
  },
  {
   "cell_type": "code",
   "execution_count": null,
   "metadata": {},
   "outputs": [],
   "source": [
    "epochs = 10\n",
    "resume = 0"
   ]
  },
  {
   "cell_type": "code",
   "execution_count": null,
   "metadata": {},
   "outputs": [],
   "source": [
    "if resume == 0:\n",
    "    loss_dict = {}\n",
    "    loss_dict['train'] = {}\n",
    "    loss_dict['test'] = {}\n",
    "    for key in ['train','test']:\n",
    "        loss_dict[key]['loss'] = []"
   ]
  },
  {
   "cell_type": "code",
   "execution_count": null,
   "metadata": {},
   "outputs": [],
   "source": [
    "for epoch in range(resume, epochs):\n",
    "    # training\n",
    "    train_losses = []\n",
    "    for inputs, targets in tqdm(trainloader):\n",
    "        optimizer.zero_grad()\n",
    "        pred = model(inputs)\n",
    "        pred = nn.Flatten(0,1)(pred)\n",
    "        loss = nn.BCELoss()(pred, targets)\n",
    "        loss.backward()\n",
    "        optimizer.step()\n",
    "        train_losses.append(loss.detach().numpy())\n",
    "    loss_dict['train']['loss'].append(np.mean(train_losses))\n",
    "    \n",
    "    # testing\n",
    "    test_losses = []\n",
    "    with torch.no_grad():\n",
    "        for inputs, targets in tqdm(testloader):\n",
    "            pred = model(inputs)\n",
    "            # pred = pred.round()\n",
    "            pred = nn.Flatten(0,1)(pred)\n",
    "            loss = nn.BCELoss()(pred, targets)\n",
    "            test_losses.append(loss.detach().numpy())\n",
    "        loss_dict['test']['loss'].append(np.mean(test_losses))\n",
    "        \n",
    "    # printing\n",
    "    clear_output(wait=True)\n",
    "    print(epoch)\n",
    "    print('')\n",
    "    print('train loss:', np.mean(train_losses))\n",
    "    print('test loss:', np.mean(test_losses))\n",
    "    print('min test loss:', np.min(loss_dict['test']['loss']))\n",
    "    fig, axs = plt.subplots(1,1, figsize=(3,4))\n",
    "    for key in loss_dict.keys():\n",
    "        for k, key2 in enumerate(loss_dict[key].keys()):\n",
    "            axs.plot(loss_dict[key][key2], label=key)\n",
    "            axs.set_title(key2)\n",
    "    # axs.set_yscale('log')\n",
    "    plt.legend()\n",
    "    plt.show()\n",
    "    resume = epoch"
   ]
  },
  {
   "cell_type": "code",
   "execution_count": null,
   "metadata": {},
   "outputs": [],
   "source": [
    "for inputs, targets in tqdm(trainloader):\n",
    "    print(model(inputs))\n",
    "    break"
   ]
  },
  {
   "cell_type": "code",
   "execution_count": null,
   "metadata": {},
   "outputs": [],
   "source": [
    "### accuracy score, confusion matrix and Matthews correlation coefficient (MCC)\n",
    "def eval_model(test_dataloader, model):\n",
    "    predictions, actuals = list(), list()\n",
    "    with torch.no_grad():\n",
    "        for inputs, targets in tqdm(test_dataloader):\n",
    "            pred = model(inputs)\n",
    "            pred = pred.detach().numpy()\n",
    "            actual = targets.numpy()\n",
    "            actual = actual.reshape((len(actual), 1))\n",
    "            pred = pred.round()\n",
    "    \n",
    "            predictions.append(pred)\n",
    "            actuals.append(actual)\n",
    "    predictions, actuals = np.ravel(np.vstack(predictions)), np.ravel(np.vstack(actuals))\n",
    "    acc = skl.accuracy_score(actuals, predictions)\n",
    "    conf_mat = skl.confusion_matrix(actual, pred, labels=[0,1], normalize='all')\n",
    "    matt_cor = skl.matthews_corrcoef(actual, pred)\n",
    "    return acc, conf_mat, matt_cor"
   ]
  },
  {
   "cell_type": "code",
   "execution_count": null,
   "metadata": {},
   "outputs": [],
   "source": [
    "eval_model(testloader, model)"
   ]
  }
 ],
 "metadata": {
  "kernelspec": {
   "display_name": "Python 3 (ipykernel)",
   "language": "python",
   "name": "python3"
  },
  "language_info": {
   "codemirror_mode": {
    "name": "ipython",
    "version": 3
   },
   "file_extension": ".py",
   "mimetype": "text/x-python",
   "name": "python",
   "nbconvert_exporter": "python",
   "pygments_lexer": "ipython3",
   "version": "3.12.7"
  }
 },
 "nbformat": 4,
 "nbformat_minor": 4
}
