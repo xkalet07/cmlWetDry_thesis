{
 "cells": [
  {
   "cell_type": "markdown",
   "metadata": {},
   "source": [
    "# CML wet/dry detection on 1 CML using CNN architecture of Polz J. [2]\n",
    "\n",
    "__CML data:__  \n",
    "Imported from pycomlink (Chwala C:): https://github.com/pycomlink/pycomlink\n",
    "\n",
    "__Sources: All code from [2]__  \n",
    "github: https://github.com/jpolz/cml_wd_pytorch/tree/main  \n",
    "thesis: https://doi.org/10.5194/amt-13-3835-2020"
   ]
  },
  {
   "cell_type": "code",
   "execution_count": 1,
   "metadata": {},
   "outputs": [],
   "source": [
    "import cnn\n",
    "import xarray as xr               # work with arrays, also possible with pandas\n",
    "import pandas as pd\n",
    "import numpy as np\n",
    "import torch\n",
    "import torch.nn as nn\n",
    "# import einops\n",
    "import matplotlib.pyplot as plt\n",
    "import sklearn.metrics as skl"
   ]
  },
  {
   "cell_type": "code",
   "execution_count": 2,
   "metadata": {},
   "outputs": [],
   "source": [
    "from sklearn.utils import shuffle\n",
    "from tqdm import tqdm\n",
    "from IPython.display import clear_output\n"
   ]
  },
  {
   "cell_type": "markdown",
   "metadata": {},
   "source": [
    "#### Load CML data\n",
    "Import data of 500 CML links from pycomlink with 1min timestep"
   ]
  },
  {
   "cell_type": "code",
   "execution_count": 3,
   "metadata": {
    "scrolled": true
   },
   "outputs": [],
   "source": [
    "# 500 CMLs with 1 min time step\n",
    "cml_set = xr.open_dataset('example_data/example_cml_data.nc', engine='netcdf4') # https://docs.xarray.dev/en/stable/generated/xarray.Dataset.html\n",
    "\n",
    "# Temporarily remove GPS coordinates - might add later with additional cml info for better CNN learning\n",
    "# https://stackoverflow.com/questions/61003361/drop-coordinate-from-an-xarray-dataarray\n",
    "cml_set = cml_set.reset_coords(['site_a_latitude','site_b_latitude','site_a_longitude','site_b_longitude'], drop=True)"
   ]
  },
  {
   "cell_type": "markdown",
   "metadata": {},
   "source": [
    "#### Load Reference data\n",
    "Reference rain rate data from RADOLAN. With 5 min step"
   ]
  },
  {
   "cell_type": "code",
   "execution_count": 4,
   "metadata": {
    "scrolled": true
   },
   "outputs": [],
   "source": [
    "# reference RADOLAN data from pycomlink with 5 min time step\n",
    "# Path averaged reference RADOLAN data aligned with all 500 CML IDs\n",
    "ref_set = xr.open_dataset('example_data/example_path_averaged_reference_data.nc', engine='netcdf4')"
   ]
  },
  {
   "cell_type": "markdown",
   "metadata": {},
   "source": [
    "## CML data preprocessing\n",
    "1. choosing cml for training  \n",
    "2. replacing fault values\n",
    "3. cnalculating TRSL\n",
    "4. resampling data  \n",
    "5. creating dataset of training and reference data + data visualisation\n",
    "6. Standardising\n",
    "\n",
    "All from pycomlink https://github.com/pycomlink/pycomlink/blob/master/notebooks/Basic%20CML%20processing%20workflow.ipynb"
   ]
  },
  {
   "cell_type": "markdown",
   "metadata": {},
   "source": [
    "#### Choose one CML, repair fault data and calculate TRSL"
   ]
  },
  {
   "cell_type": "code",
   "execution_count": 5,
   "metadata": {},
   "outputs": [
    {
     "data": {
      "text/html": [
       "<div><svg style=\"position: absolute; width: 0; height: 0; overflow: hidden\">\n",
       "<defs>\n",
       "<symbol id=\"icon-database\" viewBox=\"0 0 32 32\">\n",
       "<path d=\"M16 0c-8.837 0-16 2.239-16 5v4c0 2.761 7.163 5 16 5s16-2.239 16-5v-4c0-2.761-7.163-5-16-5z\"></path>\n",
       "<path d=\"M16 17c-8.837 0-16-2.239-16-5v6c0 2.761 7.163 5 16 5s16-2.239 16-5v-6c0 2.761-7.163 5-16 5z\"></path>\n",
       "<path d=\"M16 26c-8.837 0-16-2.239-16-5v6c0 2.761 7.163 5 16 5s16-2.239 16-5v-6c0 2.761-7.163 5-16 5z\"></path>\n",
       "</symbol>\n",
       "<symbol id=\"icon-file-text2\" viewBox=\"0 0 32 32\">\n",
       "<path d=\"M28.681 7.159c-0.694-0.947-1.662-2.053-2.724-3.116s-2.169-2.030-3.116-2.724c-1.612-1.182-2.393-1.319-2.841-1.319h-15.5c-1.378 0-2.5 1.121-2.5 2.5v27c0 1.378 1.122 2.5 2.5 2.5h23c1.378 0 2.5-1.122 2.5-2.5v-19.5c0-0.448-0.137-1.23-1.319-2.841zM24.543 5.457c0.959 0.959 1.712 1.825 2.268 2.543h-4.811v-4.811c0.718 0.556 1.584 1.309 2.543 2.268zM28 29.5c0 0.271-0.229 0.5-0.5 0.5h-23c-0.271 0-0.5-0.229-0.5-0.5v-27c0-0.271 0.229-0.5 0.5-0.5 0 0 15.499-0 15.5 0v7c0 0.552 0.448 1 1 1h7v19.5z\"></path>\n",
       "<path d=\"M23 26h-14c-0.552 0-1-0.448-1-1s0.448-1 1-1h14c0.552 0 1 0.448 1 1s-0.448 1-1 1z\"></path>\n",
       "<path d=\"M23 22h-14c-0.552 0-1-0.448-1-1s0.448-1 1-1h14c0.552 0 1 0.448 1 1s-0.448 1-1 1z\"></path>\n",
       "<path d=\"M23 18h-14c-0.552 0-1-0.448-1-1s0.448-1 1-1h14c0.552 0 1 0.448 1 1s-0.448 1-1 1z\"></path>\n",
       "</symbol>\n",
       "</defs>\n",
       "</svg>\n",
       "<style>/* CSS stylesheet for displaying xarray objects in jupyterlab.\n",
       " *\n",
       " */\n",
       "\n",
       ":root {\n",
       "  --xr-font-color0: var(--jp-content-font-color0, rgba(0, 0, 0, 1));\n",
       "  --xr-font-color2: var(--jp-content-font-color2, rgba(0, 0, 0, 0.54));\n",
       "  --xr-font-color3: var(--jp-content-font-color3, rgba(0, 0, 0, 0.38));\n",
       "  --xr-border-color: var(--jp-border-color2, #e0e0e0);\n",
       "  --xr-disabled-color: var(--jp-layout-color3, #bdbdbd);\n",
       "  --xr-background-color: var(--jp-layout-color0, white);\n",
       "  --xr-background-color-row-even: var(--jp-layout-color1, white);\n",
       "  --xr-background-color-row-odd: var(--jp-layout-color2, #eeeeee);\n",
       "}\n",
       "\n",
       "html[theme=dark],\n",
       "html[data-theme=dark],\n",
       "body[data-theme=dark],\n",
       "body.vscode-dark {\n",
       "  --xr-font-color0: rgba(255, 255, 255, 1);\n",
       "  --xr-font-color2: rgba(255, 255, 255, 0.54);\n",
       "  --xr-font-color3: rgba(255, 255, 255, 0.38);\n",
       "  --xr-border-color: #1F1F1F;\n",
       "  --xr-disabled-color: #515151;\n",
       "  --xr-background-color: #111111;\n",
       "  --xr-background-color-row-even: #111111;\n",
       "  --xr-background-color-row-odd: #313131;\n",
       "}\n",
       "\n",
       ".xr-wrap {\n",
       "  display: block !important;\n",
       "  min-width: 300px;\n",
       "  max-width: 700px;\n",
       "}\n",
       "\n",
       ".xr-text-repr-fallback {\n",
       "  /* fallback to plain text repr when CSS is not injected (untrusted notebook) */\n",
       "  display: none;\n",
       "}\n",
       "\n",
       ".xr-header {\n",
       "  padding-top: 6px;\n",
       "  padding-bottom: 6px;\n",
       "  margin-bottom: 4px;\n",
       "  border-bottom: solid 1px var(--xr-border-color);\n",
       "}\n",
       "\n",
       ".xr-header > div,\n",
       ".xr-header > ul {\n",
       "  display: inline;\n",
       "  margin-top: 0;\n",
       "  margin-bottom: 0;\n",
       "}\n",
       "\n",
       ".xr-obj-type,\n",
       ".xr-array-name {\n",
       "  margin-left: 2px;\n",
       "  margin-right: 10px;\n",
       "}\n",
       "\n",
       ".xr-obj-type {\n",
       "  color: var(--xr-font-color2);\n",
       "}\n",
       "\n",
       ".xr-sections {\n",
       "  padding-left: 0 !important;\n",
       "  display: grid;\n",
       "  grid-template-columns: 150px auto auto 1fr 0 20px 0 20px;\n",
       "}\n",
       "\n",
       ".xr-section-item {\n",
       "  display: contents;\n",
       "}\n",
       "\n",
       ".xr-section-item input {\n",
       "  display: inline-block;\n",
       "  opacity: 0;\n",
       "}\n",
       "\n",
       ".xr-section-item input + label {\n",
       "  color: var(--xr-disabled-color);\n",
       "}\n",
       "\n",
       ".xr-section-item input:enabled + label {\n",
       "  cursor: pointer;\n",
       "  color: var(--xr-font-color2);\n",
       "}\n",
       "\n",
       ".xr-section-item input:focus + label {\n",
       "  border: 2px solid var(--xr-font-color0);\n",
       "}\n",
       "\n",
       ".xr-section-item input:enabled + label:hover {\n",
       "  color: var(--xr-font-color0);\n",
       "}\n",
       "\n",
       ".xr-section-summary {\n",
       "  grid-column: 1;\n",
       "  color: var(--xr-font-color2);\n",
       "  font-weight: 500;\n",
       "}\n",
       "\n",
       ".xr-section-summary > span {\n",
       "  display: inline-block;\n",
       "  padding-left: 0.5em;\n",
       "}\n",
       "\n",
       ".xr-section-summary-in:disabled + label {\n",
       "  color: var(--xr-font-color2);\n",
       "}\n",
       "\n",
       ".xr-section-summary-in + label:before {\n",
       "  display: inline-block;\n",
       "  content: '►';\n",
       "  font-size: 11px;\n",
       "  width: 15px;\n",
       "  text-align: center;\n",
       "}\n",
       "\n",
       ".xr-section-summary-in:disabled + label:before {\n",
       "  color: var(--xr-disabled-color);\n",
       "}\n",
       "\n",
       ".xr-section-summary-in:checked + label:before {\n",
       "  content: '▼';\n",
       "}\n",
       "\n",
       ".xr-section-summary-in:checked + label > span {\n",
       "  display: none;\n",
       "}\n",
       "\n",
       ".xr-section-summary,\n",
       ".xr-section-inline-details {\n",
       "  padding-top: 4px;\n",
       "  padding-bottom: 4px;\n",
       "}\n",
       "\n",
       ".xr-section-inline-details {\n",
       "  grid-column: 2 / -1;\n",
       "}\n",
       "\n",
       ".xr-section-details {\n",
       "  display: none;\n",
       "  grid-column: 1 / -1;\n",
       "  margin-bottom: 5px;\n",
       "}\n",
       "\n",
       ".xr-section-summary-in:checked ~ .xr-section-details {\n",
       "  display: contents;\n",
       "}\n",
       "\n",
       ".xr-array-wrap {\n",
       "  grid-column: 1 / -1;\n",
       "  display: grid;\n",
       "  grid-template-columns: 20px auto;\n",
       "}\n",
       "\n",
       ".xr-array-wrap > label {\n",
       "  grid-column: 1;\n",
       "  vertical-align: top;\n",
       "}\n",
       "\n",
       ".xr-preview {\n",
       "  color: var(--xr-font-color3);\n",
       "}\n",
       "\n",
       ".xr-array-preview,\n",
       ".xr-array-data {\n",
       "  padding: 0 5px !important;\n",
       "  grid-column: 2;\n",
       "}\n",
       "\n",
       ".xr-array-data,\n",
       ".xr-array-in:checked ~ .xr-array-preview {\n",
       "  display: none;\n",
       "}\n",
       "\n",
       ".xr-array-in:checked ~ .xr-array-data,\n",
       ".xr-array-preview {\n",
       "  display: inline-block;\n",
       "}\n",
       "\n",
       ".xr-dim-list {\n",
       "  display: inline-block !important;\n",
       "  list-style: none;\n",
       "  padding: 0 !important;\n",
       "  margin: 0;\n",
       "}\n",
       "\n",
       ".xr-dim-list li {\n",
       "  display: inline-block;\n",
       "  padding: 0;\n",
       "  margin: 0;\n",
       "}\n",
       "\n",
       ".xr-dim-list:before {\n",
       "  content: '(';\n",
       "}\n",
       "\n",
       ".xr-dim-list:after {\n",
       "  content: ')';\n",
       "}\n",
       "\n",
       ".xr-dim-list li:not(:last-child):after {\n",
       "  content: ',';\n",
       "  padding-right: 5px;\n",
       "}\n",
       "\n",
       ".xr-has-index {\n",
       "  font-weight: bold;\n",
       "}\n",
       "\n",
       ".xr-var-list,\n",
       ".xr-var-item {\n",
       "  display: contents;\n",
       "}\n",
       "\n",
       ".xr-var-item > div,\n",
       ".xr-var-item label,\n",
       ".xr-var-item > .xr-var-name span {\n",
       "  background-color: var(--xr-background-color-row-even);\n",
       "  margin-bottom: 0;\n",
       "}\n",
       "\n",
       ".xr-var-item > .xr-var-name:hover span {\n",
       "  padding-right: 5px;\n",
       "}\n",
       "\n",
       ".xr-var-list > li:nth-child(odd) > div,\n",
       ".xr-var-list > li:nth-child(odd) > label,\n",
       ".xr-var-list > li:nth-child(odd) > .xr-var-name span {\n",
       "  background-color: var(--xr-background-color-row-odd);\n",
       "}\n",
       "\n",
       ".xr-var-name {\n",
       "  grid-column: 1;\n",
       "}\n",
       "\n",
       ".xr-var-dims {\n",
       "  grid-column: 2;\n",
       "}\n",
       "\n",
       ".xr-var-dtype {\n",
       "  grid-column: 3;\n",
       "  text-align: right;\n",
       "  color: var(--xr-font-color2);\n",
       "}\n",
       "\n",
       ".xr-var-preview {\n",
       "  grid-column: 4;\n",
       "}\n",
       "\n",
       ".xr-index-preview {\n",
       "  grid-column: 2 / 5;\n",
       "  color: var(--xr-font-color2);\n",
       "}\n",
       "\n",
       ".xr-var-name,\n",
       ".xr-var-dims,\n",
       ".xr-var-dtype,\n",
       ".xr-preview,\n",
       ".xr-attrs dt {\n",
       "  white-space: nowrap;\n",
       "  overflow: hidden;\n",
       "  text-overflow: ellipsis;\n",
       "  padding-right: 10px;\n",
       "}\n",
       "\n",
       ".xr-var-name:hover,\n",
       ".xr-var-dims:hover,\n",
       ".xr-var-dtype:hover,\n",
       ".xr-attrs dt:hover {\n",
       "  overflow: visible;\n",
       "  width: auto;\n",
       "  z-index: 1;\n",
       "}\n",
       "\n",
       ".xr-var-attrs,\n",
       ".xr-var-data,\n",
       ".xr-index-data {\n",
       "  display: none;\n",
       "  background-color: var(--xr-background-color) !important;\n",
       "  padding-bottom: 5px !important;\n",
       "}\n",
       "\n",
       ".xr-var-attrs-in:checked ~ .xr-var-attrs,\n",
       ".xr-var-data-in:checked ~ .xr-var-data,\n",
       ".xr-index-data-in:checked ~ .xr-index-data {\n",
       "  display: block;\n",
       "}\n",
       "\n",
       ".xr-var-data > table {\n",
       "  float: right;\n",
       "}\n",
       "\n",
       ".xr-var-name span,\n",
       ".xr-var-data,\n",
       ".xr-index-name div,\n",
       ".xr-index-data,\n",
       ".xr-attrs {\n",
       "  padding-left: 25px !important;\n",
       "}\n",
       "\n",
       ".xr-attrs,\n",
       ".xr-var-attrs,\n",
       ".xr-var-data,\n",
       ".xr-index-data {\n",
       "  grid-column: 1 / -1;\n",
       "}\n",
       "\n",
       "dl.xr-attrs {\n",
       "  padding: 0;\n",
       "  margin: 0;\n",
       "  display: grid;\n",
       "  grid-template-columns: 125px auto;\n",
       "}\n",
       "\n",
       ".xr-attrs dt,\n",
       ".xr-attrs dd {\n",
       "  padding: 0;\n",
       "  margin: 0;\n",
       "  float: left;\n",
       "  padding-right: 10px;\n",
       "  width: auto;\n",
       "}\n",
       "\n",
       ".xr-attrs dt {\n",
       "  font-weight: normal;\n",
       "  grid-column: 1;\n",
       "}\n",
       "\n",
       ".xr-attrs dt:hover span {\n",
       "  display: inline-block;\n",
       "  background: var(--xr-background-color);\n",
       "  padding-right: 10px;\n",
       "}\n",
       "\n",
       ".xr-attrs dd {\n",
       "  grid-column: 2;\n",
       "  white-space: pre-wrap;\n",
       "  word-break: break-all;\n",
       "}\n",
       "\n",
       ".xr-icon-database,\n",
       ".xr-icon-file-text2,\n",
       ".xr-no-icon {\n",
       "  display: inline-block;\n",
       "  vertical-align: middle;\n",
       "  width: 1em;\n",
       "  height: 1.5em !important;\n",
       "  stroke-width: 0;\n",
       "  stroke: currentColor;\n",
       "  fill: currentColor;\n",
       "}\n",
       "</style><pre class='xr-text-repr-fallback'>&lt;xarray.Dataset&gt; Size: 887kB\n",
       "Dimensions:       (time: 15840, channel_id: 2)\n",
       "Coordinates:\n",
       "  * time          (time) datetime64[ns] 127kB 2018-05-10 ... 2018-05-20T23:59:00\n",
       "    cml_id        &lt;U3 12B &#x27;14&#x27;\n",
       "    length        float64 8B ...\n",
       "  * channel_id    (channel_id) &lt;U9 72B &#x27;channel_1&#x27; &#x27;channel_2&#x27;\n",
       "    frequency     (channel_id) float64 16B ...\n",
       "    polarization  (channel_id) &lt;U1 8B ...\n",
       "Data variables:\n",
       "    rsl           (channel_id, time) float64 253kB -41.6 -42.0 ... -44.5 -44.5\n",
       "    tsl           (channel_id, time) float64 253kB 19.0 19.0 19.0 ... 19.0 19.0\n",
       "    trsl          (channel_id, time) float64 253kB 60.6 61.0 61.0 ... 63.5 63.5</pre><div class='xr-wrap' style='display:none'><div class='xr-header'><div class='xr-obj-type'>xarray.Dataset</div></div><ul class='xr-sections'><li class='xr-section-item'><input id='section-c8245c93-3fd6-43bc-b24e-f3a101187785' class='xr-section-summary-in' type='checkbox' disabled ><label for='section-c8245c93-3fd6-43bc-b24e-f3a101187785' class='xr-section-summary'  title='Expand/collapse section'>Dimensions:</label><div class='xr-section-inline-details'><ul class='xr-dim-list'><li><span class='xr-has-index'>time</span>: 15840</li><li><span class='xr-has-index'>channel_id</span>: 2</li></ul></div><div class='xr-section-details'></div></li><li class='xr-section-item'><input id='section-94ebe878-c809-4072-8d36-cf1cbefdaaf1' class='xr-section-summary-in' type='checkbox'  checked><label for='section-94ebe878-c809-4072-8d36-cf1cbefdaaf1' class='xr-section-summary' >Coordinates: <span>(6)</span></label><div class='xr-section-inline-details'></div><div class='xr-section-details'><ul class='xr-var-list'><li class='xr-var-item'><div class='xr-var-name'><span class='xr-has-index'>time</span></div><div class='xr-var-dims'>(time)</div><div class='xr-var-dtype'>datetime64[ns]</div><div class='xr-var-preview xr-preview'>2018-05-10 ... 2018-05-20T23:59:00</div><input id='attrs-0506ff67-d92a-49c4-95f2-ab0a092ca637' class='xr-var-attrs-in' type='checkbox' disabled><label for='attrs-0506ff67-d92a-49c4-95f2-ab0a092ca637' title='Show/Hide attributes'><svg class='icon xr-icon-file-text2'><use xlink:href='#icon-file-text2'></use></svg></label><input id='data-218868fb-1250-45d8-8416-76b15dc53962' class='xr-var-data-in' type='checkbox'><label for='data-218868fb-1250-45d8-8416-76b15dc53962' title='Show/Hide data repr'><svg class='icon xr-icon-database'><use xlink:href='#icon-database'></use></svg></label><div class='xr-var-attrs'><dl class='xr-attrs'></dl></div><div class='xr-var-data'><pre>array([&#x27;2018-05-10T00:00:00.000000000&#x27;, &#x27;2018-05-10T00:01:00.000000000&#x27;,\n",
       "       &#x27;2018-05-10T00:02:00.000000000&#x27;, ..., &#x27;2018-05-20T23:57:00.000000000&#x27;,\n",
       "       &#x27;2018-05-20T23:58:00.000000000&#x27;, &#x27;2018-05-20T23:59:00.000000000&#x27;],\n",
       "      dtype=&#x27;datetime64[ns]&#x27;)</pre></div></li><li class='xr-var-item'><div class='xr-var-name'><span>cml_id</span></div><div class='xr-var-dims'>()</div><div class='xr-var-dtype'>&lt;U3</div><div class='xr-var-preview xr-preview'>&#x27;14&#x27;</div><input id='attrs-b10b8ed7-e4db-4559-974b-c933b77b9538' class='xr-var-attrs-in' type='checkbox' disabled><label for='attrs-b10b8ed7-e4db-4559-974b-c933b77b9538' title='Show/Hide attributes'><svg class='icon xr-icon-file-text2'><use xlink:href='#icon-file-text2'></use></svg></label><input id='data-e4cc25e4-3c97-4c13-b941-c87951ea2fdd' class='xr-var-data-in' type='checkbox'><label for='data-e4cc25e4-3c97-4c13-b941-c87951ea2fdd' title='Show/Hide data repr'><svg class='icon xr-icon-database'><use xlink:href='#icon-database'></use></svg></label><div class='xr-var-attrs'><dl class='xr-attrs'></dl></div><div class='xr-var-data'><pre>array(&#x27;14&#x27;, dtype=&#x27;&lt;U3&#x27;)</pre></div></li><li class='xr-var-item'><div class='xr-var-name'><span>length</span></div><div class='xr-var-dims'>()</div><div class='xr-var-dtype'>float64</div><div class='xr-var-preview xr-preview'>...</div><input id='attrs-293d581f-c80c-4a35-a8ba-2dd435d9de5e' class='xr-var-attrs-in' type='checkbox' disabled><label for='attrs-293d581f-c80c-4a35-a8ba-2dd435d9de5e' title='Show/Hide attributes'><svg class='icon xr-icon-file-text2'><use xlink:href='#icon-file-text2'></use></svg></label><input id='data-19ece03f-37be-48d6-94dc-4c6e415551a7' class='xr-var-data-in' type='checkbox'><label for='data-19ece03f-37be-48d6-94dc-4c6e415551a7' title='Show/Hide data repr'><svg class='icon xr-icon-database'><use xlink:href='#icon-database'></use></svg></label><div class='xr-var-attrs'><dl class='xr-attrs'></dl></div><div class='xr-var-data'><pre>[1 values with dtype=float64]</pre></div></li><li class='xr-var-item'><div class='xr-var-name'><span class='xr-has-index'>channel_id</span></div><div class='xr-var-dims'>(channel_id)</div><div class='xr-var-dtype'>&lt;U9</div><div class='xr-var-preview xr-preview'>&#x27;channel_1&#x27; &#x27;channel_2&#x27;</div><input id='attrs-e5aff465-4acc-4091-9777-458192c22e5c' class='xr-var-attrs-in' type='checkbox' disabled><label for='attrs-e5aff465-4acc-4091-9777-458192c22e5c' title='Show/Hide attributes'><svg class='icon xr-icon-file-text2'><use xlink:href='#icon-file-text2'></use></svg></label><input id='data-738f84e4-e7b1-4e3c-9bc4-6139e0aa6acf' class='xr-var-data-in' type='checkbox'><label for='data-738f84e4-e7b1-4e3c-9bc4-6139e0aa6acf' title='Show/Hide data repr'><svg class='icon xr-icon-database'><use xlink:href='#icon-database'></use></svg></label><div class='xr-var-attrs'><dl class='xr-attrs'></dl></div><div class='xr-var-data'><pre>array([&#x27;channel_1&#x27;, &#x27;channel_2&#x27;], dtype=&#x27;&lt;U9&#x27;)</pre></div></li><li class='xr-var-item'><div class='xr-var-name'><span>frequency</span></div><div class='xr-var-dims'>(channel_id)</div><div class='xr-var-dtype'>float64</div><div class='xr-var-preview xr-preview'>...</div><input id='attrs-c9127bb9-6066-4056-bea2-4d0962512a01' class='xr-var-attrs-in' type='checkbox' disabled><label for='attrs-c9127bb9-6066-4056-bea2-4d0962512a01' title='Show/Hide attributes'><svg class='icon xr-icon-file-text2'><use xlink:href='#icon-file-text2'></use></svg></label><input id='data-e30123b1-8d0f-453e-9b84-b183aadcf7c3' class='xr-var-data-in' type='checkbox'><label for='data-e30123b1-8d0f-453e-9b84-b183aadcf7c3' title='Show/Hide data repr'><svg class='icon xr-icon-database'><use xlink:href='#icon-database'></use></svg></label><div class='xr-var-attrs'><dl class='xr-attrs'></dl></div><div class='xr-var-data'><pre>[2 values with dtype=float64]</pre></div></li><li class='xr-var-item'><div class='xr-var-name'><span>polarization</span></div><div class='xr-var-dims'>(channel_id)</div><div class='xr-var-dtype'>&lt;U1</div><div class='xr-var-preview xr-preview'>...</div><input id='attrs-7823ca1d-6dd9-4b7e-ab55-f3880d86ab12' class='xr-var-attrs-in' type='checkbox' disabled><label for='attrs-7823ca1d-6dd9-4b7e-ab55-f3880d86ab12' title='Show/Hide attributes'><svg class='icon xr-icon-file-text2'><use xlink:href='#icon-file-text2'></use></svg></label><input id='data-d24929a7-0350-4c3c-b960-5f332b4b1c3e' class='xr-var-data-in' type='checkbox'><label for='data-d24929a7-0350-4c3c-b960-5f332b4b1c3e' title='Show/Hide data repr'><svg class='icon xr-icon-database'><use xlink:href='#icon-database'></use></svg></label><div class='xr-var-attrs'><dl class='xr-attrs'></dl></div><div class='xr-var-data'><pre>[2 values with dtype=&lt;U1]</pre></div></li></ul></div></li><li class='xr-section-item'><input id='section-029b4cef-33be-468f-808e-bffa09bb518d' class='xr-section-summary-in' type='checkbox'  checked><label for='section-029b4cef-33be-468f-808e-bffa09bb518d' class='xr-section-summary' >Data variables: <span>(3)</span></label><div class='xr-section-inline-details'></div><div class='xr-section-details'><ul class='xr-var-list'><li class='xr-var-item'><div class='xr-var-name'><span>rsl</span></div><div class='xr-var-dims'>(channel_id, time)</div><div class='xr-var-dtype'>float64</div><div class='xr-var-preview xr-preview'>-41.6 -42.0 -42.0 ... -44.5 -44.5</div><input id='attrs-63727fa3-6c30-4c31-9d39-70cf8e083237' class='xr-var-attrs-in' type='checkbox' disabled><label for='attrs-63727fa3-6c30-4c31-9d39-70cf8e083237' title='Show/Hide attributes'><svg class='icon xr-icon-file-text2'><use xlink:href='#icon-file-text2'></use></svg></label><input id='data-7ba83e62-ca5c-4a27-9e48-010ab6e0f8b0' class='xr-var-data-in' type='checkbox'><label for='data-7ba83e62-ca5c-4a27-9e48-010ab6e0f8b0' title='Show/Hide data repr'><svg class='icon xr-icon-database'><use xlink:href='#icon-database'></use></svg></label><div class='xr-var-attrs'><dl class='xr-attrs'></dl></div><div class='xr-var-data'><pre>array([[-41.6, -42. , -42. , ..., -41. , -40.7, -41. ],\n",
       "       [-44.5, -45.1, -44.8, ..., -44.2, -44.5, -44.5]])</pre></div></li><li class='xr-var-item'><div class='xr-var-name'><span>tsl</span></div><div class='xr-var-dims'>(channel_id, time)</div><div class='xr-var-dtype'>float64</div><div class='xr-var-preview xr-preview'>19.0 19.0 19.0 ... 19.0 19.0 19.0</div><input id='attrs-cfbe2c73-ac96-48bc-a2d7-5c6fe352c60d' class='xr-var-attrs-in' type='checkbox' disabled><label for='attrs-cfbe2c73-ac96-48bc-a2d7-5c6fe352c60d' title='Show/Hide attributes'><svg class='icon xr-icon-file-text2'><use xlink:href='#icon-file-text2'></use></svg></label><input id='data-7086a697-eeb3-4884-a302-bea5497aba79' class='xr-var-data-in' type='checkbox'><label for='data-7086a697-eeb3-4884-a302-bea5497aba79' title='Show/Hide data repr'><svg class='icon xr-icon-database'><use xlink:href='#icon-database'></use></svg></label><div class='xr-var-attrs'><dl class='xr-attrs'></dl></div><div class='xr-var-data'><pre>array([[19., 19., 19., ..., 19., 19., 19.],\n",
       "       [19., 19., 19., ..., 19., 19., 19.]])</pre></div></li><li class='xr-var-item'><div class='xr-var-name'><span>trsl</span></div><div class='xr-var-dims'>(channel_id, time)</div><div class='xr-var-dtype'>float64</div><div class='xr-var-preview xr-preview'>60.6 61.0 61.0 ... 63.2 63.5 63.5</div><input id='attrs-530744cb-e8ac-4080-9512-2ff0edf70781' class='xr-var-attrs-in' type='checkbox' disabled><label for='attrs-530744cb-e8ac-4080-9512-2ff0edf70781' title='Show/Hide attributes'><svg class='icon xr-icon-file-text2'><use xlink:href='#icon-file-text2'></use></svg></label><input id='data-7bb52b0a-192b-4787-8e5e-8d12d67f6d76' class='xr-var-data-in' type='checkbox'><label for='data-7bb52b0a-192b-4787-8e5e-8d12d67f6d76' title='Show/Hide data repr'><svg class='icon xr-icon-database'><use xlink:href='#icon-database'></use></svg></label><div class='xr-var-attrs'><dl class='xr-attrs'></dl></div><div class='xr-var-data'><pre>array([[60.6, 61. , 61. , ..., 60. , 59.7, 60. ],\n",
       "       [63.5, 64.1, 63.8, ..., 63.2, 63.5, 63.5]])</pre></div></li></ul></div></li><li class='xr-section-item'><input id='section-edf3e0d7-62f5-4a12-a7c3-1c8e607228ae' class='xr-section-summary-in' type='checkbox'  ><label for='section-edf3e0d7-62f5-4a12-a7c3-1c8e607228ae' class='xr-section-summary' >Indexes: <span>(2)</span></label><div class='xr-section-inline-details'></div><div class='xr-section-details'><ul class='xr-var-list'><li class='xr-var-item'><div class='xr-index-name'><div>time</div></div><div class='xr-index-preview'>PandasIndex</div><div></div><input id='index-7b11c3fb-f32d-4ba8-a2a4-d1d349f8d744' class='xr-index-data-in' type='checkbox'/><label for='index-7b11c3fb-f32d-4ba8-a2a4-d1d349f8d744' title='Show/Hide index repr'><svg class='icon xr-icon-database'><use xlink:href='#icon-database'></use></svg></label><div class='xr-index-data'><pre>PandasIndex(DatetimeIndex([&#x27;2018-05-10 00:00:00&#x27;, &#x27;2018-05-10 00:01:00&#x27;,\n",
       "               &#x27;2018-05-10 00:02:00&#x27;, &#x27;2018-05-10 00:03:00&#x27;,\n",
       "               &#x27;2018-05-10 00:04:00&#x27;, &#x27;2018-05-10 00:05:00&#x27;,\n",
       "               &#x27;2018-05-10 00:06:00&#x27;, &#x27;2018-05-10 00:07:00&#x27;,\n",
       "               &#x27;2018-05-10 00:08:00&#x27;, &#x27;2018-05-10 00:09:00&#x27;,\n",
       "               ...\n",
       "               &#x27;2018-05-20 23:50:00&#x27;, &#x27;2018-05-20 23:51:00&#x27;,\n",
       "               &#x27;2018-05-20 23:52:00&#x27;, &#x27;2018-05-20 23:53:00&#x27;,\n",
       "               &#x27;2018-05-20 23:54:00&#x27;, &#x27;2018-05-20 23:55:00&#x27;,\n",
       "               &#x27;2018-05-20 23:56:00&#x27;, &#x27;2018-05-20 23:57:00&#x27;,\n",
       "               &#x27;2018-05-20 23:58:00&#x27;, &#x27;2018-05-20 23:59:00&#x27;],\n",
       "              dtype=&#x27;datetime64[ns]&#x27;, name=&#x27;time&#x27;, length=15840, freq=None))</pre></div></li><li class='xr-var-item'><div class='xr-index-name'><div>channel_id</div></div><div class='xr-index-preview'>PandasIndex</div><div></div><input id='index-a71bd8fd-8373-404d-b685-f239ca524136' class='xr-index-data-in' type='checkbox'/><label for='index-a71bd8fd-8373-404d-b685-f239ca524136' title='Show/Hide index repr'><svg class='icon xr-icon-database'><use xlink:href='#icon-database'></use></svg></label><div class='xr-index-data'><pre>PandasIndex(Index([&#x27;channel_1&#x27;, &#x27;channel_2&#x27;], dtype=&#x27;object&#x27;, name=&#x27;channel_id&#x27;))</pre></div></li></ul></div></li><li class='xr-section-item'><input id='section-8aa849a2-bef4-4971-9cda-bb703d42d2c4' class='xr-section-summary-in' type='checkbox' disabled ><label for='section-8aa849a2-bef4-4971-9cda-bb703d42d2c4' class='xr-section-summary'  title='Expand/collapse section'>Attributes: <span>(0)</span></label><div class='xr-section-inline-details'></div><div class='xr-section-details'><dl class='xr-attrs'></dl></div></li></ul></div></div>"
      ],
      "text/plain": [
       "<xarray.Dataset> Size: 887kB\n",
       "Dimensions:       (time: 15840, channel_id: 2)\n",
       "Coordinates:\n",
       "  * time          (time) datetime64[ns] 127kB 2018-05-10 ... 2018-05-20T23:59:00\n",
       "    cml_id        <U3 12B '14'\n",
       "    length        float64 8B ...\n",
       "  * channel_id    (channel_id) <U9 72B 'channel_1' 'channel_2'\n",
       "    frequency     (channel_id) float64 16B ...\n",
       "    polarization  (channel_id) <U1 8B ...\n",
       "Data variables:\n",
       "    rsl           (channel_id, time) float64 253kB -41.6 -42.0 ... -44.5 -44.5\n",
       "    tsl           (channel_id, time) float64 253kB 19.0 19.0 19.0 ... 19.0 19.0\n",
       "    trsl          (channel_id, time) float64 253kB 60.6 61.0 61.0 ... 63.5 63.5"
      ]
     },
     "execution_count": 5,
     "metadata": {},
     "output_type": "execute_result"
    }
   ],
   "source": [
    "# Choose one cml\n",
    "k = 14; # index of chosen cml 0-499\n",
    "my_cml = cml_set.isel(cml_id = k) # https://docs.xarray.dev/en/latest/generated/xarray.Dataset.assign.html\n",
    "my_ref = ref_set.isel(cml_id = k)\n",
    "\n",
    "# Check for fault data in TSL, RSL and replace it with NaN https://github.com/jpolz/cml_wd_pytorch/tree/main\n",
    "my_cml['tsl'] = my_cml.tsl.where(my_cml.tsl != 255.0)\n",
    "my_cml['rsl'] = my_cml.rsl.where(my_cml.rsl != -99.9)\n",
    "# Calculate TRSL\n",
    "my_cml['trsl'] = my_cml.tsl - my_cml.rsl\n",
    "\n",
    "# show CML dataset\n",
    "my_cml"
   ]
  },
  {
   "cell_type": "markdown",
   "metadata": {},
   "source": [
    "#### Interpolate misising values"
   ]
  },
  {
   "cell_type": "code",
   "execution_count": 6,
   "metadata": {},
   "outputs": [],
   "source": [
    "# From pycomlink\n",
    "my_cml['trsl'] = my_cml.trsl.interpolate_na(dim='time', method='linear', max_gap='5min')\n"
   ]
  },
  {
   "cell_type": "markdown",
   "metadata": {},
   "source": [
    "#### Resample CML data to 5 min step "
   ]
  },
  {
   "cell_type": "code",
   "execution_count": 7,
   "metadata": {},
   "outputs": [],
   "source": [
    "# maybe try to calculate rate of resampling from cml and ref data\n",
    "my_cml = my_cml.resample(time=\"5min\").mean() # from Pycomlink\n",
    "# len(my_cml.time)"
   ]
  },
  {
   "cell_type": "markdown",
   "metadata": {},
   "source": [
    "#### Align to a dataset with Reference RADOLAN data and calculate boolean Wet/dry Reference flag"
   ]
  },
  {
   "cell_type": "code",
   "execution_count": 8,
   "metadata": {},
   "outputs": [],
   "source": [
    "my_data_set = my_cml.assign(my_ref)\n",
    "# From reference rain rate derivate 1/0 reference Wet/Dry signal\n",
    "my_data_set['ref_wet_dry'] = my_ref.rainfall_amount.where(my_ref.rainfall_amount == 0, True) # ChatGPT\n",
    "# convert float value to bool for plotting the shaded areas from Pycomlink\n",
    "my_data_set['ref_wet_dry'] = my_data_set.fillna(0).ref_wet_dry.astype(bool)\n",
    "# my_data_set"
   ]
  },
  {
   "cell_type": "code",
   "execution_count": 9,
   "metadata": {},
   "outputs": [],
   "source": [
    "# For simplification drop RSL, TSL, rainfall amount\n",
    "# my_data_set = my_data_set.reset_coords(['rsl','tsl','rainfall_amount'], drop=True)"
   ]
  },
  {
   "cell_type": "markdown",
   "metadata": {},
   "source": [
    "#### Plot dataset of the one chosen cml "
   ]
  },
  {
   "cell_type": "code",
   "execution_count": 9,
   "metadata": {},
   "outputs": [
    {
     "data": {
      "image/png": "[encoded data removed]",
      "text/plain": [
       "<Figure size 1200x400 with 1 Axes>"
      ]
     },
     "metadata": {},
     "output_type": "display_data"
    }
   ],
   "source": [
    "# shaded refernece wet periods from Pycomlink\n",
    "# set first and last value with zero for correct plotting\n",
    "my_data_set['ref_wet_dry'][0] = 0 \n",
    "my_data_set['ref_wet_dry'][-1] = 0 \n",
    "\n",
    "# seup figure\n",
    "fig, ax = plt.subplots(figsize=(12,4), sharex=True)\n",
    "my_data_set.trsl.plot.line(x='time', ax=ax, label = 'TL');\n",
    "\n",
    "wet_start = np.roll(my_data_set.ref_wet_dry, -1) & ~my_data_set.ref_wet_dry\n",
    "wet_end = np.roll(my_data_set.ref_wet_dry, 1) & ~my_data_set.ref_wet_dry\n",
    "for wet_start_i, wet_end_i in zip(\n",
    "    wet_start.values.nonzero()[0],\n",
    "    wet_end.values.nonzero()[0],\n",
    "):\n",
    "    ax.axvspan(my_data_set.time.values[wet_start_i], my_data_set.time.values[wet_end_i], color='b', alpha=0.2, linewidth=0) # https://matplotlib.org/stable/api/_as_gen/matplotlib.axes.Axes.axvspan.html"
   ]
  },
  {
   "cell_type": "code",
   "execution_count": 10,
   "metadata": {},
   "outputs": [
    {
     "data": {
      "image/png": "[encoded data removed]",
      "text/plain": [
       "<Figure size 640x480 with 1 Axes>"
      ]
     },
     "metadata": {},
     "output_type": "display_data"
    }
   ],
   "source": [
    "# histogram from: https://isibrno.cz/deep/\n",
    "plt.figure()\n",
    "plt.hist(my_data_set.trsl)\n",
    "plt.title(f'Histogram of TRSL')\n",
    "plt.xlabel('TRSL [dB]')\n",
    "plt.ylabel('Frequency')\n",
    "plt.show()"
   ]
  },
  {
   "cell_type": "markdown",
   "metadata": {},
   "source": [
    "## Building dataset"
   ]
  },
  {
   "cell_type": "markdown",
   "metadata": {},
   "source": [
    "#### Agregate 1h measurements into sample\n",
    "To build samples for CNN. rain event will be predicted for whole sample\n",
    "12 times 5 min time step = 1 hour time window   \n",
    "source: chatGPT\n",
    "\n",
    "__TODO: Possible simplification using .reshape or .view and rewriting trsl, ref_wet_dry__"
   ]
  },
  {
   "cell_type": "code",
   "execution_count": 212,
   "metadata": {},
   "outputs": [],
   "source": [
    "# extract metadata:\n",
    "cml_id = my_data_set.cml_id.values\n",
    "length = my_data_set.length.values\n",
    "frequency = my_data_set.frequency.values\n",
    "polarization = my_data_set.polarization.values"
   ]
  },
  {
   "cell_type": "code",
   "execution_count": 213,
   "metadata": {},
   "outputs": [
    {
     "data": {
      "text/plain": [
       "264"
      ]
     },
     "execution_count": 213,
     "metadata": {},
     "output_type": "execute_result"
    }
   ],
   "source": [
    "sample_size = 12 # =1 h\n",
    "# get number of samples \n",
    "n_samples = len(my_data_set.time) // sample_size \n",
    "n_samples"
   ]
  },
  {
   "cell_type": "code",
   "execution_count": 214,
   "metadata": {},
   "outputs": [
    {
     "data": {
      "text/plain": [
       "array([[[60.64, 63.74, 60.6 , ..., 63.8 , 60.7 , 63.98],\n",
       "        [60.3 , 63.68, 60.42, ..., 63.86, 60.24, 63.8 ]],\n",
       "\n",
       "       [[60.42, 63.86, 60.54, ..., 63.68, 60.5 , 63.74],\n",
       "        [60.62, 63.8 , 60.38, ..., 63.92, 60.42, 63.74]],\n",
       "\n",
       "       [[60.36, 63.68, 60.3 , ..., 63.56, 60.42, 63.68],\n",
       "        [60.48, 63.74, 60.3 , ..., 63.68, 60.48, 63.5 ]],\n",
       "\n",
       "       ...,\n",
       "\n",
       "       [[60.12, 63.56, 60.12, ..., 63.56, 60.36, 63.92],\n",
       "        [60.24, 63.74, 60.18, ..., 63.56, 60.36, 63.5 ]],\n",
       "\n",
       "       [[60.18, 63.3 , 60.24, ..., 63.12, 60.12, 63.32],\n",
       "        [60.18, 63.26, 60.12, ..., 63.32, 59.94, 63.2 ]],\n",
       "\n",
       "       [[60.  , 63.26, 59.94, ..., 63.32, 59.94, 63.38],\n",
       "        [60.  , 63.38, 59.94, ..., 63.38, 59.94, 63.38]]])"
      ]
     },
     "execution_count": 214,
     "metadata": {},
     "output_type": "execute_result"
    }
   ],
   "source": [
    "# Reshape dataset to a new shape with the sample_id dimension\n",
    "# last few points cant make a sample of 120. Will be cut off. \n",
    "trsl_reshaped = my_data_set['trsl'].values[0:(n_samples*sample_size)] \n",
    "# reshape\n",
    "trsl_reshaped = trsl_reshaped.reshape(n_samples, 2, sample_size)   #2 stands for 2 channels\n",
    "trsl_reshaped # array of 26 samples with and 2 channels containing 120 trsl measurements"
   ]
  },
  {
   "cell_type": "code",
   "execution_count": 215,
   "metadata": {
    "scrolled": true
   },
   "outputs": [
    {
     "data": {
      "text/plain": [
       "array([[False, False, False, ..., False, False, False],\n",
       "       [False, False, False, ..., False, False, False],\n",
       "       [False, False, False, ..., False, False, False],\n",
       "       ...,\n",
       "       [False, False, False, ..., False, False, False],\n",
       "       [False, False, False, ..., False, False, False],\n",
       "       [False, False, False, ..., False, False, False]])"
      ]
     },
     "execution_count": 215,
     "metadata": {},
     "output_type": "execute_result"
    }
   ],
   "source": [
    "# last few points cant make a sample. Has to be cut off. \n",
    "ref_reshaped = my_data_set['ref_wet_dry'].values[0:(n_samples*sample_size)] \n",
    "# reshape\n",
    "ref_reshaped = ref_reshaped.reshape(n_samples, sample_size)\n",
    "ref_reshaped # array of n samples containing 1 hour of trsl measurements\n"
   ]
  },
  {
   "cell_type": "code",
   "execution_count": 216,
   "metadata": {
    "scrolled": true
   },
   "outputs": [
    {
     "data": {
      "text/plain": [
       "array([[0., 0., 0., ..., 0., 0., 0.],\n",
       "       [0., 0., 0., ..., 0., 0., 0.],\n",
       "       [0., 0., 0., ..., 0., 0., 0.],\n",
       "       ...,\n",
       "       [0., 0., 0., ..., 0., 0., 0.],\n",
       "       [0., 0., 0., ..., 0., 0., 0.],\n",
       "       [0., 0., 0., ..., 0., 0., 0.]])"
      ]
     },
     "execution_count": 216,
     "metadata": {},
     "output_type": "execute_result"
    }
   ],
   "source": [
    "# last few points cant make a sample. Has to be cut off. \n",
    "rain_reshaped = my_data_set['rainfall_amount'].values[0:(n_samples*sample_size)] \n",
    "# reshape\n",
    "rain_reshaped = rain_reshaped.reshape(n_samples, sample_size)\n",
    "rain_reshaped # array of n samples containing 1 hour of trsl measurements\n"
   ]
  },
  {
   "cell_type": "code",
   "execution_count": 217,
   "metadata": {
    "scrolled": true
   },
   "outputs": [],
   "source": [
    "# Create a new xarray Dataset with sample_num as a dimension\n",
    "# replace time and date with timestep in the time sample\n",
    "ds = xr.Dataset({\n",
    "    'trsl': (('sample_num', 'channel_id', 'timestep'), trsl_reshaped),\n",
    "    'ref_wet_dry': (('sample_num', 'timestep'), ref_reshaped),\n",
    "    'rain': (('sample_num', 'timestep'), rain_reshaped)\n",
    "}, coords={#'sample_num': np.arange(n_samples),\n",
    "           #'channel_id': np.arange(2),\n",
    "           #'timestep': np.arange(sample_size),\n",
    "           #'cml_id': cml_id,\n",
    "           #'length': length,                                  #single value is never a dimension\n",
    "           #'frequency': (('channel_id'), frequency),          # this way coordinate will not become a dimension\n",
    "           #'polarization': (('channel_id'), polarization)\n",
    "            })\n",
    "            \n",
    "# make sure TRSL coordinates are in correct order\n",
    "ds['trsl'] = ds.trsl.transpose('sample_num', 'channel_id', 'timestep')\n"
   ]
  },
  {
   "cell_type": "code",
   "execution_count": 219,
   "metadata": {},
   "outputs": [],
   "source": [
    "# create one boolean wet/dry flag for whole 1hour sample [2]\n",
    "last_hour = range(-1,-sample_size,-1)    # 12 samples \n",
    "\n",
    "# create one boolean wet/dry flag for whole sample [2]\n",
    "ds['wet_radar'] = ds.rain.isel(timestep=last_hour).sum(dim='timestep')>0.1"
   ]
  },
  {
   "cell_type": "code",
   "execution_count": 220,
   "metadata": {},
   "outputs": [
    {
     "data": {
      "text/html": [
       "<div><svg style=\"position: absolute; width: 0; height: 0; overflow: hidden\">\n",
       "<defs>\n",
       "<symbol id=\"icon-database\" viewBox=\"0 0 32 32\">\n",
       "<path d=\"M16 0c-8.837 0-16 2.239-16 5v4c0 2.761 7.163 5 16 5s16-2.239 16-5v-4c0-2.761-7.163-5-16-5z\"></path>\n",
       "<path d=\"M16 17c-8.837 0-16-2.239-16-5v6c0 2.761 7.163 5 16 5s16-2.239 16-5v-6c0 2.761-7.163 5-16 5z\"></path>\n",
       "<path d=\"M16 26c-8.837 0-16-2.239-16-5v6c0 2.761 7.163 5 16 5s16-2.239 16-5v-6c0 2.761-7.163 5-16 5z\"></path>\n",
       "</symbol>\n",
       "<symbol id=\"icon-file-text2\" viewBox=\"0 0 32 32\">\n",
       "<path d=\"M28.681 7.159c-0.694-0.947-1.662-2.053-2.724-3.116s-2.169-2.030-3.116-2.724c-1.612-1.182-2.393-1.319-2.841-1.319h-15.5c-1.378 0-2.5 1.121-2.5 2.5v27c0 1.378 1.122 2.5 2.5 2.5h23c1.378 0 2.5-1.122 2.5-2.5v-19.5c0-0.448-0.137-1.23-1.319-2.841zM24.543 5.457c0.959 0.959 1.712 1.825 2.268 2.543h-4.811v-4.811c0.718 0.556 1.584 1.309 2.543 2.268zM28 29.5c0 0.271-0.229 0.5-0.5 0.5h-23c-0.271 0-0.5-0.229-0.5-0.5v-27c0-0.271 0.229-0.5 0.5-0.5 0 0 15.499-0 15.5 0v7c0 0.552 0.448 1 1 1h7v19.5z\"></path>\n",
       "<path d=\"M23 26h-14c-0.552 0-1-0.448-1-1s0.448-1 1-1h14c0.552 0 1 0.448 1 1s-0.448 1-1 1z\"></path>\n",
       "<path d=\"M23 22h-14c-0.552 0-1-0.448-1-1s0.448-1 1-1h14c0.552 0 1 0.448 1 1s-0.448 1-1 1z\"></path>\n",
       "<path d=\"M23 18h-14c-0.552 0-1-0.448-1-1s0.448-1 1-1h14c0.552 0 1 0.448 1 1s-0.448 1-1 1z\"></path>\n",
       "</symbol>\n",
       "</defs>\n",
       "</svg>\n",
       "<style>/* CSS stylesheet for displaying xarray objects in jupyterlab.\n",
       " *\n",
       " */\n",
       "\n",
       ":root {\n",
       "  --xr-font-color0: var(--jp-content-font-color0, rgba(0, 0, 0, 1));\n",
       "  --xr-font-color2: var(--jp-content-font-color2, rgba(0, 0, 0, 0.54));\n",
       "  --xr-font-color3: var(--jp-content-font-color3, rgba(0, 0, 0, 0.38));\n",
       "  --xr-border-color: var(--jp-border-color2, #e0e0e0);\n",
       "  --xr-disabled-color: var(--jp-layout-color3, #bdbdbd);\n",
       "  --xr-background-color: var(--jp-layout-color0, white);\n",
       "  --xr-background-color-row-even: var(--jp-layout-color1, white);\n",
       "  --xr-background-color-row-odd: var(--jp-layout-color2, #eeeeee);\n",
       "}\n",
       "\n",
       "html[theme=dark],\n",
       "html[data-theme=dark],\n",
       "body[data-theme=dark],\n",
       "body.vscode-dark {\n",
       "  --xr-font-color0: rgba(255, 255, 255, 1);\n",
       "  --xr-font-color2: rgba(255, 255, 255, 0.54);\n",
       "  --xr-font-color3: rgba(255, 255, 255, 0.38);\n",
       "  --xr-border-color: #1F1F1F;\n",
       "  --xr-disabled-color: #515151;\n",
       "  --xr-background-color: #111111;\n",
       "  --xr-background-color-row-even: #111111;\n",
       "  --xr-background-color-row-odd: #313131;\n",
       "}\n",
       "\n",
       ".xr-wrap {\n",
       "  display: block !important;\n",
       "  min-width: 300px;\n",
       "  max-width: 700px;\n",
       "}\n",
       "\n",
       ".xr-text-repr-fallback {\n",
       "  /* fallback to plain text repr when CSS is not injected (untrusted notebook) */\n",
       "  display: none;\n",
       "}\n",
       "\n",
       ".xr-header {\n",
       "  padding-top: 6px;\n",
       "  padding-bottom: 6px;\n",
       "  margin-bottom: 4px;\n",
       "  border-bottom: solid 1px var(--xr-border-color);\n",
       "}\n",
       "\n",
       ".xr-header > div,\n",
       ".xr-header > ul {\n",
       "  display: inline;\n",
       "  margin-top: 0;\n",
       "  margin-bottom: 0;\n",
       "}\n",
       "\n",
       ".xr-obj-type,\n",
       ".xr-array-name {\n",
       "  margin-left: 2px;\n",
       "  margin-right: 10px;\n",
       "}\n",
       "\n",
       ".xr-obj-type {\n",
       "  color: var(--xr-font-color2);\n",
       "}\n",
       "\n",
       ".xr-sections {\n",
       "  padding-left: 0 !important;\n",
       "  display: grid;\n",
       "  grid-template-columns: 150px auto auto 1fr 0 20px 0 20px;\n",
       "}\n",
       "\n",
       ".xr-section-item {\n",
       "  display: contents;\n",
       "}\n",
       "\n",
       ".xr-section-item input {\n",
       "  display: inline-block;\n",
       "  opacity: 0;\n",
       "}\n",
       "\n",
       ".xr-section-item input + label {\n",
       "  color: var(--xr-disabled-color);\n",
       "}\n",
       "\n",
       ".xr-section-item input:enabled + label {\n",
       "  cursor: pointer;\n",
       "  color: var(--xr-font-color2);\n",
       "}\n",
       "\n",
       ".xr-section-item input:focus + label {\n",
       "  border: 2px solid var(--xr-font-color0);\n",
       "}\n",
       "\n",
       ".xr-section-item input:enabled + label:hover {\n",
       "  color: var(--xr-font-color0);\n",
       "}\n",
       "\n",
       ".xr-section-summary {\n",
       "  grid-column: 1;\n",
       "  color: var(--xr-font-color2);\n",
       "  font-weight: 500;\n",
       "}\n",
       "\n",
       ".xr-section-summary > span {\n",
       "  display: inline-block;\n",
       "  padding-left: 0.5em;\n",
       "}\n",
       "\n",
       ".xr-section-summary-in:disabled + label {\n",
       "  color: var(--xr-font-color2);\n",
       "}\n",
       "\n",
       ".xr-section-summary-in + label:before {\n",
       "  display: inline-block;\n",
       "  content: '►';\n",
       "  font-size: 11px;\n",
       "  width: 15px;\n",
       "  text-align: center;\n",
       "}\n",
       "\n",
       ".xr-section-summary-in:disabled + label:before {\n",
       "  color: var(--xr-disabled-color);\n",
       "}\n",
       "\n",
       ".xr-section-summary-in:checked + label:before {\n",
       "  content: '▼';\n",
       "}\n",
       "\n",
       ".xr-section-summary-in:checked + label > span {\n",
       "  display: none;\n",
       "}\n",
       "\n",
       ".xr-section-summary,\n",
       ".xr-section-inline-details {\n",
       "  padding-top: 4px;\n",
       "  padding-bottom: 4px;\n",
       "}\n",
       "\n",
       ".xr-section-inline-details {\n",
       "  grid-column: 2 / -1;\n",
       "}\n",
       "\n",
       ".xr-section-details {\n",
       "  display: none;\n",
       "  grid-column: 1 / -1;\n",
       "  margin-bottom: 5px;\n",
       "}\n",
       "\n",
       ".xr-section-summary-in:checked ~ .xr-section-details {\n",
       "  display: contents;\n",
       "}\n",
       "\n",
       ".xr-array-wrap {\n",
       "  grid-column: 1 / -1;\n",
       "  display: grid;\n",
       "  grid-template-columns: 20px auto;\n",
       "}\n",
       "\n",
       ".xr-array-wrap > label {\n",
       "  grid-column: 1;\n",
       "  vertical-align: top;\n",
       "}\n",
       "\n",
       ".xr-preview {\n",
       "  color: var(--xr-font-color3);\n",
       "}\n",
       "\n",
       ".xr-array-preview,\n",
       ".xr-array-data {\n",
       "  padding: 0 5px !important;\n",
       "  grid-column: 2;\n",
       "}\n",
       "\n",
       ".xr-array-data,\n",
       ".xr-array-in:checked ~ .xr-array-preview {\n",
       "  display: none;\n",
       "}\n",
       "\n",
       ".xr-array-in:checked ~ .xr-array-data,\n",
       ".xr-array-preview {\n",
       "  display: inline-block;\n",
       "}\n",
       "\n",
       ".xr-dim-list {\n",
       "  display: inline-block !important;\n",
       "  list-style: none;\n",
       "  padding: 0 !important;\n",
       "  margin: 0;\n",
       "}\n",
       "\n",
       ".xr-dim-list li {\n",
       "  display: inline-block;\n",
       "  padding: 0;\n",
       "  margin: 0;\n",
       "}\n",
       "\n",
       ".xr-dim-list:before {\n",
       "  content: '(';\n",
       "}\n",
       "\n",
       ".xr-dim-list:after {\n",
       "  content: ')';\n",
       "}\n",
       "\n",
       ".xr-dim-list li:not(:last-child):after {\n",
       "  content: ',';\n",
       "  padding-right: 5px;\n",
       "}\n",
       "\n",
       ".xr-has-index {\n",
       "  font-weight: bold;\n",
       "}\n",
       "\n",
       ".xr-var-list,\n",
       ".xr-var-item {\n",
       "  display: contents;\n",
       "}\n",
       "\n",
       ".xr-var-item > div,\n",
       ".xr-var-item label,\n",
       ".xr-var-item > .xr-var-name span {\n",
       "  background-color: var(--xr-background-color-row-even);\n",
       "  margin-bottom: 0;\n",
       "}\n",
       "\n",
       ".xr-var-item > .xr-var-name:hover span {\n",
       "  padding-right: 5px;\n",
       "}\n",
       "\n",
       ".xr-var-list > li:nth-child(odd) > div,\n",
       ".xr-var-list > li:nth-child(odd) > label,\n",
       ".xr-var-list > li:nth-child(odd) > .xr-var-name span {\n",
       "  background-color: var(--xr-background-color-row-odd);\n",
       "}\n",
       "\n",
       ".xr-var-name {\n",
       "  grid-column: 1;\n",
       "}\n",
       "\n",
       ".xr-var-dims {\n",
       "  grid-column: 2;\n",
       "}\n",
       "\n",
       ".xr-var-dtype {\n",
       "  grid-column: 3;\n",
       "  text-align: right;\n",
       "  color: var(--xr-font-color2);\n",
       "}\n",
       "\n",
       ".xr-var-preview {\n",
       "  grid-column: 4;\n",
       "}\n",
       "\n",
       ".xr-index-preview {\n",
       "  grid-column: 2 / 5;\n",
       "  color: var(--xr-font-color2);\n",
       "}\n",
       "\n",
       ".xr-var-name,\n",
       ".xr-var-dims,\n",
       ".xr-var-dtype,\n",
       ".xr-preview,\n",
       ".xr-attrs dt {\n",
       "  white-space: nowrap;\n",
       "  overflow: hidden;\n",
       "  text-overflow: ellipsis;\n",
       "  padding-right: 10px;\n",
       "}\n",
       "\n",
       ".xr-var-name:hover,\n",
       ".xr-var-dims:hover,\n",
       ".xr-var-dtype:hover,\n",
       ".xr-attrs dt:hover {\n",
       "  overflow: visible;\n",
       "  width: auto;\n",
       "  z-index: 1;\n",
       "}\n",
       "\n",
       ".xr-var-attrs,\n",
       ".xr-var-data,\n",
       ".xr-index-data {\n",
       "  display: none;\n",
       "  background-color: var(--xr-background-color) !important;\n",
       "  padding-bottom: 5px !important;\n",
       "}\n",
       "\n",
       ".xr-var-attrs-in:checked ~ .xr-var-attrs,\n",
       ".xr-var-data-in:checked ~ .xr-var-data,\n",
       ".xr-index-data-in:checked ~ .xr-index-data {\n",
       "  display: block;\n",
       "}\n",
       "\n",
       ".xr-var-data > table {\n",
       "  float: right;\n",
       "}\n",
       "\n",
       ".xr-var-name span,\n",
       ".xr-var-data,\n",
       ".xr-index-name div,\n",
       ".xr-index-data,\n",
       ".xr-attrs {\n",
       "  padding-left: 25px !important;\n",
       "}\n",
       "\n",
       ".xr-attrs,\n",
       ".xr-var-attrs,\n",
       ".xr-var-data,\n",
       ".xr-index-data {\n",
       "  grid-column: 1 / -1;\n",
       "}\n",
       "\n",
       "dl.xr-attrs {\n",
       "  padding: 0;\n",
       "  margin: 0;\n",
       "  display: grid;\n",
       "  grid-template-columns: 125px auto;\n",
       "}\n",
       "\n",
       ".xr-attrs dt,\n",
       ".xr-attrs dd {\n",
       "  padding: 0;\n",
       "  margin: 0;\n",
       "  float: left;\n",
       "  padding-right: 10px;\n",
       "  width: auto;\n",
       "}\n",
       "\n",
       ".xr-attrs dt {\n",
       "  font-weight: normal;\n",
       "  grid-column: 1;\n",
       "}\n",
       "\n",
       ".xr-attrs dt:hover span {\n",
       "  display: inline-block;\n",
       "  background: var(--xr-background-color);\n",
       "  padding-right: 10px;\n",
       "}\n",
       "\n",
       ".xr-attrs dd {\n",
       "  grid-column: 2;\n",
       "  white-space: pre-wrap;\n",
       "  word-break: break-all;\n",
       "}\n",
       "\n",
       ".xr-icon-database,\n",
       ".xr-icon-file-text2,\n",
       ".xr-no-icon {\n",
       "  display: inline-block;\n",
       "  vertical-align: middle;\n",
       "  width: 1em;\n",
       "  height: 1.5em !important;\n",
       "  stroke-width: 0;\n",
       "  stroke: currentColor;\n",
       "  fill: currentColor;\n",
       "}\n",
       "</style><pre class='xr-text-repr-fallback'>&lt;xarray.Dataset&gt; Size: 79kB\n",
       "Dimensions:      (sample_num: 264, channel_id: 2, timestep: 12)\n",
       "Dimensions without coordinates: sample_num, channel_id, timestep\n",
       "Data variables:\n",
       "    trsl         (sample_num, channel_id, timestep) float64 51kB 60.64 ... 63.38\n",
       "    ref_wet_dry  (sample_num, timestep) bool 3kB False False ... False False\n",
       "    rain         (sample_num, timestep) float64 25kB 0.0 0.0 0.0 ... 0.0 0.0 0.0\n",
       "    wet_radar    (sample_num) bool 264B False False False ... False False False</pre><div class='xr-wrap' style='display:none'><div class='xr-header'><div class='xr-obj-type'>xarray.Dataset</div></div><ul class='xr-sections'><li class='xr-section-item'><input id='section-1fe52da6-fd00-4d89-8be8-6e39bce345d3' class='xr-section-summary-in' type='checkbox' disabled ><label for='section-1fe52da6-fd00-4d89-8be8-6e39bce345d3' class='xr-section-summary'  title='Expand/collapse section'>Dimensions:</label><div class='xr-section-inline-details'><ul class='xr-dim-list'><li><span>sample_num</span>: 264</li><li><span>channel_id</span>: 2</li><li><span>timestep</span>: 12</li></ul></div><div class='xr-section-details'></div></li><li class='xr-section-item'><input id='section-573c4e40-e12a-4ae8-ae1a-da1ed14b17de' class='xr-section-summary-in' type='checkbox' disabled ><label for='section-573c4e40-e12a-4ae8-ae1a-da1ed14b17de' class='xr-section-summary'  title='Expand/collapse section'>Coordinates: <span>(0)</span></label><div class='xr-section-inline-details'></div><div class='xr-section-details'><ul class='xr-var-list'></ul></div></li><li class='xr-section-item'><input id='section-6d468c75-5651-462c-bf85-14c6dec3db21' class='xr-section-summary-in' type='checkbox'  checked><label for='section-6d468c75-5651-462c-bf85-14c6dec3db21' class='xr-section-summary' >Data variables: <span>(4)</span></label><div class='xr-section-inline-details'></div><div class='xr-section-details'><ul class='xr-var-list'><li class='xr-var-item'><div class='xr-var-name'><span>trsl</span></div><div class='xr-var-dims'>(sample_num, channel_id, timestep)</div><div class='xr-var-dtype'>float64</div><div class='xr-var-preview xr-preview'>60.64 63.74 60.6 ... 59.94 63.38</div><input id='attrs-ded2f3a4-432f-4116-8fb8-55442c5c48b1' class='xr-var-attrs-in' type='checkbox' disabled><label for='attrs-ded2f3a4-432f-4116-8fb8-55442c5c48b1' title='Show/Hide attributes'><svg class='icon xr-icon-file-text2'><use xlink:href='#icon-file-text2'></use></svg></label><input id='data-493d2cc1-8ed8-475d-bfca-ec3b8c10b401' class='xr-var-data-in' type='checkbox'><label for='data-493d2cc1-8ed8-475d-bfca-ec3b8c10b401' title='Show/Hide data repr'><svg class='icon xr-icon-database'><use xlink:href='#icon-database'></use></svg></label><div class='xr-var-attrs'><dl class='xr-attrs'></dl></div><div class='xr-var-data'><pre>array([[[60.64, 63.74, 60.6 , ..., 63.8 , 60.7 , 63.98],\n",
       "        [60.3 , 63.68, 60.42, ..., 63.86, 60.24, 63.8 ]],\n",
       "\n",
       "       [[60.42, 63.86, 60.54, ..., 63.68, 60.5 , 63.74],\n",
       "        [60.62, 63.8 , 60.38, ..., 63.92, 60.42, 63.74]],\n",
       "\n",
       "       [[60.36, 63.68, 60.3 , ..., 63.56, 60.42, 63.68],\n",
       "        [60.48, 63.74, 60.3 , ..., 63.68, 60.48, 63.5 ]],\n",
       "\n",
       "       ...,\n",
       "\n",
       "       [[60.12, 63.56, 60.12, ..., 63.56, 60.36, 63.92],\n",
       "        [60.24, 63.74, 60.18, ..., 63.56, 60.36, 63.5 ]],\n",
       "\n",
       "       [[60.18, 63.3 , 60.24, ..., 63.12, 60.12, 63.32],\n",
       "        [60.18, 63.26, 60.12, ..., 63.32, 59.94, 63.2 ]],\n",
       "\n",
       "       [[60.  , 63.26, 59.94, ..., 63.32, 59.94, 63.38],\n",
       "        [60.  , 63.38, 59.94, ..., 63.38, 59.94, 63.38]]])</pre></div></li><li class='xr-var-item'><div class='xr-var-name'><span>ref_wet_dry</span></div><div class='xr-var-dims'>(sample_num, timestep)</div><div class='xr-var-dtype'>bool</div><div class='xr-var-preview xr-preview'>False False False ... False False</div><input id='attrs-9d1d379b-2242-4f92-89e3-f282a203836d' class='xr-var-attrs-in' type='checkbox' disabled><label for='attrs-9d1d379b-2242-4f92-89e3-f282a203836d' title='Show/Hide attributes'><svg class='icon xr-icon-file-text2'><use xlink:href='#icon-file-text2'></use></svg></label><input id='data-e6ce3b1d-086f-48cd-89f4-f8112ab69e14' class='xr-var-data-in' type='checkbox'><label for='data-e6ce3b1d-086f-48cd-89f4-f8112ab69e14' title='Show/Hide data repr'><svg class='icon xr-icon-database'><use xlink:href='#icon-database'></use></svg></label><div class='xr-var-attrs'><dl class='xr-attrs'></dl></div><div class='xr-var-data'><pre>array([[False, False, False, ..., False, False, False],\n",
       "       [False, False, False, ..., False, False, False],\n",
       "       [False, False, False, ..., False, False, False],\n",
       "       ...,\n",
       "       [False, False, False, ..., False, False, False],\n",
       "       [False, False, False, ..., False, False, False],\n",
       "       [False, False, False, ..., False, False, False]])</pre></div></li><li class='xr-var-item'><div class='xr-var-name'><span>rain</span></div><div class='xr-var-dims'>(sample_num, timestep)</div><div class='xr-var-dtype'>float64</div><div class='xr-var-preview xr-preview'>0.0 0.0 0.0 0.0 ... 0.0 0.0 0.0 0.0</div><input id='attrs-5703570d-9c60-488b-9514-1a9ab261b87a' class='xr-var-attrs-in' type='checkbox' disabled><label for='attrs-5703570d-9c60-488b-9514-1a9ab261b87a' title='Show/Hide attributes'><svg class='icon xr-icon-file-text2'><use xlink:href='#icon-file-text2'></use></svg></label><input id='data-b977e29c-dbd9-42d1-8dd6-84e816b5b5bf' class='xr-var-data-in' type='checkbox'><label for='data-b977e29c-dbd9-42d1-8dd6-84e816b5b5bf' title='Show/Hide data repr'><svg class='icon xr-icon-database'><use xlink:href='#icon-database'></use></svg></label><div class='xr-var-attrs'><dl class='xr-attrs'></dl></div><div class='xr-var-data'><pre>array([[0., 0., 0., ..., 0., 0., 0.],\n",
       "       [0., 0., 0., ..., 0., 0., 0.],\n",
       "       [0., 0., 0., ..., 0., 0., 0.],\n",
       "       ...,\n",
       "       [0., 0., 0., ..., 0., 0., 0.],\n",
       "       [0., 0., 0., ..., 0., 0., 0.],\n",
       "       [0., 0., 0., ..., 0., 0., 0.]])</pre></div></li><li class='xr-var-item'><div class='xr-var-name'><span>wet_radar</span></div><div class='xr-var-dims'>(sample_num)</div><div class='xr-var-dtype'>bool</div><div class='xr-var-preview xr-preview'>False False False ... False False</div><input id='attrs-afe7f0e9-93d1-4d88-b12d-545be730530e' class='xr-var-attrs-in' type='checkbox' disabled><label for='attrs-afe7f0e9-93d1-4d88-b12d-545be730530e' title='Show/Hide attributes'><svg class='icon xr-icon-file-text2'><use xlink:href='#icon-file-text2'></use></svg></label><input id='data-78edbe30-354d-4191-8c74-af4f51c49c35' class='xr-var-data-in' type='checkbox'><label for='data-78edbe30-354d-4191-8c74-af4f51c49c35' title='Show/Hide data repr'><svg class='icon xr-icon-database'><use xlink:href='#icon-database'></use></svg></label><div class='xr-var-attrs'><dl class='xr-attrs'></dl></div><div class='xr-var-data'><pre>array([False, False, False, False, False, False, False, False, False,\n",
       "       False,  True,  True, False, False, False, False, False, False,\n",
       "       False, False, False, False, False, False, False, False, False,\n",
       "       False, False, False, False, False, False, False, False, False,\n",
       "       False, False, False, False, False, False, False, False, False,\n",
       "       False, False, False, False, False, False, False, False, False,\n",
       "       False, False, False, False, False, False, False, False, False,\n",
       "       False, False, False, False, False, False, False, False, False,\n",
       "       False, False, False, False, False, False, False, False, False,\n",
       "       False, False, False,  True,  True, False, False, False, False,\n",
       "       False,  True, False,  True,  True,  True,  True,  True, False,\n",
       "       False, False, False, False, False, False, False, False, False,\n",
       "       False,  True,  True, False, False, False, False, False, False,\n",
       "       False, False, False, False, False, False, False, False, False,\n",
       "       False, False, False, False, False, False, False, False,  True,\n",
       "       False, False, False,  True,  True, False, False, False,  True,\n",
       "        True,  True,  True,  True, False, False, False, False, False,\n",
       "       False, False, False, False, False, False, False, False, False,\n",
       "       False, False, False, False, False,  True,  True,  True, False,\n",
       "       False, False, False, False, False, False, False, False, False,\n",
       "       False, False, False, False, False, False, False, False, False,\n",
       "       False, False, False, False, False, False, False, False, False,\n",
       "       False, False, False, False, False, False, False, False, False,\n",
       "       False, False, False, False, False, False, False, False, False,\n",
       "       False, False, False, False, False, False, False, False, False,\n",
       "       False, False, False, False, False, False, False, False, False,\n",
       "       False, False, False, False, False, False, False, False, False,\n",
       "        True, False, False, False, False, False, False, False, False,\n",
       "        True, False, False, False, False, False, False, False, False,\n",
       "       False, False, False])</pre></div></li></ul></div></li><li class='xr-section-item'><input id='section-c7f74b40-ba3d-4dbe-8528-8c3592800a43' class='xr-section-summary-in' type='checkbox' disabled ><label for='section-c7f74b40-ba3d-4dbe-8528-8c3592800a43' class='xr-section-summary'  title='Expand/collapse section'>Indexes: <span>(0)</span></label><div class='xr-section-inline-details'></div><div class='xr-section-details'><ul class='xr-var-list'></ul></div></li><li class='xr-section-item'><input id='section-98683745-43b1-44e8-94be-97dfad77ab65' class='xr-section-summary-in' type='checkbox' disabled ><label for='section-98683745-43b1-44e8-94be-97dfad77ab65' class='xr-section-summary'  title='Expand/collapse section'>Attributes: <span>(0)</span></label><div class='xr-section-inline-details'></div><div class='xr-section-details'><dl class='xr-attrs'></dl></div></li></ul></div></div>"
      ],
      "text/plain": [
       "<xarray.Dataset> Size: 79kB\n",
       "Dimensions:      (sample_num: 264, channel_id: 2, timestep: 12)\n",
       "Dimensions without coordinates: sample_num, channel_id, timestep\n",
       "Data variables:\n",
       "    trsl         (sample_num, channel_id, timestep) float64 51kB 60.64 ... 63.38\n",
       "    ref_wet_dry  (sample_num, timestep) bool 3kB False False ... False False\n",
       "    rain         (sample_num, timestep) float64 25kB 0.0 0.0 0.0 ... 0.0 0.0 0.0\n",
       "    wet_radar    (sample_num) bool 264B False False False ... False False False"
      ]
     },
     "execution_count": 220,
     "metadata": {},
     "output_type": "execute_result"
    }
   ],
   "source": [
    "ds"
   ]
  },
  {
   "cell_type": "markdown",
   "metadata": {},
   "source": [
    "#### <span style=\"color:red\">TODO: </span>Standardising\n",
    "Subtracting the median of all available data from the preceding 72h from each time step [2] \n"
   ]
  },
  {
   "cell_type": "code",
   "execution_count": null,
   "metadata": {},
   "outputs": [],
   "source": []
  },
  {
   "cell_type": "code",
   "execution_count": null,
   "metadata": {},
   "outputs": [],
   "source": []
  },
  {
   "cell_type": "markdown",
   "metadata": {},
   "source": [
    "#### <span style=\"color:red\">TODO: </span>We need to make Wet/Dry periods 50:50 for the training"
   ]
  },
  {
   "cell_type": "code",
   "execution_count": null,
   "metadata": {},
   "outputs": [],
   "source": [
    "# from [2]\n",
    "'''\n",
    "def balance_classes(a, boo):\n",
    "    lsn=len(a.sample_number)\n",
    "    ind = np.arange(lsn)\n",
    "    ind_true = shuffle(ind[boo])\n",
    "    ind_false = ind[~boo]\n",
    "    ind_true = ind_true[:np.sum(~boo)]\n",
    "    print(1-(2*len(ind_false)/lsn))\n",
    "    return a.isel(sample_number=np.concatenate([ind_true,ind_false]))\n",
    "'''"
   ]
  },
  {
   "cell_type": "code",
   "execution_count": null,
   "metadata": {},
   "outputs": [],
   "source": [
    "# ds = balance_classes(ds, ~ds.wet_radar.values)"
   ]
  },
  {
   "cell_type": "code",
   "execution_count": null,
   "metadata": {
    "vscode": {
     "languageId": "raw"
    }
   },
   "outputs": [],
   "source": [
    "# ds = ds.isel(sample_number=np.arange(100))"
   ]
  },
  {
   "cell_type": "markdown",
   "metadata": {},
   "source": [
    "#### Optional: save to CSV for data check"
   ]
  },
  {
   "cell_type": "code",
   "execution_count": 221,
   "metadata": {},
   "outputs": [],
   "source": [
    "if 0:\n",
    "    df = ds.to_dataframe()\n",
    "    df.to_csv('df.csv')"
   ]
  },
  {
   "cell_type": "markdown",
   "metadata": {},
   "source": [
    "#### Training/Testing data splitting\n",
    "https://github.com/jpolz/cml_wd_pytorch/blob/main/wd_pytorch/train_cnn.ipynb [2]"
   ]
  },
  {
   "cell_type": "code",
   "execution_count": 239,
   "metadata": {},
   "outputs": [
    {
     "data": {
      "text/plain": [
       "208"
      ]
     },
     "execution_count": 239,
     "metadata": {},
     "output_type": "execute_result"
    }
   ],
   "source": [
    "batchsize = 8\n",
    "k_train = 0.8     # fraction of training data\n",
    "\n",
    "train_size = int(len(ds.sample_num)*k_train/batchsize)* batchsize\n",
    "train_size"
   ]
  },
  {
   "cell_type": "markdown",
   "metadata": {},
   "source": [
    "#### Convert to Tensor DataSets"
   ]
  },
  {
   "cell_type": "markdown",
   "metadata": {},
   "source": [
    "Shuffling data, splitting and turning to arrays"
   ]
  },
  {
   "cell_type": "code",
   "execution_count": 250,
   "metadata": {},
   "outputs": [],
   "source": [
    "# shuffling samples\n",
    "#trsl, ref = shuffle(ds.trsl.values, ds.wet_radar.values)\n",
    "\n",
    "# without shuffling\n",
    "trsl = ds.trsl.values\n",
    "ref = ds.wet_radar.values\n",
    "\n",
    "train_data = trsl[:train_size]\n",
    "test_data = trsl[train_size:]\n",
    "train_ref = ref[:train_size]\n",
    "test_ref = ref[train_size:]\n",
    "# to floor batch size use: data = data[:int(len(data/batch_size))*batch_size]"
   ]
  },
  {
   "cell_type": "markdown",
   "metadata": {},
   "source": [
    "Storing as tensors [2]"
   ]
  },
  {
   "cell_type": "code",
   "execution_count": 251,
   "metadata": {},
   "outputs": [],
   "source": [
    "train_data = torch.Tensor(train_data)\n",
    "test_data = torch.Tensor(test_data)\n",
    "\n",
    "train_ref = torch.Tensor(train_ref)\n",
    "test_ref = torch.Tensor(test_ref)"
   ]
  },
  {
   "cell_type": "markdown",
   "metadata": {},
   "source": [
    "Turning into dataset, shuffling"
   ]
  },
  {
   "cell_type": "code",
   "execution_count": 252,
   "metadata": {},
   "outputs": [],
   "source": [
    "dataset = torch.utils.data.TensorDataset(train_data, train_ref)\n",
    "testset = torch.utils.data.TensorDataset(test_data, test_ref)\n",
    "\n",
    "trainloader = torch.utils.data.DataLoader(dataset, batch_size = batchsize, shuffle = False)    # shuffle the training data, once more? True\n",
    "testloader = torch.utils.data.DataLoader(testset, batch_size = batchsize, shuffle = False)"
   ]
  },
  {
   "cell_type": "markdown",
   "metadata": {},
   "source": [
    "## Training the CNN"
   ]
  },
  {
   "cell_type": "code",
   "execution_count": 253,
   "metadata": {},
   "outputs": [],
   "source": [
    "model = cnn.cnn_class()\n",
    "optimizer = torch.optim.AdamW(model.parameters(), lr=0.001)\n"
   ]
  },
  {
   "cell_type": "code",
   "execution_count": 254,
   "metadata": {},
   "outputs": [],
   "source": [
    "epochs = 30\n",
    "resume = 0"
   ]
  },
  {
   "cell_type": "code",
   "execution_count": 255,
   "metadata": {},
   "outputs": [],
   "source": [
    "if resume == 0:\n",
    "    loss_dict = {}\n",
    "    loss_dict['train'] = {}\n",
    "    loss_dict['test'] = {}\n",
    "    for key in ['train','test']:\n",
    "        loss_dict[key]['loss'] = []"
   ]
  },
  {
   "cell_type": "code",
   "execution_count": 256,
   "metadata": {},
   "outputs": [
    {
     "name": "stdout",
     "output_type": "stream",
     "text": [
      "29\n",
      "\n",
      "train loss: 0.36535633\n",
      "test loss: 0.21823497\n",
      "min test loss: 0.20028679\n"
     ]
    },
    {
     "data": {
      "image/png": "[encoded data removed]",
      "text/plain": [
       "<Figure size 300x400 with 1 Axes>"
      ]
     },
     "metadata": {},
     "output_type": "display_data"
    }
   ],
   "source": [
    "for epoch in range(resume, epochs):\n",
    "    # training\n",
    "    train_losses = []\n",
    "    for inputs, targets in tqdm(trainloader):\n",
    "        optimizer.zero_grad()\n",
    "        pred = model(inputs)\n",
    "        pred = nn.Flatten(0,1)(pred)            # flatten 3D data into 2D\n",
    "        # calculating the loss function\n",
    "        loss = nn.BCELoss()(pred, targets)      # !!!! Targets and Imputs size must match\n",
    "        loss.backward()\n",
    "        optimizer.step()\n",
    "        train_losses.append(loss.detach().numpy())\n",
    "    loss_dict['train']['loss'].append(np.mean(train_losses))\n",
    "    \n",
    "    # testing\n",
    "    test_losses = []\n",
    "    with torch.no_grad():\n",
    "        for inputs, targets in tqdm(testloader):\n",
    "            pred = model(inputs)\n",
    "            # pred = pred.round()\n",
    "            pred = nn.Flatten(0,1)(pred)\n",
    "            loss = nn.BCELoss()(pred, targets)\n",
    "            test_losses.append(loss.detach().numpy())\n",
    "        loss_dict['test']['loss'].append(np.mean(test_losses))\n",
    "        \n",
    "    # printing\n",
    "    clear_output(wait=True)\n",
    "    print(epoch)\n",
    "    print('')\n",
    "    print('train loss:', np.mean(train_losses))\n",
    "    print('test loss:', np.mean(test_losses))\n",
    "    print('min test loss:', np.min(loss_dict['test']['loss']))\n",
    "    fig, axs = plt.subplots(1,1, figsize=(3,4))\n",
    "    for key in loss_dict.keys():\n",
    "        for k, key2 in enumerate(loss_dict[key].keys()):\n",
    "            axs.plot(loss_dict[key][key2], label=key)\n",
    "            axs.set_title(key2)\n",
    "    # axs.set_yscale('log')\n",
    "    plt.legend()\n",
    "    plt.show()\n",
    "    resume = epoch"
   ]
  },
  {
   "cell_type": "code",
   "execution_count": 247,
   "metadata": {},
   "outputs": [
    {
     "name": "stderr",
     "output_type": "stream",
     "text": [
      "  0%|                                                                                           | 0/10 [00:00<?, ?it/s]"
     ]
    },
    {
     "name": "stdout",
     "output_type": "stream",
     "text": [
      "tensor([[0.0752],\n",
      "        [0.0901],\n",
      "        [0.1580],\n",
      "        [0.0574],\n",
      "        [0.1016],\n",
      "        [0.0456],\n",
      "        [0.2593],\n",
      "        [0.0639],\n",
      "        [0.0665],\n",
      "        [0.1117],\n",
      "        [0.0959],\n",
      "        [0.0873],\n",
      "        [0.1047],\n",
      "        [0.1255],\n",
      "        [0.1032],\n",
      "        [0.1266],\n",
      "        [0.0713],\n",
      "        [0.1671],\n",
      "        [0.0962],\n",
      "        [0.2003]], grad_fn=<SigmoidBackward0>)\n",
      "tensor([0., 0., 1., 0., 0., 0., 0., 0., 0., 0., 0., 0., 0., 0., 0., 0., 0., 0.,\n",
      "        0., 0.])\n"
     ]
    },
    {
     "name": "stderr",
     "output_type": "stream",
     "text": [
      "\n"
     ]
    }
   ],
   "source": [
    "for inputs, targets in tqdm(trainloader):\n",
    "    print(model(inputs))\n",
    "    print(targets)\n",
    "    break"
   ]
  },
  {
   "cell_type": "code",
   "execution_count": 257,
   "metadata": {},
   "outputs": [],
   "source": [
    "### accuracy score, confusion matrix and Matthews correlation coefficient (MCC)\n",
    "def eval_model(test_dataloader, model):\n",
    "    predictions, actuals = list(), list()\n",
    "    with torch.no_grad():\n",
    "        for inputs, targets in tqdm(test_dataloader):\n",
    "            pred = model(inputs)\n",
    "            pred = pred.detach().numpy()\n",
    "            actual = targets.numpy()\n",
    "            actual = actual.reshape((len(actual), 1))\n",
    "            pred = pred.round()\n",
    "    \n",
    "            predictions.append(pred)\n",
    "            actuals.append(actual)\n",
    "    predictions, actuals = np.ravel(np.vstack(predictions)), np.ravel(np.vstack(actuals))\n",
    "    acc = skl.accuracy_score(actuals, predictions)\n",
    "    conf_mat = skl.confusion_matrix(actual, pred, labels=[0,1], normalize='all')\n",
    "    matt_cor = skl.matthews_corrcoef(actual, pred)\n",
    "    return acc, conf_mat, matt_cor"
   ]
  },
  {
   "cell_type": "code",
   "execution_count": 258,
   "metadata": {},
   "outputs": [
    {
     "name": "stderr",
     "output_type": "stream",
     "text": [
      "100%|███████████████████████████████████████████████████████████████████████████████████| 7/7 [00:00<00:00, 259.41it/s]\n",
      "D:\\Python312\\Lib\\site-packages\\sklearn\\metrics\\_classification.py:409: UserWarning: A single label was found in 'y_true' and 'y_pred'. For the confusion matrix to have the correct shape, use the 'labels' parameter to pass all known labels.\n",
      "  warnings.warn(\n"
     ]
    },
    {
     "data": {
      "text/plain": [
       "(0.9642857142857143,\n",
       " array([[1., 0.],\n",
       "        [0., 0.]]),\n",
       " 0.0)"
      ]
     },
     "execution_count": 258,
     "metadata": {},
     "output_type": "execute_result"
    }
   ],
   "source": [
    "eval_model(testloader, model)"
   ]
  }
 ],
 "metadata": {
  "kernelspec": {
   "display_name": "Python 3 (ipykernel)",
   "language": "python",
   "name": "python3"
  },
  "language_info": {
   "codemirror_mode": {
    "name": "ipython",
    "version": 3
   },
   "file_extension": ".py",
   "mimetype": "text/x-python",
   "name": "python",
   "nbconvert_exporter": "python",
   "pygments_lexer": "ipython3",
   "version": "3.12.7"
  }
 },
 "nbformat": 4,
 "nbformat_minor": 4
}
