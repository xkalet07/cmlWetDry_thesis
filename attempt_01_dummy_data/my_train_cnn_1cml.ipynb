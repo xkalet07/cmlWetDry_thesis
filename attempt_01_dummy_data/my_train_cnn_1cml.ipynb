{
 "cells": [
  {
   "cell_type": "markdown",
   "metadata": {},
   "source": [
    "# CML wet/dry detection on 1 CML using CNN architecture of Polz J. [2]\n",
    "\n",
    "__CML data:__  \n",
    "Imported from pycomlink (Chwala C:): https://github.com/pycomlink/pycomlink\n",
    "\n",
    "__Sources: All code from [2]__  \n",
    "github: https://github.com/jpolz/cml_wd_pytorch/tree/main  \n",
    "thesis: https://doi.org/10.5194/amt-13-3835-2020"
   ]
  },
  {
   "cell_type": "code",
   "execution_count": 1,
   "metadata": {},
   "outputs": [],
   "source": [
    "import my_cnn as cnn\n",
    "\n",
    "import xarray as xr               # work with arrays, also possible with pandas\n",
    "import pandas as pd\n",
    "import numpy as np\n",
    "import torch\n",
    "import torch.nn as nn\n",
    "import matplotlib.pyplot as plt\n",
    "import sklearn.metrics as skl"
   ]
  },
  {
   "cell_type": "code",
   "execution_count": 2,
   "metadata": {},
   "outputs": [],
   "source": [
    "from sklearn.utils import shuffle\n",
    "from tqdm import tqdm\n",
    "from IPython.display import clear_output"
   ]
  },
  {
   "cell_type": "markdown",
   "metadata": {},
   "source": [
    "#### Load CML data\n",
    "Import data of 500 CML links from pycomlink with 1min timestep"
   ]
  },
  {
   "cell_type": "code",
   "execution_count": 3,
   "metadata": {
    "scrolled": true
   },
   "outputs": [],
   "source": [
    "# 500 CMLs with 1 min time step\n",
    "cml_set = xr.open_dataset('example_data/example_cml_data.nc', engine='netcdf4') # https://docs.xarray.dev/en/stable/generated/xarray.Dataset.html\n",
    "\n",
    "# Temporarily remove GPS coordinates - might add later with additional cml info for better CNN learning\n",
    "# https://stackoverflow.com/questions/61003361/drop-coordinate-from-an-xarray-dataarray\n",
    "cml_set = cml_set.reset_coords(['site_a_latitude','site_b_latitude','site_a_longitude','site_b_longitude'], drop=True)"
   ]
  },
  {
   "cell_type": "markdown",
   "metadata": {},
   "source": [
    "#### Load Reference data\n",
    "Reference rain rate data from RADOLAN. With 5 min step"
   ]
  },
  {
   "cell_type": "code",
   "execution_count": 4,
   "metadata": {
    "scrolled": true
   },
   "outputs": [],
   "source": [
    "# Path averaged reference RADOLAN data aligned with all 500 CML IDs with 5 min time step\n",
    "ref_set = xr.open_dataset('example_data/example_path_averaged_reference_data.nc', engine='netcdf4')"
   ]
  },
  {
   "cell_type": "markdown",
   "metadata": {},
   "source": [
    "## CML data preprocessing\n",
    "1. choosing cml for training  \n",
    "2. replacing fault values\n",
    "3. calculating TRSL\n",
    "4. Interpolation  \n",
    "\n",
    "All from pycomlink https://github.com/pycomlink/pycomlink/blob/master/notebooks/Basic%20CML%20processing%20workflow.ipynb"
   ]
  },
  {
   "cell_type": "markdown",
   "metadata": {},
   "source": [
    "#### Choose one CML, repair fault data and calculate TRSL"
   ]
  },
  {
   "cell_type": "code",
   "execution_count": 6,
   "metadata": {},
   "outputs": [],
   "source": [
    "# Choose one cml\n",
    "k = 1; # index of chosen cml 0-499\n",
    "my_cml = cml_set.isel(cml_id = k) # https://docs.xarray.dev/en/latest/generated/xarray.Dataset.assign.html\n",
    "my_ref = ref_set.isel(cml_id = k)\n",
    "\n",
    "# Check for fault data in TSL, RSL and replace it with NaN https://github.com/jpolz/cml_wd_pytorch/tree/main\n",
    "my_cml['tsl'] = my_cml.tsl.where(my_cml.tsl != 255.0)\n",
    "my_cml['rsl'] = my_cml.rsl.where(my_cml.rsl != -99.9)\n",
    "\n",
    "# Calculate TRSL\n",
    "my_cml['trsl'] = my_cml.tsl - my_cml.rsl\n",
    "\n",
    "# Iterpolate missing values: From pycomlink\n",
    "my_cml['trsl'] = my_cml.trsl.interpolate_na(dim='time', method='linear', max_gap='5min')\n",
    "\n",
    "# show CML dataset\n",
    "# my_cml"
   ]
  },
  {
   "cell_type": "markdown",
   "metadata": {},
   "source": [
    "#### <span style=\"color:red\">TODO: </span>Detect higher fault periods"
   ]
  },
  {
   "cell_type": "markdown",
   "metadata": {},
   "source": [
    "#### Align to a dataset with Reference RADOLAN data and calculate boolean Wet/dry Reference flag"
   ]
  },
  {
   "cell_type": "code",
   "execution_count": 7,
   "metadata": {},
   "outputs": [],
   "source": [
    "my_cml = my_cml.assign(my_ref)\n",
    "# From reference rain rate derivate boolean reference Wet/Dry signal\n",
    "my_ref['ref_wet_dry'] = my_ref.rainfall_amount.where(my_ref.rainfall_amount == 0, True) # ChatGPT\n",
    "# convert float value to bool for plotting the shaded areas from Pycomlink\n",
    "my_ref['ref_wet_dry'] = my_ref.fillna(0).ref_wet_dry.astype(bool)\n",
    "# my_cml"
   ]
  },
  {
   "cell_type": "markdown",
   "metadata": {},
   "source": [
    "## Building dataset\n",
    "1. creating dataset of training and reference data + data visualisation\n",
    "2. Standardising"
   ]
  },
  {
   "cell_type": "markdown",
   "metadata": {},
   "source": [
    "#### Agregate 1h measurements into sample\n",
    "To build samples for CNN. rain event will be predicted for whole sample\n",
    "60 times 1 min time step = 1 hour time window   \n",
    "source: chatGPT\n",
    "\n",
    "__TODO: Possible simplification using .reshape or .view and rewriting trsl, ref_wd__"
   ]
  },
  {
   "cell_type": "code",
   "execution_count": 8,
   "metadata": {},
   "outputs": [],
   "source": [
    "# extract metadata:\n",
    "cml_id = my_cml.cml_id.values\n",
    "length = my_cml.length.values\n",
    "frequency = my_cml.frequency.values\n",
    "polarization = my_cml.polarization.values"
   ]
  },
  {
   "cell_type": "code",
   "execution_count": 9,
   "metadata": {},
   "outputs": [
    {
     "data": {
      "text/plain": [
       "1584"
      ]
     },
     "execution_count": 9,
     "metadata": {},
     "output_type": "execute_result"
    }
   ],
   "source": [
    "sample_size = 10 # = minutes\n",
    "# get number of samples \n",
    "n_samples = len(my_cml.time) // sample_size \n",
    "n_samples"
   ]
  },
  {
   "cell_type": "code",
   "execution_count": 10,
   "metadata": {},
   "outputs": [],
   "source": [
    "# Reshape dataset to a new shape with the sample_id dimension\n",
    "# last few points cant make a sample of full length. Will be cut off. \n",
    "trsl_reshaped = my_cml['trsl'].values[0:(n_samples*sample_size)] \n",
    "cutoff = len(my_cml.trsl[0])-n_samples*sample_size\n",
    "\n",
    "# reshape\n",
    "trsl_reshaped = trsl_reshaped.reshape(2, n_samples, sample_size)   #2 stands for 2 channels"
   ]
  },
  {
   "cell_type": "code",
   "execution_count": 11,
   "metadata": {},
   "outputs": [],
   "source": [
    "# last few points cant make a sample. Has to be cut off. \n",
    "rain_reshaped = my_cml['rainfall_amount'].values[0:(n_samples*sample_size)]  # still containing NaN values\n",
    "# reshape\n",
    "rain_reshaped = rain_reshaped.reshape(n_samples, sample_size)\n",
    "# rain_reshaped # array of n samples containing 10 minutes of rain rate measurements"
   ]
  },
  {
   "cell_type": "code",
   "execution_count": 12,
   "metadata": {},
   "outputs": [],
   "source": [
    "# reshape and add vector of time into dataset to remember the time stamp\n",
    "time_reshaped = my_cml['time'].values[0:(n_samples*sample_size)]\n",
    "# reshape\n",
    "time_reshaped = time_reshaped.reshape(n_samples, sample_size)"
   ]
  },
  {
   "cell_type": "code",
   "execution_count": 13,
   "metadata": {
    "scrolled": true
   },
   "outputs": [],
   "source": [
    "# Create a new xarray Dataset with sample_num as a dimension\n",
    "# replace time and date with timestep in the time sample\n",
    "ds = xr.Dataset({\n",
    "    'trsl': (('channel_id', 'sample_num', 'timestep'), trsl_reshaped),\n",
    "    'rain': (('sample_num', 'timestep'), rain_reshaped),\n",
    "    'time': (('sample_num', 'timestep'), time_reshaped)\n",
    "}, coords={'channel_id': np.arange(2),\n",
    "           'sample_num': np.arange(n_samples),\n",
    "           'timestep': np.arange(sample_size),\n",
    "           'cml_id': cml_id,\n",
    "           'length': length,                                  #single value is never a dimension\n",
    "           'frequency': (('channel_id'), frequency),          # this way coordinate will not become a dimension\n",
    "           'polarization': (('channel_id'), polarization)\n",
    "           })"
   ]
  },
  {
   "cell_type": "code",
   "execution_count": 14,
   "metadata": {},
   "outputs": [],
   "source": [
    "# create one boolean wet/dry flag for whole 1hour sample [2]\n",
    "last_hour = range(-1,-sample_size,-1)\n",
    "\n",
    "# create one boolean wet/dry flag for whole sample [2]\n",
    "ds['ref_wd'] = ds.rain.isel(timestep=last_hour).sum(dim='timestep')>0."
   ]
  },
  {
   "cell_type": "code",
   "execution_count": 15,
   "metadata": {
    "scrolled": true
   },
   "outputs": [
    {
     "data": {
      "text/html": [
       "<div><svg style=\"position: absolute; width: 0; height: 0; overflow: hidden\">\n",
       "<defs>\n",
       "<symbol id=\"icon-database\" viewBox=\"0 0 32 32\">\n",
       "<path d=\"M16 0c-8.837 0-16 2.239-16 5v4c0 2.761 7.163 5 16 5s16-2.239 16-5v-4c0-2.761-7.163-5-16-5z\"></path>\n",
       "<path d=\"M16 17c-8.837 0-16-2.239-16-5v6c0 2.761 7.163 5 16 5s16-2.239 16-5v-6c0 2.761-7.163 5-16 5z\"></path>\n",
       "<path d=\"M16 26c-8.837 0-16-2.239-16-5v6c0 2.761 7.163 5 16 5s16-2.239 16-5v-6c0 2.761-7.163 5-16 5z\"></path>\n",
       "</symbol>\n",
       "<symbol id=\"icon-file-text2\" viewBox=\"0 0 32 32\">\n",
       "<path d=\"M28.681 7.159c-0.694-0.947-1.662-2.053-2.724-3.116s-2.169-2.030-3.116-2.724c-1.612-1.182-2.393-1.319-2.841-1.319h-15.5c-1.378 0-2.5 1.121-2.5 2.5v27c0 1.378 1.122 2.5 2.5 2.5h23c1.378 0 2.5-1.122 2.5-2.5v-19.5c0-0.448-0.137-1.23-1.319-2.841zM24.543 5.457c0.959 0.959 1.712 1.825 2.268 2.543h-4.811v-4.811c0.718 0.556 1.584 1.309 2.543 2.268zM28 29.5c0 0.271-0.229 0.5-0.5 0.5h-23c-0.271 0-0.5-0.229-0.5-0.5v-27c0-0.271 0.229-0.5 0.5-0.5 0 0 15.499-0 15.5 0v7c0 0.552 0.448 1 1 1h7v19.5z\"></path>\n",
       "<path d=\"M23 26h-14c-0.552 0-1-0.448-1-1s0.448-1 1-1h14c0.552 0 1 0.448 1 1s-0.448 1-1 1z\"></path>\n",
       "<path d=\"M23 22h-14c-0.552 0-1-0.448-1-1s0.448-1 1-1h14c0.552 0 1 0.448 1 1s-0.448 1-1 1z\"></path>\n",
       "<path d=\"M23 18h-14c-0.552 0-1-0.448-1-1s0.448-1 1-1h14c0.552 0 1 0.448 1 1s-0.448 1-1 1z\"></path>\n",
       "</symbol>\n",
       "</defs>\n",
       "</svg>\n",
       "<style>/* CSS stylesheet for displaying xarray objects in jupyterlab.\n",
       " *\n",
       " */\n",
       "\n",
       ":root {\n",
       "  --xr-font-color0: var(--jp-content-font-color0, rgba(0, 0, 0, 1));\n",
       "  --xr-font-color2: var(--jp-content-font-color2, rgba(0, 0, 0, 0.54));\n",
       "  --xr-font-color3: var(--jp-content-font-color3, rgba(0, 0, 0, 0.38));\n",
       "  --xr-border-color: var(--jp-border-color2, #e0e0e0);\n",
       "  --xr-disabled-color: var(--jp-layout-color3, #bdbdbd);\n",
       "  --xr-background-color: var(--jp-layout-color0, white);\n",
       "  --xr-background-color-row-even: var(--jp-layout-color1, white);\n",
       "  --xr-background-color-row-odd: var(--jp-layout-color2, #eeeeee);\n",
       "}\n",
       "\n",
       "html[theme=dark],\n",
       "html[data-theme=dark],\n",
       "body[data-theme=dark],\n",
       "body.vscode-dark {\n",
       "  --xr-font-color0: rgba(255, 255, 255, 1);\n",
       "  --xr-font-color2: rgba(255, 255, 255, 0.54);\n",
       "  --xr-font-color3: rgba(255, 255, 255, 0.38);\n",
       "  --xr-border-color: #1F1F1F;\n",
       "  --xr-disabled-color: #515151;\n",
       "  --xr-background-color: #111111;\n",
       "  --xr-background-color-row-even: #111111;\n",
       "  --xr-background-color-row-odd: #313131;\n",
       "}\n",
       "\n",
       ".xr-wrap {\n",
       "  display: block !important;\n",
       "  min-width: 300px;\n",
       "  max-width: 700px;\n",
       "}\n",
       "\n",
       ".xr-text-repr-fallback {\n",
       "  /* fallback to plain text repr when CSS is not injected (untrusted notebook) */\n",
       "  display: none;\n",
       "}\n",
       "\n",
       ".xr-header {\n",
       "  padding-top: 6px;\n",
       "  padding-bottom: 6px;\n",
       "  margin-bottom: 4px;\n",
       "  border-bottom: solid 1px var(--xr-border-color);\n",
       "}\n",
       "\n",
       ".xr-header > div,\n",
       ".xr-header > ul {\n",
       "  display: inline;\n",
       "  margin-top: 0;\n",
       "  margin-bottom: 0;\n",
       "}\n",
       "\n",
       ".xr-obj-type,\n",
       ".xr-array-name {\n",
       "  margin-left: 2px;\n",
       "  margin-right: 10px;\n",
       "}\n",
       "\n",
       ".xr-obj-type {\n",
       "  color: var(--xr-font-color2);\n",
       "}\n",
       "\n",
       ".xr-sections {\n",
       "  padding-left: 0 !important;\n",
       "  display: grid;\n",
       "  grid-template-columns: 150px auto auto 1fr 0 20px 0 20px;\n",
       "}\n",
       "\n",
       ".xr-section-item {\n",
       "  display: contents;\n",
       "}\n",
       "\n",
       ".xr-section-item input {\n",
       "  display: inline-block;\n",
       "  opacity: 0;\n",
       "}\n",
       "\n",
       ".xr-section-item input + label {\n",
       "  color: var(--xr-disabled-color);\n",
       "}\n",
       "\n",
       ".xr-section-item input:enabled + label {\n",
       "  cursor: pointer;\n",
       "  color: var(--xr-font-color2);\n",
       "}\n",
       "\n",
       ".xr-section-item input:focus + label {\n",
       "  border: 2px solid var(--xr-font-color0);\n",
       "}\n",
       "\n",
       ".xr-section-item input:enabled + label:hover {\n",
       "  color: var(--xr-font-color0);\n",
       "}\n",
       "\n",
       ".xr-section-summary {\n",
       "  grid-column: 1;\n",
       "  color: var(--xr-font-color2);\n",
       "  font-weight: 500;\n",
       "}\n",
       "\n",
       ".xr-section-summary > span {\n",
       "  display: inline-block;\n",
       "  padding-left: 0.5em;\n",
       "}\n",
       "\n",
       ".xr-section-summary-in:disabled + label {\n",
       "  color: var(--xr-font-color2);\n",
       "}\n",
       "\n",
       ".xr-section-summary-in + label:before {\n",
       "  display: inline-block;\n",
       "  content: '►';\n",
       "  font-size: 11px;\n",
       "  width: 15px;\n",
       "  text-align: center;\n",
       "}\n",
       "\n",
       ".xr-section-summary-in:disabled + label:before {\n",
       "  color: var(--xr-disabled-color);\n",
       "}\n",
       "\n",
       ".xr-section-summary-in:checked + label:before {\n",
       "  content: '▼';\n",
       "}\n",
       "\n",
       ".xr-section-summary-in:checked + label > span {\n",
       "  display: none;\n",
       "}\n",
       "\n",
       ".xr-section-summary,\n",
       ".xr-section-inline-details {\n",
       "  padding-top: 4px;\n",
       "  padding-bottom: 4px;\n",
       "}\n",
       "\n",
       ".xr-section-inline-details {\n",
       "  grid-column: 2 / -1;\n",
       "}\n",
       "\n",
       ".xr-section-details {\n",
       "  display: none;\n",
       "  grid-column: 1 / -1;\n",
       "  margin-bottom: 5px;\n",
       "}\n",
       "\n",
       ".xr-section-summary-in:checked ~ .xr-section-details {\n",
       "  display: contents;\n",
       "}\n",
       "\n",
       ".xr-array-wrap {\n",
       "  grid-column: 1 / -1;\n",
       "  display: grid;\n",
       "  grid-template-columns: 20px auto;\n",
       "}\n",
       "\n",
       ".xr-array-wrap > label {\n",
       "  grid-column: 1;\n",
       "  vertical-align: top;\n",
       "}\n",
       "\n",
       ".xr-preview {\n",
       "  color: var(--xr-font-color3);\n",
       "}\n",
       "\n",
       ".xr-array-preview,\n",
       ".xr-array-data {\n",
       "  padding: 0 5px !important;\n",
       "  grid-column: 2;\n",
       "}\n",
       "\n",
       ".xr-array-data,\n",
       ".xr-array-in:checked ~ .xr-array-preview {\n",
       "  display: none;\n",
       "}\n",
       "\n",
       ".xr-array-in:checked ~ .xr-array-data,\n",
       ".xr-array-preview {\n",
       "  display: inline-block;\n",
       "}\n",
       "\n",
       ".xr-dim-list {\n",
       "  display: inline-block !important;\n",
       "  list-style: none;\n",
       "  padding: 0 !important;\n",
       "  margin: 0;\n",
       "}\n",
       "\n",
       ".xr-dim-list li {\n",
       "  display: inline-block;\n",
       "  padding: 0;\n",
       "  margin: 0;\n",
       "}\n",
       "\n",
       ".xr-dim-list:before {\n",
       "  content: '(';\n",
       "}\n",
       "\n",
       ".xr-dim-list:after {\n",
       "  content: ')';\n",
       "}\n",
       "\n",
       ".xr-dim-list li:not(:last-child):after {\n",
       "  content: ',';\n",
       "  padding-right: 5px;\n",
       "}\n",
       "\n",
       ".xr-has-index {\n",
       "  font-weight: bold;\n",
       "}\n",
       "\n",
       ".xr-var-list,\n",
       ".xr-var-item {\n",
       "  display: contents;\n",
       "}\n",
       "\n",
       ".xr-var-item > div,\n",
       ".xr-var-item label,\n",
       ".xr-var-item > .xr-var-name span {\n",
       "  background-color: var(--xr-background-color-row-even);\n",
       "  margin-bottom: 0;\n",
       "}\n",
       "\n",
       ".xr-var-item > .xr-var-name:hover span {\n",
       "  padding-right: 5px;\n",
       "}\n",
       "\n",
       ".xr-var-list > li:nth-child(odd) > div,\n",
       ".xr-var-list > li:nth-child(odd) > label,\n",
       ".xr-var-list > li:nth-child(odd) > .xr-var-name span {\n",
       "  background-color: var(--xr-background-color-row-odd);\n",
       "}\n",
       "\n",
       ".xr-var-name {\n",
       "  grid-column: 1;\n",
       "}\n",
       "\n",
       ".xr-var-dims {\n",
       "  grid-column: 2;\n",
       "}\n",
       "\n",
       ".xr-var-dtype {\n",
       "  grid-column: 3;\n",
       "  text-align: right;\n",
       "  color: var(--xr-font-color2);\n",
       "}\n",
       "\n",
       ".xr-var-preview {\n",
       "  grid-column: 4;\n",
       "}\n",
       "\n",
       ".xr-index-preview {\n",
       "  grid-column: 2 / 5;\n",
       "  color: var(--xr-font-color2);\n",
       "}\n",
       "\n",
       ".xr-var-name,\n",
       ".xr-var-dims,\n",
       ".xr-var-dtype,\n",
       ".xr-preview,\n",
       ".xr-attrs dt {\n",
       "  white-space: nowrap;\n",
       "  overflow: hidden;\n",
       "  text-overflow: ellipsis;\n",
       "  padding-right: 10px;\n",
       "}\n",
       "\n",
       ".xr-var-name:hover,\n",
       ".xr-var-dims:hover,\n",
       ".xr-var-dtype:hover,\n",
       ".xr-attrs dt:hover {\n",
       "  overflow: visible;\n",
       "  width: auto;\n",
       "  z-index: 1;\n",
       "}\n",
       "\n",
       ".xr-var-attrs,\n",
       ".xr-var-data,\n",
       ".xr-index-data {\n",
       "  display: none;\n",
       "  background-color: var(--xr-background-color) !important;\n",
       "  padding-bottom: 5px !important;\n",
       "}\n",
       "\n",
       ".xr-var-attrs-in:checked ~ .xr-var-attrs,\n",
       ".xr-var-data-in:checked ~ .xr-var-data,\n",
       ".xr-index-data-in:checked ~ .xr-index-data {\n",
       "  display: block;\n",
       "}\n",
       "\n",
       ".xr-var-data > table {\n",
       "  float: right;\n",
       "}\n",
       "\n",
       ".xr-var-name span,\n",
       ".xr-var-data,\n",
       ".xr-index-name div,\n",
       ".xr-index-data,\n",
       ".xr-attrs {\n",
       "  padding-left: 25px !important;\n",
       "}\n",
       "\n",
       ".xr-attrs,\n",
       ".xr-var-attrs,\n",
       ".xr-var-data,\n",
       ".xr-index-data {\n",
       "  grid-column: 1 / -1;\n",
       "}\n",
       "\n",
       "dl.xr-attrs {\n",
       "  padding: 0;\n",
       "  margin: 0;\n",
       "  display: grid;\n",
       "  grid-template-columns: 125px auto;\n",
       "}\n",
       "\n",
       ".xr-attrs dt,\n",
       ".xr-attrs dd {\n",
       "  padding: 0;\n",
       "  margin: 0;\n",
       "  float: left;\n",
       "  padding-right: 10px;\n",
       "  width: auto;\n",
       "}\n",
       "\n",
       ".xr-attrs dt {\n",
       "  font-weight: normal;\n",
       "  grid-column: 1;\n",
       "}\n",
       "\n",
       ".xr-attrs dt:hover span {\n",
       "  display: inline-block;\n",
       "  background: var(--xr-background-color);\n",
       "  padding-right: 10px;\n",
       "}\n",
       "\n",
       ".xr-attrs dd {\n",
       "  grid-column: 2;\n",
       "  white-space: pre-wrap;\n",
       "  word-break: break-all;\n",
       "}\n",
       "\n",
       ".xr-icon-database,\n",
       ".xr-icon-file-text2,\n",
       ".xr-no-icon {\n",
       "  display: inline-block;\n",
       "  vertical-align: middle;\n",
       "  width: 1em;\n",
       "  height: 1.5em !important;\n",
       "  stroke-width: 0;\n",
       "  stroke: currentColor;\n",
       "  fill: currentColor;\n",
       "}\n",
       "</style><pre class='xr-text-repr-fallback'>&lt;xarray.Dataset&gt; Size: 521kB\n",
       "Dimensions:       (channel_id: 2, sample_num: 1584, timestep: 10)\n",
       "Coordinates:\n",
       "  * channel_id    (channel_id) int64 16B 0 1\n",
       "  * sample_num    (sample_num) int64 13kB 0 1 2 3 4 ... 1579 1580 1581 1582 1583\n",
       "  * timestep      (timestep) int64 80B 0 1 2 3 4 5 6 7 8 9\n",
       "    cml_id        &lt;U3 12B &#x27;1&#x27;\n",
       "    length        float64 8B 5.673\n",
       "    frequency     (channel_id) float64 16B 1.82e+10 1.92e+10\n",
       "    polarization  (channel_id) &lt;U1 8B &#x27;H&#x27; &#x27;H&#x27;\n",
       "Data variables:\n",
       "    trsl          (channel_id, sample_num, timestep) float64 253kB 61.6 ... 60.6\n",
       "    rain          (sample_num, timestep) float64 127kB 0.0 nan nan ... nan nan\n",
       "    time          (sample_num, timestep) datetime64[ns] 127kB 2018-05-10 ... ...\n",
       "    ref_wd        (sample_num) bool 2kB False False False ... False False False</pre><div class='xr-wrap' style='display:none'><div class='xr-header'><div class='xr-obj-type'>xarray.Dataset</div></div><ul class='xr-sections'><li class='xr-section-item'><input id='section-366af782-f895-4602-9872-8119b89d2527' class='xr-section-summary-in' type='checkbox' disabled ><label for='section-366af782-f895-4602-9872-8119b89d2527' class='xr-section-summary'  title='Expand/collapse section'>Dimensions:</label><div class='xr-section-inline-details'><ul class='xr-dim-list'><li><span class='xr-has-index'>channel_id</span>: 2</li><li><span class='xr-has-index'>sample_num</span>: 1584</li><li><span class='xr-has-index'>timestep</span>: 10</li></ul></div><div class='xr-section-details'></div></li><li class='xr-section-item'><input id='section-153c309e-fa70-4292-b452-b4a0b147fb90' class='xr-section-summary-in' type='checkbox'  checked><label for='section-153c309e-fa70-4292-b452-b4a0b147fb90' class='xr-section-summary' >Coordinates: <span>(7)</span></label><div class='xr-section-inline-details'></div><div class='xr-section-details'><ul class='xr-var-list'><li class='xr-var-item'><div class='xr-var-name'><span class='xr-has-index'>channel_id</span></div><div class='xr-var-dims'>(channel_id)</div><div class='xr-var-dtype'>int64</div><div class='xr-var-preview xr-preview'>0 1</div><input id='attrs-f97ea18b-4f4f-413d-b4a0-80d0e2717eff' class='xr-var-attrs-in' type='checkbox' disabled><label for='attrs-f97ea18b-4f4f-413d-b4a0-80d0e2717eff' title='Show/Hide attributes'><svg class='icon xr-icon-file-text2'><use xlink:href='#icon-file-text2'></use></svg></label><input id='data-3ed02cd6-7ff3-4d2b-b96a-a78bcf7f4337' class='xr-var-data-in' type='checkbox'><label for='data-3ed02cd6-7ff3-4d2b-b96a-a78bcf7f4337' title='Show/Hide data repr'><svg class='icon xr-icon-database'><use xlink:href='#icon-database'></use></svg></label><div class='xr-var-attrs'><dl class='xr-attrs'></dl></div><div class='xr-var-data'><pre>array([0, 1])</pre></div></li><li class='xr-var-item'><div class='xr-var-name'><span class='xr-has-index'>sample_num</span></div><div class='xr-var-dims'>(sample_num)</div><div class='xr-var-dtype'>int64</div><div class='xr-var-preview xr-preview'>0 1 2 3 4 ... 1580 1581 1582 1583</div><input id='attrs-6fcbbc19-5f4e-4df1-a52e-03f271cf712e' class='xr-var-attrs-in' type='checkbox' disabled><label for='attrs-6fcbbc19-5f4e-4df1-a52e-03f271cf712e' title='Show/Hide attributes'><svg class='icon xr-icon-file-text2'><use xlink:href='#icon-file-text2'></use></svg></label><input id='data-a58d36b4-1435-4108-b69a-2d6e5217b2a2' class='xr-var-data-in' type='checkbox'><label for='data-a58d36b4-1435-4108-b69a-2d6e5217b2a2' title='Show/Hide data repr'><svg class='icon xr-icon-database'><use xlink:href='#icon-database'></use></svg></label><div class='xr-var-attrs'><dl class='xr-attrs'></dl></div><div class='xr-var-data'><pre>array([   0,    1,    2, ..., 1581, 1582, 1583])</pre></div></li><li class='xr-var-item'><div class='xr-var-name'><span class='xr-has-index'>timestep</span></div><div class='xr-var-dims'>(timestep)</div><div class='xr-var-dtype'>int64</div><div class='xr-var-preview xr-preview'>0 1 2 3 4 5 6 7 8 9</div><input id='attrs-1e40fca0-4aea-4e82-aac4-090f99a01e38' class='xr-var-attrs-in' type='checkbox' disabled><label for='attrs-1e40fca0-4aea-4e82-aac4-090f99a01e38' title='Show/Hide attributes'><svg class='icon xr-icon-file-text2'><use xlink:href='#icon-file-text2'></use></svg></label><input id='data-78400263-cb47-457e-a02e-c0394679a1a9' class='xr-var-data-in' type='checkbox'><label for='data-78400263-cb47-457e-a02e-c0394679a1a9' title='Show/Hide data repr'><svg class='icon xr-icon-database'><use xlink:href='#icon-database'></use></svg></label><div class='xr-var-attrs'><dl class='xr-attrs'></dl></div><div class='xr-var-data'><pre>array([0, 1, 2, 3, 4, 5, 6, 7, 8, 9])</pre></div></li><li class='xr-var-item'><div class='xr-var-name'><span>cml_id</span></div><div class='xr-var-dims'>()</div><div class='xr-var-dtype'>&lt;U3</div><div class='xr-var-preview xr-preview'>&#x27;1&#x27;</div><input id='attrs-218d1342-387b-4d39-b90c-90124ace47a4' class='xr-var-attrs-in' type='checkbox' disabled><label for='attrs-218d1342-387b-4d39-b90c-90124ace47a4' title='Show/Hide attributes'><svg class='icon xr-icon-file-text2'><use xlink:href='#icon-file-text2'></use></svg></label><input id='data-b3ce7f31-935b-4b53-81d2-a283d6d4f006' class='xr-var-data-in' type='checkbox'><label for='data-b3ce7f31-935b-4b53-81d2-a283d6d4f006' title='Show/Hide data repr'><svg class='icon xr-icon-database'><use xlink:href='#icon-database'></use></svg></label><div class='xr-var-attrs'><dl class='xr-attrs'></dl></div><div class='xr-var-data'><pre>array(&#x27;1&#x27;, dtype=&#x27;&lt;U3&#x27;)</pre></div></li><li class='xr-var-item'><div class='xr-var-name'><span>length</span></div><div class='xr-var-dims'>()</div><div class='xr-var-dtype'>float64</div><div class='xr-var-preview xr-preview'>5.673</div><input id='attrs-e7d6729b-66a4-4d57-988e-fab718f2f8f9' class='xr-var-attrs-in' type='checkbox' disabled><label for='attrs-e7d6729b-66a4-4d57-988e-fab718f2f8f9' title='Show/Hide attributes'><svg class='icon xr-icon-file-text2'><use xlink:href='#icon-file-text2'></use></svg></label><input id='data-260a3b3d-c4d1-4514-a450-f91b06dc26a8' class='xr-var-data-in' type='checkbox'><label for='data-260a3b3d-c4d1-4514-a450-f91b06dc26a8' title='Show/Hide data repr'><svg class='icon xr-icon-database'><use xlink:href='#icon-database'></use></svg></label><div class='xr-var-attrs'><dl class='xr-attrs'></dl></div><div class='xr-var-data'><pre>array(5.67275941)</pre></div></li><li class='xr-var-item'><div class='xr-var-name'><span>frequency</span></div><div class='xr-var-dims'>(channel_id)</div><div class='xr-var-dtype'>float64</div><div class='xr-var-preview xr-preview'>1.82e+10 1.92e+10</div><input id='attrs-78055662-2ba2-4fed-8afc-0903cdf7951f' class='xr-var-attrs-in' type='checkbox' disabled><label for='attrs-78055662-2ba2-4fed-8afc-0903cdf7951f' title='Show/Hide attributes'><svg class='icon xr-icon-file-text2'><use xlink:href='#icon-file-text2'></use></svg></label><input id='data-142fd640-9a74-41cf-bcfe-5840ade24702' class='xr-var-data-in' type='checkbox'><label for='data-142fd640-9a74-41cf-bcfe-5840ade24702' title='Show/Hide data repr'><svg class='icon xr-icon-database'><use xlink:href='#icon-database'></use></svg></label><div class='xr-var-attrs'><dl class='xr-attrs'></dl></div><div class='xr-var-data'><pre>array([1.8195e+10, 1.9205e+10])</pre></div></li><li class='xr-var-item'><div class='xr-var-name'><span>polarization</span></div><div class='xr-var-dims'>(channel_id)</div><div class='xr-var-dtype'>&lt;U1</div><div class='xr-var-preview xr-preview'>&#x27;H&#x27; &#x27;H&#x27;</div><input id='attrs-84618622-9681-4cce-8ae0-d6f45b6459df' class='xr-var-attrs-in' type='checkbox' disabled><label for='attrs-84618622-9681-4cce-8ae0-d6f45b6459df' title='Show/Hide attributes'><svg class='icon xr-icon-file-text2'><use xlink:href='#icon-file-text2'></use></svg></label><input id='data-fcd461df-94e8-4f92-92dd-471585c398c0' class='xr-var-data-in' type='checkbox'><label for='data-fcd461df-94e8-4f92-92dd-471585c398c0' title='Show/Hide data repr'><svg class='icon xr-icon-database'><use xlink:href='#icon-database'></use></svg></label><div class='xr-var-attrs'><dl class='xr-attrs'></dl></div><div class='xr-var-data'><pre>array([&#x27;H&#x27;, &#x27;H&#x27;], dtype=&#x27;&lt;U1&#x27;)</pre></div></li></ul></div></li><li class='xr-section-item'><input id='section-09829519-44a3-415d-80f6-1d9c3adbf698' class='xr-section-summary-in' type='checkbox'  checked><label for='section-09829519-44a3-415d-80f6-1d9c3adbf698' class='xr-section-summary' >Data variables: <span>(4)</span></label><div class='xr-section-inline-details'></div><div class='xr-section-details'><ul class='xr-var-list'><li class='xr-var-item'><div class='xr-var-name'><span>trsl</span></div><div class='xr-var-dims'>(channel_id, sample_num, timestep)</div><div class='xr-var-dtype'>float64</div><div class='xr-var-preview xr-preview'>61.6 61.6 61.9 ... 60.9 60.6 60.6</div><input id='attrs-9303f30a-412c-4ccd-8c72-4630e4e6b0c7' class='xr-var-attrs-in' type='checkbox' disabled><label for='attrs-9303f30a-412c-4ccd-8c72-4630e4e6b0c7' title='Show/Hide attributes'><svg class='icon xr-icon-file-text2'><use xlink:href='#icon-file-text2'></use></svg></label><input id='data-01895bca-2bf0-42b5-b82d-17534fd943be' class='xr-var-data-in' type='checkbox'><label for='data-01895bca-2bf0-42b5-b82d-17534fd943be' title='Show/Hide data repr'><svg class='icon xr-icon-database'><use xlink:href='#icon-database'></use></svg></label><div class='xr-var-attrs'><dl class='xr-attrs'></dl></div><div class='xr-var-data'><pre>array([[[61.6, 61.6, 61.9, ..., 61.9, 61.9, 62.9],\n",
       "        [62.6, 61.9, 61.6, ..., 61.9, 61.6, 62.6],\n",
       "        [61.6, 61.6, 61.9, ..., 61.9, 61.9, 61.9],\n",
       "        ...,\n",
       "        [61.6, 61.6, 61.6, ..., 62.6, 61.6, 62.6],\n",
       "        [62.9, 62.9, 62.6, ..., 61.9, 62.6, 61.6],\n",
       "        [61.9, 61.9, 61.9, ..., 61.6, 62.6, 61.9]],\n",
       "\n",
       "       [[61.6, 61.6, 61.2, ..., 62.2, 61.6, 61.6],\n",
       "        [60.6, 61.9, 60.9, ..., 60.9, 61.6, 60.6],\n",
       "        [61.6, 61.6, 60.9, ..., 61.2, 60.6, 61.2],\n",
       "        ...,\n",
       "        [60.3, 60.9, 60.9, ..., 60.6, 60.6, 60.6],\n",
       "        [61.6, 60.9, 60.2, ..., 60.9, 60.6, 61.2],\n",
       "        [60.6, 60.9, 60.9, ..., 60.9, 60.6, 60.6]]])</pre></div></li><li class='xr-var-item'><div class='xr-var-name'><span>rain</span></div><div class='xr-var-dims'>(sample_num, timestep)</div><div class='xr-var-dtype'>float64</div><div class='xr-var-preview xr-preview'>0.0 nan nan nan ... nan nan nan nan</div><input id='attrs-2565357a-4a6b-4082-a186-a7451a4066c4' class='xr-var-attrs-in' type='checkbox' disabled><label for='attrs-2565357a-4a6b-4082-a186-a7451a4066c4' title='Show/Hide attributes'><svg class='icon xr-icon-file-text2'><use xlink:href='#icon-file-text2'></use></svg></label><input id='data-08d66caa-449d-4262-8135-77b647673bd3' class='xr-var-data-in' type='checkbox'><label for='data-08d66caa-449d-4262-8135-77b647673bd3' title='Show/Hide data repr'><svg class='icon xr-icon-database'><use xlink:href='#icon-database'></use></svg></label><div class='xr-var-attrs'><dl class='xr-attrs'></dl></div><div class='xr-var-data'><pre>array([[ 0., nan, nan, ..., nan, nan, nan],\n",
       "       [ 0., nan, nan, ..., nan, nan, nan],\n",
       "       [ 0., nan, nan, ..., nan, nan, nan],\n",
       "       ...,\n",
       "       [ 0., nan, nan, ..., nan, nan, nan],\n",
       "       [ 0., nan, nan, ..., nan, nan, nan],\n",
       "       [ 0., nan, nan, ..., nan, nan, nan]])</pre></div></li><li class='xr-var-item'><div class='xr-var-name'><span>time</span></div><div class='xr-var-dims'>(sample_num, timestep)</div><div class='xr-var-dtype'>datetime64[ns]</div><div class='xr-var-preview xr-preview'>2018-05-10 ... 2018-05-20T23:59:00</div><input id='attrs-5908708a-aef8-4786-b547-e6864317eb69' class='xr-var-attrs-in' type='checkbox' disabled><label for='attrs-5908708a-aef8-4786-b547-e6864317eb69' title='Show/Hide attributes'><svg class='icon xr-icon-file-text2'><use xlink:href='#icon-file-text2'></use></svg></label><input id='data-64fff521-1ec7-440d-b388-dcc316606d87' class='xr-var-data-in' type='checkbox'><label for='data-64fff521-1ec7-440d-b388-dcc316606d87' title='Show/Hide data repr'><svg class='icon xr-icon-database'><use xlink:href='#icon-database'></use></svg></label><div class='xr-var-attrs'><dl class='xr-attrs'></dl></div><div class='xr-var-data'><pre>array([[&#x27;2018-05-10T00:00:00.000000000&#x27;, &#x27;2018-05-10T00:01:00.000000000&#x27;,\n",
       "        &#x27;2018-05-10T00:02:00.000000000&#x27;, ...,\n",
       "        &#x27;2018-05-10T00:07:00.000000000&#x27;, &#x27;2018-05-10T00:08:00.000000000&#x27;,\n",
       "        &#x27;2018-05-10T00:09:00.000000000&#x27;],\n",
       "       [&#x27;2018-05-10T00:10:00.000000000&#x27;, &#x27;2018-05-10T00:11:00.000000000&#x27;,\n",
       "        &#x27;2018-05-10T00:12:00.000000000&#x27;, ...,\n",
       "        &#x27;2018-05-10T00:17:00.000000000&#x27;, &#x27;2018-05-10T00:18:00.000000000&#x27;,\n",
       "        &#x27;2018-05-10T00:19:00.000000000&#x27;],\n",
       "       [&#x27;2018-05-10T00:20:00.000000000&#x27;, &#x27;2018-05-10T00:21:00.000000000&#x27;,\n",
       "        &#x27;2018-05-10T00:22:00.000000000&#x27;, ...,\n",
       "        &#x27;2018-05-10T00:27:00.000000000&#x27;, &#x27;2018-05-10T00:28:00.000000000&#x27;,\n",
       "        &#x27;2018-05-10T00:29:00.000000000&#x27;],\n",
       "       ...,\n",
       "       [&#x27;2018-05-20T23:30:00.000000000&#x27;, &#x27;2018-05-20T23:31:00.000000000&#x27;,\n",
       "        &#x27;2018-05-20T23:32:00.000000000&#x27;, ...,\n",
       "        &#x27;2018-05-20T23:37:00.000000000&#x27;, &#x27;2018-05-20T23:38:00.000000000&#x27;,\n",
       "        &#x27;2018-05-20T23:39:00.000000000&#x27;],\n",
       "       [&#x27;2018-05-20T23:40:00.000000000&#x27;, &#x27;2018-05-20T23:41:00.000000000&#x27;,\n",
       "        &#x27;2018-05-20T23:42:00.000000000&#x27;, ...,\n",
       "        &#x27;2018-05-20T23:47:00.000000000&#x27;, &#x27;2018-05-20T23:48:00.000000000&#x27;,\n",
       "        &#x27;2018-05-20T23:49:00.000000000&#x27;],\n",
       "       [&#x27;2018-05-20T23:50:00.000000000&#x27;, &#x27;2018-05-20T23:51:00.000000000&#x27;,\n",
       "        &#x27;2018-05-20T23:52:00.000000000&#x27;, ...,\n",
       "        &#x27;2018-05-20T23:57:00.000000000&#x27;, &#x27;2018-05-20T23:58:00.000000000&#x27;,\n",
       "        &#x27;2018-05-20T23:59:00.000000000&#x27;]], dtype=&#x27;datetime64[ns]&#x27;)</pre></div></li><li class='xr-var-item'><div class='xr-var-name'><span>ref_wd</span></div><div class='xr-var-dims'>(sample_num)</div><div class='xr-var-dtype'>bool</div><div class='xr-var-preview xr-preview'>False False False ... False False</div><input id='attrs-feeb6149-802d-429f-9156-aaf13821947f' class='xr-var-attrs-in' type='checkbox' disabled><label for='attrs-feeb6149-802d-429f-9156-aaf13821947f' title='Show/Hide attributes'><svg class='icon xr-icon-file-text2'><use xlink:href='#icon-file-text2'></use></svg></label><input id='data-a14d514b-0d10-4590-b8d6-ff580ecec38c' class='xr-var-data-in' type='checkbox'><label for='data-a14d514b-0d10-4590-b8d6-ff580ecec38c' title='Show/Hide data repr'><svg class='icon xr-icon-database'><use xlink:href='#icon-database'></use></svg></label><div class='xr-var-attrs'><dl class='xr-attrs'></dl></div><div class='xr-var-data'><pre>array([False, False, False, ..., False, False, False])</pre></div></li></ul></div></li><li class='xr-section-item'><input id='section-0279d9e1-246d-434b-a98c-9f4485b981f9' class='xr-section-summary-in' type='checkbox'  ><label for='section-0279d9e1-246d-434b-a98c-9f4485b981f9' class='xr-section-summary' >Indexes: <span>(3)</span></label><div class='xr-section-inline-details'></div><div class='xr-section-details'><ul class='xr-var-list'><li class='xr-var-item'><div class='xr-index-name'><div>channel_id</div></div><div class='xr-index-preview'>PandasIndex</div><div></div><input id='index-515f8e49-b7e3-41ff-a7e9-ac14c05e2bd5' class='xr-index-data-in' type='checkbox'/><label for='index-515f8e49-b7e3-41ff-a7e9-ac14c05e2bd5' title='Show/Hide index repr'><svg class='icon xr-icon-database'><use xlink:href='#icon-database'></use></svg></label><div class='xr-index-data'><pre>PandasIndex(Index([0, 1], dtype=&#x27;int64&#x27;, name=&#x27;channel_id&#x27;))</pre></div></li><li class='xr-var-item'><div class='xr-index-name'><div>sample_num</div></div><div class='xr-index-preview'>PandasIndex</div><div></div><input id='index-ddc7b5eb-3565-4827-a750-a02b98f549ab' class='xr-index-data-in' type='checkbox'/><label for='index-ddc7b5eb-3565-4827-a750-a02b98f549ab' title='Show/Hide index repr'><svg class='icon xr-icon-database'><use xlink:href='#icon-database'></use></svg></label><div class='xr-index-data'><pre>PandasIndex(Index([   0,    1,    2,    3,    4,    5,    6,    7,    8,    9,\n",
       "       ...\n",
       "       1574, 1575, 1576, 1577, 1578, 1579, 1580, 1581, 1582, 1583],\n",
       "      dtype=&#x27;int64&#x27;, name=&#x27;sample_num&#x27;, length=1584))</pre></div></li><li class='xr-var-item'><div class='xr-index-name'><div>timestep</div></div><div class='xr-index-preview'>PandasIndex</div><div></div><input id='index-33b4c781-ebae-4663-a8fc-25e597d98bd8' class='xr-index-data-in' type='checkbox'/><label for='index-33b4c781-ebae-4663-a8fc-25e597d98bd8' title='Show/Hide index repr'><svg class='icon xr-icon-database'><use xlink:href='#icon-database'></use></svg></label><div class='xr-index-data'><pre>PandasIndex(Index([0, 1, 2, 3, 4, 5, 6, 7, 8, 9], dtype=&#x27;int64&#x27;, name=&#x27;timestep&#x27;))</pre></div></li></ul></div></li><li class='xr-section-item'><input id='section-9dd58a36-7fe2-40ba-96e5-b3ee7f1ad972' class='xr-section-summary-in' type='checkbox' disabled ><label for='section-9dd58a36-7fe2-40ba-96e5-b3ee7f1ad972' class='xr-section-summary'  title='Expand/collapse section'>Attributes: <span>(0)</span></label><div class='xr-section-inline-details'></div><div class='xr-section-details'><dl class='xr-attrs'></dl></div></li></ul></div></div>"
      ],
      "text/plain": [
       "<xarray.Dataset> Size: 521kB\n",
       "Dimensions:       (channel_id: 2, sample_num: 1584, timestep: 10)\n",
       "Coordinates:\n",
       "  * channel_id    (channel_id) int64 16B 0 1\n",
       "  * sample_num    (sample_num) int64 13kB 0 1 2 3 4 ... 1579 1580 1581 1582 1583\n",
       "  * timestep      (timestep) int64 80B 0 1 2 3 4 5 6 7 8 9\n",
       "    cml_id        <U3 12B '1'\n",
       "    length        float64 8B 5.673\n",
       "    frequency     (channel_id) float64 16B 1.82e+10 1.92e+10\n",
       "    polarization  (channel_id) <U1 8B 'H' 'H'\n",
       "Data variables:\n",
       "    trsl          (channel_id, sample_num, timestep) float64 253kB 61.6 ... 60.6\n",
       "    rain          (sample_num, timestep) float64 127kB 0.0 nan nan ... nan nan\n",
       "    time          (sample_num, timestep) datetime64[ns] 127kB 2018-05-10 ... ...\n",
       "    ref_wd        (sample_num) bool 2kB False False False ... False False False"
      ]
     },
     "execution_count": 15,
     "metadata": {},
     "output_type": "execute_result"
    }
   ],
   "source": [
    "ds"
   ]
  },
  {
   "cell_type": "markdown",
   "metadata": {},
   "source": [
    "#### Plot dataset of the one chosen cml "
   ]
  },
  {
   "cell_type": "code",
   "execution_count": 80,
   "metadata": {},
   "outputs": [
    {
     "data": {
      "text/plain": [
       "Text(0.5, 1.0, '')"
      ]
     },
     "execution_count": 80,
     "metadata": {},
     "output_type": "execute_result"
    },
    {
     "data": {
      "image/png": "[encoded data removed]",
      "text/plain": [
       "<Figure size 1200x400 with 3 Axes>"
      ]
     },
     "metadata": {},
     "output_type": "display_data"
    }
   ],
   "source": [
    "# shaded refernece wet periods from Pycomlink\n",
    "# set first and last value with zero for correct plotting\n",
    "ds['ref_wd'][0] = False\n",
    "ds['ref_wd'][-1] = False\n",
    "\n",
    "# setup figure\n",
    "fig, axs = plt.subplots(2, 1, sharex=True, figsize=(12,4))\n",
    "ax2 = axs[0].twiny()\n",
    "fig.tight_layout()\n",
    "\n",
    "# plot TRSL\n",
    "my_cml.trsl.plot.line(x='time', ax=axs[0], label = ('TL'));\n",
    "# plot Rain rate \n",
    "my_ref.rainfall_amount.plot.line(x='time', ax=axs[1], label = 'TL');\n",
    "\n",
    "# plot real bool wet/dry with 5min precission\n",
    "wet_start = np.roll(my_ref.ref_wet_dry, -1) & ~my_ref.ref_wet_dry\n",
    "wet_end = np.roll(my_ref.ref_wet_dry, 1) & ~my_ref.ref_wet_dry\n",
    "for wet_start_i, wet_end_i in zip(\n",
    "    wet_start.values.nonzero()[0],\n",
    "    wet_end.values.nonzero()[0],\n",
    "):\n",
    "    axs[0].axvspan(my_ref.time.values[wet_start_i], my_ref.ref_wet_dry.time.values[wet_end_i], color='b', alpha=0.2, linewidth=0); # https://matplotlib.org/stable/api/_as_gen/matplotlib.axes.Axes.axvspan.html\n",
    "    axs[1].axvspan(my_ref.time.values[wet_start_i], my_ref.ref_wet_dry.time.values[wet_end_i], color='b', alpha=0.2, linewidth=0);\n",
    "\n",
    "\n",
    "\n",
    "# axes limits source: https://matplotlib.org/stable/api/_as_gen/matplotlib.axes.Axes.set_xlim.html\n",
    "axs[1].set_xlim(ds.time.values[0,0], ds.time.values[-1,-1])\n",
    "# in case there are cutof measurements due to sample grouping, we use their amount to align x axes right\n",
    "ax2.set_xlim(0, n_samples + cutoff)\n",
    "axs[0].set_xlabel('')\n",
    "axs[1].set_title(\"\")"
   ]
  },
  {
   "cell_type": "markdown",
   "metadata": {},
   "source": [
    "#### Standardising\n",
    "\"Subtracting the median of all available data from the preceding 72h from each time step.\"[2]   \n",
    "\n",
    "Method: divide all trsl points with the median value for specified channell"
   ]
  },
  {
   "cell_type": "code",
   "execution_count": 57,
   "metadata": {
    "scrolled": true
   },
   "outputs": [],
   "source": [
    "# Calculate median and divide trsl for bot channels\n",
    "#median_tot = ds.trsl.median(axis=(1,2), skipna=True)\n",
    "#ds['trsl'] = ds.trsl / median_tot\n",
    "\n",
    "# Standardising to 0-1 fullscale\n",
    "ds['trsl_st'] = (ds.trsl-ds.trsl.values.min())  / (ds.trsl.values.max()-ds.trsl.values.min())"
   ]
  },
  {
   "cell_type": "markdown",
   "metadata": {},
   "source": [
    "#### Training/Testing data splitting\n",
    "https://github.com/jpolz/cml_wd_pytorch/blob/main/wd_pytorch/train_cnn.ipynb [2]"
   ]
  },
  {
   "cell_type": "code",
   "execution_count": 58,
   "metadata": {},
   "outputs": [],
   "source": [
    "# for tensors we need to make sample_num the first dimension\n",
    "ds['trsl_st'] = ds.trsl_st.transpose('sample_num', 'channel_id', 'timestep')"
   ]
  },
  {
   "cell_type": "code",
   "execution_count": 59,
   "metadata": {},
   "outputs": [
    {
     "data": {
      "text/plain": [
       "1260"
      ]
     },
     "execution_count": 59,
     "metadata": {},
     "output_type": "execute_result"
    }
   ],
   "source": [
    "batchsize = 10\n",
    "k_train = 0.8     # fraction of training data\n",
    "\n",
    "train_size = int(len(ds.sample_num)*k_train/batchsize)* batchsize\n",
    "train_size"
   ]
  },
  {
   "cell_type": "code",
   "execution_count": 76,
   "metadata": {},
   "outputs": [
    {
     "name": "stdout",
     "output_type": "stream",
     "text": [
      "Real wet percentage is:  10.67 %\n"
     ]
    }
   ],
   "source": [
    "# check frequency of wet and dry ocasions\n",
    "n_wet = sum(ds.ref_wd.values)\n",
    "n_dry = sum(~ds.ref_wd.values)\n",
    "\n",
    "print('Real wet percentage is: ', (n_wet/n_samples*100).round(decimals=2), '%')"
   ]
  },
  {
   "cell_type": "markdown",
   "metadata": {},
   "source": [
    "#### Convert to Tensor DataSets"
   ]
  },
  {
   "cell_type": "markdown",
   "metadata": {},
   "source": [
    "Shuffling data disabled, splitting and turning to arrays"
   ]
  },
  {
   "cell_type": "code",
   "execution_count": 20,
   "metadata": {},
   "outputs": [],
   "source": [
    "# shuffling samples\n",
    "#trsl, ref = shuffle(ds.trsl_st.values, ds.ref_wd.values)\n",
    "\n",
    "# without shuffling\n",
    "trsl = ds.trsl_st.values\n",
    "ref = ds.ref_wd.values\n",
    "\n",
    "train_data = trsl[:train_size]\n",
    "test_data = trsl[train_size:]\n",
    "train_ref = ref[:train_size]\n",
    "test_ref = ref[train_size:]"
   ]
  },
  {
   "cell_type": "markdown",
   "metadata": {},
   "source": [
    "Storing as tensors [2]"
   ]
  },
  {
   "cell_type": "code",
   "execution_count": 21,
   "metadata": {},
   "outputs": [],
   "source": [
    "train_data = torch.Tensor(train_data)\n",
    "test_data = torch.Tensor(test_data)\n",
    "\n",
    "train_ref = torch.Tensor(train_ref)\n",
    "test_ref = torch.Tensor(test_ref)"
   ]
  },
  {
   "cell_type": "markdown",
   "metadata": {},
   "source": [
    "Turning into dataset, shuffling"
   ]
  },
  {
   "cell_type": "code",
   "execution_count": 22,
   "metadata": {},
   "outputs": [],
   "source": [
    "dataset = torch.utils.data.TensorDataset(train_data, train_ref)\n",
    "testset = torch.utils.data.TensorDataset(test_data, test_ref)\n",
    "\n",
    "trainloader = torch.utils.data.DataLoader(dataset, batch_size = batchsize, shuffle = False)    # shuffle the training data, once more? True\n",
    "testloader = torch.utils.data.DataLoader(testset, batch_size = batchsize, shuffle = False)"
   ]
  },
  {
   "cell_type": "markdown",
   "metadata": {},
   "source": [
    "## Training the CNN"
   ]
  },
  {
   "cell_type": "code",
   "execution_count": 23,
   "metadata": {},
   "outputs": [],
   "source": [
    "model = cnn.cnn_class()\n",
    "optimizer = torch.optim.AdamW(model.parameters(), lr=0.0001)\n",
    "\n",
    "# try lower training rate and no dropout\n"
   ]
  },
  {
   "cell_type": "code",
   "execution_count": 24,
   "metadata": {},
   "outputs": [],
   "source": [
    "epochs = 15    # experimentally max epochs: 30, overfitting around 15\n",
    "resume = 0     # continue learning at epoch xx "
   ]
  },
  {
   "cell_type": "code",
   "execution_count": 25,
   "metadata": {},
   "outputs": [],
   "source": [
    "if resume == 0:\n",
    "    loss_dict = {}\n",
    "    loss_dict['train'] = {}\n",
    "    loss_dict['test'] = {}\n",
    "    for key in ['train','test']:\n",
    "        loss_dict[key]['loss'] = []"
   ]
  },
  {
   "cell_type": "code",
   "execution_count": 26,
   "metadata": {},
   "outputs": [
    {
     "name": "stdout",
     "output_type": "stream",
     "text": [
      "19\n",
      "\n",
      "train loss: 0.14795588\n",
      "test loss: 0.23319496\n",
      "min test loss: 0.20795827\n"
     ]
    },
    {
     "data": {
      "image/png": "[encoded data removed]",
      "text/plain": [
       "<Figure size 300x400 with 1 Axes>"
      ]
     },
     "metadata": {},
     "output_type": "display_data"
    }
   ],
   "source": [
    "for epoch in range(resume, epochs):\n",
    "    # training\n",
    "    cnn_prediction = []\n",
    "    train_losses = []\n",
    "    for inputs, targets in tqdm(trainloader):\n",
    "        optimizer.zero_grad()\n",
    "        pred = model(inputs)\n",
    "        pred = nn.Flatten(0,1)(pred)            # transpose column data into row\n",
    "        # calculating the loss function\n",
    "\n",
    "        # getting the output\n",
    "        if epoch == epochs-1: cnn_prediction = cnn_prediction+pred.tolist()\n",
    "        \n",
    "        loss = nn.BCELoss()(pred, targets)      # Targets and Imputs size must match\n",
    "        loss.backward()\n",
    "        optimizer.step()\n",
    "        train_losses.append(loss.detach().numpy())\n",
    "    loss_dict['train']['loss'].append(np.mean(train_losses))\n",
    "\n",
    "    \n",
    "    # testing\n",
    "    test_losses = []\n",
    "    with torch.no_grad():\n",
    "        for inputs, targets in tqdm(testloader):\n",
    "            pred = model(inputs)\n",
    "            # pred = pred.round()\n",
    "            pred = nn.Flatten(0,1)(pred)\n",
    "            \n",
    "            # getting the output\n",
    "            if epoch == epochs-1: cnn_prediction = cnn_prediction+pred.tolist()\n",
    "                \n",
    "            loss = nn.BCELoss()(pred, targets)\n",
    "            test_losses.append(loss.detach().numpy())\n",
    "        loss_dict['test']['loss'].append(np.mean(test_losses))\n",
    "        \n",
    "    # printing\n",
    "    clear_output(wait=True)\n",
    "    print(epoch)\n",
    "    print('')\n",
    "    print('train loss:', np.mean(train_losses))\n",
    "    print('test loss:', np.mean(test_losses))\n",
    "    print('min test loss:', np.min(loss_dict['test']['loss']))\n",
    "    fig, axs = plt.subplots(1,1, figsize=(3,4))\n",
    "    for key in loss_dict.keys():\n",
    "        for k, key2 in enumerate(loss_dict[key].keys()):\n",
    "            axs.plot(loss_dict[key][key2], label=key)\n",
    "            axs.set_title(key2)\n",
    "    # axs.set_yscale('log')\n",
    "    plt.legend()\n",
    "    plt.show()\n",
    "    resume = epoch"
   ]
  },
  {
   "cell_type": "markdown",
   "metadata": {},
   "source": [
    "## Data validation\n",
    "prediction output, confusion matrix, MCC...\n",
    "#### Plot the prediction output\n",
    "#### <span style=\"color:red\">TODO: </span>Add Legends to figures"
   ]
  },
  {
   "cell_type": "code",
   "execution_count": 27,
   "metadata": {},
   "outputs": [],
   "source": [
    "ds['cnn_out'] = (('sample_num'), np.array(cnn_prediction))\n",
    "cnn_wd_threshold = 0.5\n",
    "\n",
    "ds['cnn_wd'] = (('sample_num'), ds.cnn_out.values > cnn_wd_threshold)"
   ]
  },
  {
   "cell_type": "code",
   "execution_count": 28,
   "metadata": {},
   "outputs": [],
   "source": [
    "# predicted true wet\n",
    "ds['true_wet'] = ds.cnn_wd & ds.ref_wd \n",
    "# cnn false alarm\n",
    "ds['false_alarm'] = ds.cnn_wd & ~ds.ref_wd\n",
    "# cnn missed wet\n",
    "ds['missed_wet'] = ~ds.cnn_wd & ds.ref_wd"
   ]
  },
  {
   "cell_type": "code",
   "execution_count": 41,
   "metadata": {},
   "outputs": [
    {
     "data": {
      "text/plain": [
       "<matplotlib.legend.Legend at 0x2303a75c350>"
      ]
     },
     "execution_count": 41,
     "metadata": {},
     "output_type": "execute_result"
    },
    {
     "data": {
      "image/png": "[encoded data removed]",
      "text/plain": [
       "<Figure size 1200x400 with 2 Axes>"
      ]
     },
     "metadata": {},
     "output_type": "display_data"
    }
   ],
   "source": [
    "# setup figure\n",
    "fig, ax1 = plt.subplots(figsize=(12,4), sharex=True)\n",
    "ax2 = ax1.twiny()\n",
    "\n",
    "ax1.set_xlim(ds.time.values[0,0], ds.time.values[-1,-1])\n",
    "\n",
    "ax2.set_xlim(0, n_samples + cutoff)\n",
    "ax1.set_ylim(0,2);\n",
    "ax2.set_xlabel('sample number')\n",
    "\n",
    "# plot cnn prediction\n",
    "ds.cnn_out.plot.line(x='sample_num', ax=ax2, label = 'TL',color='black', lw=0.5);\n",
    "\n",
    "#cnn threshold\n",
    "ax2.axhline(cnn_wd_threshold, color='black', linestyle='--', lw=0.5)\n",
    "\n",
    "# GREEN: plot true cnn predicted wet/dry areas\n",
    "# tip from stack ovefrolw: https://stackoverflow.com/questions/44632903/setting-multiple-axvspan-labels-as-one-element-in-legend\n",
    "wet_start = np.roll(ds.true_wet, -1) & ~ds.true_wet\n",
    "wet_end = np.roll(ds.true_wet, 1) & ~ds.true_wet\n",
    "for wet_start_i, wet_end_i in zip(\n",
    "    wet_start.values.nonzero()[0],\n",
    "    wet_end.values.nonzero()[0],\n",
    "):\n",
    "    ax2.axvspan(ds.sample_num.values[wet_start_i], ds.sample_num.values[wet_end_i], color='g', alpha=0.5, linewidth=0, label='_'*wet_start_i+'true wet') \n",
    "\n",
    "# RED: plot false alarms\n",
    "wet_start = np.roll(ds.false_alarm, -1) & ~ds.false_alarm\n",
    "wet_end = np.roll(ds.false_alarm, 1) & ~ds.false_alarm\n",
    "for wet_start_i, wet_end_i in zip(\n",
    "    wet_start.values.nonzero()[0],\n",
    "    wet_end.values.nonzero()[0],\n",
    "):\n",
    "    ax2.axvspan(ds.sample_num.values[wet_start_i], ds.sample_num.values[wet_end_i], color='r', alpha=0.5, linewidth=0, label='_'*wet_start_i+'false alarm') \n",
    "    \n",
    "# ORANGE: plot missed wet \n",
    "wet_start = np.roll(ds.missed_wet, -1) & ~ds.missed_wet\n",
    "wet_end = np.roll(ds.missed_wet, 1) & ~ds.missed_wet\n",
    "for wet_start_i, wet_end_i in zip(\n",
    "    wet_start.values.nonzero()[0],\n",
    "    wet_end.values.nonzero()[0],\n",
    "):\n",
    "    ax2.axvspan(ds.sample_num.values[wet_start_i], ds.sample_num.values[wet_end_i], color='orange', alpha=0.5, linewidth=0, label='_'*wet_start_i+'missed wet')\n",
    "\n",
    "ax2.legend(bbox_to_anchor=(0.73,-0.35), ncol=3)"
   ]
  },
  {
   "cell_type": "markdown",
   "metadata": {},
   "source": [
    "#### ROC curve\n",
    "\n",
    "source: [2], https://github.com/jpolz/cnn_cml_wet-dry_example/blob/master/CNN_for_CML_example_nb.ipynb  "
   ]
  },
  {
   "cell_type": "code",
   "execution_count": 30,
   "metadata": {},
   "outputs": [],
   "source": [
    "def roc_curve(y_pred, y_true, tr_start, tr_end):\n",
    "    '''\n",
    "    Compute the ROC curve for the CNN. The minimum threshold is tr_start and the maximum threshold is tr_end.\n",
    "    '''\n",
    "    roc = []\n",
    "    for i in range(tr_start*1000,1+tr_end*1000,1):\n",
    "        t = i/1000\n",
    "        y_predicted=np.ravel(y_pred>t)  \n",
    "        true_pos = np.sum(np.logical_and(y_true==1, y_predicted==1))\n",
    "        true_neg = np.sum(np.logical_and(y_true==0, y_predicted==0))\n",
    "        false_pos = np.sum(np.logical_and(y_true==0, y_predicted==1))\n",
    "        false_neg = np.sum(np.logical_and(y_true==1, y_predicted==0))\n",
    "        cond_neg = true_neg+false_pos\n",
    "        cond_pos = true_pos+false_neg\n",
    "        roc.append([true_pos/cond_pos,\n",
    "                    false_pos/cond_neg])\n",
    "    roc.append([0,0])\n",
    "    \n",
    "    return np.array(roc)\n",
    "\n",
    "def roc_surface(roc):\n",
    "    '''\n",
    "    Compute the Area under a ROC curve.\n",
    "    '''\n",
    "    k = len(roc)\n",
    "    surf=0\n",
    "    for i in range(k-1):\n",
    "        surf= surf+(np.abs(roc[i,1]-roc[i+1,1]))*0.5*(roc[i+1,0]+roc[i,0])\n",
    "    \n",
    "    return surf"
   ]
  },
  {
   "cell_type": "code",
   "execution_count": 31,
   "metadata": {},
   "outputs": [],
   "source": [
    "# ROC curve\n",
    "roc = roc_curve(ds.cnn_out, ds.ref_wd, 0, 1)\n"
   ]
  },
  {
   "cell_type": "code",
   "execution_count": 44,
   "metadata": {},
   "outputs": [
    {
     "data": {
      "image/png": "[encoded data removed]",
      "text/plain": [
       "<Figure size 500x500 with 1 Axes>"
      ]
     },
     "metadata": {},
     "output_type": "display_data"
    }
   ],
   "source": [
    "plt.figure(figsize=(5,5))\n",
    "plt.plot(roc[:,1],roc[:,0], color='green', label='CNN Area: '+str(np.round(roc_surface(roc), decimals=2)), zorder=2, lw=3)\n",
    "\n",
    "# plot point of cnn threshold for optimalisation\n",
    "plt.scatter(roc[int(cnn_wd_threshold*1000),1],roc[int(cnn_wd_threshold*1000),0], color='black', marker='h', s=75, label='$\\\\tau$ ='+str(cnn_wd_threshold), zorder=3)\n",
    "thr = 0.13\n",
    "plt.scatter(roc[int(thr*1000),1],roc[int(thr*1000),0], color='black', marker='.', s=75, label='$\\\\tau$ ='+str(thr), zorder=3)\n",
    "\n",
    "plt.plot([0,0,1,0,1,1],[0,1,1,0,0,1], 'k-', linewidth=0.3, zorder=1)\n",
    "plt.title('ROC curve, TPR = f(TNR)')\n",
    "plt.xlabel('False positive rate')\n",
    "plt.ylabel('True positive rate')\n",
    "plt.legend(loc='lower right', ncol=2, frameon=False)\n",
    "plt.grid()\n",
    "plt.yticks(np.arange(0, 1.01, 0.1))\n",
    "plt.xticks(np.arange(0, 1.01, 0.1))\n",
    "plt.tight_layout()\n",
    "plt.show()"
   ]
  },
  {
   "cell_type": "markdown",
   "metadata": {},
   "source": [
    "#### MCC, ACC, confusion matrix\n",
    "source: [2], https://github.com/jpolz/cnn_cml_wet-dry_example/blob/master/CNN_for_CML_example_nb.ipynb"
   ]
  },
  {
   "cell_type": "code",
   "execution_count": 56,
   "metadata": {},
   "outputs": [
    {
     "name": "stdout",
     "output_type": "stream",
     "text": [
      "CNN scores\n",
      "normalized confusion matrix:\n",
      " [[0.99 0.01]\n",
      " [0.37 0.63]]\n",
      "confusion matrix:\n",
      " [[1398   17]\n",
      " [  63  106]]\n",
      "TNR: 0.99\n",
      "TPR: 0.63\n",
      "MCC: 0.71\n",
      "ACC: 0.95\n",
      "F1: 0.73\n",
      "ROC surface A: 0.91\n"
     ]
    }
   ],
   "source": [
    "print('CNN scores')\n",
    "\n",
    "# confusion matrix \n",
    "cm = skl.confusion_matrix(ds.ref_wd, ds.cnn_wd, labels=[0,1], normalize='true').round(decimals=2)\n",
    "print('normalized confusion matrix:\\n',cm)\n",
    "\n",
    "print('confusion matrix:\\n',skl.confusion_matrix(ds.ref_wd, ds.cnn_wd).round(decimals=2))\n",
    "print('TNR:', cm[0,0])\n",
    "print('TPR:', cm[1,1])\n",
    "\n",
    "# Matthews Correlation Coeficient\n",
    "mcc = skl.matthews_corrcoef(ds.ref_wd, ds.cnn_wd).round(decimals=2)\n",
    "print('MCC:', mcc)\n",
    "\n",
    "# \n",
    "acc = np.round(skl.accuracy_score(ds.ref_wd, ds.cnn_wd), decimals=2)\n",
    "print('ACC:', acc)\n",
    "\n",
    "f1 = skl.f1_score(ds.ref_wd, ds.cnn_wd).round(decimals=2)\n",
    "print('F1:', f1)\n",
    "\n",
    "# ROC curve surface\n",
    "a = roc_surface(roc).round(decimals=2)\n",
    "print('ROC surface A:', a)"
   ]
  },
  {
   "cell_type": "code",
   "execution_count": 50,
   "metadata": {},
   "outputs": [
    {
     "name": "stderr",
     "output_type": "stream",
     "text": [
      "C:\\Users\\lukas\\AppData\\Local\\Temp\\ipykernel_10028\\1832566141.py:10: UserWarning: set_ticklabels() should only be used with a fixed number of ticks, i.e. after set_ticks() or using a FixedLocator.\n",
      "  ax1.set_xticklabels([''] + labels)\n",
      "C:\\Users\\lukas\\AppData\\Local\\Temp\\ipykernel_10028\\1832566141.py:11: UserWarning: set_ticklabels() should only be used with a fixed number of ticks, i.e. after set_ticks() or using a FixedLocator.\n",
      "  ax1.set_yticklabels([''] + labels)\n"
     ]
    },
    {
     "data": {
      "text/plain": [
       "Text(0.5, 1.0, 'CNN')"
      ]
     },
     "execution_count": 50,
     "metadata": {},
     "output_type": "execute_result"
    },
    {
     "data": {
      "image/png": "[encoded data removed]",
      "text/plain": [
       "<Figure size 300x300 with 1 Axes>"
      ]
     },
     "metadata": {},
     "output_type": "display_data"
    }
   ],
   "source": [
    "import itertools\n",
    "\n",
    "# plot the confusion matrix\n",
    "labels = ['dry', 'wet']\n",
    "\n",
    "fig, ax1 = plt.subplots(figsize=(3,3), sharex=True)\n",
    "#ax1 = fig.add_subplot(131)\n",
    "\n",
    "cax = ax1.matshow(cm, cmap=plt.cm.Blues)\n",
    "ax1.set_xticklabels([''] + labels)\n",
    "ax1.set_yticklabels([''] + labels)\n",
    "fmt = '.2f'\n",
    "thresh = cm.max() / 2.\n",
    "for i, j in itertools.product(range(cm.shape[0]), range(cm.shape[1])):\n",
    "    plt.text(j, i, format(cm[i, j], fmt),\n",
    "             horizontalalignment=\"center\",\n",
    "             color=\"white\" if cm[i, j] > thresh else \"black\")\n",
    "plt.xlabel('Predicted')\n",
    "plt.ylabel('True')\n",
    "ax1.xaxis.set_label_position('top') \n",
    "plt.tight_layout()\n",
    "plt.title('CNN', pad=50)"
   ]
  },
  {
   "cell_type": "markdown",
   "metadata": {},
   "source": [
    "## Wet Antenna Attenuation\n",
    "For CNN predicted wet/dry periods.  \n",
    "imported from Pycomlink"
   ]
  },
  {
   "cell_type": "markdown",
   "metadata": {},
   "source": [
    "#### CML baseline for CNN predicted Wet signal"
   ]
  },
  {
   "cell_type": "code",
   "execution_count": 51,
   "metadata": {},
   "outputs": [
    {
     "ename": "TypingError",
     "evalue": "Failed in nopython mode pipeline (step: nopython frontend)\n\u001b[1m\u001b[1mNo implementation of function Function(<built-in function getitem>) found for signature:\n \n >>> getitem(array(float64, 0d, C), slice<a:b>)\n \nThere are 22 candidate implementations:\n\u001b[1m     - Of which 20 did not match due to:\n     Overload of function 'getitem': File: <numerous>: Line N/A.\n       With argument(s): '(array(float64, 0d, C), slice<a:b>)':\u001b[0m\n\u001b[1m      No match.\u001b[0m\n\u001b[1m     - Of which 2 did not match due to:\n     Overload in function 'GetItemBuffer.generic': File: numba\\core\\typing\\arraydecl.py: Line 211.\n       With argument(s): '(array(float64, 0d, C), slice<a:b>)':\u001b[0m\n\u001b[1m      Rejected as the implementation raised a specific error:\n        NumbaTypeError: \u001b[1mcannot index array(float64, 0d, C) with 1 indices: [slice<a:b>]\u001b[0m\u001b[0m\n  raised from D:\\Python312\\Lib\\site-packages\\numba\\core\\typing\\arraydecl.py:133\n\u001b[0m\n\u001b[0m\u001b[1mDuring: typing of intrinsic-call at C:\\Users\\lukas\\OneDrive - VUT\\Skola\\thesis\\Implementation\\cmlWetDry_thesis\\attempt_01_dummy_data\\pycomlink\\processing\\baseline.py (54)\u001b[0m\n\u001b[1m\nFile \"pycomlink\\processing\\baseline.py\", line 54:\u001b[0m\n\u001b[1mdef _numba_baseline_constant(trsl, wet, n_average_last_dry):\n    <source elided>\n    baseline = np.zeros_like(trsl, dtype=np.float64)\n\u001b[1m    baseline[0:n_average_last_dry] = trsl[0:n_average_last_dry]\n\u001b[0m    \u001b[1m^\u001b[0m\u001b[0m\n",
     "output_type": "error",
     "traceback": [
      "\u001b[1;31m---------------------------------------------------------------------------\u001b[0m",
      "\u001b[1;31mTypingError\u001b[0m                               Traceback (most recent call last)",
      "Cell \u001b[1;32mIn[51], line 3\u001b[0m\n\u001b[0;32m      1\u001b[0m \u001b[38;5;28;01mimport\u001b[39;00m \u001b[38;5;21;01mpycomlink\u001b[39;00m \u001b[38;5;28;01mas\u001b[39;00m \u001b[38;5;21;01mpycml\u001b[39;00m\n\u001b[1;32m----> 3\u001b[0m baseline \u001b[38;5;241m=\u001b[39m \u001b[43mpycml\u001b[49m\u001b[38;5;241;43m.\u001b[39;49m\u001b[43mprocessing\u001b[49m\u001b[38;5;241;43m.\u001b[39;49m\u001b[43mbaseline\u001b[49m\u001b[38;5;241;43m.\u001b[39;49m\u001b[43mbaseline_constant\u001b[49m\u001b[43m(\u001b[49m\u001b[43mtrsl\u001b[49m\u001b[38;5;241;43m=\u001b[39;49m\u001b[43mmy_data_set\u001b[49m\u001b[38;5;241;43m.\u001b[39;49m\u001b[43mtrsl\u001b[49m\u001b[43m[\u001b[49m\u001b[43m:\u001b[49m\u001b[43m,\u001b[49m\u001b[38;5;241;43m0\u001b[39;49m\u001b[43m]\u001b[49m\u001b[43m,\u001b[49m\u001b[43m \u001b[49m\u001b[43mwet\u001b[49m\u001b[38;5;241;43m=\u001b[39;49m\u001b[43mmy_ref\u001b[49m\u001b[38;5;241;43m.\u001b[39;49m\u001b[43mref_wet_dry\u001b[49m\u001b[43m,\u001b[49m\u001b[43m \u001b[49m\u001b[43mn_average_last_dry\u001b[49m\u001b[38;5;241;43m=\u001b[39;49m\u001b[38;5;241;43m5\u001b[39;49m\u001b[43m)\u001b[49m\n\u001b[0;32m      5\u001b[0m fig, ax \u001b[38;5;241m=\u001b[39m plt\u001b[38;5;241m.\u001b[39msubplots(figsize\u001b[38;5;241m=\u001b[39m(\u001b[38;5;241m12\u001b[39m,\u001b[38;5;241m3\u001b[39m))\n\u001b[0;32m      7\u001b[0m ax\u001b[38;5;241m.\u001b[39mplot(baseline[\u001b[38;5;241m1\u001b[39m])\n",
      "File \u001b[1;32m~\\OneDrive - VUT\\Skola\\thesis\\Implementation\\cmlWetDry_thesis\\attempt_01_dummy_data\\pycomlink\\processing\\xarray_wrapper.py:43\u001b[0m, in \u001b[0;36mxarray_apply_along_time_dim.<locals>.decorator.<locals>.inner\u001b[1;34m(*args, **kwargs)\u001b[0m\n\u001b[0;32m     41\u001b[0m     \u001b[38;5;28;01mreturn\u001b[39;00m func(\u001b[38;5;241m*\u001b[39margs, \u001b[38;5;241m*\u001b[39m\u001b[38;5;241m*\u001b[39mkwargs)\n\u001b[0;32m     42\u001b[0m \u001b[38;5;28;01melse\u001b[39;00m:\n\u001b[1;32m---> 43\u001b[0m     \u001b[38;5;28;01mreturn\u001b[39;00m \u001b[43mxr\u001b[49m\u001b[38;5;241;43m.\u001b[39;49m\u001b[43mapply_ufunc\u001b[49m\u001b[43m(\u001b[49m\n\u001b[0;32m     44\u001b[0m \u001b[43m        \u001b[49m\u001b[43mfunc\u001b[49m\u001b[43m,\u001b[49m\n\u001b[0;32m     45\u001b[0m \u001b[43m        \u001b[49m\u001b[38;5;241;43m*\u001b[39;49m\u001b[38;5;28;43mlist\u001b[39;49m\u001b[43m(\u001b[49m\u001b[43mnew_args_dict\u001b[49m\u001b[38;5;241;43m.\u001b[39;49m\u001b[43mvalues\u001b[49m\u001b[43m(\u001b[49m\u001b[43m)\u001b[49m\u001b[43m)\u001b[49m\u001b[43m,\u001b[49m\n\u001b[0;32m     46\u001b[0m \u001b[43m        \u001b[49m\u001b[43minput_core_dims\u001b[49m\u001b[38;5;241;43m=\u001b[39;49m\u001b[43minput_core_dims\u001b[49m\u001b[43m,\u001b[49m\n\u001b[0;32m     47\u001b[0m \u001b[43m        \u001b[49m\u001b[43moutput_core_dims\u001b[49m\u001b[38;5;241;43m=\u001b[39;49m\u001b[43m[\u001b[49m\u001b[43m[\u001b[49m\u001b[38;5;124;43m\"\u001b[39;49m\u001b[38;5;124;43mtime\u001b[39;49m\u001b[38;5;124;43m\"\u001b[39;49m\u001b[43m]\u001b[49m\u001b[43m]\u001b[49m\u001b[43m,\u001b[49m\n\u001b[0;32m     48\u001b[0m \u001b[43m        \u001b[49m\u001b[43mvectorize\u001b[49m\u001b[38;5;241;43m=\u001b[39;49m\u001b[38;5;28;43;01mTrue\u001b[39;49;00m\u001b[43m,\u001b[49m\n\u001b[0;32m     49\u001b[0m \u001b[43m    \u001b[49m\u001b[43m)\u001b[49m\n",
      "File \u001b[1;32mD:\\Python312\\Lib\\site-packages\\xarray\\core\\computation.py:1278\u001b[0m, in \u001b[0;36mapply_ufunc\u001b[1;34m(func, input_core_dims, output_core_dims, exclude_dims, vectorize, join, dataset_join, dataset_fill_value, keep_attrs, kwargs, dask, output_dtypes, output_sizes, meta, dask_gufunc_kwargs, on_missing_core_dim, *args)\u001b[0m\n\u001b[0;32m   1276\u001b[0m \u001b[38;5;66;03m# feed DataArray apply_variable_ufunc through apply_dataarray_vfunc\u001b[39;00m\n\u001b[0;32m   1277\u001b[0m \u001b[38;5;28;01melif\u001b[39;00m \u001b[38;5;28many\u001b[39m(\u001b[38;5;28misinstance\u001b[39m(a, DataArray) \u001b[38;5;28;01mfor\u001b[39;00m a \u001b[38;5;129;01min\u001b[39;00m args):\n\u001b[1;32m-> 1278\u001b[0m     \u001b[38;5;28;01mreturn\u001b[39;00m \u001b[43mapply_dataarray_vfunc\u001b[49m\u001b[43m(\u001b[49m\n\u001b[0;32m   1279\u001b[0m \u001b[43m        \u001b[49m\u001b[43mvariables_vfunc\u001b[49m\u001b[43m,\u001b[49m\n\u001b[0;32m   1280\u001b[0m \u001b[43m        \u001b[49m\u001b[38;5;241;43m*\u001b[39;49m\u001b[43margs\u001b[49m\u001b[43m,\u001b[49m\n\u001b[0;32m   1281\u001b[0m \u001b[43m        \u001b[49m\u001b[43msignature\u001b[49m\u001b[38;5;241;43m=\u001b[39;49m\u001b[43msignature\u001b[49m\u001b[43m,\u001b[49m\n\u001b[0;32m   1282\u001b[0m \u001b[43m        \u001b[49m\u001b[43mjoin\u001b[49m\u001b[38;5;241;43m=\u001b[39;49m\u001b[43mjoin\u001b[49m\u001b[43m,\u001b[49m\n\u001b[0;32m   1283\u001b[0m \u001b[43m        \u001b[49m\u001b[43mexclude_dims\u001b[49m\u001b[38;5;241;43m=\u001b[39;49m\u001b[43mexclude_dims\u001b[49m\u001b[43m,\u001b[49m\n\u001b[0;32m   1284\u001b[0m \u001b[43m        \u001b[49m\u001b[43mkeep_attrs\u001b[49m\u001b[38;5;241;43m=\u001b[39;49m\u001b[43mkeep_attrs\u001b[49m\u001b[43m,\u001b[49m\n\u001b[0;32m   1285\u001b[0m \u001b[43m    \u001b[49m\u001b[43m)\u001b[49m\n\u001b[0;32m   1286\u001b[0m \u001b[38;5;66;03m# feed Variables directly through apply_variable_ufunc\u001b[39;00m\n\u001b[0;32m   1287\u001b[0m \u001b[38;5;28;01melif\u001b[39;00m \u001b[38;5;28many\u001b[39m(\u001b[38;5;28misinstance\u001b[39m(a, Variable) \u001b[38;5;28;01mfor\u001b[39;00m a \u001b[38;5;129;01min\u001b[39;00m args):\n",
      "File \u001b[1;32mD:\\Python312\\Lib\\site-packages\\xarray\\core\\computation.py:320\u001b[0m, in \u001b[0;36mapply_dataarray_vfunc\u001b[1;34m(func, signature, join, exclude_dims, keep_attrs, *args)\u001b[0m\n\u001b[0;32m    315\u001b[0m result_coords, result_indexes \u001b[38;5;241m=\u001b[39m build_output_coords_and_indexes(\n\u001b[0;32m    316\u001b[0m     args, signature, exclude_dims, combine_attrs\u001b[38;5;241m=\u001b[39mkeep_attrs\n\u001b[0;32m    317\u001b[0m )\n\u001b[0;32m    319\u001b[0m data_vars \u001b[38;5;241m=\u001b[39m [\u001b[38;5;28mgetattr\u001b[39m(a, \u001b[38;5;124m\"\u001b[39m\u001b[38;5;124mvariable\u001b[39m\u001b[38;5;124m\"\u001b[39m, a) \u001b[38;5;28;01mfor\u001b[39;00m a \u001b[38;5;129;01min\u001b[39;00m args]\n\u001b[1;32m--> 320\u001b[0m result_var \u001b[38;5;241m=\u001b[39m \u001b[43mfunc\u001b[49m\u001b[43m(\u001b[49m\u001b[38;5;241;43m*\u001b[39;49m\u001b[43mdata_vars\u001b[49m\u001b[43m)\u001b[49m\n\u001b[0;32m    322\u001b[0m out: \u001b[38;5;28mtuple\u001b[39m[DataArray, \u001b[38;5;241m.\u001b[39m\u001b[38;5;241m.\u001b[39m\u001b[38;5;241m.\u001b[39m] \u001b[38;5;241m|\u001b[39m DataArray\n\u001b[0;32m    323\u001b[0m \u001b[38;5;28;01mif\u001b[39;00m signature\u001b[38;5;241m.\u001b[39mnum_outputs \u001b[38;5;241m>\u001b[39m \u001b[38;5;241m1\u001b[39m:\n",
      "File \u001b[1;32mD:\\Python312\\Lib\\site-packages\\xarray\\core\\computation.py:831\u001b[0m, in \u001b[0;36mapply_variable_ufunc\u001b[1;34m(func, signature, exclude_dims, dask, output_dtypes, vectorize, keep_attrs, dask_gufunc_kwargs, *args)\u001b[0m\n\u001b[0;32m    826\u001b[0m     \u001b[38;5;28;01mif\u001b[39;00m vectorize:\n\u001b[0;32m    827\u001b[0m         func \u001b[38;5;241m=\u001b[39m _vectorize(\n\u001b[0;32m    828\u001b[0m             func, signature, output_dtypes\u001b[38;5;241m=\u001b[39moutput_dtypes, exclude_dims\u001b[38;5;241m=\u001b[39mexclude_dims\n\u001b[0;32m    829\u001b[0m         )\n\u001b[1;32m--> 831\u001b[0m result_data \u001b[38;5;241m=\u001b[39m \u001b[43mfunc\u001b[49m\u001b[43m(\u001b[49m\u001b[38;5;241;43m*\u001b[39;49m\u001b[43minput_data\u001b[49m\u001b[43m)\u001b[49m\n\u001b[0;32m    833\u001b[0m \u001b[38;5;28;01mif\u001b[39;00m signature\u001b[38;5;241m.\u001b[39mnum_outputs \u001b[38;5;241m==\u001b[39m \u001b[38;5;241m1\u001b[39m:\n\u001b[0;32m    834\u001b[0m     result_data \u001b[38;5;241m=\u001b[39m (result_data,)\n",
      "File \u001b[1;32mD:\\Python312\\Lib\\site-packages\\numpy\\lib\\_function_base_impl.py:2397\u001b[0m, in \u001b[0;36mvectorize.__call__\u001b[1;34m(self, *args, **kwargs)\u001b[0m\n\u001b[0;32m   2394\u001b[0m     \u001b[38;5;28mself\u001b[39m\u001b[38;5;241m.\u001b[39m_init_stage_2(\u001b[38;5;241m*\u001b[39margs, \u001b[38;5;241m*\u001b[39m\u001b[38;5;241m*\u001b[39mkwargs)\n\u001b[0;32m   2395\u001b[0m     \u001b[38;5;28;01mreturn\u001b[39;00m \u001b[38;5;28mself\u001b[39m\n\u001b[1;32m-> 2397\u001b[0m \u001b[38;5;28;01mreturn\u001b[39;00m \u001b[38;5;28;43mself\u001b[39;49m\u001b[38;5;241;43m.\u001b[39;49m\u001b[43m_call_as_normal\u001b[49m\u001b[43m(\u001b[49m\u001b[38;5;241;43m*\u001b[39;49m\u001b[43margs\u001b[49m\u001b[43m,\u001b[49m\u001b[43m \u001b[49m\u001b[38;5;241;43m*\u001b[39;49m\u001b[38;5;241;43m*\u001b[39;49m\u001b[43mkwargs\u001b[49m\u001b[43m)\u001b[49m\n",
      "File \u001b[1;32mD:\\Python312\\Lib\\site-packages\\numpy\\lib\\_function_base_impl.py:2390\u001b[0m, in \u001b[0;36mvectorize._call_as_normal\u001b[1;34m(self, *args, **kwargs)\u001b[0m\n\u001b[0;32m   2387\u001b[0m     vargs \u001b[38;5;241m=\u001b[39m [args[_i] \u001b[38;5;28;01mfor\u001b[39;00m _i \u001b[38;5;129;01min\u001b[39;00m inds]\n\u001b[0;32m   2388\u001b[0m     vargs\u001b[38;5;241m.\u001b[39mextend([kwargs[_n] \u001b[38;5;28;01mfor\u001b[39;00m _n \u001b[38;5;129;01min\u001b[39;00m names])\n\u001b[1;32m-> 2390\u001b[0m \u001b[38;5;28;01mreturn\u001b[39;00m \u001b[38;5;28;43mself\u001b[39;49m\u001b[38;5;241;43m.\u001b[39;49m\u001b[43m_vectorize_call\u001b[49m\u001b[43m(\u001b[49m\u001b[43mfunc\u001b[49m\u001b[38;5;241;43m=\u001b[39;49m\u001b[43mfunc\u001b[49m\u001b[43m,\u001b[49m\u001b[43m \u001b[49m\u001b[43margs\u001b[49m\u001b[38;5;241;43m=\u001b[39;49m\u001b[43mvargs\u001b[49m\u001b[43m)\u001b[49m\n",
      "File \u001b[1;32mD:\\Python312\\Lib\\site-packages\\numpy\\lib\\_function_base_impl.py:2471\u001b[0m, in \u001b[0;36mvectorize._vectorize_call\u001b[1;34m(self, func, args)\u001b[0m\n\u001b[0;32m   2469\u001b[0m \u001b[38;5;250m\u001b[39m\u001b[38;5;124;03m\"\"\"Vectorized call to `func` over positional `args`.\"\"\"\u001b[39;00m\n\u001b[0;32m   2470\u001b[0m \u001b[38;5;28;01mif\u001b[39;00m \u001b[38;5;28mself\u001b[39m\u001b[38;5;241m.\u001b[39msignature \u001b[38;5;129;01mis\u001b[39;00m \u001b[38;5;129;01mnot\u001b[39;00m \u001b[38;5;28;01mNone\u001b[39;00m:\n\u001b[1;32m-> 2471\u001b[0m     res \u001b[38;5;241m=\u001b[39m \u001b[38;5;28;43mself\u001b[39;49m\u001b[38;5;241;43m.\u001b[39;49m\u001b[43m_vectorize_call_with_signature\u001b[49m\u001b[43m(\u001b[49m\u001b[43mfunc\u001b[49m\u001b[43m,\u001b[49m\u001b[43m \u001b[49m\u001b[43margs\u001b[49m\u001b[43m)\u001b[49m\n\u001b[0;32m   2472\u001b[0m \u001b[38;5;28;01melif\u001b[39;00m \u001b[38;5;129;01mnot\u001b[39;00m args:\n\u001b[0;32m   2473\u001b[0m     res \u001b[38;5;241m=\u001b[39m func()\n",
      "File \u001b[1;32mD:\\Python312\\Lib\\site-packages\\numpy\\lib\\_function_base_impl.py:2511\u001b[0m, in \u001b[0;36mvectorize._vectorize_call_with_signature\u001b[1;34m(self, func, args)\u001b[0m\n\u001b[0;32m   2508\u001b[0m nout \u001b[38;5;241m=\u001b[39m \u001b[38;5;28mlen\u001b[39m(output_core_dims)\n\u001b[0;32m   2510\u001b[0m \u001b[38;5;28;01mfor\u001b[39;00m index \u001b[38;5;129;01min\u001b[39;00m np\u001b[38;5;241m.\u001b[39mndindex(\u001b[38;5;241m*\u001b[39mbroadcast_shape):\n\u001b[1;32m-> 2511\u001b[0m     results \u001b[38;5;241m=\u001b[39m \u001b[43mfunc\u001b[49m\u001b[43m(\u001b[49m\u001b[38;5;241;43m*\u001b[39;49m\u001b[43m(\u001b[49m\u001b[43marg\u001b[49m\u001b[43m[\u001b[49m\u001b[43mindex\u001b[49m\u001b[43m]\u001b[49m\u001b[43m \u001b[49m\u001b[38;5;28;43;01mfor\u001b[39;49;00m\u001b[43m \u001b[49m\u001b[43marg\u001b[49m\u001b[43m \u001b[49m\u001b[38;5;129;43;01min\u001b[39;49;00m\u001b[43m \u001b[49m\u001b[43margs\u001b[49m\u001b[43m)\u001b[49m\u001b[43m)\u001b[49m\n\u001b[0;32m   2513\u001b[0m     n_results \u001b[38;5;241m=\u001b[39m \u001b[38;5;28mlen\u001b[39m(results) \u001b[38;5;28;01mif\u001b[39;00m \u001b[38;5;28misinstance\u001b[39m(results, \u001b[38;5;28mtuple\u001b[39m) \u001b[38;5;28;01melse\u001b[39;00m \u001b[38;5;241m1\u001b[39m\n\u001b[0;32m   2515\u001b[0m     \u001b[38;5;28;01mif\u001b[39;00m nout \u001b[38;5;241m!=\u001b[39m n_results:\n",
      "File \u001b[1;32m~\\OneDrive - VUT\\Skola\\thesis\\Implementation\\cmlWetDry_thesis\\attempt_01_dummy_data\\pycomlink\\processing\\baseline.py:44\u001b[0m, in \u001b[0;36mbaseline_constant\u001b[1;34m(trsl, wet, n_average_last_dry)\u001b[0m\n\u001b[0;32m     15\u001b[0m \u001b[38;5;129m@xarray_apply_along_time_dim\u001b[39m()\n\u001b[0;32m     16\u001b[0m \u001b[38;5;28;01mdef\u001b[39;00m \u001b[38;5;21mbaseline_constant\u001b[39m(trsl, wet, n_average_last_dry\u001b[38;5;241m=\u001b[39m\u001b[38;5;241m1\u001b[39m):\n\u001b[0;32m     17\u001b[0m \u001b[38;5;250m    \u001b[39m\u001b[38;5;124;03m\"\"\"\u001b[39;00m\n\u001b[0;32m     18\u001b[0m \u001b[38;5;124;03m    Build baseline with constant level during a `wet` period\u001b[39;00m\n\u001b[0;32m     19\u001b[0m \n\u001b[1;32m   (...)\u001b[0m\n\u001b[0;32m     41\u001b[0m \n\u001b[0;32m     42\u001b[0m \u001b[38;5;124;03m    \"\"\"\u001b[39;00m\n\u001b[1;32m---> 44\u001b[0m     \u001b[38;5;28;01mreturn\u001b[39;00m \u001b[43m_numba_baseline_constant\u001b[49m\u001b[43m(\u001b[49m\n\u001b[0;32m     45\u001b[0m \u001b[43m        \u001b[49m\u001b[43mtrsl\u001b[49m\u001b[38;5;241;43m=\u001b[39;49m\u001b[43mnp\u001b[49m\u001b[38;5;241;43m.\u001b[39;49m\u001b[43masarray\u001b[49m\u001b[43m(\u001b[49m\u001b[43mtrsl\u001b[49m\u001b[43m,\u001b[49m\u001b[43m \u001b[49m\u001b[43mdtype\u001b[49m\u001b[38;5;241;43m=\u001b[39;49m\u001b[43mnp\u001b[49m\u001b[38;5;241;43m.\u001b[39;49m\u001b[43mfloat64\u001b[49m\u001b[43m)\u001b[49m\u001b[43m,\u001b[49m\n\u001b[0;32m     46\u001b[0m \u001b[43m        \u001b[49m\u001b[43mwet\u001b[49m\u001b[38;5;241;43m=\u001b[39;49m\u001b[43mnp\u001b[49m\u001b[38;5;241;43m.\u001b[39;49m\u001b[43masarray\u001b[49m\u001b[43m(\u001b[49m\u001b[43mwet\u001b[49m\u001b[43m,\u001b[49m\u001b[43m \u001b[49m\u001b[43mdtype\u001b[49m\u001b[38;5;241;43m=\u001b[39;49m\u001b[38;5;28;43mbool\u001b[39;49m\u001b[43m)\u001b[49m\u001b[43m,\u001b[49m\n\u001b[0;32m     47\u001b[0m \u001b[43m        \u001b[49m\u001b[43mn_average_last_dry\u001b[49m\u001b[38;5;241;43m=\u001b[39;49m\u001b[43mn_average_last_dry\u001b[49m\u001b[43m,\u001b[49m\n\u001b[0;32m     48\u001b[0m \u001b[43m    \u001b[49m\u001b[43m)\u001b[49m\n",
      "File \u001b[1;32mD:\\Python312\\Lib\\site-packages\\numba\\core\\dispatcher.py:423\u001b[0m, in \u001b[0;36m_DispatcherBase._compile_for_args\u001b[1;34m(self, *args, **kws)\u001b[0m\n\u001b[0;32m    419\u001b[0m         msg \u001b[38;5;241m=\u001b[39m (\u001b[38;5;124mf\u001b[39m\u001b[38;5;124m\"\u001b[39m\u001b[38;5;132;01m{\u001b[39;00m\u001b[38;5;28mstr\u001b[39m(e)\u001b[38;5;241m.\u001b[39mrstrip()\u001b[38;5;132;01m}\u001b[39;00m\u001b[38;5;124m \u001b[39m\u001b[38;5;130;01m\\n\u001b[39;00m\u001b[38;5;130;01m\\n\u001b[39;00m\u001b[38;5;124mThis error may have been caused \u001b[39m\u001b[38;5;124m\"\u001b[39m\n\u001b[0;32m    420\u001b[0m                \u001b[38;5;124mf\u001b[39m\u001b[38;5;124m\"\u001b[39m\u001b[38;5;124mby the following argument(s):\u001b[39m\u001b[38;5;130;01m\\n\u001b[39;00m\u001b[38;5;132;01m{\u001b[39;00margs_str\u001b[38;5;132;01m}\u001b[39;00m\u001b[38;5;130;01m\\n\u001b[39;00m\u001b[38;5;124m\"\u001b[39m)\n\u001b[0;32m    421\u001b[0m         e\u001b[38;5;241m.\u001b[39mpatch_message(msg)\n\u001b[1;32m--> 423\u001b[0m     \u001b[43merror_rewrite\u001b[49m\u001b[43m(\u001b[49m\u001b[43me\u001b[49m\u001b[43m,\u001b[49m\u001b[43m \u001b[49m\u001b[38;5;124;43m'\u001b[39;49m\u001b[38;5;124;43mtyping\u001b[39;49m\u001b[38;5;124;43m'\u001b[39;49m\u001b[43m)\u001b[49m\n\u001b[0;32m    424\u001b[0m \u001b[38;5;28;01mexcept\u001b[39;00m errors\u001b[38;5;241m.\u001b[39mUnsupportedError \u001b[38;5;28;01mas\u001b[39;00m e:\n\u001b[0;32m    425\u001b[0m     \u001b[38;5;66;03m# Something unsupported is present in the user code, add help info\u001b[39;00m\n\u001b[0;32m    426\u001b[0m     error_rewrite(e, \u001b[38;5;124m'\u001b[39m\u001b[38;5;124munsupported_error\u001b[39m\u001b[38;5;124m'\u001b[39m)\n",
      "File \u001b[1;32mD:\\Python312\\Lib\\site-packages\\numba\\core\\dispatcher.py:364\u001b[0m, in \u001b[0;36m_DispatcherBase._compile_for_args.<locals>.error_rewrite\u001b[1;34m(e, issue_type)\u001b[0m\n\u001b[0;32m    362\u001b[0m     \u001b[38;5;28;01mraise\u001b[39;00m e\n\u001b[0;32m    363\u001b[0m \u001b[38;5;28;01melse\u001b[39;00m:\n\u001b[1;32m--> 364\u001b[0m     \u001b[38;5;28;01mraise\u001b[39;00m e\u001b[38;5;241m.\u001b[39mwith_traceback(\u001b[38;5;28;01mNone\u001b[39;00m)\n",
      "\u001b[1;31mTypingError\u001b[0m: Failed in nopython mode pipeline (step: nopython frontend)\n\u001b[1m\u001b[1mNo implementation of function Function(<built-in function getitem>) found for signature:\n \n >>> getitem(array(float64, 0d, C), slice<a:b>)\n \nThere are 22 candidate implementations:\n\u001b[1m     - Of which 20 did not match due to:\n     Overload of function 'getitem': File: <numerous>: Line N/A.\n       With argument(s): '(array(float64, 0d, C), slice<a:b>)':\u001b[0m\n\u001b[1m      No match.\u001b[0m\n\u001b[1m     - Of which 2 did not match due to:\n     Overload in function 'GetItemBuffer.generic': File: numba\\core\\typing\\arraydecl.py: Line 211.\n       With argument(s): '(array(float64, 0d, C), slice<a:b>)':\u001b[0m\n\u001b[1m      Rejected as the implementation raised a specific error:\n        NumbaTypeError: \u001b[1mcannot index array(float64, 0d, C) with 1 indices: [slice<a:b>]\u001b[0m\u001b[0m\n  raised from D:\\Python312\\Lib\\site-packages\\numba\\core\\typing\\arraydecl.py:133\n\u001b[0m\n\u001b[0m\u001b[1mDuring: typing of intrinsic-call at C:\\Users\\lukas\\OneDrive - VUT\\Skola\\thesis\\Implementation\\cmlWetDry_thesis\\attempt_01_dummy_data\\pycomlink\\processing\\baseline.py (54)\u001b[0m\n\u001b[1m\nFile \"pycomlink\\processing\\baseline.py\", line 54:\u001b[0m\n\u001b[1mdef _numba_baseline_constant(trsl, wet, n_average_last_dry):\n    <source elided>\n    baseline = np.zeros_like(trsl, dtype=np.float64)\n\u001b[1m    baseline[0:n_average_last_dry] = trsl[0:n_average_last_dry]\n\u001b[0m    \u001b[1m^\u001b[0m\u001b[0m\n"
     ]
    }
   ],
   "source": [
    "import pycomlink as pycml\n",
    "\n",
    "baseline = pycml.processing.baseline.baseline_constant(trsl=my_cml.trsl, wet=my_ref.ref_wet_dry, n_average_last_dry=5)\n",
    "\n",
    "fig, ax = plt.subplots(figsize=(12,3))\n",
    "\n",
    "ax.plot(baseline[1])\n",
    "'''\n",
    "cml.trsl.sel(time=slice('2018-05-13', '2018-05-15')).plot.line(x='time', alpha=0.5)\n",
    "plt.gca().set_prop_cycle(None)\n",
    "cml.baseline.sel(time=slice('2018-05-13', '2018-05-15')).plot.line(x='time');\n",
    "plt.gca().set_prop_cycle(None)\n",
    "plt.ylabel('TRSL');\n",
    "'''"
   ]
  },
  {
   "cell_type": "code",
   "execution_count": null,
   "metadata": {},
   "outputs": [],
   "source": []
  },
  {
   "cell_type": "code",
   "execution_count": null,
   "metadata": {},
   "outputs": [],
   "source": []
  },
  {
   "cell_type": "markdown",
   "metadata": {},
   "source": [
    "original validation [2]:"
   ]
  },
  {
   "cell_type": "code",
   "execution_count": null,
   "metadata": {},
   "outputs": [],
   "source": [
    "for inputs, targets in tqdm(trainloader):\n",
    "    print(nn.Flatten(0,1)(model(inputs)))\n",
    "    print(targets)\n",
    "    break"
   ]
  },
  {
   "cell_type": "code",
   "execution_count": null,
   "metadata": {},
   "outputs": [],
   "source": [
    "### accuracy score, confusion matrix and Matthews correlation coefficient (MCC)\n",
    "def eval_model(test_dataloader, model):\n",
    "    predictions, actuals = list(), list()\n",
    "    with torch.no_grad():\n",
    "        for inputs, targets in tqdm(test_dataloader):\n",
    "            pred = model(inputs)\n",
    "            pred = pred.detach().numpy()\n",
    "            actual = targets.numpy()\n",
    "            actual = actual.reshape((len(actual), 1))\n",
    "            pred = pred.round()\n",
    "    \n",
    "            predictions.append(pred)\n",
    "            actuals.append(actual)\n",
    "    predictions, actuals = np.ravel(np.vstack(predictions)), np.ravel(np.vstack(actuals))\n",
    "    acc = skl.accuracy_score(actuals, predictions)\n",
    "    conf_mat = skl.confusion_matrix(actual, pred, labels=[0,1], normalize='all')\n",
    "    matt_cor = skl.matthews_corrcoef(actual, pred)\n",
    "    return acc, conf_mat, matt_cor, predictions"
   ]
  },
  {
   "cell_type": "code",
   "execution_count": null,
   "metadata": {},
   "outputs": [],
   "source": [
    "eval_model(testloader, model)"
   ]
  },
  {
   "cell_type": "markdown",
   "metadata": {},
   "source": [
    "### rolling standard deviation classification for reference"
   ]
  },
  {
   "cell_type": "code",
   "execution_count": null,
   "metadata": {},
   "outputs": [],
   "source": [
    "threshold = 0.8\n",
    "\n",
    "roll_std_dev = my_cml.trsl.rolling(time=60, center=True).std()\n",
    "my_cml['rsd_wet'] = my_cml.trsl.rolling(time=60, center=True).std() > threshold"
   ]
  },
  {
   "cell_type": "code",
   "execution_count": null,
   "metadata": {},
   "outputs": [],
   "source": [
    "my_cml"
   ]
  },
  {
   "cell_type": "code",
   "execution_count": null,
   "metadata": {},
   "outputs": [],
   "source": [
    "fig, axs = plt.subplots(2, 1, figsize=(12,5), sharex=True)\n",
    "\n",
    "roll_std_dev.plot.line(x='time', ax=axs[0])\n",
    "axs[0].axhline(threshold, color='k', linestyle='--')\n",
    "\n",
    "my_cml.trsl.plot.line(x='time', ax=axs[1]);\n",
    "\n",
    "# Get start and end of dry event\n",
    "wet_start = np.roll(my_cml.rsd_wet, -1) & ~my_cml.rsd_wet\n",
    "wet_end = np.roll(my_cml.rsd_wet, 1) & ~my_cml.rsd_wet\n",
    "\n",
    "# Plot shaded area for each RSD predicted wet event\n",
    "for wet_start_i, wet_end_i in zip(\n",
    "    wet_start.isel(channel_id=0).values.nonzero()[0],\n",
    "    wet_end.isel(channel_id=0).values.nonzero()[0],\n",
    "):\n",
    "    axs[1].axvspan(my_cml.time.values[wet_start_i], my_cml.time.values[wet_end_i], color='b', alpha=0.2, linewidth=0)\n",
    "\n",
    "axs[1].set_title('');\n",
    "\n",
    "# plot real bool wet/dry with 5min precission\n",
    "wet_start = np.roll(my_ref.ref_wet_dry, -1) & ~my_ref.ref_wet_dry\n",
    "wet_end = np.roll(my_ref.ref_wet_dry, 1) & ~my_ref.ref_wet_dry\n",
    "for wet_start_i, wet_end_i in zip(\n",
    "    wet_start.values.nonzero()[0],\n",
    "    wet_end.values.nonzero()[0],\n",
    "):\n",
    "    axs[1].axvspan(my_ref.time.values[wet_start_i], my_ref.ref_wet_dry.time.values[wet_end_i], color='g', alpha=0.2, linewidth=0) # https://matplotlib.org/stable/api/_as_gen/matplotlib.axes.Axes.axvspan.html"
   ]
  }
 ],
 "metadata": {
  "kernelspec": {
   "display_name": "Python 3 (ipykernel)",
   "language": "python",
   "name": "python3"
  },
  "language_info": {
   "codemirror_mode": {
    "name": "ipython",
    "version": 3
   },
   "file_extension": ".py",
   "mimetype": "text/x-python",
   "name": "python",
   "nbconvert_exporter": "python",
   "pygments_lexer": "ipython3",
   "version": "3.12.7"
  }
 },
 "nbformat": 4,
 "nbformat_minor": 4
}
